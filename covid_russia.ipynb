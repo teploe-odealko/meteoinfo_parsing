{
  "nbformat": 4,
  "nbformat_minor": 0,
  "metadata": {
    "colab": {
      "name": "covid_russia",
      "provenance": [],
      "collapsed_sections": [
        "hK78LzIp6BPO",
        "f8JdQPif6MYJ",
        "mhmg4VXD6lts",
        "eBylHB-o6ptj",
        "_VZtAxabZt7L",
        "bOgM-EiEFPyq",
        "vEh_QrVcAEy2",
        "gtJwGbwx1oZg"
      ],
      "include_colab_link": true
    },
    "kernelspec": {
      "display_name": "Python 3",
      "name": "python3"
    },
    "language_info": {
      "name": "python"
    }
  },
  "cells": [
    {
      "cell_type": "markdown",
      "metadata": {
        "id": "view-in-github",
        "colab_type": "text"
      },
      "source": [
        "<a href=\"https://colab.research.google.com/github/teploe-odealko/meteoinfo_parsing/blob/main/covid_russia.ipynb\" target=\"_parent\"><img src=\"https://colab.research.google.com/assets/colab-badge.svg\" alt=\"Open In Colab\"/></a>"
      ]
    },
    {
      "cell_type": "markdown",
      "metadata": {
        "id": "NRjia9CSWwTS"
      },
      "source": [
        "#Загрузка шаблонов"
      ]
    },
    {
      "cell_type": "markdown",
      "metadata": {
        "id": "RtezPrK9WbED"
      },
      "source": [
        "Табличня сводка по россии - файл xlsx"
      ]
    },
    {
      "cell_type": "code",
      "metadata": {
        "colab": {
          "resources": {
            "http://localhost:8080/nbextensions/google.colab/files.js": {
              "data": "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",
              "ok": true,
              "headers": [
                [
                  "content-type",
                  "application/javascript"
                ]
              ],
              "status": 200,
              "status_text": ""
            }
          },
          "base_uri": "https://localhost:8080/",
          "height": 73
        },
        "id": "PIO4aPsnXxcX",
        "outputId": "b30d3931-7463-4bab-8e11-83a725573b49"
      },
      "source": [
        "from google.colab import files\n",
        "russia_input_filename = files.upload()\n",
        "russia_input_filename = next(iter(russia_input_filename))"
      ],
      "execution_count": 1,
      "outputs": [
        {
          "output_type": "display_data",
          "data": {
            "text/html": [
              "\n",
              "     <input type=\"file\" id=\"files-cc1bf3c4-ce6e-4b50-aa6d-46f9a3e07687\" name=\"files[]\" multiple disabled\n",
              "        style=\"border:none\" />\n",
              "     <output id=\"result-cc1bf3c4-ce6e-4b50-aa6d-46f9a3e07687\">\n",
              "      Upload widget is only available when the cell has been executed in the\n",
              "      current browser session. Please rerun this cell to enable.\n",
              "      </output>\n",
              "      <script src=\"/nbextensions/google.colab/files.js\"></script> "
            ],
            "text/plain": [
              "<IPython.core.display.HTML object>"
            ]
          },
          "metadata": {
            "tags": []
          }
        },
        {
          "output_type": "stream",
          "text": [
            "Saving Свод Россия Регионы_out_29-07-2021.xlsx to Свод Россия Регионы_out_29-07-2021.xlsx\n"
          ],
          "name": "stdout"
        }
      ]
    },
    {
      "cell_type": "markdown",
      "metadata": {
        "id": "hK78LzIp6BPO"
      },
      "source": [
        "# Install & import"
      ]
    },
    {
      "cell_type": "markdown",
      "metadata": {
        "id": "f8JdQPif6MYJ"
      },
      "source": [
        "##install"
      ]
    },
    {
      "cell_type": "markdown",
      "metadata": {
        "id": "mhmg4VXD6lts"
      },
      "source": [
        "###Selenium web driver"
      ]
    },
    {
      "cell_type": "code",
      "metadata": {
        "colab": {
          "base_uri": "https://localhost:8080/"
        },
        "id": "_FGaXvBz6OIp",
        "outputId": "11f2c7c8-26c7-4061-b844-98396129d403"
      },
      "source": [
        "!pip install selenium\n",
        "!apt-get update # to update ubuntu to correctly run apt install\n",
        "!apt install chromium-chromedriver\n",
        "!cp /usr/lib/chromium-browser/chromedriver /usr/bin\n",
        "import sys\n",
        "sys.path.insert(0,'/usr/lib/chromium-browser/chromedriver')\n",
        "from selenium import webdriver\n",
        "\n",
        "\n",
        "chrome_options = webdriver.ChromeOptions()\n",
        "chrome_options.add_argument('--headless')\n",
        "chrome_options.add_argument('--no-sandbox')\n",
        "chrome_options.add_argument('--disable-dev-shm-usage')\n",
        "wd = webdriver.Chrome('chromedriver',chrome_options=chrome_options)"
      ],
      "execution_count": 2,
      "outputs": [
        {
          "output_type": "stream",
          "text": [
            "Collecting selenium\n",
            "  Downloading selenium-3.141.0-py2.py3-none-any.whl (904 kB)\n",
            "\u001b[?25l\r\u001b[K     |▍                               | 10 kB 23.7 MB/s eta 0:00:01\r\u001b[K     |▊                               | 20 kB 10.7 MB/s eta 0:00:01\r\u001b[K     |█                               | 30 kB 8.8 MB/s eta 0:00:01\r\u001b[K     |█▌                              | 40 kB 8.0 MB/s eta 0:00:01\r\u001b[K     |█▉                              | 51 kB 4.2 MB/s eta 0:00:01\r\u001b[K     |██▏                             | 61 kB 4.4 MB/s eta 0:00:01\r\u001b[K     |██▌                             | 71 kB 4.7 MB/s eta 0:00:01\r\u001b[K     |███                             | 81 kB 5.3 MB/s eta 0:00:01\r\u001b[K     |███▎                            | 92 kB 3.9 MB/s eta 0:00:01\r\u001b[K     |███▋                            | 102 kB 4.2 MB/s eta 0:00:01\r\u001b[K     |████                            | 112 kB 4.2 MB/s eta 0:00:01\r\u001b[K     |████▍                           | 122 kB 4.2 MB/s eta 0:00:01\r\u001b[K     |████▊                           | 133 kB 4.2 MB/s eta 0:00:01\r\u001b[K     |█████                           | 143 kB 4.2 MB/s eta 0:00:01\r\u001b[K     |█████▍                          | 153 kB 4.2 MB/s eta 0:00:01\r\u001b[K     |█████▉                          | 163 kB 4.2 MB/s eta 0:00:01\r\u001b[K     |██████▏                         | 174 kB 4.2 MB/s eta 0:00:01\r\u001b[K     |██████▌                         | 184 kB 4.2 MB/s eta 0:00:01\r\u001b[K     |██████▉                         | 194 kB 4.2 MB/s eta 0:00:01\r\u001b[K     |███████▎                        | 204 kB 4.2 MB/s eta 0:00:01\r\u001b[K     |███████▋                        | 215 kB 4.2 MB/s eta 0:00:01\r\u001b[K     |████████                        | 225 kB 4.2 MB/s eta 0:00:01\r\u001b[K     |████████▎                       | 235 kB 4.2 MB/s eta 0:00:01\r\u001b[K     |████████▊                       | 245 kB 4.2 MB/s eta 0:00:01\r\u001b[K     |█████████                       | 256 kB 4.2 MB/s eta 0:00:01\r\u001b[K     |█████████▍                      | 266 kB 4.2 MB/s eta 0:00:01\r\u001b[K     |█████████▉                      | 276 kB 4.2 MB/s eta 0:00:01\r\u001b[K     |██████████▏                     | 286 kB 4.2 MB/s eta 0:00:01\r\u001b[K     |██████████▌                     | 296 kB 4.2 MB/s eta 0:00:01\r\u001b[K     |██████████▉                     | 307 kB 4.2 MB/s eta 0:00:01\r\u001b[K     |███████████▎                    | 317 kB 4.2 MB/s eta 0:00:01\r\u001b[K     |███████████▋                    | 327 kB 4.2 MB/s eta 0:00:01\r\u001b[K     |████████████                    | 337 kB 4.2 MB/s eta 0:00:01\r\u001b[K     |████████████▎                   | 348 kB 4.2 MB/s eta 0:00:01\r\u001b[K     |████████████▊                   | 358 kB 4.2 MB/s eta 0:00:01\r\u001b[K     |█████████████                   | 368 kB 4.2 MB/s eta 0:00:01\r\u001b[K     |█████████████▍                  | 378 kB 4.2 MB/s eta 0:00:01\r\u001b[K     |█████████████▊                  | 389 kB 4.2 MB/s eta 0:00:01\r\u001b[K     |██████████████▏                 | 399 kB 4.2 MB/s eta 0:00:01\r\u001b[K     |██████████████▌                 | 409 kB 4.2 MB/s eta 0:00:01\r\u001b[K     |██████████████▉                 | 419 kB 4.2 MB/s eta 0:00:01\r\u001b[K     |███████████████▏                | 430 kB 4.2 MB/s eta 0:00:01\r\u001b[K     |███████████████▋                | 440 kB 4.2 MB/s eta 0:00:01\r\u001b[K     |████████████████                | 450 kB 4.2 MB/s eta 0:00:01\r\u001b[K     |████████████████▎               | 460 kB 4.2 MB/s eta 0:00:01\r\u001b[K     |████████████████▋               | 471 kB 4.2 MB/s eta 0:00:01\r\u001b[K     |█████████████████               | 481 kB 4.2 MB/s eta 0:00:01\r\u001b[K     |█████████████████▍              | 491 kB 4.2 MB/s eta 0:00:01\r\u001b[K     |█████████████████▊              | 501 kB 4.2 MB/s eta 0:00:01\r\u001b[K     |██████████████████▏             | 512 kB 4.2 MB/s eta 0:00:01\r\u001b[K     |██████████████████▌             | 522 kB 4.2 MB/s eta 0:00:01\r\u001b[K     |██████████████████▉             | 532 kB 4.2 MB/s eta 0:00:01\r\u001b[K     |███████████████████▏            | 542 kB 4.2 MB/s eta 0:00:01\r\u001b[K     |███████████████████▋            | 552 kB 4.2 MB/s eta 0:00:01\r\u001b[K     |████████████████████            | 563 kB 4.2 MB/s eta 0:00:01\r\u001b[K     |████████████████████▎           | 573 kB 4.2 MB/s eta 0:00:01\r\u001b[K     |████████████████████▋           | 583 kB 4.2 MB/s eta 0:00:01\r\u001b[K     |█████████████████████           | 593 kB 4.2 MB/s eta 0:00:01\r\u001b[K     |█████████████████████▍          | 604 kB 4.2 MB/s eta 0:00:01\r\u001b[K     |█████████████████████▊          | 614 kB 4.2 MB/s eta 0:00:01\r\u001b[K     |██████████████████████          | 624 kB 4.2 MB/s eta 0:00:01\r\u001b[K     |██████████████████████▌         | 634 kB 4.2 MB/s eta 0:00:01\r\u001b[K     |██████████████████████▉         | 645 kB 4.2 MB/s eta 0:00:01\r\u001b[K     |███████████████████████▏        | 655 kB 4.2 MB/s eta 0:00:01\r\u001b[K     |███████████████████████▌        | 665 kB 4.2 MB/s eta 0:00:01\r\u001b[K     |████████████████████████        | 675 kB 4.2 MB/s eta 0:00:01\r\u001b[K     |████████████████████████▎       | 686 kB 4.2 MB/s eta 0:00:01\r\u001b[K     |████████████████████████▋       | 696 kB 4.2 MB/s eta 0:00:01\r\u001b[K     |█████████████████████████       | 706 kB 4.2 MB/s eta 0:00:01\r\u001b[K     |█████████████████████████▍      | 716 kB 4.2 MB/s eta 0:00:01\r\u001b[K     |█████████████████████████▊      | 727 kB 4.2 MB/s eta 0:00:01\r\u001b[K     |██████████████████████████      | 737 kB 4.2 MB/s eta 0:00:01\r\u001b[K     |██████████████████████████▍     | 747 kB 4.2 MB/s eta 0:00:01\r\u001b[K     |██████████████████████████▉     | 757 kB 4.2 MB/s eta 0:00:01\r\u001b[K     |███████████████████████████▏    | 768 kB 4.2 MB/s eta 0:00:01\r\u001b[K     |███████████████████████████▌    | 778 kB 4.2 MB/s eta 0:00:01\r\u001b[K     |████████████████████████████    | 788 kB 4.2 MB/s eta 0:00:01\r\u001b[K     |████████████████████████████▎   | 798 kB 4.2 MB/s eta 0:00:01\r\u001b[K     |████████████████████████████▋   | 808 kB 4.2 MB/s eta 0:00:01\r\u001b[K     |█████████████████████████████   | 819 kB 4.2 MB/s eta 0:00:01\r\u001b[K     |█████████████████████████████▍  | 829 kB 4.2 MB/s eta 0:00:01\r\u001b[K     |█████████████████████████████▊  | 839 kB 4.2 MB/s eta 0:00:01\r\u001b[K     |██████████████████████████████  | 849 kB 4.2 MB/s eta 0:00:01\r\u001b[K     |██████████████████████████████▍ | 860 kB 4.2 MB/s eta 0:00:01\r\u001b[K     |██████████████████████████████▉ | 870 kB 4.2 MB/s eta 0:00:01\r\u001b[K     |███████████████████████████████▏| 880 kB 4.2 MB/s eta 0:00:01\r\u001b[K     |███████████████████████████████▌| 890 kB 4.2 MB/s eta 0:00:01\r\u001b[K     |███████████████████████████████▉| 901 kB 4.2 MB/s eta 0:00:01\r\u001b[K     |████████████████████████████████| 904 kB 4.2 MB/s \n",
            "\u001b[?25hRequirement already satisfied: urllib3 in /usr/local/lib/python3.7/dist-packages (from selenium) (1.24.3)\n",
            "Installing collected packages: selenium\n",
            "Successfully installed selenium-3.141.0\n",
            "Get:1 https://cloud.r-project.org/bin/linux/ubuntu bionic-cran40/ InRelease [3,626 B]\n",
            "Ign:2 https://developer.download.nvidia.com/compute/cuda/repos/ubuntu1804/x86_64  InRelease\n",
            "Get:3 http://security.ubuntu.com/ubuntu bionic-security InRelease [88.7 kB]\n",
            "Ign:4 https://developer.download.nvidia.com/compute/machine-learning/repos/ubuntu1804/x86_64  InRelease\n",
            "Get:5 https://developer.download.nvidia.com/compute/cuda/repos/ubuntu1804/x86_64  Release [697 B]\n",
            "Get:6 http://ppa.launchpad.net/c2d4u.team/c2d4u4.0+/ubuntu bionic InRelease [15.9 kB]\n",
            "Hit:7 https://developer.download.nvidia.com/compute/machine-learning/repos/ubuntu1804/x86_64  Release\n",
            "Get:8 https://developer.download.nvidia.com/compute/cuda/repos/ubuntu1804/x86_64  Release.gpg [836 B]\n",
            "Hit:10 http://archive.ubuntu.com/ubuntu bionic InRelease\n",
            "Get:11 http://archive.ubuntu.com/ubuntu bionic-updates InRelease [88.7 kB]\n",
            "Ign:12 https://developer.download.nvidia.com/compute/cuda/repos/ubuntu1804/x86_64  Packages\n",
            "Get:12 https://developer.download.nvidia.com/compute/cuda/repos/ubuntu1804/x86_64  Packages [680 kB]\n",
            "Hit:13 http://ppa.launchpad.net/cran/libgit2/ubuntu bionic InRelease\n",
            "Hit:14 http://ppa.launchpad.net/deadsnakes/ppa/ubuntu bionic InRelease\n",
            "Get:15 http://archive.ubuntu.com/ubuntu bionic-backports InRelease [74.6 kB]\n",
            "Get:16 http://security.ubuntu.com/ubuntu bionic-security/restricted amd64 Packages [505 kB]\n",
            "Get:17 http://ppa.launchpad.net/graphics-drivers/ppa/ubuntu bionic InRelease [21.3 kB]\n",
            "Get:18 http://archive.ubuntu.com/ubuntu bionic-updates/restricted amd64 Packages [537 kB]\n",
            "Get:19 http://security.ubuntu.com/ubuntu bionic-security/main amd64 Packages [2,258 kB]\n",
            "Get:20 http://ppa.launchpad.net/c2d4u.team/c2d4u4.0+/ubuntu bionic/main Sources [1,785 kB]\n",
            "Get:21 http://security.ubuntu.com/ubuntu bionic-security/universe amd64 Packages [1,420 kB]\n",
            "Get:22 http://archive.ubuntu.com/ubuntu bionic-updates/main amd64 Packages [2,694 kB]\n",
            "Get:23 http://security.ubuntu.com/ubuntu bionic-security/multiverse amd64 Packages [26.7 kB]\n",
            "Get:24 http://archive.ubuntu.com/ubuntu bionic-updates/universe amd64 Packages [2,194 kB]\n",
            "Get:25 http://archive.ubuntu.com/ubuntu bionic-updates/multiverse amd64 Packages [33.6 kB]\n",
            "Get:26 http://ppa.launchpad.net/c2d4u.team/c2d4u4.0+/ubuntu bionic/main amd64 Packages [913 kB]\n",
            "Get:27 http://ppa.launchpad.net/graphics-drivers/ppa/ubuntu bionic/main amd64 Packages [44.1 kB]\n",
            "Fetched 13.4 MB in 7s (1,860 kB/s)\n",
            "Reading package lists... Done\n",
            "Reading package lists... Done\n",
            "Building dependency tree       \n",
            "Reading state information... Done\n",
            "The following additional packages will be installed:\n",
            "  chromium-browser chromium-browser-l10n chromium-codecs-ffmpeg-extra\n",
            "Suggested packages:\n",
            "  webaccounts-chromium-extension unity-chromium-extension\n",
            "The following NEW packages will be installed:\n",
            "  chromium-browser chromium-browser-l10n chromium-chromedriver\n",
            "  chromium-codecs-ffmpeg-extra\n",
            "0 upgraded, 4 newly installed, 0 to remove and 92 not upgraded.\n",
            "Need to get 86.0 MB of archives.\n",
            "After this operation, 298 MB of additional disk space will be used.\n",
            "Get:1 http://archive.ubuntu.com/ubuntu bionic-updates/universe amd64 chromium-codecs-ffmpeg-extra amd64 91.0.4472.101-0ubuntu0.18.04.1 [1,124 kB]\n",
            "Get:2 http://archive.ubuntu.com/ubuntu bionic-updates/universe amd64 chromium-browser amd64 91.0.4472.101-0ubuntu0.18.04.1 [76.1 MB]\n",
            "Get:3 http://archive.ubuntu.com/ubuntu bionic-updates/universe amd64 chromium-browser-l10n all 91.0.4472.101-0ubuntu0.18.04.1 [3,937 kB]\n",
            "Get:4 http://archive.ubuntu.com/ubuntu bionic-updates/universe amd64 chromium-chromedriver amd64 91.0.4472.101-0ubuntu0.18.04.1 [4,837 kB]\n",
            "Fetched 86.0 MB in 9s (9,264 kB/s)\n",
            "Selecting previously unselected package chromium-codecs-ffmpeg-extra.\n",
            "(Reading database ... 160837 files and directories currently installed.)\n",
            "Preparing to unpack .../chromium-codecs-ffmpeg-extra_91.0.4472.101-0ubuntu0.18.04.1_amd64.deb ...\n",
            "Unpacking chromium-codecs-ffmpeg-extra (91.0.4472.101-0ubuntu0.18.04.1) ...\n",
            "Selecting previously unselected package chromium-browser.\n",
            "Preparing to unpack .../chromium-browser_91.0.4472.101-0ubuntu0.18.04.1_amd64.deb ...\n",
            "Unpacking chromium-browser (91.0.4472.101-0ubuntu0.18.04.1) ...\n",
            "Selecting previously unselected package chromium-browser-l10n.\n",
            "Preparing to unpack .../chromium-browser-l10n_91.0.4472.101-0ubuntu0.18.04.1_all.deb ...\n",
            "Unpacking chromium-browser-l10n (91.0.4472.101-0ubuntu0.18.04.1) ...\n",
            "Selecting previously unselected package chromium-chromedriver.\n",
            "Preparing to unpack .../chromium-chromedriver_91.0.4472.101-0ubuntu0.18.04.1_amd64.deb ...\n",
            "Unpacking chromium-chromedriver (91.0.4472.101-0ubuntu0.18.04.1) ...\n",
            "Setting up chromium-codecs-ffmpeg-extra (91.0.4472.101-0ubuntu0.18.04.1) ...\n",
            "Setting up chromium-browser (91.0.4472.101-0ubuntu0.18.04.1) ...\n",
            "update-alternatives: using /usr/bin/chromium-browser to provide /usr/bin/x-www-browser (x-www-browser) in auto mode\n",
            "update-alternatives: using /usr/bin/chromium-browser to provide /usr/bin/gnome-www-browser (gnome-www-browser) in auto mode\n",
            "Setting up chromium-chromedriver (91.0.4472.101-0ubuntu0.18.04.1) ...\n",
            "Setting up chromium-browser-l10n (91.0.4472.101-0ubuntu0.18.04.1) ...\n",
            "Processing triggers for man-db (2.8.3-2ubuntu0.1) ...\n",
            "Processing triggers for hicolor-icon-theme (0.17-2) ...\n",
            "Processing triggers for mime-support (3.60ubuntu1) ...\n",
            "Processing triggers for libc-bin (2.27-3ubuntu1.2) ...\n",
            "/sbin/ldconfig.real: /usr/local/lib/python3.7/dist-packages/ideep4py/lib/libmkldnn.so.0 is not a symbolic link\n",
            "\n",
            "cp: '/usr/lib/chromium-browser/chromedriver' and '/usr/bin/chromedriver' are the same file\n"
          ],
          "name": "stdout"
        },
        {
          "output_type": "stream",
          "text": [
            "/usr/local/lib/python3.7/dist-packages/ipykernel_launcher.py:14: DeprecationWarning: use options instead of chrome_options\n",
            "  \n"
          ],
          "name": "stderr"
        }
      ]
    },
    {
      "cell_type": "markdown",
      "metadata": {
        "id": "eBylHB-o6ptj"
      },
      "source": [
        "###other"
      ]
    },
    {
      "cell_type": "code",
      "metadata": {
        "colab": {
          "base_uri": "https://localhost:8080/",
          "height": 0
        },
        "id": "7hwF_M436rPd",
        "outputId": "58821e11-923d-4713-9762-7d0341047aa0"
      },
      "source": [
        "!pip install requests-html\n",
        "!pip install python-docx\n",
        "# !pip install pip install excel-formulas-calculator\n",
        "!git clone https://github.com/teploe-odealko/excel-formulas-calculator.git\n",
        "!pip install html2text\n"
      ],
      "execution_count": 3,
      "outputs": [
        {
          "output_type": "stream",
          "text": [
            "Collecting requests-html\n",
            "  Downloading requests_html-0.10.0-py3-none-any.whl (13 kB)\n",
            "Collecting fake-useragent\n",
            "  Downloading fake-useragent-0.1.11.tar.gz (13 kB)\n",
            "Collecting pyppeteer>=0.0.14\n",
            "  Downloading pyppeteer-0.2.5-py3-none-any.whl (87 kB)\n",
            "\u001b[K     |████████████████████████████████| 87 kB 3.2 MB/s \n",
            "\u001b[?25hRequirement already satisfied: requests in /usr/local/lib/python3.7/dist-packages (from requests-html) (2.23.0)\n",
            "Collecting parse\n",
            "  Downloading parse-1.19.0.tar.gz (30 kB)\n",
            "Requirement already satisfied: bs4 in /usr/local/lib/python3.7/dist-packages (from requests-html) (0.0.1)\n",
            "Collecting w3lib\n",
            "  Downloading w3lib-1.22.0-py2.py3-none-any.whl (20 kB)\n",
            "Collecting pyquery\n",
            "  Downloading pyquery-1.4.3-py3-none-any.whl (22 kB)\n",
            "Requirement already satisfied: appdirs<2.0.0,>=1.4.3 in /usr/local/lib/python3.7/dist-packages (from pyppeteer>=0.0.14->requests-html) (1.4.4)\n",
            "Collecting websockets<9.0,>=8.1\n",
            "  Downloading websockets-8.1-cp37-cp37m-manylinux2010_x86_64.whl (79 kB)\n",
            "\u001b[K     |████████████████████████████████| 79 kB 7.8 MB/s \n",
            "\u001b[?25hCollecting pyee<9.0.0,>=8.1.0\n",
            "  Downloading pyee-8.1.0-py2.py3-none-any.whl (12 kB)\n",
            "Collecting tqdm<5.0.0,>=4.42.1\n",
            "  Downloading tqdm-4.61.2-py2.py3-none-any.whl (76 kB)\n",
            "\u001b[K     |████████████████████████████████| 76 kB 4.6 MB/s \n",
            "\u001b[?25hCollecting importlib-metadata<3.0.0,>=2.1.1\n",
            "  Downloading importlib_metadata-2.1.1-py2.py3-none-any.whl (10 kB)\n",
            "Collecting urllib3<2.0.0,>=1.25.8\n",
            "  Downloading urllib3-1.26.6-py2.py3-none-any.whl (138 kB)\n",
            "\u001b[K     |████████████████████████████████| 138 kB 52.6 MB/s \n",
            "\u001b[?25hRequirement already satisfied: zipp>=0.5 in /usr/local/lib/python3.7/dist-packages (from importlib-metadata<3.0.0,>=2.1.1->pyppeteer>=0.0.14->requests-html) (3.5.0)\n",
            "Requirement already satisfied: beautifulsoup4 in /usr/local/lib/python3.7/dist-packages (from bs4->requests-html) (4.6.3)\n",
            "Requirement already satisfied: lxml>=2.1 in /usr/local/lib/python3.7/dist-packages (from pyquery->requests-html) (4.2.6)\n",
            "Collecting cssselect>0.7.9\n",
            "  Downloading cssselect-1.1.0-py2.py3-none-any.whl (16 kB)\n",
            "Requirement already satisfied: certifi>=2017.4.17 in /usr/local/lib/python3.7/dist-packages (from requests->requests-html) (2021.5.30)\n",
            "Requirement already satisfied: idna<3,>=2.5 in /usr/local/lib/python3.7/dist-packages (from requests->requests-html) (2.10)\n",
            "Requirement already satisfied: chardet<4,>=3.0.2 in /usr/local/lib/python3.7/dist-packages (from requests->requests-html) (3.0.4)\n",
            "Collecting urllib3<2.0.0,>=1.25.8\n",
            "  Downloading urllib3-1.25.11-py2.py3-none-any.whl (127 kB)\n",
            "\u001b[K     |████████████████████████████████| 127 kB 66.4 MB/s \n",
            "\u001b[?25hRequirement already satisfied: six>=1.4.1 in /usr/local/lib/python3.7/dist-packages (from w3lib->requests-html) (1.15.0)\n",
            "Building wheels for collected packages: fake-useragent, parse\n",
            "  Building wheel for fake-useragent (setup.py) ... \u001b[?25l\u001b[?25hdone\n",
            "  Created wheel for fake-useragent: filename=fake_useragent-0.1.11-py3-none-any.whl size=13503 sha256=c7cbc9add888b8744dfea875389e0893f6aa524885e79148430fc30b960a4e31\n",
            "  Stored in directory: /root/.cache/pip/wheels/ed/f7/62/50ab6c9a0b5567267ab76a9daa9d06315704209b2c5d032031\n",
            "  Building wheel for parse (setup.py) ... \u001b[?25l\u001b[?25hdone\n",
            "  Created wheel for parse: filename=parse-1.19.0-py3-none-any.whl size=24591 sha256=803c59fe435ec2da3ffe2c3d09f3a15942b8e222bb4ab7d3ea6ea9a8a00f7390\n",
            "  Stored in directory: /root/.cache/pip/wheels/9c/aa/cc/f2228050ccb40f22144b073f15a2c84f11204f29fc0dce028e\n",
            "Successfully built fake-useragent parse\n",
            "Installing collected packages: websockets, urllib3, tqdm, pyee, importlib-metadata, cssselect, w3lib, pyquery, pyppeteer, parse, fake-useragent, requests-html\n",
            "  Attempting uninstall: urllib3\n",
            "    Found existing installation: urllib3 1.24.3\n",
            "    Uninstalling urllib3-1.24.3:\n",
            "      Successfully uninstalled urllib3-1.24.3\n",
            "  Attempting uninstall: tqdm\n",
            "    Found existing installation: tqdm 4.41.1\n",
            "    Uninstalling tqdm-4.41.1:\n",
            "      Successfully uninstalled tqdm-4.41.1\n",
            "  Attempting uninstall: importlib-metadata\n",
            "    Found existing installation: importlib-metadata 4.6.1\n",
            "    Uninstalling importlib-metadata-4.6.1:\n",
            "      Successfully uninstalled importlib-metadata-4.6.1\n",
            "\u001b[31mERROR: pip's dependency resolver does not currently take into account all the packages that are installed. This behaviour is the source of the following dependency conflicts.\n",
            "datascience 0.10.6 requires folium==0.2.1, but you have folium 0.8.3 which is incompatible.\u001b[0m\n",
            "Successfully installed cssselect-1.1.0 fake-useragent-0.1.11 importlib-metadata-2.1.1 parse-1.19.0 pyee-8.1.0 pyppeteer-0.2.5 pyquery-1.4.3 requests-html-0.10.0 tqdm-4.61.2 urllib3-1.25.11 w3lib-1.22.0 websockets-8.1\n"
          ],
          "name": "stdout"
        },
        {
          "output_type": "display_data",
          "data": {
            "application/vnd.colab-display-data+json": {
              "pip_warning": {
                "packages": [
                  "urllib3"
                ]
              }
            }
          },
          "metadata": {
            "tags": []
          }
        },
        {
          "output_type": "stream",
          "text": [
            "Collecting python-docx\n",
            "  Downloading python-docx-0.8.11.tar.gz (5.6 MB)\n",
            "\u001b[K     |████████████████████████████████| 5.6 MB 4.1 MB/s \n",
            "\u001b[?25hRequirement already satisfied: lxml>=2.3.2 in /usr/local/lib/python3.7/dist-packages (from python-docx) (4.2.6)\n",
            "Building wheels for collected packages: python-docx\n",
            "  Building wheel for python-docx (setup.py) ... \u001b[?25l\u001b[?25hdone\n",
            "  Created wheel for python-docx: filename=python_docx-0.8.11-py3-none-any.whl size=184507 sha256=8a6e5ecd20de6b4cbe81d604cf01c62d7ac11c1ca616bf9fecf88fe1769d7989\n",
            "  Stored in directory: /root/.cache/pip/wheels/f6/6f/b9/d798122a8b55b74ad30b5f52b01482169b445fbb84a11797a6\n",
            "Successfully built python-docx\n",
            "Installing collected packages: python-docx\n",
            "Successfully installed python-docx-0.8.11\n",
            "Cloning into 'excel-formulas-calculator'...\n",
            "remote: Enumerating objects: 1364, done.\u001b[K\n",
            "remote: Counting objects: 100% (174/174), done.\u001b[K\n",
            "remote: Compressing objects: 100% (85/85), done.\u001b[K\n",
            "remote: Total 1364 (delta 116), reused 135 (delta 87), pack-reused 1190\u001b[K\n",
            "Receiving objects: 100% (1364/1364), 197.98 KiB | 866.00 KiB/s, done.\n",
            "Resolving deltas: 100% (934/934), done.\n",
            "Collecting html2text\n",
            "  Downloading html2text-2020.1.16-py3-none-any.whl (32 kB)\n",
            "Installing collected packages: html2text\n",
            "Successfully installed html2text-2020.1.16\n"
          ],
          "name": "stdout"
        }
      ]
    },
    {
      "cell_type": "code",
      "metadata": {
        "colab": {
          "base_uri": "https://localhost:8080/"
        },
        "id": "tix4GsVp7Ab0",
        "outputId": "89dfdd01-9919-448b-a4b4-c84f5e03461a"
      },
      "source": [
        "cd excel-formulas-calculator/"
      ],
      "execution_count": 4,
      "outputs": [
        {
          "output_type": "stream",
          "text": [
            "/content/excel-formulas-calculator\n"
          ],
          "name": "stdout"
        }
      ]
    },
    {
      "cell_type": "code",
      "metadata": {
        "colab": {
          "base_uri": "https://localhost:8080/"
        },
        "id": "dh1LKNjv7Cqw",
        "outputId": "05939c6f-e356-4baf-baa3-27b452a33e7f"
      },
      "source": [
        "!sudo python setup.py install"
      ],
      "execution_count": 5,
      "outputs": [
        {
          "output_type": "stream",
          "text": [
            "running install\n",
            "running bdist_egg\n",
            "running egg_info\n",
            "creating excel_formulas_calculator.egg-info\n",
            "writing excel_formulas_calculator.egg-info/PKG-INFO\n",
            "writing dependency_links to excel_formulas_calculator.egg-info/dependency_links.txt\n",
            "writing requirements to excel_formulas_calculator.egg-info/requires.txt\n",
            "writing top-level names to excel_formulas_calculator.egg-info/top_level.txt\n",
            "writing manifest file 'excel_formulas_calculator.egg-info/SOURCES.txt'\n",
            "reading manifest template 'MANIFEST.in'\n",
            "warning: no files found matching 'tests'\n",
            "adding license file 'LICENSE'\n",
            "writing manifest file 'excel_formulas_calculator.egg-info/SOURCES.txt'\n",
            "installing library code to build/bdist.linux-x86_64/egg\n",
            "running install_lib\n",
            "running build_py\n",
            "creating build\n",
            "creating build/lib\n",
            "creating build/lib/tests\n",
            "copying tests/__init__.py -> build/lib/tests\n",
            "copying tests/test_utils.py -> build/lib/tests\n",
            "creating build/lib/efc\n",
            "copying efc/settings.py -> build/lib/efc\n",
            "copying efc/__init__.py -> build/lib/efc\n",
            "copying efc/utils.py -> build/lib/efc\n",
            "creating build/lib/tests/test_rpn\n",
            "copying tests/test_rpn/test_functions.py -> build/lib/tests/test_rpn\n",
            "copying tests/test_rpn/mock.py -> build/lib/tests/test_rpn\n",
            "copying tests/test_rpn/test_arith.py -> build/lib/tests/test_rpn\n",
            "copying tests/test_rpn/test_cells.py -> build/lib/tests/test_rpn\n",
            "copying tests/test_rpn/__init__.py -> build/lib/tests/test_rpn\n",
            "creating build/lib/tests/test_parser\n",
            "copying tests/test_parser/__init__.py -> build/lib/tests/test_parser\n",
            "copying tests/test_parser/test_parser.py -> build/lib/tests/test_parser\n",
            "creating build/lib/tests/test_interfaces\n",
            "copying tests/test_interfaces/test_iopenpyxl.py -> build/lib/tests/test_interfaces\n",
            "copying tests/test_interfaces/__init__.py -> build/lib/tests/test_interfaces\n",
            "creating build/lib/tests/test_lexer\n",
            "copying tests/test_lexer/test_tokens.py -> build/lib/tests/test_lexer\n",
            "copying tests/test_lexer/test_errors.py -> build/lib/tests/test_lexer\n",
            "copying tests/test_lexer/__init__.py -> build/lib/tests/test_lexer\n",
            "copying tests/test_lexer/test_lexer.py -> build/lib/tests/test_lexer\n",
            "creating build/lib/efc/base\n",
            "copying efc/base/errors.py -> build/lib/efc/base\n",
            "copying efc/base/__init__.py -> build/lib/efc/base\n",
            "creating build/lib/efc/rpn_builder\n",
            "copying efc/rpn_builder/rpn.py -> build/lib/efc/rpn_builder\n",
            "copying efc/rpn_builder/errors.py -> build/lib/efc/rpn_builder\n",
            "copying efc/rpn_builder/__init__.py -> build/lib/efc/rpn_builder\n",
            "creating build/lib/efc/interfaces\n",
            "copying efc/interfaces/base.py -> build/lib/efc/interfaces\n",
            "copying efc/interfaces/cache.py -> build/lib/efc/interfaces\n",
            "copying efc/interfaces/errors.py -> build/lib/efc/interfaces\n",
            "copying efc/interfaces/iopenpyxl.py -> build/lib/efc/interfaces\n",
            "copying efc/interfaces/__init__.py -> build/lib/efc/interfaces\n",
            "creating build/lib/efc/rpn_builder/lexer\n",
            "copying efc/rpn_builder/lexer/tokens.py -> build/lib/efc/rpn_builder/lexer\n",
            "copying efc/rpn_builder/lexer/errors.py -> build/lib/efc/rpn_builder/lexer\n",
            "copying efc/rpn_builder/lexer/__init__.py -> build/lib/efc/rpn_builder/lexer\n",
            "copying efc/rpn_builder/lexer/lexer.py -> build/lib/efc/rpn_builder/lexer\n",
            "creating build/lib/efc/rpn_builder/parser\n",
            "copying efc/rpn_builder/parser/functions.py -> build/lib/efc/rpn_builder/parser\n",
            "copying efc/rpn_builder/parser/parser.py -> build/lib/efc/rpn_builder/parser\n",
            "copying efc/rpn_builder/parser/errors.py -> build/lib/efc/rpn_builder/parser\n",
            "copying efc/rpn_builder/parser/metaclasses.py -> build/lib/efc/rpn_builder/parser\n",
            "copying efc/rpn_builder/parser/operands.py -> build/lib/efc/rpn_builder/parser\n",
            "copying efc/rpn_builder/parser/__init__.py -> build/lib/efc/rpn_builder/parser\n",
            "copying efc/rpn_builder/parser/operations.py -> build/lib/efc/rpn_builder/parser\n",
            "creating build/lib/tests/test_interfaces/fixtures\n",
            "copying tests/test_interfaces/fixtures/openpyxl.xlsx -> build/lib/tests/test_interfaces/fixtures\n",
            "creating build/bdist.linux-x86_64\n",
            "creating build/bdist.linux-x86_64/egg\n",
            "creating build/bdist.linux-x86_64/egg/tests\n",
            "creating build/bdist.linux-x86_64/egg/tests/test_rpn\n",
            "copying build/lib/tests/test_rpn/test_functions.py -> build/bdist.linux-x86_64/egg/tests/test_rpn\n",
            "copying build/lib/tests/test_rpn/mock.py -> build/bdist.linux-x86_64/egg/tests/test_rpn\n",
            "copying build/lib/tests/test_rpn/test_arith.py -> build/bdist.linux-x86_64/egg/tests/test_rpn\n",
            "copying build/lib/tests/test_rpn/test_cells.py -> build/bdist.linux-x86_64/egg/tests/test_rpn\n",
            "copying build/lib/tests/test_rpn/__init__.py -> build/bdist.linux-x86_64/egg/tests/test_rpn\n",
            "creating build/bdist.linux-x86_64/egg/tests/test_parser\n",
            "copying build/lib/tests/test_parser/__init__.py -> build/bdist.linux-x86_64/egg/tests/test_parser\n",
            "copying build/lib/tests/test_parser/test_parser.py -> build/bdist.linux-x86_64/egg/tests/test_parser\n",
            "creating build/bdist.linux-x86_64/egg/tests/test_interfaces\n",
            "creating build/bdist.linux-x86_64/egg/tests/test_interfaces/fixtures\n",
            "copying build/lib/tests/test_interfaces/fixtures/openpyxl.xlsx -> build/bdist.linux-x86_64/egg/tests/test_interfaces/fixtures\n",
            "copying build/lib/tests/test_interfaces/test_iopenpyxl.py -> build/bdist.linux-x86_64/egg/tests/test_interfaces\n",
            "copying build/lib/tests/test_interfaces/__init__.py -> build/bdist.linux-x86_64/egg/tests/test_interfaces\n",
            "creating build/bdist.linux-x86_64/egg/tests/test_lexer\n",
            "copying build/lib/tests/test_lexer/test_tokens.py -> build/bdist.linux-x86_64/egg/tests/test_lexer\n",
            "copying build/lib/tests/test_lexer/test_errors.py -> build/bdist.linux-x86_64/egg/tests/test_lexer\n",
            "copying build/lib/tests/test_lexer/__init__.py -> build/bdist.linux-x86_64/egg/tests/test_lexer\n",
            "copying build/lib/tests/test_lexer/test_lexer.py -> build/bdist.linux-x86_64/egg/tests/test_lexer\n",
            "copying build/lib/tests/__init__.py -> build/bdist.linux-x86_64/egg/tests\n",
            "copying build/lib/tests/test_utils.py -> build/bdist.linux-x86_64/egg/tests\n",
            "creating build/bdist.linux-x86_64/egg/efc\n",
            "creating build/bdist.linux-x86_64/egg/efc/base\n",
            "copying build/lib/efc/base/errors.py -> build/bdist.linux-x86_64/egg/efc/base\n",
            "copying build/lib/efc/base/__init__.py -> build/bdist.linux-x86_64/egg/efc/base\n",
            "copying build/lib/efc/settings.py -> build/bdist.linux-x86_64/egg/efc\n",
            "creating build/bdist.linux-x86_64/egg/efc/rpn_builder\n",
            "copying build/lib/efc/rpn_builder/rpn.py -> build/bdist.linux-x86_64/egg/efc/rpn_builder\n",
            "copying build/lib/efc/rpn_builder/errors.py -> build/bdist.linux-x86_64/egg/efc/rpn_builder\n",
            "creating build/bdist.linux-x86_64/egg/efc/rpn_builder/lexer\n",
            "copying build/lib/efc/rpn_builder/lexer/tokens.py -> build/bdist.linux-x86_64/egg/efc/rpn_builder/lexer\n",
            "copying build/lib/efc/rpn_builder/lexer/errors.py -> build/bdist.linux-x86_64/egg/efc/rpn_builder/lexer\n",
            "copying build/lib/efc/rpn_builder/lexer/__init__.py -> build/bdist.linux-x86_64/egg/efc/rpn_builder/lexer\n",
            "copying build/lib/efc/rpn_builder/lexer/lexer.py -> build/bdist.linux-x86_64/egg/efc/rpn_builder/lexer\n",
            "creating build/bdist.linux-x86_64/egg/efc/rpn_builder/parser\n",
            "copying build/lib/efc/rpn_builder/parser/functions.py -> build/bdist.linux-x86_64/egg/efc/rpn_builder/parser\n",
            "copying build/lib/efc/rpn_builder/parser/parser.py -> build/bdist.linux-x86_64/egg/efc/rpn_builder/parser\n",
            "copying build/lib/efc/rpn_builder/parser/errors.py -> build/bdist.linux-x86_64/egg/efc/rpn_builder/parser\n",
            "copying build/lib/efc/rpn_builder/parser/metaclasses.py -> build/bdist.linux-x86_64/egg/efc/rpn_builder/parser\n",
            "copying build/lib/efc/rpn_builder/parser/operands.py -> build/bdist.linux-x86_64/egg/efc/rpn_builder/parser\n",
            "copying build/lib/efc/rpn_builder/parser/__init__.py -> build/bdist.linux-x86_64/egg/efc/rpn_builder/parser\n",
            "copying build/lib/efc/rpn_builder/parser/operations.py -> build/bdist.linux-x86_64/egg/efc/rpn_builder/parser\n",
            "copying build/lib/efc/rpn_builder/__init__.py -> build/bdist.linux-x86_64/egg/efc/rpn_builder\n",
            "creating build/bdist.linux-x86_64/egg/efc/interfaces\n",
            "copying build/lib/efc/interfaces/base.py -> build/bdist.linux-x86_64/egg/efc/interfaces\n",
            "copying build/lib/efc/interfaces/cache.py -> build/bdist.linux-x86_64/egg/efc/interfaces\n",
            "copying build/lib/efc/interfaces/errors.py -> build/bdist.linux-x86_64/egg/efc/interfaces\n",
            "copying build/lib/efc/interfaces/iopenpyxl.py -> build/bdist.linux-x86_64/egg/efc/interfaces\n",
            "copying build/lib/efc/interfaces/__init__.py -> build/bdist.linux-x86_64/egg/efc/interfaces\n",
            "copying build/lib/efc/__init__.py -> build/bdist.linux-x86_64/egg/efc\n",
            "copying build/lib/efc/utils.py -> build/bdist.linux-x86_64/egg/efc\n",
            "byte-compiling build/bdist.linux-x86_64/egg/tests/test_rpn/test_functions.py to test_functions.cpython-37.pyc\n",
            "byte-compiling build/bdist.linux-x86_64/egg/tests/test_rpn/mock.py to mock.cpython-37.pyc\n",
            "byte-compiling build/bdist.linux-x86_64/egg/tests/test_rpn/test_arith.py to test_arith.cpython-37.pyc\n",
            "byte-compiling build/bdist.linux-x86_64/egg/tests/test_rpn/test_cells.py to test_cells.cpython-37.pyc\n",
            "byte-compiling build/bdist.linux-x86_64/egg/tests/test_rpn/__init__.py to __init__.cpython-37.pyc\n",
            "byte-compiling build/bdist.linux-x86_64/egg/tests/test_parser/__init__.py to __init__.cpython-37.pyc\n",
            "byte-compiling build/bdist.linux-x86_64/egg/tests/test_parser/test_parser.py to test_parser.cpython-37.pyc\n",
            "byte-compiling build/bdist.linux-x86_64/egg/tests/test_interfaces/test_iopenpyxl.py to test_iopenpyxl.cpython-37.pyc\n",
            "byte-compiling build/bdist.linux-x86_64/egg/tests/test_interfaces/__init__.py to __init__.cpython-37.pyc\n",
            "byte-compiling build/bdist.linux-x86_64/egg/tests/test_lexer/test_tokens.py to test_tokens.cpython-37.pyc\n",
            "byte-compiling build/bdist.linux-x86_64/egg/tests/test_lexer/test_errors.py to test_errors.cpython-37.pyc\n",
            "byte-compiling build/bdist.linux-x86_64/egg/tests/test_lexer/__init__.py to __init__.cpython-37.pyc\n",
            "byte-compiling build/bdist.linux-x86_64/egg/tests/test_lexer/test_lexer.py to test_lexer.cpython-37.pyc\n",
            "byte-compiling build/bdist.linux-x86_64/egg/tests/__init__.py to __init__.cpython-37.pyc\n",
            "byte-compiling build/bdist.linux-x86_64/egg/tests/test_utils.py to test_utils.cpython-37.pyc\n",
            "byte-compiling build/bdist.linux-x86_64/egg/efc/base/errors.py to errors.cpython-37.pyc\n",
            "byte-compiling build/bdist.linux-x86_64/egg/efc/base/__init__.py to __init__.cpython-37.pyc\n",
            "byte-compiling build/bdist.linux-x86_64/egg/efc/settings.py to settings.cpython-37.pyc\n",
            "byte-compiling build/bdist.linux-x86_64/egg/efc/rpn_builder/rpn.py to rpn.cpython-37.pyc\n",
            "byte-compiling build/bdist.linux-x86_64/egg/efc/rpn_builder/errors.py to errors.cpython-37.pyc\n",
            "byte-compiling build/bdist.linux-x86_64/egg/efc/rpn_builder/lexer/tokens.py to tokens.cpython-37.pyc\n",
            "byte-compiling build/bdist.linux-x86_64/egg/efc/rpn_builder/lexer/errors.py to errors.cpython-37.pyc\n",
            "byte-compiling build/bdist.linux-x86_64/egg/efc/rpn_builder/lexer/__init__.py to __init__.cpython-37.pyc\n",
            "byte-compiling build/bdist.linux-x86_64/egg/efc/rpn_builder/lexer/lexer.py to lexer.cpython-37.pyc\n",
            "byte-compiling build/bdist.linux-x86_64/egg/efc/rpn_builder/parser/functions.py to functions.cpython-37.pyc\n",
            "byte-compiling build/bdist.linux-x86_64/egg/efc/rpn_builder/parser/parser.py to parser.cpython-37.pyc\n",
            "byte-compiling build/bdist.linux-x86_64/egg/efc/rpn_builder/parser/errors.py to errors.cpython-37.pyc\n",
            "byte-compiling build/bdist.linux-x86_64/egg/efc/rpn_builder/parser/metaclasses.py to metaclasses.cpython-37.pyc\n",
            "byte-compiling build/bdist.linux-x86_64/egg/efc/rpn_builder/parser/operands.py to operands.cpython-37.pyc\n",
            "byte-compiling build/bdist.linux-x86_64/egg/efc/rpn_builder/parser/__init__.py to __init__.cpython-37.pyc\n",
            "byte-compiling build/bdist.linux-x86_64/egg/efc/rpn_builder/parser/operations.py to operations.cpython-37.pyc\n",
            "byte-compiling build/bdist.linux-x86_64/egg/efc/rpn_builder/__init__.py to __init__.cpython-37.pyc\n",
            "byte-compiling build/bdist.linux-x86_64/egg/efc/interfaces/base.py to base.cpython-37.pyc\n",
            "byte-compiling build/bdist.linux-x86_64/egg/efc/interfaces/cache.py to cache.cpython-37.pyc\n",
            "byte-compiling build/bdist.linux-x86_64/egg/efc/interfaces/errors.py to errors.cpython-37.pyc\n",
            "byte-compiling build/bdist.linux-x86_64/egg/efc/interfaces/iopenpyxl.py to iopenpyxl.cpython-37.pyc\n",
            "byte-compiling build/bdist.linux-x86_64/egg/efc/interfaces/__init__.py to __init__.cpython-37.pyc\n",
            "byte-compiling build/bdist.linux-x86_64/egg/efc/__init__.py to __init__.cpython-37.pyc\n",
            "byte-compiling build/bdist.linux-x86_64/egg/efc/utils.py to utils.cpython-37.pyc\n",
            "creating build/bdist.linux-x86_64/egg/EGG-INFO\n",
            "copying excel_formulas_calculator.egg-info/PKG-INFO -> build/bdist.linux-x86_64/egg/EGG-INFO\n",
            "copying excel_formulas_calculator.egg-info/SOURCES.txt -> build/bdist.linux-x86_64/egg/EGG-INFO\n",
            "copying excel_formulas_calculator.egg-info/dependency_links.txt -> build/bdist.linux-x86_64/egg/EGG-INFO\n",
            "copying excel_formulas_calculator.egg-info/requires.txt -> build/bdist.linux-x86_64/egg/EGG-INFO\n",
            "copying excel_formulas_calculator.egg-info/top_level.txt -> build/bdist.linux-x86_64/egg/EGG-INFO\n",
            "zip_safe flag not set; analyzing archive contents...\n",
            "tests.test_interfaces.__pycache__.test_iopenpyxl.cpython-37: module references __file__\n",
            "creating dist\n",
            "creating 'dist/excel_formulas_calculator-0.2.3-py3.7.egg' and adding 'build/bdist.linux-x86_64/egg' to it\n",
            "removing 'build/bdist.linux-x86_64/egg' (and everything under it)\n",
            "Processing excel_formulas_calculator-0.2.3-py3.7.egg\n",
            "creating /usr/local/lib/python3.7/dist-packages/excel_formulas_calculator-0.2.3-py3.7.egg\n",
            "Extracting excel_formulas_calculator-0.2.3-py3.7.egg to /usr/local/lib/python3.7/dist-packages\n",
            "Adding excel-formulas-calculator 0.2.3 to easy-install.pth file\n",
            "\n",
            "Installed /usr/local/lib/python3.7/dist-packages/excel_formulas_calculator-0.2.3-py3.7.egg\n",
            "Processing dependencies for excel-formulas-calculator==0.2.3\n",
            "Searching for six==1.15.0\n",
            "Best match: six 1.15.0\n",
            "Adding six 1.15.0 to easy-install.pth file\n",
            "\n",
            "Using /usr/local/lib/python3.7/dist-packages\n",
            "Finished processing dependencies for excel-formulas-calculator==0.2.3\n"
          ],
          "name": "stdout"
        }
      ]
    },
    {
      "cell_type": "markdown",
      "metadata": {
        "id": "NeQy59AT6Kxe"
      },
      "source": [
        "##import"
      ]
    },
    {
      "cell_type": "code",
      "metadata": {
        "id": "ri4Lu3ab6F9i"
      },
      "source": [
        "import openpyxl\n",
        "from openpyxl.worksheet.worksheet import Worksheet\n",
        "from openpyxl.formula import Tokenizer\n",
        "from openpyxl.formula.translate import Translator\n",
        "from openpyxl.utils.cell import get_column_letter\n",
        "from openpyxl.utils.dataframe import dataframe_to_rows\n",
        "from openpyxl.formatting.rule import FormulaRule\n",
        "from openpyxl.styles import Color, PatternFill, Font, Border\n",
        "\n",
        "from typing import Dict, List, Tuple\n",
        "from collections import defaultdict\n",
        "from copy import copy\n",
        "import glob\n",
        "import re\n",
        "import requests_html\n",
        "\n",
        "import pandas as pd\n",
        "import numpy as np\n",
        "\n",
        "import html2text\n",
        "import docx\n",
        "from docx.shared import RGBColor\n",
        "from bs4 import BeautifulSoup\n",
        "import urllib3\n",
        "from nltk.stem.snowball import SnowballStemmer\n",
        "from datetime import datetime, date, timedelta\n",
        "from efc.interfaces.iopenpyxl import OpenpyxlInterface"
      ],
      "execution_count": 6,
      "outputs": []
    },
    {
      "cell_type": "code",
      "metadata": {
        "colab": {
          "base_uri": "https://localhost:8080/"
        },
        "id": "sw6QSsTT7DM4",
        "outputId": "6b2f235d-7518-4c03-aa58-70f4b5929da4"
      },
      "source": [
        "cd ../"
      ],
      "execution_count": 7,
      "outputs": [
        {
          "output_type": "stream",
          "text": [
            "/content\n"
          ],
          "name": "stdout"
        }
      ]
    },
    {
      "cell_type": "markdown",
      "metadata": {
        "id": "yjgfSwQc5e6L"
      },
      "source": [
        "#Срипт"
      ]
    },
    {
      "cell_type": "markdown",
      "metadata": {
        "id": "UHPDvgOpJRR-"
      },
      "source": [
        "##Utils"
      ]
    },
    {
      "cell_type": "code",
      "metadata": {
        "id": "2AXGiTPb3SM7"
      },
      "source": [
        "import os\n",
        "from datetime import datetime\n",
        "today = datetime.today().strftime(\"%d-%m-%Y\")\n",
        "if not os.path.exists(today):\n",
        "    os.mkdir(today)\n",
        "os.environ['FOLDER_NAME'] = today"
      ],
      "execution_count": 21,
      "outputs": []
    },
    {
      "cell_type": "code",
      "metadata": {
        "id": "i0n6s935JTpU"
      },
      "source": [
        "def rename_input_filename(filename: str):\n",
        "    today = datetime.today().strftime(\"%d-%m-%Y\")\n",
        "    splitted_filename = filename.split('.')\n",
        "    splitted_filename[0] = '_'.join([part for part in splitted_filename[0].split('_') if not re.match(r'\\d{2}-\\d{2}-\\d{4}', part)])\n",
        "    splitted_filename[0] = f'{splitted_filename[0]}_{today}'\n",
        "    output_filename = '.'.join(splitted_filename)\n",
        "    return f'{today}/{output_filename}'"
      ],
      "execution_count": 8,
      "outputs": []
    },
    {
      "cell_type": "code",
      "metadata": {
        "id": "GJxhPkIFAV84"
      },
      "source": [
        "def continue_formula_n_down(ws: Worksheet, columns: list, row: int, n: int):\n",
        "    for column in columns:\n",
        "\n",
        "        formula = ws.cell(row=(row - n), column=column).value\n",
        "        last_cell_id = get_column_letter(column) + str(row - n)\n",
        "        next_cell_id = get_column_letter(column) + str(row)\n",
        "        ws[next_cell_id] = Translator(formula, origin=last_cell_id).translate_formula(next_cell_id)\n",
        "        ws[next_cell_id]._style = copy(ws[last_cell_id]._style)\n",
        "\n",
        "\n",
        "def continue_formula_down(ws: Worksheet, columns: list, row: int):\n",
        "    continue_formula_n_down(ws, columns, row, 1)"
      ],
      "execution_count": 9,
      "outputs": []
    },
    {
      "cell_type": "code",
      "metadata": {
        "id": "82_GYEza_QFT"
      },
      "source": [
        "def  continue_date_down(ws: Worksheet, columns: list, days: int):\n",
        "    # print('here')\n",
        "    for column in columns:\n",
        "        try:\n",
        "            row = [c.value for c in ws[get_column_letter(column)]].index(None) + 1\n",
        "        except ValueError:\n",
        "            row = ws.max_row + 1\n",
        "        last_table_date = ws.cell(row=row-1, column=column).value\n",
        "        # print(row, column)\n",
        "        # print(last_table_date)\n",
        "        ws.cell(row=row, column=column).value = (last_table_date) + timedelta(days=days)\n",
        "        ws.cell(row=row, column=column).number_format = 'DD.MM.YY'\n",
        "\n",
        "        last_cell_id = get_column_letter(column) + str(row-1)\n",
        "        next_cell_id = get_column_letter(column) + str(row)\n",
        "        ws[next_cell_id]._style = copy(ws[last_cell_id]._style)"
      ],
      "execution_count": 10,
      "outputs": []
    },
    {
      "cell_type": "code",
      "metadata": {
        "id": "qGTmqFH-Dg7p"
      },
      "source": [
        "def continue_formula_right(ws: Worksheet, rows: list, column: int):\n",
        "    for row in rows:\n",
        "        formula = ws.cell(row=row, column=column - 1).value\n",
        "        last_cell_id = get_column_letter(column - 1) + str(row)\n",
        "        next_cell_id = get_column_letter(column) + str(row)\n",
        "        ws[next_cell_id] = Translator(formula, origin=last_cell_id).translate_formula(next_cell_id)\n",
        "        ws[next_cell_id]._style = copy(ws[last_cell_id]._style)\n",
        "\n",
        "\n",
        "def  continue_date_right(ws: Worksheet, rows: list, column=None):\n",
        "    for row in rows:\n",
        "        if not column:\n",
        "            try:\n",
        "                column = [c.value for c in ws[row]][3:].index(None) + 4\n",
        "            except ValueError:\n",
        "                column = ws.max_column + 1\n",
        "        last_table_date = ws.cell(row=row, column=column - 1).value\n",
        "        try:\n",
        "            ws.cell(row=row, column=column).value = (last_table_date) + timedelta(days=1)\n",
        "        except TypeError:\n",
        "            last_table_date = datetime.strptime(last_table_date, '%d.%m.%Y')\n",
        "            ws.cell(row=row, column=column).value = (last_table_date) + timedelta(days=1)\n",
        "        ws.cell(row=row, column=column).number_format = 'DD.MM.YYYY'\n",
        "\n",
        "        last_cell_id = get_column_letter(column - 1) + str(row)\n",
        "        next_cell_id = get_column_letter(column) + str(row)\n",
        "        ws[next_cell_id]._style = copy(ws[last_cell_id]._style)"
      ],
      "execution_count": 11,
      "outputs": []
    },
    {
      "cell_type": "markdown",
      "metadata": {
        "id": "bOgM-EiEFPyq"
      },
      "source": [
        "##Россия xlsx"
      ]
    },
    {
      "cell_type": "code",
      "metadata": {
        "id": "cpBADbL8FhaE"
      },
      "source": [
        "URL = 'https://yastat.net/s3/milab/2020/covid19-stat/data/v10/deep_data.json'\n",
        "REGION_COLUMN = 2\n",
        "REGION_ROWS_RANGE = (2, 87)\n",
        "WEEKLY_REPORT_DAY = 7\n",
        "DAYS_OF_THE_WEEK_MAP = {\n",
        "    1: 'ПН',\n",
        "    2: 'ВТ',\n",
        "    3: 'СР',\n",
        "    4: 'ЧТ',\n",
        "    5: 'ПТ',\n",
        "    6: 'СБ',\n",
        "    7: 'ВС',\n",
        "}"
      ],
      "execution_count": 12,
      "outputs": []
    },
    {
      "cell_type": "code",
      "metadata": {
        "id": "bZGju3vHFPDW"
      },
      "source": [
        "def get_general_info(info: dict):\n",
        "    STOP_COVID_URL = 'https://стопкоронавирус.рф/information/'\n",
        "    wd.get(STOP_COVID_URL)\n",
        "    raw_rows = wd.find_elements_by_xpath('//h3[@class=\"cv-stats-virus__item-value\"]')\n",
        "    rows = [row.text for row in raw_rows]\n",
        "    statistics = [int(''.join(row.strip('\\n ').split())) for row in rows]\n",
        "    useful_statistics = [statistics[2], statistics[4], statistics[0]]\n",
        "    info.update({'general': useful_statistics})\n",
        "\n",
        "\n",
        "def normolize_string(string: str):\n",
        "    string = string.strip().lower().translate({ord('.'): None})\n",
        "    string = ' '.join(string.split('-'))\n",
        "\n",
        "    # remove stop words\n",
        "    stop_words = ['г', 'обл', 'область', 'республика', 'автономная', 'ао']\n",
        "    try:\n",
        "        splitted_string = string.split()\n",
        "    except IndexError:\n",
        "        return ''\n",
        "    stemmer = SnowballStemmer(\"russian\")\n",
        "    string = ' '.join(stemmer.stem(w) for w in splitted_string if w not in stop_words)\n",
        "    return string\n",
        "\n",
        "\n",
        "def fill_сases_sheet(ws: Worksheet, info: dict):\n",
        "    OVERALL_CASES_FORMULA_ROW = 88\n",
        "\n",
        "    last_available_date = datetime.strptime(info['dates'][-1], '%Y-%m-%d')\n",
        "    last_column = ws.max_column\n",
        "    last_table_date = ws.cell(row=1, column=last_column).value\n",
        "    new_days_amount = (last_available_date - last_table_date).days\n",
        "    for i in range(1, new_days_amount + 1):\n",
        "        ws.cell(row=1, column=(last_column + i)).value = (last_table_date + timedelta(days=i))\n",
        "        ws.cell(row=1, column=(last_column + i)).number_format = 'DD.MM.YYYY'\n",
        "\n",
        "        for row in range(*REGION_ROWS_RANGE):\n",
        "            name = ws.cell(row=row, column=REGION_COLUMN).value\n",
        "            key = normolize_string(name)\n",
        "            if key in info['data']:\n",
        "                ws.cell(row=row, column=(last_column + i)).value = \\\n",
        "                    info['data'][key]['cases'][(i - 1) - new_days_amount][0]\n",
        "            else:\n",
        "                raise KeyError(key)\n",
        "\n",
        "        formula = ws.cell(row=OVERALL_CASES_FORMULA_ROW, column=ws.max_column - 1).value\n",
        "        last_cell_id = get_column_letter(ws.max_column - 1) + str(OVERALL_CASES_FORMULA_ROW)\n",
        "        next_cell_id = get_column_letter(ws.max_column) + str(OVERALL_CASES_FORMULA_ROW)\n",
        "        ws[next_cell_id] = Translator(formula, origin=last_cell_id).translate_formula(next_cell_id)\n",
        "\n",
        "    info.update({'new_days_amount': new_days_amount})\n",
        "\n",
        "\n",
        "def get_regions_info() -> dict:\n",
        "    session = requests_html.HTMLSession()\n",
        "    final_region_data = {}\n",
        "    response: dict = session.get(URL, verify=False).json()\n",
        "    regions = response['russia_stat_struct']['data']\n",
        "    dates = response['russia_stat_struct']['dates']\n",
        "    for region in regions:\n",
        "        full_name = regions[region]['info']['name']\n",
        "        short_name = regions[region]['info']['short_name']\n",
        "        regions[region]['info'].pop('name', None)\n",
        "        regions[region]['info'].pop('short_name', None)\n",
        "        final_region_data.update(\n",
        "            dict.fromkeys([normolize_string(full_name), normolize_string(short_name)], regions[region]))\n",
        "    return {'data': final_region_data,\n",
        "            'dates': dates,\n",
        "            'last_date': datetime.strptime(dates[-1], '%Y-%m-%d')}\n",
        "\n",
        "\n",
        "\n",
        "\n",
        "\n",
        "def continue_number_right(ws: Worksheet, rows: list):\n",
        "    for row in rows:\n",
        "        try:\n",
        "            column = [c.value for c in ws[row]].index(None) + 1\n",
        "        except ValueError:\n",
        "            column = ws.max_column + 1\n",
        "        last_num = ws.cell(row=row, column=column - 1).value\n",
        "        ws.cell(row=row, column=column).value = last_num + 1\n",
        "\n",
        "        last_cell_id = get_column_letter(column - 1) + str(row)\n",
        "        next_cell_id = get_column_letter(column) + str(row)\n",
        "        ws[next_cell_id]._style = copy(ws[last_cell_id]._style)\n",
        "\n",
        "\n",
        "def gain_sheet(ws: Worksheet, info: dict):\n",
        "    NEW_COLUMN_NUM_GAIN = [c.value for c in ws[1]].index(None) + 1\n",
        "\n",
        "    for i in range(info['new_days_amount']):\n",
        "        ws.insert_cols(NEW_COLUMN_NUM_GAIN+i)\n",
        "        continue_date_right(ws, [1])\n",
        "        continue_formula_right(ws, list(range(2, 96)), NEW_COLUMN_NUM_GAIN + i)\n",
        "\n",
        "    info['last_col_in_gain_sheet'] = [c.value for c in ws[1]].index(None)\n",
        "\n",
        "\n",
        "def daily_region_gain_sheet(ws: Worksheet, info: dict):\n",
        "    NEW_COLUMN_NUM_DAILY_GAIN = ws.max_column + 1\n",
        "\n",
        "    for i in range(info['new_days_amount']):\n",
        "        continue_date_right(ws, [1, 20, 35])\n",
        "        continue_formula_right(ws,\n",
        "                               list(range(2, 19)) + list(range(21, 34)) + list(range(36, 49)),\n",
        "                               NEW_COLUMN_NUM_DAILY_GAIN + i)\n",
        "\n",
        "\n",
        "def weekly_gain_sheet(ws: Worksheet, info: dict):\n",
        "    new_col = [c.value for c in ws[1]].index(None) + 1\n",
        "    ws.insert_cols(new_col)\n",
        "    continue_number_right(ws, [1])\n",
        "    continue_formula_right(ws, list(range(2, 94)), new_col)\n",
        "    for row in range(2, 87):\n",
        "        # left part\n",
        "        raw_formula = ws.cell(row=row, column=new_col).value\n",
        "        tokenized_formula = Tokenizer(raw_formula)\n",
        "        last_col_in_gain_sheet = info['last_col_in_gain_sheet']\n",
        "\n",
        "        tokenized_formula.items[1].value = re.sub(r'(?<=:\\$)\\D*',\n",
        "                                                  get_column_letter(last_col_in_gain_sheet),\n",
        "                                                  tokenized_formula.items[1].value)\n",
        "        tokenized_formula.items[3].value = re.sub(r'(?<=:\\$).*(?=\\$)',\n",
        "                                                  get_column_letter(last_col_in_gain_sheet),\n",
        "                                                  tokenized_formula.items[3].value)\n",
        "        new_formula = ''.join(token.value for token in tokenized_formula.items)\n",
        "        ws.cell(row=row, column=new_col).value = fr'={new_formula}'\n",
        "\n",
        "        # right part\n",
        "        ws.cell(row=row, column=new_col+2).value = fr'=MAX($C{row}:${get_column_letter(new_col)}{row})'\n",
        "        ws.cell(row=row, column=new_col+3).value = fr'={get_column_letter(new_col+2)}{row}-{get_column_letter(new_col)}{row}'\n",
        "        ws.cell(row=row, column=new_col+4).value = fr'={get_column_letter(new_col)}{row}-{get_column_letter(new_col-1)}{row}'\n",
        "        ws.cell(row=row, column=new_col+6).value = fr'={get_column_letter(new_col)}{row}/{get_column_letter(new_col-1)}{row}-100%'\n",
        "        ws.cell(row=row, column=new_col+7).value = fr'={get_column_letter(new_col-1)}{row}/{get_column_letter(new_col-2)}{row}-100%'\n",
        "\n",
        "\n",
        "    ws.cell(row=87, column=new_col+4).value = fr'={get_column_letter(new_col)}{87}-{get_column_letter(new_col-1)}{87}'\n",
        "\n",
        "\n",
        "def tpr_weekly_gain_sheet(ws: Worksheet, info: dict):\n",
        "    new_col = [c.value for c in ws[1]].index(None) + 1\n",
        "    ws.insert_cols(new_col)\n",
        "    continue_number_right(ws, [1])\n",
        "    continue_formula_right(ws, list(range(2, 88)), new_col)\n",
        "\n",
        "\n",
        "\n",
        "def get_first_clear_row_in_column(column):\n",
        "    return max((c.row for c in column if c.value is not None)) + 1\n",
        "\n",
        "def base_rf_sheet(ws: Worksheet, info: dict):\n",
        "    NEW_ROW_NUM = get_first_clear_row_in_column(ws['B'])\n",
        "\n",
        "    ws.cell(row=NEW_ROW_NUM, column=1).value = info['last_date']\n",
        "    ws.cell(row=NEW_ROW_NUM, column=1).number_format = 'DD.MM'\n",
        "    for i, stat in enumerate(info['general']):\n",
        "        ws.cell(row=NEW_ROW_NUM, column=2 + i).value = info['general'][i]\n",
        "        ws.cell(row=NEW_ROW_NUM, column=2 + i)._style = copy(ws.cell(row=NEW_ROW_NUM - 1, column=2 + i)._style)\n",
        "    continue_formula_down(ws,\n",
        "                          list(range(5, 20)) + [26] + list(range(28, 36)),\n",
        "                          NEW_ROW_NUM)\n",
        "\n",
        "    if info['last_date'].weekday() + 1 == WEEKLY_REPORT_DAY:  # if it's sunday\n",
        "        continue_formula_n_down(ws, list(range(20, 25))+[27], NEW_ROW_NUM, 7)\n",
        "        continue_formula_n_down(ws, list(range(20, 23)), NEW_ROW_NUM + 1, 7)\n",
        "    # I_column = [c.value for c in ws['I'][10:]]\n",
        "    # try:\n",
        "    #     info['day_infections_cell'] = f'I{I_column.index(None)+10}'\n",
        "    # except ValueError:\n",
        "    #     info['day_infections_cell'] = f'I{len(I_column)+10}'\n",
        "\n",
        "\n",
        "def date_week_sheet(ws: Worksheet, info: dict):\n",
        "    NEW_ROW_NUM = get_first_clear_row_in_column(ws['A'])\n",
        "    ws.cell(row=NEW_ROW_NUM, column=1).value = ws.cell(row=NEW_ROW_NUM - 1, column=1).value + 1\n",
        "    continue_date_down(ws, list(range(2, 4)), 7)\n",
        "\n",
        "\n",
        "\n",
        "\n",
        "def parse_info():\n",
        "    info = get_regions_info()\n",
        "    get_general_info(info)\n",
        "    return info\n",
        "\n",
        "\n",
        "def weekly_region_gain_sheet(ws: Worksheet, info: dict):\n",
        "    new_column = ws.max_column + 1\n",
        "\n",
        "    continue_number_right(ws, [1, 20])\n",
        "    continue_formula_right(ws,\n",
        "                           list(range(2, 17)) + list(range(21, 34)),\n",
        "                           new_column)\n",
        "\n",
        "def gain_7day_sheet(ws: Worksheet, info: dict):\n",
        "    new_column = [c.value for c in ws[1]].index(None) + 1\n",
        "\n",
        "    for i in range(info['new_days_amount']):\n",
        "        ws.insert_cols(new_column+i)\n",
        "        continue_date_right(ws, [1])\n",
        "        continue_formula_right(ws, list(range(2, 94)), new_column + i)\n",
        "\n",
        "    for row in range(2, 87):\n",
        "        ws.cell(row=row, column=new_column+i+3).value = fr'={get_column_letter(new_column+i)}{row}'\n",
        "        ws.cell(row=row, column=new_column+i+2).value = fr'=RANK({get_column_letter(new_column+i+3)}{row},${get_column_letter(new_column+i+3)}$2:${get_column_letter(new_column+i+3)}$86,0)'\n",
        "        ws.cell(row=row, column=new_column+i+4).value = fr'={get_column_letter(new_column+i)}{row}-{get_column_letter(new_column+i-7)}{row}'\n",
        "        ws.cell(row=row, column=new_column+i+6).value = fr'={get_column_letter(new_column+i)}{row}/{get_column_letter(new_column+i-7)}{row}-1'\n",
        "    ws.cell(row=row, column=new_column+i+3).value = fr'={get_column_letter(new_column + i)}{row}'\n",
        "\n",
        "    for row in range(92, 97):\n",
        "        ws.cell(row=row, column=new_column+i+4).value = fr'=VLOOKUP({get_column_letter(new_column+i+2)}{row},${get_column_letter(new_column+i+2)}$2:${get_column_letter(new_column+i+3)}$86,2,0)'\n",
        "        ws.cell(row=row, column=new_column+i+5).value = fr'={get_column_letter(new_column+i+4)}{row}/${get_column_letter(new_column+i+4)}$97'\n",
        "        ws.cell(row=row, column=new_column+i+6).value = fr'==VLOOKUP({get_column_letter(new_column+i+2)}{row},${get_column_letter(new_column+i+2)}$2:${get_column_letter(new_column+i+6)}$86,4,0)'\n",
        "    ws.cell(row=97, column=new_column+i+4).value = fr'={get_column_letter(new_column+i+3)}87'\n",
        "    ws.cell(row=97, column=new_column+i+5).value = fr'={get_column_letter(new_column+i+4)}{97}/${get_column_letter(new_column+i+4)}$97'\n",
        "\n",
        "def rt_sheet(ws: Worksheet, info: dict):\n",
        "    new_column = [c.value for c in ws[2]][3:].index(None) + 4\n",
        "    for i in range(info['new_days_amount']):\n",
        "        ws.insert_cols(new_column+i)\n",
        "        continue_date_right(ws, [2])\n",
        "        continue_formula_right(ws, list(range(3, 89)), new_column + i)\n",
        "\n",
        "    ws.cell(row=1, column=(new_column+i+5)).value = info['last_date']\n",
        "    c = get_column_letter(new_column+i+5)\n",
        "    r = '1'\n",
        "    cell1 = c+r\n",
        "    ws.cell(row=1, column=(new_column+i+6)).value = fr'=MATCH({cell1},$A$2:{get_column_letter(new_column+i)}2)-3'\n",
        "\n",
        "    for row in range(3, 88):\n",
        "        col = get_column_letter(new_column+i)\n",
        "        ws.cell(row=row, column=(new_column+i+2)).value = fr'=RANK({col}{row},${col}$3:${col}$87,0)'\n",
        "\n",
        "        ws.cell(row=row, column=(new_column+i+4)).value = fr'=IF(INDEX($D$3:${col}$87,${get_column_letter(new_column+i+8)}{row},${get_column_letter(new_column+i+6)}$1)<1,1,0)'\n",
        "        ws.cell(row=row, column=(new_column+i+5)).value = fr'=IF(INDEX($D$3:${col}$87,${get_column_letter(new_column+i+8)}{row},${get_column_letter(new_column+i+6)}$1)>1,1,0)'\n",
        "        ws.cell(row=row, column=(new_column+i+6)).value = fr'=IF(INDEX($D$3:${col}$87,${get_column_letter(new_column+i+8)}{row},${get_column_letter(new_column+i+6)}$1)=1,1,0)'\n",
        "\n",
        "    ws.cell(row=88, column=(new_column+i+4)).value = fr'=SUM({get_column_letter(new_column+i+4)}3:{get_column_letter(new_column+i+4)}87)'\n",
        "    ws.cell(row=88, column=(new_column+i+5)).value = fr'=SUM({get_column_letter(new_column+i+5)}3:{get_column_letter(new_column+i+5)}87)'\n",
        "    ws.cell(row=88, column=(new_column+i+6)).value = fr'=SUM({get_column_letter(new_column+i+6)}3:{get_column_letter(new_column+i+6)}87)'\n",
        "    ws.cell(row=89, column=(new_column+i+6)).value = fr'=85-SUM({get_column_letter(new_column+i+4)}88:{get_column_letter(new_column+i+6)}88)'\n",
        "    info['rt_bigger1_cell'] = f'{get_column_letter(new_column+i+5)}88'\n",
        "\n",
        "\n",
        "def delta_day_sheet(ws: Worksheet, info: dict):\n",
        "    new_column = ws.max_column + 1\n",
        "    bigger_zero_fill = PatternFill(start_color='F1CCB1', end_color='F1CCB1', fill_type='solid')\n",
        "    lower_zero_fill = PatternFill(start_color='E4EFDC', end_color='E4EFDC', fill_type='solid')\n",
        "\n",
        "    for i in range(info['new_days_amount']):\n",
        "        continue_date_right(ws, [1])\n",
        "        ws.cell(row=2, column=new_column + i).value = DAYS_OF_THE_WEEK_MAP.get(\n",
        "            ws.cell(row=1, column=new_column + i).value.weekday() + 1\n",
        "        )\n",
        "        last_cell_id = get_column_letter(new_column + i - 1) + str(2)\n",
        "        next_cell_id = get_column_letter(new_column + i) + str(2)\n",
        "        ws[next_cell_id]._style = copy(ws[last_cell_id]._style)\n",
        "\n",
        "        continue_formula_right(ws, list(range(3, 98)), new_column + i)\n",
        "        cell_ids_formatting = '{}3:{}87'.format(get_column_letter(new_column + i), get_column_letter(new_column + i))\n",
        "        ws.conditional_formatting.add(cell_ids_formatting, FormulaRule(formula=[f'{next_cell_id}>0'], fill=bigger_zero_fill))\n",
        "        ws.conditional_formatting.add(cell_ids_formatting, FormulaRule(formula=[f'{next_cell_id}<0'], fill=lower_zero_fill))\n",
        "\n",
        "\n",
        "def msc_sp_sheet(ws: Worksheet, info: dict):\n",
        "    new_column = ws.max_column + 1\n",
        "    # bigger_zero_fill = PatternFill(start_color='F1CCB1', end_color='F1CCB1', fill_type='solid')\n",
        "    # lower_zero_fill = PatternFill(start_color='E4EFDC', end_color='E4EFDC', fill_type='solid')\n",
        "\n",
        "    for i in range(info['new_days_amount']):\n",
        "        continue_date_right(ws, [1])\n",
        "        ws.cell(row=2, column=new_column + i).value = DAYS_OF_THE_WEEK_MAP.get(\n",
        "            ws.cell(row=1, column=new_column + i).value.weekday() + 1\n",
        "        )\n",
        "        last_cell_id = get_column_letter(new_column + i - 1) + str(2)\n",
        "        next_cell_id = get_column_letter(new_column + i) + str(2)\n",
        "        ws[next_cell_id]._style = copy(ws[last_cell_id]._style)\n",
        "        continue_formula_right(ws, list(range(3, 98)), new_column + i)\n"
      ],
      "execution_count": 13,
      "outputs": []
    },
    {
      "cell_type": "code",
      "metadata": {
        "id": "7Gv2nkiGGlom"
      },
      "source": [
        "def russia(filename: str):\n",
        "    wb = openpyxl.load_workbook(filename)\n",
        "\n",
        "    info = parse_info()\n",
        "\n",
        "    fill_сases_sheet(wb['Случаев'], info)\n",
        "    gain_sheet(wb['Прирост'], info)\n",
        "    msc_sp_sheet(wb['МСК и СП'], info)\n",
        "    rt_sheet(wb['Rt'], info)\n",
        "    gain_7day_sheet(wb['прирост 7дн'], info)\n",
        "    delta_day_sheet(wb['дельта за сутки'], info)\n",
        "    daily_region_gain_sheet(wb['По рег прис (сут)'], info)\n",
        "\n",
        "    if info['last_date'].weekday()+1 == WEEKLY_REPORT_DAY:\n",
        "        weekly_gain_sheet(wb['Прирост нед'], info)\n",
        "        tpr_weekly_gain_sheet(wb['Тпр нед прироста'], info)\n",
        "        weekly_region_gain_sheet(wb['По рег прис (нед)'], info)\n",
        "        date_week_sheet(wb['Дата-неделя'], info)\n",
        "\n",
        "    base_rf_sheet(wb['База РФ'], info)\n",
        "\n",
        "    wb.save(rename_input_filename(filename))"
      ],
      "execution_count": 14,
      "outputs": []
    },
    {
      "cell_type": "markdown",
      "metadata": {
        "id": "Fj2RS7Duc8KS"
      },
      "source": [
        "#Результат"
      ]
    },
    {
      "cell_type": "code",
      "metadata": {
        "id": "5XG4eRRx_hKj"
      },
      "source": [
        "def main(russia_input_filename: str):\n",
        "    russia(russia_input_filename)\n",
        "\n"
      ],
      "execution_count": 19,
      "outputs": []
    },
    {
      "cell_type": "code",
      "metadata": {
        "id": "VeUuBTnfHqVe",
        "colab": {
          "base_uri": "https://localhost:8080/"
        },
        "outputId": "7e94a45c-4411-4adf-9862-a904a0ce0cb4"
      },
      "source": [
        "main(russia_input_filename)"
      ],
      "execution_count": 22,
      "outputs": [
        {
          "output_type": "stream",
          "text": [
            "/usr/local/lib/python3.7/dist-packages/urllib3/connectionpool.py:847: InsecureRequestWarning: Unverified HTTPS request is being made. Adding certificate verification is strongly advised. See: https://urllib3.readthedocs.io/en/latest/advanced-usage.html#ssl-warnings\n",
            "  \n"
          ],
          "name": "stderr"
        }
      ]
    },
    {
      "cell_type": "code",
      "metadata": {
        "id": "O_swAQLlXLw2",
        "colab": {
          "base_uri": "https://localhost:8080/",
          "height": 17
        },
        "outputId": "3328e876-5bd3-4bc8-ea4d-00fe622ed42c"
      },
      "source": [
        "files.download(rename_input_filename(russia_input_filename))"
      ],
      "execution_count": 23,
      "outputs": [
        {
          "output_type": "display_data",
          "data": {
            "application/javascript": [
              "\n",
              "    async function download(id, filename, size) {\n",
              "      if (!google.colab.kernel.accessAllowed) {\n",
              "        return;\n",
              "      }\n",
              "      const div = document.createElement('div');\n",
              "      const label = document.createElement('label');\n",
              "      label.textContent = `Downloading \"${filename}\": `;\n",
              "      div.appendChild(label);\n",
              "      const progress = document.createElement('progress');\n",
              "      progress.max = size;\n",
              "      div.appendChild(progress);\n",
              "      document.body.appendChild(div);\n",
              "\n",
              "      const buffers = [];\n",
              "      let downloaded = 0;\n",
              "\n",
              "      const channel = await google.colab.kernel.comms.open(id);\n",
              "      // Send a message to notify the kernel that we're ready.\n",
              "      channel.send({})\n",
              "\n",
              "      for await (const message of channel.messages) {\n",
              "        // Send a message to notify the kernel that we're ready.\n",
              "        channel.send({})\n",
              "        if (message.buffers) {\n",
              "          for (const buffer of message.buffers) {\n",
              "            buffers.push(buffer);\n",
              "            downloaded += buffer.byteLength;\n",
              "            progress.value = downloaded;\n",
              "          }\n",
              "        }\n",
              "      }\n",
              "      const blob = new Blob(buffers, {type: 'application/binary'});\n",
              "      const a = document.createElement('a');\n",
              "      a.href = window.URL.createObjectURL(blob);\n",
              "      a.download = filename;\n",
              "      div.appendChild(a);\n",
              "      a.click();\n",
              "      div.remove();\n",
              "    }\n",
              "  "
            ],
            "text/plain": [
              "<IPython.core.display.Javascript object>"
            ]
          },
          "metadata": {
            "tags": []
          }
        },
        {
          "output_type": "display_data",
          "data": {
            "application/javascript": [
              "download(\"download_a10ccc97-4d87-42e2-886f-c4c42a5d9d7b\", \"\\u0421\\u0432\\u043e\\u0434 \\u0420\\u043e\\u0441\\u0441\\u0438\\u044f \\u0420\\u0435\\u0433\\u0438\\u043e\\u043d\\u044b_out_30-07-2021.xlsx\", 2298453)"
            ],
            "text/plain": [
              "<IPython.core.display.Javascript object>"
            ]
          },
          "metadata": {
            "tags": []
          }
        }
      ]
    },
    {
      "cell_type": "code",
      "metadata": {
        "id": "QyOJ3AMkuIXY"
      },
      "source": [
        ""
      ],
      "execution_count": null,
      "outputs": []
    }
  ]
}