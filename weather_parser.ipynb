{
  "nbformat": 4,
  "nbformat_minor": 0,
  "metadata": {
    "colab": {
      "name": "weather_parser.ipynb",
      "provenance": [],
      "collapsed_sections": [
        "dLOXfkplKZAP"
      ]
    },
    "kernelspec": {
      "name": "python3",
      "display_name": "Python 3"
    },
    "language_info": {
      "name": "python"
    }
  },
  "cells": [
    {
      "cell_type": "markdown",
      "metadata": {
        "id": "eKYOd9krKb1C"
      },
      "source": [
        "#Настройка"
      ]
    },
    {
      "cell_type": "markdown",
      "metadata": {
        "id": "9o7WI-CvH4Ij"
      },
      "source": [
        "Присвоить переменной \"hours\" значение 12, 24 или 36"
      ]
    },
    {
      "cell_type": "code",
      "metadata": {
        "id": "ZxzmuY1oHoM1"
      },
      "source": [
        "hours = 24"
      ],
      "execution_count": null,
      "outputs": []
    },
    {
      "cell_type": "code",
      "metadata": {
        "id": "3Ux2PefWIIoi"
      },
      "source": [
        "hours_button_map = {12: 'id_l_1', 24: 'id_l_2', 36: 'id_l_3'}\n",
        "try:\n",
        "    hours_button_id = hours_button_map[hours]\n",
        "except:\n",
        "    raise KeyError('Неправильное значение переменной \"hours\"')"
      ],
      "execution_count": null,
      "outputs": []
    },
    {
      "cell_type": "code",
      "metadata": {
        "colab": {
          "resources": {
            "http://localhost:8080/nbextensions/google.colab/files.js": {
              "data": "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",
              "ok": true,
              "headers": [
                [
                  "content-type",
                  "application/javascript"
                ]
              ],
              "status": 200,
              "status_text": ""
            }
          },
          "base_uri": "https://localhost:8080/",
          "height": 73
        },
        "id": "Qiru8t619gzu",
        "outputId": "892a052c-6da2-4a94-a32b-8b6899d1c22b"
      },
      "source": [
        "from google.colab import files\n",
        "filename = files.upload()\n",
        "filename = next(iter(filename))"
      ],
      "execution_count": null,
      "outputs": [
        {
          "output_type": "display_data",
          "data": {
            "text/html": [
              "\n",
              "     <input type=\"file\" id=\"files-48ce9c3a-cab0-4d51-a58a-a839d27dec73\" name=\"files[]\" multiple disabled\n",
              "        style=\"border:none\" />\n",
              "     <output id=\"result-48ce9c3a-cab0-4d51-a58a-a839d27dec73\">\n",
              "      Upload widget is only available when the cell has been executed in the\n",
              "      current browser session. Please rerun this cell to enable.\n",
              "      </output>\n",
              "      <script src=\"/nbextensions/google.colab/files.js\"></script> "
            ],
            "text/plain": [
              "<IPython.core.display.HTML object>"
            ]
          },
          "metadata": {
            "tags": []
          }
        },
        {
          "output_type": "stream",
          "text": [
            "Saving rt_08-07-2021_12.xlsx to rt_08-07-2021_12.xlsx\n"
          ],
          "name": "stdout"
        }
      ]
    },
    {
      "cell_type": "markdown",
      "metadata": {
        "id": "dLOXfkplKZAP"
      },
      "source": [
        "#Скрипт"
      ]
    },
    {
      "cell_type": "code",
      "metadata": {
        "colab": {
          "base_uri": "https://localhost:8080/"
        },
        "id": "wFQZS-BX4DMh",
        "outputId": "32aba3e7-dc81-4825-e25f-118c5b388069"
      },
      "source": [
        "!pip install selenium\n",
        "!apt-get update # to update ubuntu to correctly run apt install\n",
        "!apt install chromium-chromedriver\n",
        "!cp /usr/lib/chromium-browser/chromedriver /usr/bin\n",
        "import sys\n",
        "sys.path.insert(0,'/usr/lib/chromium-browser/chromedriver')\n",
        "from selenium import webdriver\n",
        "!pip install requests-html\n",
        "!pip install xlutils"
      ],
      "execution_count": null,
      "outputs": [
        {
          "output_type": "stream",
          "text": [
            "Collecting selenium\n",
            "\u001b[?25l  Downloading https://files.pythonhosted.org/packages/80/d6/4294f0b4bce4de0abf13e17190289f9d0613b0a44e5dd6a7f5ca98459853/selenium-3.141.0-py2.py3-none-any.whl (904kB)\n",
            "\r\u001b[K     |▍                               | 10kB 16.7MB/s eta 0:00:01\r\u001b[K     |▊                               | 20kB 23.5MB/s eta 0:00:01\r\u001b[K     |█                               | 30kB 23.1MB/s eta 0:00:01\r\u001b[K     |█▌                              | 40kB 18.6MB/s eta 0:00:01\r\u001b[K     |█▉                              | 51kB 17.9MB/s eta 0:00:01\r\u001b[K     |██▏                             | 61kB 12.2MB/s eta 0:00:01\r\u001b[K     |██▌                             | 71kB 13.2MB/s eta 0:00:01\r\u001b[K     |███                             | 81kB 14.4MB/s eta 0:00:01\r\u001b[K     |███▎                            | 92kB 14.8MB/s eta 0:00:01\r\u001b[K     |███▋                            | 102kB 14.9MB/s eta 0:00:01\r\u001b[K     |████                            | 112kB 14.9MB/s eta 0:00:01\r\u001b[K     |████▍                           | 122kB 14.9MB/s eta 0:00:01\r\u001b[K     |████▊                           | 133kB 14.9MB/s eta 0:00:01\r\u001b[K     |█████                           | 143kB 14.9MB/s eta 0:00:01\r\u001b[K     |█████▍                          | 153kB 14.9MB/s eta 0:00:01\r\u001b[K     |█████▉                          | 163kB 14.9MB/s eta 0:00:01\r\u001b[K     |██████▏                         | 174kB 14.9MB/s eta 0:00:01\r\u001b[K     |██████▌                         | 184kB 14.9MB/s eta 0:00:01\r\u001b[K     |██████▉                         | 194kB 14.9MB/s eta 0:00:01\r\u001b[K     |███████▎                        | 204kB 14.9MB/s eta 0:00:01\r\u001b[K     |███████▋                        | 215kB 14.9MB/s eta 0:00:01\r\u001b[K     |████████                        | 225kB 14.9MB/s eta 0:00:01\r\u001b[K     |████████▎                       | 235kB 14.9MB/s eta 0:00:01\r\u001b[K     |████████▊                       | 245kB 14.9MB/s eta 0:00:01\r\u001b[K     |█████████                       | 256kB 14.9MB/s eta 0:00:01\r\u001b[K     |█████████▍                      | 266kB 14.9MB/s eta 0:00:01\r\u001b[K     |█████████▉                      | 276kB 14.9MB/s eta 0:00:01\r\u001b[K     |██████████▏                     | 286kB 14.9MB/s eta 0:00:01\r\u001b[K     |██████████▌                     | 296kB 14.9MB/s eta 0:00:01\r\u001b[K     |██████████▉                     | 307kB 14.9MB/s eta 0:00:01\r\u001b[K     |███████████▎                    | 317kB 14.9MB/s eta 0:00:01\r\u001b[K     |███████████▋                    | 327kB 14.9MB/s eta 0:00:01\r\u001b[K     |████████████                    | 337kB 14.9MB/s eta 0:00:01\r\u001b[K     |████████████▎                   | 348kB 14.9MB/s eta 0:00:01\r\u001b[K     |████████████▊                   | 358kB 14.9MB/s eta 0:00:01\r\u001b[K     |█████████████                   | 368kB 14.9MB/s eta 0:00:01\r\u001b[K     |█████████████▍                  | 378kB 14.9MB/s eta 0:00:01\r\u001b[K     |█████████████▊                  | 389kB 14.9MB/s eta 0:00:01\r\u001b[K     |██████████████▏                 | 399kB 14.9MB/s eta 0:00:01\r\u001b[K     |██████████████▌                 | 409kB 14.9MB/s eta 0:00:01\r\u001b[K     |██████████████▉                 | 419kB 14.9MB/s eta 0:00:01\r\u001b[K     |███████████████▏                | 430kB 14.9MB/s eta 0:00:01\r\u001b[K     |███████████████▋                | 440kB 14.9MB/s eta 0:00:01\r\u001b[K     |████████████████                | 450kB 14.9MB/s eta 0:00:01\r\u001b[K     |████████████████▎               | 460kB 14.9MB/s eta 0:00:01\r\u001b[K     |████████████████▋               | 471kB 14.9MB/s eta 0:00:01\r\u001b[K     |█████████████████               | 481kB 14.9MB/s eta 0:00:01\r\u001b[K     |█████████████████▍              | 491kB 14.9MB/s eta 0:00:01\r\u001b[K     |█████████████████▊              | 501kB 14.9MB/s eta 0:00:01\r\u001b[K     |██████████████████▏             | 512kB 14.9MB/s eta 0:00:01\r\u001b[K     |██████████████████▌             | 522kB 14.9MB/s eta 0:00:01\r\u001b[K     |██████████████████▉             | 532kB 14.9MB/s eta 0:00:01\r\u001b[K     |███████████████████▏            | 542kB 14.9MB/s eta 0:00:01\r\u001b[K     |███████████████████▋            | 552kB 14.9MB/s eta 0:00:01\r\u001b[K     |████████████████████            | 563kB 14.9MB/s eta 0:00:01\r\u001b[K     |████████████████████▎           | 573kB 14.9MB/s eta 0:00:01\r\u001b[K     |████████████████████▋           | 583kB 14.9MB/s eta 0:00:01\r\u001b[K     |█████████████████████           | 593kB 14.9MB/s eta 0:00:01\r\u001b[K     |█████████████████████▍          | 604kB 14.9MB/s eta 0:00:01\r\u001b[K     |█████████████████████▊          | 614kB 14.9MB/s eta 0:00:01\r\u001b[K     |██████████████████████          | 624kB 14.9MB/s eta 0:00:01\r\u001b[K     |██████████████████████▌         | 634kB 14.9MB/s eta 0:00:01\r\u001b[K     |██████████████████████▉         | 645kB 14.9MB/s eta 0:00:01\r\u001b[K     |███████████████████████▏        | 655kB 14.9MB/s eta 0:00:01\r\u001b[K     |███████████████████████▌        | 665kB 14.9MB/s eta 0:00:01\r\u001b[K     |████████████████████████        | 675kB 14.9MB/s eta 0:00:01\r\u001b[K     |████████████████████████▎       | 686kB 14.9MB/s eta 0:00:01\r\u001b[K     |████████████████████████▋       | 696kB 14.9MB/s eta 0:00:01\r\u001b[K     |█████████████████████████       | 706kB 14.9MB/s eta 0:00:01\r\u001b[K     |█████████████████████████▍      | 716kB 14.9MB/s eta 0:00:01\r\u001b[K     |█████████████████████████▊      | 727kB 14.9MB/s eta 0:00:01\r\u001b[K     |██████████████████████████      | 737kB 14.9MB/s eta 0:00:01\r\u001b[K     |██████████████████████████▍     | 747kB 14.9MB/s eta 0:00:01\r\u001b[K     |██████████████████████████▉     | 757kB 14.9MB/s eta 0:00:01\r\u001b[K     |███████████████████████████▏    | 768kB 14.9MB/s eta 0:00:01\r\u001b[K     |███████████████████████████▌    | 778kB 14.9MB/s eta 0:00:01\r\u001b[K     |████████████████████████████    | 788kB 14.9MB/s eta 0:00:01\r\u001b[K     |████████████████████████████▎   | 798kB 14.9MB/s eta 0:00:01\r\u001b[K     |████████████████████████████▋   | 808kB 14.9MB/s eta 0:00:01\r\u001b[K     |█████████████████████████████   | 819kB 14.9MB/s eta 0:00:01\r\u001b[K     |█████████████████████████████▍  | 829kB 14.9MB/s eta 0:00:01\r\u001b[K     |█████████████████████████████▊  | 839kB 14.9MB/s eta 0:00:01\r\u001b[K     |██████████████████████████████  | 849kB 14.9MB/s eta 0:00:01\r\u001b[K     |██████████████████████████████▍ | 860kB 14.9MB/s eta 0:00:01\r\u001b[K     |██████████████████████████████▉ | 870kB 14.9MB/s eta 0:00:01\r\u001b[K     |███████████████████████████████▏| 880kB 14.9MB/s eta 0:00:01\r\u001b[K     |███████████████████████████████▌| 890kB 14.9MB/s eta 0:00:01\r\u001b[K     |███████████████████████████████▉| 901kB 14.9MB/s eta 0:00:01\r\u001b[K     |████████████████████████████████| 911kB 14.9MB/s \n",
            "\u001b[?25hRequirement already satisfied: urllib3 in /usr/local/lib/python3.7/dist-packages (from selenium) (1.24.3)\n",
            "Installing collected packages: selenium\n",
            "Successfully installed selenium-3.141.0\n",
            "Hit:1 http://archive.ubuntu.com/ubuntu bionic InRelease\n",
            "Get:2 http://ppa.launchpad.net/c2d4u.team/c2d4u4.0+/ubuntu bionic InRelease [15.9 kB]\n",
            "Get:3 http://archive.ubuntu.com/ubuntu bionic-updates InRelease [88.7 kB]\n",
            "Get:4 https://cloud.r-project.org/bin/linux/ubuntu bionic-cran40/ InRelease [3,626 B]\n",
            "Hit:5 http://ppa.launchpad.net/cran/libgit2/ubuntu bionic InRelease\n",
            "Get:6 http://archive.ubuntu.com/ubuntu bionic-backports InRelease [74.6 kB]\n",
            "Get:7 http://ppa.launchpad.net/deadsnakes/ppa/ubuntu bionic InRelease [15.9 kB]\n",
            "Hit:8 http://ppa.launchpad.net/graphics-drivers/ppa/ubuntu bionic InRelease\n",
            "Get:9 http://security.ubuntu.com/ubuntu bionic-security InRelease [88.7 kB]\n",
            "Ign:10 https://developer.download.nvidia.com/compute/cuda/repos/ubuntu1804/x86_64  InRelease\n",
            "Ign:11 https://developer.download.nvidia.com/compute/machine-learning/repos/ubuntu1804/x86_64  InRelease\n",
            "Get:12 https://developer.download.nvidia.com/compute/cuda/repos/ubuntu1804/x86_64  Release [697 B]\n",
            "Hit:13 https://developer.download.nvidia.com/compute/machine-learning/repos/ubuntu1804/x86_64  Release\n",
            "Get:14 https://developer.download.nvidia.com/compute/cuda/repos/ubuntu1804/x86_64  Release.gpg [836 B]\n",
            "Get:15 http://ppa.launchpad.net/c2d4u.team/c2d4u4.0+/ubuntu bionic/main Sources [1,780 kB]\n",
            "Get:16 http://ppa.launchpad.net/c2d4u.team/c2d4u4.0+/ubuntu bionic/main amd64 Packages [910 kB]\n",
            "Get:17 https://cloud.r-project.org/bin/linux/ubuntu bionic-cran40/ Packages [62.2 kB]\n",
            "Get:18 http://archive.ubuntu.com/ubuntu bionic-updates/universe amd64 Packages [2,188 kB]\n",
            "Get:19 http://archive.ubuntu.com/ubuntu bionic-updates/main amd64 Packages [2,658 kB]\n",
            "Get:20 http://ppa.launchpad.net/deadsnakes/ppa/ubuntu bionic/main amd64 Packages [40.8 kB]\n",
            "Ign:22 https://developer.download.nvidia.com/compute/cuda/repos/ubuntu1804/x86_64  Packages\n",
            "Get:22 https://developer.download.nvidia.com/compute/cuda/repos/ubuntu1804/x86_64  Packages [637 kB]\n",
            "Get:23 http://security.ubuntu.com/ubuntu bionic-security/universe amd64 Packages [1,418 kB]\n",
            "Get:24 http://security.ubuntu.com/ubuntu bionic-security/main amd64 Packages [2,221 kB]\n",
            "Fetched 12.2 MB in 3s (3,502 kB/s)\n",
            "Reading package lists... Done\n",
            "Reading package lists... Done\n",
            "Building dependency tree       \n",
            "Reading state information... Done\n",
            "The following additional packages will be installed:\n",
            "  chromium-browser chromium-browser-l10n chromium-codecs-ffmpeg-extra\n",
            "Suggested packages:\n",
            "  webaccounts-chromium-extension unity-chromium-extension\n",
            "The following NEW packages will be installed:\n",
            "  chromium-browser chromium-browser-l10n chromium-chromedriver\n",
            "  chromium-codecs-ffmpeg-extra\n",
            "0 upgraded, 4 newly installed, 0 to remove and 58 not upgraded.\n",
            "Need to get 86.0 MB of archives.\n",
            "After this operation, 298 MB of additional disk space will be used.\n",
            "Get:1 http://archive.ubuntu.com/ubuntu bionic-updates/universe amd64 chromium-codecs-ffmpeg-extra amd64 91.0.4472.101-0ubuntu0.18.04.1 [1,124 kB]\n",
            "Get:2 http://archive.ubuntu.com/ubuntu bionic-updates/universe amd64 chromium-browser amd64 91.0.4472.101-0ubuntu0.18.04.1 [76.1 MB]\n",
            "Get:3 http://archive.ubuntu.com/ubuntu bionic-updates/universe amd64 chromium-browser-l10n all 91.0.4472.101-0ubuntu0.18.04.1 [3,937 kB]\n",
            "Get:4 http://archive.ubuntu.com/ubuntu bionic-updates/universe amd64 chromium-chromedriver amd64 91.0.4472.101-0ubuntu0.18.04.1 [4,837 kB]\n",
            "Fetched 86.0 MB in 2s (48.6 MB/s)\n",
            "Selecting previously unselected package chromium-codecs-ffmpeg-extra.\n",
            "(Reading database ... 160815 files and directories currently installed.)\n",
            "Preparing to unpack .../chromium-codecs-ffmpeg-extra_91.0.4472.101-0ubuntu0.18.04.1_amd64.deb ...\n",
            "Unpacking chromium-codecs-ffmpeg-extra (91.0.4472.101-0ubuntu0.18.04.1) ...\n",
            "Selecting previously unselected package chromium-browser.\n",
            "Preparing to unpack .../chromium-browser_91.0.4472.101-0ubuntu0.18.04.1_amd64.deb ...\n",
            "Unpacking chromium-browser (91.0.4472.101-0ubuntu0.18.04.1) ...\n",
            "Selecting previously unselected package chromium-browser-l10n.\n",
            "Preparing to unpack .../chromium-browser-l10n_91.0.4472.101-0ubuntu0.18.04.1_all.deb ...\n",
            "Unpacking chromium-browser-l10n (91.0.4472.101-0ubuntu0.18.04.1) ...\n",
            "Selecting previously unselected package chromium-chromedriver.\n",
            "Preparing to unpack .../chromium-chromedriver_91.0.4472.101-0ubuntu0.18.04.1_amd64.deb ...\n",
            "Unpacking chromium-chromedriver (91.0.4472.101-0ubuntu0.18.04.1) ...\n",
            "Setting up chromium-codecs-ffmpeg-extra (91.0.4472.101-0ubuntu0.18.04.1) ...\n",
            "Setting up chromium-browser (91.0.4472.101-0ubuntu0.18.04.1) ...\n",
            "update-alternatives: using /usr/bin/chromium-browser to provide /usr/bin/x-www-browser (x-www-browser) in auto mode\n",
            "update-alternatives: using /usr/bin/chromium-browser to provide /usr/bin/gnome-www-browser (gnome-www-browser) in auto mode\n",
            "Setting up chromium-chromedriver (91.0.4472.101-0ubuntu0.18.04.1) ...\n",
            "Setting up chromium-browser-l10n (91.0.4472.101-0ubuntu0.18.04.1) ...\n",
            "Processing triggers for man-db (2.8.3-2ubuntu0.1) ...\n",
            "Processing triggers for hicolor-icon-theme (0.17-2) ...\n",
            "Processing triggers for mime-support (3.60ubuntu1) ...\n",
            "Processing triggers for libc-bin (2.27-3ubuntu1.2) ...\n",
            "/sbin/ldconfig.real: /usr/local/lib/python3.7/dist-packages/ideep4py/lib/libmkldnn.so.0 is not a symbolic link\n",
            "\n",
            "cp: '/usr/lib/chromium-browser/chromedriver' and '/usr/bin/chromedriver' are the same file\n",
            "Collecting requests-html\n",
            "  Downloading https://files.pythonhosted.org/packages/24/bc/a4380f09bab3a776182578ce6b2771e57259d0d4dbce178205779abdc347/requests_html-0.10.0-py3-none-any.whl\n",
            "Collecting fake-useragent\n",
            "  Downloading https://files.pythonhosted.org/packages/d1/79/af647635d6968e2deb57a208d309f6069d31cb138066d7e821e575112a80/fake-useragent-0.1.11.tar.gz\n",
            "Collecting parse\n",
            "  Downloading https://files.pythonhosted.org/packages/89/a1/82ce536be577ba09d4dcee45db58423a180873ad38a2d014d26ab7b7cb8a/parse-1.19.0.tar.gz\n",
            "Collecting w3lib\n",
            "  Downloading https://files.pythonhosted.org/packages/a3/59/b6b14521090e7f42669cafdb84b0ab89301a42f1f1a82fcf5856661ea3a7/w3lib-1.22.0-py2.py3-none-any.whl\n",
            "Requirement already satisfied: bs4 in /usr/local/lib/python3.7/dist-packages (from requests-html) (0.0.1)\n",
            "Requirement already satisfied: requests in /usr/local/lib/python3.7/dist-packages (from requests-html) (2.23.0)\n",
            "Collecting pyquery\n",
            "  Downloading https://files.pythonhosted.org/packages/58/0b/85d15e21f660a8ea68b1e0286168938857391f4ec9f6d204d91c9e013826/pyquery-1.4.3-py3-none-any.whl\n",
            "Collecting pyppeteer>=0.0.14\n",
            "\u001b[?25l  Downloading https://files.pythonhosted.org/packages/4a/05/ea3250282e46fda60df1f1d5246bb8cdc022abb89969c61a98ea28fd6b82/pyppeteer-0.2.5-py3-none-any.whl (87kB)\n",
            "\u001b[K     |████████████████████████████████| 92kB 9.2MB/s \n",
            "\u001b[?25hRequirement already satisfied: six>=1.4.1 in /usr/local/lib/python3.7/dist-packages (from w3lib->requests-html) (1.15.0)\n",
            "Requirement already satisfied: beautifulsoup4 in /usr/local/lib/python3.7/dist-packages (from bs4->requests-html) (4.6.3)\n",
            "Requirement already satisfied: idna<3,>=2.5 in /usr/local/lib/python3.7/dist-packages (from requests->requests-html) (2.10)\n",
            "Requirement already satisfied: chardet<4,>=3.0.2 in /usr/local/lib/python3.7/dist-packages (from requests->requests-html) (3.0.4)\n",
            "Requirement already satisfied: certifi>=2017.4.17 in /usr/local/lib/python3.7/dist-packages (from requests->requests-html) (2021.5.30)\n",
            "Requirement already satisfied: urllib3!=1.25.0,!=1.25.1,<1.26,>=1.21.1 in /usr/local/lib/python3.7/dist-packages (from requests->requests-html) (1.24.3)\n",
            "Collecting cssselect>0.7.9\n",
            "  Downloading https://files.pythonhosted.org/packages/3b/d4/3b5c17f00cce85b9a1e6f91096e1cc8e8ede2e1be8e96b87ce1ed09e92c5/cssselect-1.1.0-py2.py3-none-any.whl\n",
            "Requirement already satisfied: lxml>=2.1 in /usr/local/lib/python3.7/dist-packages (from pyquery->requests-html) (4.2.6)\n",
            "Requirement already satisfied: appdirs<2.0.0,>=1.4.3 in /usr/local/lib/python3.7/dist-packages (from pyppeteer>=0.0.14->requests-html) (1.4.4)\n",
            "Collecting tqdm<5.0.0,>=4.42.1\n",
            "\u001b[?25l  Downloading https://files.pythonhosted.org/packages/7a/ec/f8ff3ccfc4e59ce619a66a0bf29dc3b49c2e8c07de29d572e191c006eaa2/tqdm-4.61.2-py2.py3-none-any.whl (76kB)\n",
            "\u001b[K     |████████████████████████████████| 81kB 10.4MB/s \n",
            "\u001b[?25hCollecting websockets<9.0,>=8.1\n",
            "\u001b[?25l  Downloading https://files.pythonhosted.org/packages/5a/0b/3ebc752392a368af14dd24ee041683416ac6d2463eead94b311b11e41c82/websockets-8.1-cp37-cp37m-manylinux2010_x86_64.whl (79kB)\n",
            "\u001b[K     |████████████████████████████████| 81kB 9.6MB/s \n",
            "\u001b[?25hCollecting importlib-metadata<3.0.0,>=2.1.1; python_version < \"3.8\"\n",
            "  Downloading https://files.pythonhosted.org/packages/98/b8/8ec57a8ef46fbe7f185318c7ff7df9a06c9df451d9a59a067bfa851bb828/importlib_metadata-2.1.1-py2.py3-none-any.whl\n",
            "Collecting pyee<9.0.0,>=8.1.0\n",
            "  Downloading https://files.pythonhosted.org/packages/0d/0a/933b3931107e1da186963fd9bb9bceb9a613cff034cb0fb3b0c61003f357/pyee-8.1.0-py2.py3-none-any.whl\n",
            "Requirement already satisfied: zipp>=0.5 in /usr/local/lib/python3.7/dist-packages (from importlib-metadata<3.0.0,>=2.1.1; python_version < \"3.8\"->pyppeteer>=0.0.14->requests-html) (3.4.1)\n",
            "Building wheels for collected packages: fake-useragent, parse\n",
            "  Building wheel for fake-useragent (setup.py) ... \u001b[?25l\u001b[?25hdone\n",
            "  Created wheel for fake-useragent: filename=fake_useragent-0.1.11-cp37-none-any.whl size=13501 sha256=24a1098edf4fafbbebf36773e1c662f629edb743557274a93b2ffc08f8565375\n",
            "  Stored in directory: /root/.cache/pip/wheels/5e/63/09/d1dc15179f175357d3f5c00cbffbac37f9e8690d80545143ff\n",
            "  Building wheel for parse (setup.py) ... \u001b[?25l\u001b[?25hdone\n",
            "  Created wheel for parse: filename=parse-1.19.0-cp37-none-any.whl size=24592 sha256=8e506559bd72fb49cf10a050c9720ad25d4cd5c27a5a40affc768f36c1467a84\n",
            "  Stored in directory: /root/.cache/pip/wheels/c0/39/ea/e2fd678bd130953f5438470b8dfa529f00787e9b8b92b27467\n",
            "Successfully built fake-useragent parse\n",
            "\u001b[31mERROR: pyppeteer 0.2.5 has requirement urllib3<2.0.0,>=1.25.8, but you'll have urllib3 1.24.3 which is incompatible.\u001b[0m\n",
            "Installing collected packages: fake-useragent, parse, w3lib, cssselect, pyquery, tqdm, websockets, importlib-metadata, pyee, pyppeteer, requests-html\n",
            "  Found existing installation: tqdm 4.41.1\n",
            "    Uninstalling tqdm-4.41.1:\n",
            "      Successfully uninstalled tqdm-4.41.1\n",
            "  Found existing installation: importlib-metadata 4.6.0\n",
            "    Uninstalling importlib-metadata-4.6.0:\n",
            "      Successfully uninstalled importlib-metadata-4.6.0\n",
            "Successfully installed cssselect-1.1.0 fake-useragent-0.1.11 importlib-metadata-2.1.1 parse-1.19.0 pyee-8.1.0 pyppeteer-0.2.5 pyquery-1.4.3 requests-html-0.10.0 tqdm-4.61.2 w3lib-1.22.0 websockets-8.1\n",
            "Collecting xlutils\n",
            "\u001b[?25l  Downloading https://files.pythonhosted.org/packages/c7/55/e22ac73dbb316cabb5db28bef6c87044a95914f713a6e81b593f8a0d2f79/xlutils-2.0.0-py2.py3-none-any.whl (55kB)\n",
            "\u001b[K     |████████████████████████████████| 61kB 6.4MB/s \n",
            "\u001b[?25hRequirement already satisfied: xlrd>=0.7.2 in /usr/local/lib/python3.7/dist-packages (from xlutils) (1.1.0)\n",
            "Requirement already satisfied: xlwt>=0.7.4 in /usr/local/lib/python3.7/dist-packages (from xlutils) (1.3.0)\n",
            "Installing collected packages: xlutils\n",
            "Successfully installed xlutils-2.0.0\n"
          ],
          "name": "stdout"
        }
      ]
    },
    {
      "cell_type": "code",
      "metadata": {
        "id": "FXTkqWSUcbFJ",
        "colab": {
          "base_uri": "https://localhost:8080/"
        },
        "outputId": "b1e68261-7a2e-40b6-9312-809b9991ed64"
      },
      "source": [
        "chrome_options = webdriver.ChromeOptions()\n",
        "chrome_options.add_argument('--headless')\n",
        "chrome_options.add_argument('--no-sandbox')\n",
        "chrome_options.add_argument('--disable-dev-shm-usage')\n",
        "wd = webdriver.Chrome('chromedriver',chrome_options=chrome_options)"
      ],
      "execution_count": null,
      "outputs": [
        {
          "output_type": "stream",
          "text": [
            "/usr/local/lib/python3.7/dist-packages/ipykernel_launcher.py:5: DeprecationWarning: use options instead of chrome_options\n",
            "  \"\"\"\n"
          ],
          "name": "stderr"
        }
      ]
    },
    {
      "cell_type": "code",
      "metadata": {
        "id": "6HBykUjAtxa0"
      },
      "source": [
        "#!/usr/bin/env python3\n",
        "import collections\n",
        "from typing import Dict, List\n",
        "from collections import defaultdict\n",
        "from openpyxl.worksheet.worksheet import Worksheet\n",
        "import sys\n",
        "from requests_html import HTMLSession\n",
        "from bs4 import BeautifulSoup\n",
        "import urllib3\n",
        "import requests\n",
        "import openpyxl\n",
        "\n",
        "import re\n",
        "import warnings\n",
        "import requests\n",
        "from openpyxl import load_workbook\n",
        "from datetime import datetime\n",
        "\n",
        "warnings.filterwarnings('ignore')\n",
        "urllib3.disable_warnings()\n",
        "\n",
        "\n",
        "URLS = [\n",
        "    'https://meteoinfo.ru/hdmapsmeteoalarmszfo',\n",
        "    'https://meteoinfo.ru/hdmapsmeteoalarmcfo',\n",
        "    'https://meteoinfo.ru/hdmapsmeteoalarmprfo',\n",
        "    'https://meteoinfo.ru/hdmapsmeteoalarmyugfo',\n",
        "    'https://meteoinfo.ru/hdmapsmeteoalarmyskfo',\n",
        "    'https://meteoinfo.ru/hdmapsmeteoalarmural',\n",
        "    'https://meteoinfo.ru/hdmapsmeteoalarmsyb',\n",
        "    'https://meteoinfo.ru/hdmapsmeteoalarmdv',\n",
        "]\n",
        "\n",
        "HAZARDS_URL = 'https://meteoinfo.ru/hazardsbull'\n",
        "\n",
        "SIZE = 4\n",
        "\n",
        "SHEET_NAME = 'Билет по регионам'\n",
        "\n",
        "REGION_COLUMN = 2\n",
        "\n",
        "FORECAST_COLUMNS = (6, 7, 8, 9)\n",
        "FACTOR_COLUMNS = (10, 11, 12, 13)\n",
        "\n",
        "FORCASTS = (\n",
        "    'Угроза повреждения ЛЭП и линий связи, обрушения слабо укрепленных, широкоформатных, ветхих и рекламных конструкций',\n",
        "    'Угроза выхода из строя систем ЖКХ, городских коммуникаций',\n",
        "    'Угроза затопления населенных пунктов, дорог, мостов',\n",
        "    'Угроза сбоев в работе всех видов транспорта, увеличение количества ДТП',\n",
        "    'Угроза жизни и здоровью населения',\n",
        "    'Увеличение количества травм пешеходов',\n",
        "    'Угроза повреждения населенных пунктов, дорог, мостов'\n",
        ")\n",
        "\n",
        "# INTERCHANGEABLE_FACTORS = [\n",
        "#     {'Ветер', 'Дождь', 'Снег/Обледенение', 'Гроза'},\n",
        "#     {'Заморозки', 'Очень низкая температура'},\n",
        "#     {'Туман', 'Голеледно - изморозевые отложения'},\n",
        "#     {'Пожарная опасность'},\n",
        "#     {'Паводок'},\n",
        "#     {'Очень высокая температура'}\n",
        "# ]\n",
        "\n",
        "FORCAST_MAP = {\n",
        "    'очень высокая температура': set((FORCASTS[4],)),\n",
        "    'очень низкая температура': set((FORCASTS[1], FORCASTS[4])),\n",
        "    'заморозки': set((FORCASTS[1], FORCASTS[4])),\n",
        "    'ветер': set((FORCASTS[0], FORCASTS[1], FORCASTS[4])),\n",
        "    'дождь': set((FORCASTS[0], FORCASTS[1])),\n",
        "    'гроза': set((FORCASTS[0], FORCASTS[1])),\n",
        "    'град': set((FORCASTS[0], FORCASTS[1])),\n",
        "    'паводок': set((FORCASTS[2], FORCASTS[4])),\n",
        "    'наводнение': set((FORCASTS[2], FORCASTS[4])),\n",
        "    'снег/Обледенение': set((FORCASTS[0], FORCASTS[1], FORCASTS[3])),\n",
        "    'голеледно - изморозевые отложения': set((FORCASTS[3], FORCASTS[5])),\n",
        "    'лавины': set((FORCASTS[4], FORCASTS[6])),\n",
        "    'сель': set((FORCASTS[4], FORCASTS[6])),\n",
        "    'прибрежные события': set((FORCASTS[1], FORCASTS[6], FORCASTS[4])),\n",
        "    'пыльная (песчаная) буря': set((FORCASTS[0], FORCASTS[1], FORCASTS[3], FORCASTS[4])),\n",
        "    'туман': set((FORCASTS[3],)),\n",
        "    'пожарная опасность': set((FORCASTS[6], FORCASTS[4])),\n",
        "    'прочие опасности': set(),\n",
        "}\n",
        "\n",
        "DASHBOARD_LABEL_MAP = {\n",
        "    'очень высокая температура': 'Критическое повышение температуры воздуха',\n",
        "    'очень низкая температура': 'Критическое понижение температуры воздуха',\n",
        "    'заморозки': 'Заморозки',\n",
        "    'ветер': 'Сильный ветер',\n",
        "    'дождь': 'Дождь',\n",
        "    'гроза': 'Гроза',\n",
        "    'паводок': 'Паводок, подтопление',\n",
        "    'наводнение': 'Наводнение',\n",
        "    'снег/Обледенение': 'Снегопад, метель',\n",
        "    'голеледно - изморозевые отложения': 'Гололедица',\n",
        "    'лавины': 'Оползни, обвалы, снежные лавины',\n",
        "    'сель': 'Сель',\n",
        "    'прибрежные события': 'Прибрежные события',\n",
        "    'пыльная (песчаная) буря': 'Пыльная (песчаная) буря',\n",
        "    'туман': 'Туман',\n",
        "    'пожарная опасность': 'Пожароопасная обстановка, пожары',\n",
        "    'прочие опасности': 'Прочие опасности',\n",
        "    'град': 'Град или снежный дождь'\n",
        "}\n",
        "\n",
        "FACTORS = FORCAST_MAP.keys()\n",
        "\n",
        "regions_need_to_join = {'саха',\n",
        "                        'магаданская',\n",
        "                        'ямало ненецкий ао',\n",
        "                        'камчатский край',\n",
        "                        'амурская',\n",
        "                        'хабаровский край',\n",
        "                        'чеч',\n",
        "                        'северная осетия',\n",
        "                        'красноярский',\n",
        "                        'моск'}\n",
        "\n",
        "\n",
        "def join_region(region: str) -> str:\n",
        "    if region.startswith('сахалин'):\n",
        "        return 'сахалин'\n",
        "    for reg in regions_need_to_join:\n",
        "        if region.startswith(reg):\n",
        "            return reg\n",
        "    return region\n",
        "\n",
        "\n",
        "def normolize_string(string: str):\n",
        "    string = string.strip().lower().translate({ord('.'): None})\n",
        "    string = ' '.join(string.split('-'))\n",
        "\n",
        "    # remove stop words\n",
        "    stop_words = ['г', 'обл', 'область', 'республика', 'югра', 'ао']\n",
        "    try:\n",
        "        splitted_string = string.split()\n",
        "    except IndexError:\n",
        "        return ''\n",
        "    string = ' '.join(w for w in splitted_string if w not in stop_words)\n",
        "    return join_region(string)\n",
        "\n",
        "\n",
        "def remove_interchangeable_factors(factor_desc_list: list):\n",
        "    factors_set = set()\n",
        "    prev_len_factors_set = 0\n",
        "\n",
        "    for factor_desc in factor_desc_list:\n",
        "        factor = factor_desc[0]\n",
        "        forecast = FORCAST_MAP.get(factor.lower())\n",
        "        if not forecast:\n",
        "            continue\n",
        "        factors_set.update(forecast)\n",
        "        if len(factors_set) == prev_len_factors_set:\n",
        "            factor_desc_list.remove(factor_desc)\n",
        "            return factor_desc_list\n",
        "        prev_len_factors_set = len(factors_set)\n",
        "    return factor_desc_list\n",
        "\n",
        "\n",
        "def analyze_factors(factors_desc: list):\n",
        "    final_forecasts = set()\n",
        "\n",
        "    prev_len = len(factors_desc)\n",
        "    while len(factors_desc) > SIZE:\n",
        "        factors_desc = remove_interchangeable_factors(factors_desc)\n",
        "        if len(factors_desc) == prev_len:  # If nothing has been deleted, means there is no interchangeable factors\n",
        "            factors_desc = factors_desc[:SIZE]\n",
        "        prev_len = len(factors_desc)\n",
        "\n",
        "    for factor, desc in factors_desc:\n",
        "        forecast: set = FORCAST_MAP.get(factor.lower())\n",
        "        if forecast is None:\n",
        "            print(f\"\\x1b[31mНЕИЗВЕСТНЫЙ ФАКТОР \\\"{factor}\\\"\\x1b[0m\")\n",
        "            continue\n",
        "        final_forecasts.update(forecast)\n",
        "\n",
        "    while len(final_forecasts) > SIZE:\n",
        "        final_forecasts.pop()\n",
        "\n",
        "    return final_forecasts, set(factors_desc)\n",
        "\n",
        "\n",
        "def factor_mapping(factor: str, description: str):\n",
        "    dashboard_factor = DASHBOARD_LABEL_MAP.get(factor.lower())\n",
        "    if dashboard_factor == 'Дождь':\n",
        "        for word in description.split():\n",
        "            if word.startswith('сильн') or word.startswith('лив'):\n",
        "                dashboard_factor = 'Сильный дождь, ливневой дождь'\n",
        "                break\n",
        "    return dashboard_factor\n",
        "\n",
        "def fill_excel_regions_weather(ws: Worksheet, regions: dict):\n",
        "    for row in range(2, ws.max_row + 1):\n",
        "        name = ws.cell(row=row, column=REGION_COLUMN).value\n",
        "        if not name:\n",
        "            continue\n",
        "\n",
        "        name = normolize_string(name)\n",
        "        factors_desc = regions.get(name)\n",
        "\n",
        "        if not factors_desc: # if there is no forecast for the region\n",
        "            # print(name)\n",
        "            continue\n",
        "\n",
        "        forecasts, factors_desc = analyze_factors(factors_desc)\n",
        "        for column, forecast in zip(FORECAST_COLUMNS, forecasts):\n",
        "            ws.cell(row=row, column=column).value = forecast\n",
        "\n",
        "        for column, factor_desc in zip(FACTOR_COLUMNS, factors_desc):\n",
        "            factor = factor_desc[0]\n",
        "            desc = factor_desc[1]\n",
        "            ws.cell(row=row, column=column).value = factor_mapping(factor, desc)\n",
        "\n",
        "\n",
        "def get_hazards(url: str):\n",
        "    session = HTMLSession(browser_args=[\"--proxy-server=201.249.161.51:999\"])\n",
        "    response = session.get(url, verify=False)\n",
        "    rows = response.html.find('#div_1', first=True).xpath('*/table/tbody/tr')\n",
        "    row_data = rows[1].xpath('//p', first=True)\n",
        "    print(row_data.text)\n",
        "\n",
        "\n",
        "def parse_description(factor_list: list, region_factor_desc: str):\n",
        "    for word in re.split(';|,|\\.| ', region_factor_desc):\n",
        "        # try:\n",
        "        #     factors = list(zip(*factor_list))[0]\n",
        "        # except IndexError:\n",
        "        #     factors = []\n",
        "        if (word.lower().startswith('дожд') or word.lower().startswith('лив')):\n",
        "            factor_list.append(('Дождь', region_factor_desc))\n",
        "        elif word.lower().startswith('гроз'):\n",
        "            factor_list.append(('Гроза', region_factor_desc))\n",
        "        elif word.lower().startswith('град'):\n",
        "            factor_list.append(('Град', region_factor_desc))\n",
        "        elif (word.lower().startswith('шквал') or word.lower().startswith('вет')):\n",
        "            factor_list.append(('Ветер', region_factor_desc))\n",
        "\n",
        "\n",
        "def get_regions(urls: List[str]) -> Dict:\n",
        "    # factors = defaultdict(list)\n",
        "    # descriptions = defaultdict(list)\n",
        "    regions = defaultdict(list)\n",
        "    for url in urls:\n",
        "        wd.get(url)\n",
        "        hours24_button = wd.find_element_by_id(hours_button_id)\n",
        "        hours24_button.click()\n",
        "        for row in wd.find_elements_by_xpath('//div[@class=\"test\"]'):\n",
        "            try:\n",
        "                row_data_bs = BeautifulSoup(row.get_attribute('data-original-title'),\n",
        "                                            features='lxml')\n",
        "            except:\n",
        "                print('error')\n",
        "                continue  # if raw_data is None\n",
        "            region_name = normolize_string(row_data_bs.find(class_='cl_tbl_obl_name_tooltip').text)\n",
        "            region_factor = row_data_bs.find(class_='cl_tbl_tooltip_text').find('b').text.strip('. ')\n",
        "            region_factor_desc = '.'.join(row_data_bs.find(class_='cl_tbl_tooltip_text').text.split('.')[1:]).strip()\n",
        "\n",
        "            if (region_factor == 'КМЯ' or region_factor == 'Прочие опасности'):\n",
        "                parse_description(regions[region_name], region_factor_desc)\n",
        "                # print(regions[region_name], region_factor)\n",
        "                continue\n",
        "\n",
        "            \n",
        "\n",
        "            try:\n",
        "                factors = list(zip(*regions[region_name]))[0]\n",
        "            except IndexError:\n",
        "                factors = []\n",
        "\n",
        "            if region_factor != '':\n",
        "                regions[region_name].append((region_factor, region_factor_desc))\n",
        "\n",
        "    return regions\n"
      ],
      "execution_count": null,
      "outputs": []
    },
    {
      "cell_type": "code",
      "metadata": {
        "id": "zCyljPOMTcCJ"
      },
      "source": [
        "def fill_excel_covid_rt(ws: Worksheet):\n",
        "    obl_pattern = re.compile(r'\\bобл\\.', re.IGNORECASE)\n",
        "    ao_pattern = re.compile(r'(?<!Еврейская)\\bао\\b', re.IGNORECASE)\n",
        "    gorod_pattern = re.compile(r'\\bг\\.', re.IGNORECASE)\n",
        "    strange_pattern = re.compile(r'[—]')\n",
        "\n",
        "    url = 'https://yastat.net/s3/milab/2020/covid19-stat/data/v10/deep_data.json?v=1618916098074'\n",
        "    sheet = 'Билет по регионам'\n",
        "\n",
        "    json_dict = requests.get(url, verify=False).json()\n",
        "\n",
        "    region_rt_dict = {strange_pattern.sub('-', x['info']['name'].lower()): x['info'].get('rt') for x in json_dict['russia_stat_struct']['data'].values()}\n",
        "    region_rt_dict_short_name = {strange_pattern.sub('-', x['info']['short_name'].lower()): x['info'].get('rt') for x in json_dict['russia_stat_struct']['data'].values()}\n",
        "\n",
        "    for row in range(2, ws.max_row + 1):\n",
        "        # print(ws.cell(row=row, column=2).value)\n",
        "        key = ws.cell(row=row, column=2).value.lower()\n",
        "\n",
        "        key = obl_pattern.sub('область', key).strip()\n",
        "        key = gorod_pattern.sub('', key).strip()\n",
        "\n",
        "        value = region_rt_dict_short_name.get(key, region_rt_dict.get(ao_pattern.sub('автономный округ', key).strip()))\n",
        "\n",
        "        ws.cell(row=row, column=3).value = round(value, 2) if value else value"
      ],
      "execution_count": null,
      "outputs": []
    },
    {
      "cell_type": "code",
      "metadata": {
        "id": "r6xO9pfFRvQn"
      },
      "source": [
        "# import xlrd\n",
        "# from openpyxl.workbook import Workbook\n",
        "# from openpyxl.reader.excel import load_workbook, InvalidFileException\n",
        "\n",
        "# def open_xls_as_xlsx(filename):\n",
        "#     # first open using xlrd\n",
        "#     book = xlrd.open_workbook(filename)\n",
        "#     index = 0\n",
        "#     nrows, ncols = 0, 0\n",
        "#     while nrows * ncols == 0:\n",
        "#         sheet = book.sheet_by_index(index)\n",
        "#         nrows = sheet.nrows\n",
        "#         ncols = sheet.ncols\n",
        "#         index += 1\n",
        "\n",
        "#     # prepare a xlsx sheet\n",
        "#     book1 = Workbook()\n",
        "#     sheet1 = book1.get_active_sheet()\n",
        "\n",
        "#     for row in range(1, nrows):\n",
        "#         for col in range(1, ncols):\n",
        "#             sheet1.cell(row=row, column=col).value = sheet.cell_value(row, col)\n",
        "\n",
        "#     return book1"
      ],
      "execution_count": null,
      "outputs": []
    },
    {
      "cell_type": "code",
      "metadata": {
        "id": "2jsylEB0SMYn"
      },
      "source": [
        "# import openpyxl\n",
        "# from xlrd import open_workbook\n",
        "# from xlutils.copy import copy\n",
        "# from io import BytesIO\n",
        "\n",
        "\n",
        "# def save_xls(Wb_xlsx):\n",
        "#     buffer = BytesIO()\n",
        "#     Wb_xlsx.save(buffer) # xlsx format save\n",
        "#     wb_xls = copy(open_workbook(file_contents=buffer.getvalue()))\n",
        "#     wb_xls.save('a.xls')"
      ],
      "execution_count": null,
      "outputs": []
    },
    {
      "cell_type": "code",
      "metadata": {
        "id": "gmUjEPCSYPG8"
      },
      "source": [
        "def clear_table(ws: Worksheet):\n",
        "    for row in range(2, ws.max_row + 1):\n",
        "        for column in (FORECAST_COLUMNS + FACTOR_COLUMNS + (3,)):\n",
        "            ws.cell(row=row, column=column).value = None"
      ],
      "execution_count": null,
      "outputs": []
    },
    {
      "cell_type": "code",
      "metadata": {
        "id": "SsX-uJF4O5r0"
      },
      "source": [
        "\n",
        "\n",
        "def main(filename: str):\n",
        "    wb = openpyxl.load_workbook(filename)\n",
        "    ws = wb[SHEET_NAME]\n",
        "\n",
        "    clear_table(ws)\n",
        "    fill_excel_covid_rt(ws=ws)\n",
        "    regions = get_regions(urls=URLS)\n",
        "    print(regions)\n",
        "    # remove duplicate factors\n",
        "    for region in regions:\n",
        "        factors = regions[region]\n",
        "        final_list = []\n",
        "        for factor in factors:\n",
        "            try:\n",
        "                unique_factors = list(zip(*final_list))[0]\n",
        "            except:\n",
        "                unique_factors = []\n",
        "            if factor[0] not in unique_factors:\n",
        "                final_list.append(factor)\n",
        "        regions[region] = final_list\n",
        "\n",
        "\n",
        "    fill_excel_regions_weather(ws=ws, regions=regions)\n",
        "    get_hazards(HAZARDS_URL)\n",
        "\n",
        "    today = datetime.today().strftime(\"%d-%m-%Y\")\n",
        "    splitted_filename = filename.split('.')\n",
        "    splitted_filename[0] = f'{splitted_filename[0]}_{today}_{hours}'\n",
        "    output_file_name = '.'.join(splitted_filename)\n",
        "    wb.save(output_file_name)\n",
        "    return output_file_name"
      ],
      "execution_count": null,
      "outputs": []
    },
    {
      "cell_type": "markdown",
      "metadata": {
        "id": "mywhIDYNDEjr"
      },
      "source": [
        "# Результат"
      ]
    },
    {
      "cell_type": "code",
      "metadata": {
        "colab": {
          "base_uri": "https://localhost:8080/"
        },
        "id": "z9d0cqvGTd42",
        "outputId": "425ab31d-7067-4048-df64-5e023b49a341"
      },
      "source": [
        "out_file = main(filename)"
      ],
      "execution_count": null,
      "outputs": [
        {
          "output_type": "stream",
          "text": [
            "defaultdict(<class 'list'>, {'архангельская': [('Пожарная опасность', 'Период предупреждения до 21 ч. 12 июля местами 5 класс пожароопасности (более 3000 градусов по формуле Нестерова)'), ('Ветер', 'Период предупреждения до 21 ч. 12 июля при грозе порывы 15-20 м/с'), ('Гроза', 'Период предупреждения до 21 ч. 12 июля местами гроза')], 'вологодская': [('Очень высокая температура', 'Период предупреждения до 21 ч. 13 июля местами температура +30 градусов и более; аномально-жаркая погода'), ('Гроза', 'Период предупреждения с 21 ч. 12 июля до 21 ч. 13 июля Местами гроза'), ('Пожарная опасность', 'Период предупреждения до 21 ч. 13 июля местами пожароопасность 4 кл.')], 'калининградская': [], 'ленинградская': [('Пожарная опасность', 'Период предупреждения до 13 ч. 13 июля местами 4 класс'), ('Очень высокая температура', 'Период предупреждения до 13 ч. 13 июля аномально жаркая погода с отклонением среднесуточной температуры воздуха на 7-10 гр.от климатической нормы, местами по области +35 гр. и выше.')], 'мурманская': [('Пожарная опасность', 'Период предупреждения до 21 ч. 12 июля Местами 5 региональный класс пожарной опасности.'), ('Гроза', 'Период предупреждения до 21 ч. 12 июля В отдельных районах грозы')], 'ненецкий': [('Ветер', 'Период предупреждения до 21 ч. 12 июля местами порывы 17-22 м/с, 12 июля местами порывы 15-17 м/с')], 'новая земля': [('Ветер', 'Период предупреждения до 21 ч. 12 июля местами порывы 18-23 м/с')], 'новгородская': [('Очень высокая температура', 'Период предупреждения до 21 ч. 12 июля аномально жаркая погода'), ('Пожарная опасность', 'Период предупреждения до 21 ч. 12 июля высокая пожароопасность, местами чрезвычайная')], 'псковская': [('Пожарная опасность', 'Период предупреждения до 00 ч. 13 июля местами по области чрезвычайная пожарная опасность'), ('Очень высокая температура', 'Период предупреждения до 00 ч. 13 июля аномально-жаркая погода')], 'карелия': [('Очень высокая температура', 'Период предупреждения до 21 ч. 12 июля В большинстве районов республики аномально жаркая погода среднесуточная температура воздуха на 7-10гр выше климатической нормы'), ('Пожарная опасность', 'Период предупреждения до 21 ч. 12 июля В Суоярвском районе чрезвычайная пожарная опасность 5 класса'), ('Гроза', 'Период предупреждения до 21 ч. 12 июля местами по республики')], 'коми': [('Пожарная опасность', 'Период предупреждения до 21 ч. 12 июля местами 5 класс пожароопасности (более 3000 градусов по формуле Нестерова)')], 'санкт петербург': [('Пожарная опасность', 'Период предупреждения до 13 ч. 13 июля высокая пожароопасность 4 класс'), ('Очень высокая температура', 'Период предупреждения до 13 ч. 13 июля аномально жаркая погода')], 'белгородская': [('Очень высокая температура', 'Период предупреждения с 12 ч. 12 июля до 19 ч. 12 июля +28...+33'), ('Пожарная опасность', 'Период предупреждения до 21 ч. 12 июля местами 4 класс пожарной опасности')], 'брянская': [('Очень высокая температура', 'Период предупреждения с 12 ч. 12 июля до 19 ч. 12 июля +28...+33')], 'владимирская': [('Очень высокая температура', 'Период предупреждения до 12 ч. 13 июля жара - максимальная температура воздуха +30...+33 градуса')], 'воронежская': [('Очень высокая температура', 'Период предупреждения с 12 ч. 12 июля до 19 ч. 12 июля +28...+33'), ('Пожарная опасность', 'Период предупреждения до 21 ч. 12 июля местами 5 класс пожарной опасности')], 'ивановская': [('Пожарная опасность', 'Период предупреждения до 17 ч. 13 июля высокая пожароопасность пятого класс в Кинешемском районе')], 'калужская': [('Очень высокая температура', 'Период предупреждения до 16 ч. 12 июля Местами жара')], 'костромская': [('Пожарная опасность', 'Период предупреждения до 10 ч. 13 июля по Костромской области местами чрезвычайно высокая пожароопасность 5 класс')], 'курская': [('Очень высокая температура', 'Период предупреждения с 12 ч. 12 июля до 19 ч. 12 июля +28...+33'), ('Пожарная опасность', 'Период предупреждения до 21 ч. 12 июля местами 4 класс пожарной опасности')], 'липецкая': [('Очень высокая температура', 'Период предупреждения с 12 ч. 12 июля до 19 ч. 12 июля +28...+33')], 'моск': [('Очень высокая температура', 'Период предупреждения с 12 ч. 12 июля до 19 ч. 12 июля Очень высокая температура. Аномально-жаркая погода температура выше нормы на 7 и более градусов.'), ('Очень высокая температура', 'Период предупреждения до 21 ч. 12 июля Аномально-жаркая погода температура выше нормы на 7 и более градусов'), ('Пожарная опасность', 'Период предупреждения до 09 ч. 13 июля Местами высокая пожароопасность - 4класс')], 'орловская': [('Очень высокая температура', 'Период предупреждения с 12 ч. 12 июля до 19 ч. 12 июля +28...+33')], 'рязанская': [('Пожарная опасность', 'Период предупреждения до 10 ч. 14 июля Местами высокая пожарная опасность(4 класс), в отдельных районах чрезвычайная пожарная опасность(5 класс)'), ('Очень высокая температура', 'Период предупреждения до 10 ч. 14 июля Жара')], 'смоленская': [('Очень высокая температура', 'Период предупреждения с 12 ч. 12 июля до 19 ч. 12 июля Днём местами +30...+33')], 'тамбовская': [('Очень высокая температура', 'Период предупреждения с 12 ч. 12 июля до 19 ч. 12 июля +28...+33')], 'тверская': [('Очень высокая температура', 'Период предупреждения до 08 ч. 14 июля Очень высокая температура. Аномально-жаркая погода температура выше нормы на 7 и более градусов.')], 'тульская': [('Очень высокая температура', 'Период предупреждения с 12 ч. 12 июля до 21 ч. 12 июля +28...+33'), ('Очень высокая температура', 'Период предупреждения до 12 ч. 12 июля жара 30-32 град'), ('Очень высокая температура', 'Период предупреждения с 21 ч. 12 июля до 06 ч. 14 июля жара 30-32 град')], 'ярославская': [('Пожарная опасность', 'Период предупреждения до 13 ч. 13 июля Даниловский район 5 класс пожарной опасности.'), ('Очень высокая температура', 'Период предупреждения до 13 ч. 13 июля местами жара')], 'кировская': [('Пожарная опасность', 'Период предупреждения до 18 ч. 12 июля местами чрезвычайная и высокая пожароопасность лесов')], 'марий эл': [], 'нижегородская': [('Пожарная опасность', 'Период предупреждения до 18 ч. 12 июля местами чрезвычайная и высокая пожароопасность лесов'), ('Очень высокая температура', 'Период предупреждения до 18 ч. 12 июля местами жара')], 'оренбургская': [('Пожарная опасность', 'Период предупреждения до 14 ч. 15 июля В период с 09.07.21г. по 15.07.21г.местами по области сохранится чрезвычайная пожарная опасность - 5 класс.'), ('Ветер', 'Период предупреждения до 20 ч. 12 июля местами порывы 15-17 м/с')], 'пензенская': [('Очень высокая температура', 'Период предупреждения с 12 ч. 12 июля до 18 ч. 12 июля Местами жара 30 градус'), ('Пожарная опасность', 'Период предупреждения с 12 ч. 12 июля до 12 ч. 14 июля Высокая пожарная опасность лесов (4 класс)')], 'пермский край': [], 'башкортостан': [('Пожарная опасность', 'Период предупреждения до 20 ч. 13 июля в южных районах республики ожидается чрезвычайный класс пожароопасности'), ('Ветер', 'Период предупреждения до 20 ч. 12 июля местами порывы до 17 м/с.')], 'мордовия': [('Пожарная опасность', 'Период предупреждения до 18 ч. 12 июля местами чрезвычайная и высокая пожароопасность'), ('Очень высокая температура', 'Период предупреждения до 18 ч. 12 июля местами жара')], 'татарстан': [('Пожарная опасность', 'Период предупреждения до 23 ч. 12 июля В период с 6 по 12 июля 2021 г. в Республике Татарстан местами в крайних восточных районах сохранится чрезвычайная пожарная опасность лесов (5 класс), местами по республике ожидается высокая пожарная опасность (4 класс).'), ('Ветер', 'Период предупреждения до 20 ч. 12 июля Днем 11 июля местами порывами 15-17 м/с. Днем 12 июля местами порывы до 16 м/с.')], 'самарская': [('Пожарная опасность', 'Период предупреждения до 22 ч. 13 июля Местами высокая и чрезвычайная пожарная опасность'), ('Очень высокая температура', 'Период предупреждения до 19 ч. 13 июля Местами максимальные температуры +30...+31 градус')], 'саратовская': [('Пожарная опасность', 'Период предупреждения до 14 ч. 12 июля В период с 08.07.2021 г. по 12.07.2021 г. ожидается чрезвычайная пожарная опасность - 5 класс.')], 'удмуртская': [('Ветер', 'Период предупреждения до 19 ч. 12 июля Местами сильный ветер'), ('Пожарная опасность', 'Период предупреждения до 19 ч. 12 июля местами высокая пожароопасность')], 'ульяновская': [('Пожарная опасность', 'Период предупреждения до 11 ч. 14 июля местами высокая пожарная опасность 4 класса, по востоку чрезвычайная пожарная опасность 5 класса')], 'чувашская': [('Пожарная опасность', 'Период предупреждения до 18 ч. 12 июля местами высокая пожароопасность')], 'астраханская': [('Пожарная опасность', 'Период предупреждения до 11 ч. 14 июля 12-14.07 в южном Володарском районе сохранится, в г. Астрахани и большинстве южных районов области ожидается чрезвычайная пожароопасность. В северных и центральных районах сохранится высокая пожароопасность.')], 'волгоградская': [('Пожарная опасность', 'Период предупреждения до 18 ч. 12 июля в южных районах, в отдельных северных районах чрезвычайная пожароопасность')], 'краснодарский край': [('Пожарная опасность', 'Период предупреждения до 14 ч. 13 июля Местами в северо-восточных районах края сохраняется черезвычайная пожароопасность (ЧПО) 5 класса (ОЯ)'), ('Гроза', 'Период предупреждения до 09 ч. 14 июля местами в крае гроза')], 'крым, горные районы': [('Град', 'Период предупреждения до 09 ч. 13 июля местами крупный град, шквал 20-25 м/с.'), ('Ветер', 'Период предупреждения до 09 ч. 13 июля местами крупный град, шквал 20-25 м/с.'), ('Дождь', 'Период предупреждения до 09 ч. 13 июля местами сильные ливни'), ('Гроза', 'Период предупреждения до 09 ч. 13 июля местами гроза')], 'крым, предгорные районы': [('Град', 'Период предупреждения до 09 ч. 13 июля местами крупный град, шквал 20-25 м/с'), ('Ветер', 'Период предупреждения до 09 ч. 13 июля местами крупный град, шквал 20-25 м/с'), ('Дождь', 'Период предупреждения до 09 ч. 13 июля местами сильный ливень'), ('Гроза', 'Период предупреждения до 09 ч. 13 июля местами гроза')], 'крым, степные районы': [('Град', 'Период предупреждения до 09 ч. 13 июля местами крупный град, шквал 20-25 м/с.'), ('Ветер', 'Период предупреждения до 09 ч. 13 июля местами крупный град, шквал 20-25 м/с.'), ('Дождь', 'Период предупреждения до 09 ч. 13 июля местами сильные ливни'), ('Гроза', 'Период предупреждения до 09 ч. 13 июля местами гроза')], 'крым, южное побережье': [('Дождь', 'Период предупреждения до 09 ч. 13 июля местами сильные ливни'), ('Град', 'Период предупреждения до 09 ч. 13 июля местами крупный град, шквал 20-25 м/с.'), ('Ветер', 'Период предупреждения до 09 ч. 13 июля местами крупный град, шквал 20-25 м/с.'), ('Гроза', 'Период предупреждения до 07 ч. 13 июля местами гроза')], 'адыгея': [], 'калмыкия': [('Пожарная опасность', 'Период предупреждения до 09 ч. 14 июля Чрезвычайная пожарная опасность 5 класса в юго-восточных районах (Черноземельский, Лаганский районы). Высокая пожарная опасность 4 класса на остальной территории Калмыкии и в Элисте.')], 'ростовская': [('Пожарная опасность', 'Период предупреждения до 15 ч. 13 июля Чрезвычайная пожароопасность (5 класс) местами в северо-восточных районах области.'), ('Гроза', 'Период предупреждения до 21 ч. 12 июля местами грозы'), ('Ветер', 'Период предупреждения до 21 ч. 12 июля при грозе местами порывы 15-18 м/с')], 'сочи': [], 'кабардино балкарская': [('Гроза', 'Период предупреждения до 06 ч. 14 июля гроза')], 'карачаево черкесская': [('Гроза', 'Период предупреждения до 08 ч. 14 июля гроза')], 'дагестан': [('Ветер', 'Период предупреждения с 18 ч. 12 июля до 18 ч. 13 июля При грозах шквалистое усиление ветра до 15 м/с.'), ('Гроза', 'Период предупреждения до 18 ч. 13 июля В горных районах местами грозы.'), ('Пожарная опасность', 'Период предупреждения до 18 ч. 13 июля местами по низменным районам высокая пожароопасность (4 кл.).')], 'ингушетия': [('Гроза', 'Период предупреждения с 12 ч. 12 июля до 20 ч. 12 июля гроза')], 'северная осетия': [('Гроза', 'Период предупреждения до 18 ч. 12 июля гроза')], 'ставропольский край': [('Пожарная опасность', 'Период предупреждения до 18 ч. 12 июля В северной части и юго-восточных районах местами высокая пожароопасность (4 класс).')], 'чеч': [('Гроза', 'Период предупреждения с 12 ч. 12 июля до 20 ч. 12 июля гроза')], 'курганская': [('Пожарная опасность', 'Период предупреждения до 20 ч. 12 июля В большинстве районов области сохраняется высокая и чрезвычайная пожарная опасность (4 и 5 класс горимости леса по шкале Нестерова)'), ('Ветер', 'Период предупреждения до 20 ч. 13 июля Местами порывы до 14 м/с'), ('Туман', 'Период предупреждения с 20 ч. 12 июля до 08 ч. 13 июля Ночью местами туман')], 'свердловская': [], 'тюменская': [('Ветер', 'Период предупреждения с 20 ч. 12 июля до 20 ч. 13 июля в отдельных районах порывы до 18 м/с'), ('Гроза', 'Период предупреждения до 20 ч. 12 июля гроза'), ('Дождь', 'Период предупреждения до 20 ч. 13 июля в юго-восточных районах сильный дождь')], 'ханты мансийский': [], 'челябинская': [('Ветер', 'Период предупреждения до 20 ч. 13 июля Местами порывы до 16 м/с')], 'ямало ненецкий ао': [('Ветер', 'Период предупреждения до 23 ч. 12 июля местами порывы 15-18 м/с')], 'алтайский край': [('Ветер', 'Период предупреждения до 19 ч. 12 июля при грозах местами порывы до 20 м/с'), ('Гроза', 'Период предупреждения до 12 ч. 14 июля местами грозы'), ('Пожарная опасность', 'Период предупреждения до 12 ч. 14 июля Местами высокая пожароопасность (4 класс горимости)'), ('Дождь', 'Период предупреждения до 19 ч. 12 июля местами по югу сильные и очень сильные дожди')], 'иркутская': [('Пожарная опасность', 'Период предупреждения до 11 ч. 14 июля 13-15 июля местами по области ожидается высокая 4 класса и чрезвычайная 5 класса пожароопасность лесов'), ('Туман', 'Период предупреждения с 03 ч. 13 июля до 10 ч. 13 июля 13 июля утром местами по области туман'), ('Гроза', 'Период предупреждения до 20 ч. 13 июля 12-13 июля местами по области грозы')], 'кемеровская': [('Дождь', 'Период предупреждения до 19 ч. 12 июля в горах местами сильные дожди'), ('Гроза', 'Период предупреждения до 16 ч. 12 июля местами грозы'), ('Гроза', 'Период предупреждения с 19 ч. 12 июля до 19 ч. 13 июля местами грозы'), ('Пожарная опасность', 'Период предупреждения до 16 ч. 12 июля местамип по югу высокая пожароопасность( 4 класс)'), ('Град', 'Период предупреждения до 19 ч. 12 июля по югу местами град')], 'красноярский': [('Ветер', 'Период предупреждения до 01 ч. 13 июля Местами порывы 15-20 м/с'), ('Гроза', 'Период предупреждения до 19 ч. 12 июля на юге грозы'), ('Гроза', 'Период предупреждения до 19 ч. 12 июля местами грозы'), ('Гроза', 'Период предупреждения до 19 ч. 12 июля местами грозы'), ('Туман', 'Период предупреждения с 19 ч. 12 июля до 07 ч. 13 июля местами туман'), ('Гроза', 'Период предупреждения до 19 ч. 13 июля местами грозы')], 'новосибирская': [('Туман', 'Период предупреждения с 01 ч. 13 июля до 08 ч. 13 июля Утром местами туманы'), ('Гроза', 'Период предупреждения до 12 ч. 14 июля местами грозы'), ('Пожарная опасность', 'Период предупреждения до 12 ч. 14 июля местами высокая пожароопасность (4класса)')], 'омская': [('Гроза', 'Период предупреждения до 11 ч. 14 июля местами по области'), ('Ветер', 'Период предупреждения до 21 ч. 12 июля Местами порывы 15-20 м/с')], 'алтай': [('Пожарная опасность', 'Период предупреждения до 21 ч. 13 июля в Кош-Агачском районе чрезвычайная (5 класса) пожароопасность')], 'тыва': [('Пожарная опасность', 'Период предупреждения до 12 ч. 14 июля местами высокая и чрезвычайная пожарная опасность 4 и 5 класса'), ('Ветер', 'Период предупреждения до 19 ч. 13 июля при грозах порывы ветра 15-20 м/с'), ('Гроза', 'Период предупреждения до 19 ч. 13 июля местами грозы'), ('Дождь', 'Период предупреждения с 19 ч. 12 июля до 07 ч. 13 июля местами сильные дожди')], 'хакасия': [('Дождь', 'Период предупреждения до 19 ч. 12 июля в горах дожди, местами сильные дожди'), ('Гроза', 'Период предупреждения до 19 ч. 13 июля местами грозы')], 'томская': [('Гроза', 'Период предупреждения до 07 ч. 14 июля Местами грозы.')], 'амурская': [('Дождь', 'Период предупреждения с 21 ч. 12 июля до 09 ч. 13 июля местами сильный'), ('Гроза', 'Период предупреждения до 21 ч. 13 июля местами'), ('Ветер', 'Период предупреждения с 21 ч. 12 июля до 21 ч. 13 июля шквалистое усиление при грозе 15-20 м/с'), ('Гроза', 'Период предупреждения до 21 ч. 13 июля местами'), ('Дождь', 'Период предупреждения с 21 ч. 12 июля до 21 ч. 13 июля местами сильный')], 'еврейская': [], 'забайкальский край': [('Пожарная опасность', 'Период предупреждения до 21 ч. 13 июля в Сретенсокм, Могочинском, Тунгиро-Олекминском районах высокий класс пожарной опасности'), ('Гроза', 'Период предупреждения до 21 ч. 12 июля местами грозы')], 'камчатский край': [], 'курильские острова, север': [], 'курильские острова, юг': [('Туман', 'Период предупреждения до 20 ч. 13 июля местами')], 'магаданская': [('Ветер', 'Период предупреждения до 20 ч. 12 июля днем 12 июля местами в континентальных районах области ожидается ветер 15-20 м/с'), ('Пожарная опасность', 'Период предупреждения до 08 ч. 14 июля Местами в континентальных районах области сохраняется высокая и чрезвычайная пожарная опасность.'), ('Туман', 'Период предупреждения с 20 ч. 12 июля до 20 ч. 13 июля 13 июля на охотском побережье ожидается местами туман')], 'приморский край': [('Гроза', 'Период предупреждения до 19 ч. 12 июля Местами грозы')], 'бурятия': [('Гроза', 'Период предупреждения до 20 ч. 13 июля местами гроза')], 'саха': [('Пожарная опасность', 'Период предупреждения до 13 ч. 14 июля в Оймяконском, Момском, Верхнеколымском районах чрезвычайно высокий 5 класс пожароопасности леса.'), ('Дождь', 'Период предупреждения до 02 ч. 13 июля на средней Индигирке местами ливни'), ('Пожарная опасность', 'Период предупреждения до 13 ч. 14 июля в Мирнинском, Олекминском высокий 4 класс пожароопасности'), ('Гроза', 'Период предупреждения до 13 ч. 14 июля местами грозы, при грозах порывы 15-20 м/с'), ('Пожарная опасность', 'Период предупреждения до 13 ч. 14 июля в Намском, Горном, Усть-Алданском, Томпонском районах чрезвычайно высокий 5 класс пожароопасности леса. В Усть-Майском высокий 4 класс пожароопасности леса.'), ('Дождь', 'Период предупреждения до 13 ч. 14 июля местами ливни'), ('Гроза', 'Период предупреждения до 13 ч. 14 июля местами грозы, при грозах порывы до 15-20 м/с'), ('Пожарная опасность', 'Период предупреждения до 02 ч. 13 июля на севере Алданского высокий 4 класс пожароопасности леса')], 'сахалин': [('Пожарная опасность', 'Период предупреждения до 20 ч. 13 июля в Охинском и Тымовском районах')], 'хабаровский край': [('Гроза', 'Период предупреждения до 20 ч. 12 июля местами грозы'), ('Дождь', 'Период предупреждения до 20 ч. 12 июля местами ливни')], 'чукотский': [('Пожарная опасность', 'Период предупреждения до 21 ч. 13 июля в континентальной части наблюдается 4 класс пожарной опасности'), ('Ветер', 'Период предупреждения до 21 ч. 13 июля на побережье в/сибирского моря порывы 15-20 м/с'), ('Туман', 'Период предупреждения до 21 ч. 13 июля на побережье местами туман')]})\n",
            "Северо-Западный федеральный округ. 12 июля в Псковской, Новгородской, 12-15 июля в Вологодской областях аномально жаркая погода. 13-14 июля в Калининградской области ливневый дождь, гроза.\n",
            "Центральный федеральный округ. 12-14 июля в Московской, Тверской, Брянской, Курской областях аномально жаркая погода. В Москве 12-14 июля сильная жара (максимальная температура до 34°), 12-15 июля аномально жаркая погода.\n",
            "Приволжский федеральный округ. 14 июля в Татарстане сильный дождь, гроза, град, ветер 15-20 м/с.\n",
            "Южный федеральный округ. 12 июля в Краснодарском крае сильная жара (максимальная температура до 39°). 12-13 июля в Крыму сильный ливневый дождь, гроза, крупный град, ветер 20-25 м/с.\n",
            "Уральский федеральный округ. 12-13 июля на юге Тюменской области сильный дождь, 12 июля гроза, 13 июля ветер 15-20 м/с.\n",
            "Сибирский федеральный округ. 12 июля в Кемеровской области сильный дождь, гроза, град. В Алтайском крае и Республике Алтай сильный и очень сильный дождь, сильный ливневый дождь, гроза, град, ветер до 20 м/с. 12-14 июля в Омской области сильный дождь, гроза, 13-14 июля град, ветер 16-21 м/с. 13 июля в Тыве сильный дождь, гроза, ветер 15-20 м/с. 14 июля в Иркутской области, 15 июля в Хакасии сильный дождь, гроза.\n",
            "Дальневосточный федеральный округ. 12 июля на севере Хабаровского края ливневый дождь, гроза. На побережье Чукотского автономного округа ветер 25-30 м/с. В Амурской области 13-14 июля очень сильный дождь, сильный ливневый дождь, гроза, ветер 15-20 м/с, 15 июля ливневый дождь. 14-15 июля в Бурятии и Забайкальском крае сильный дождь, гроза. На севере Якутии дождь, ветер 16-21 м/с. В Камчатском крае дождь (15 июля сильный), ветер 15-20 м/с.\n"
          ],
          "name": "stdout"
        }
      ]
    },
    {
      "cell_type": "code",
      "metadata": {
        "id": "Wkw8DZF7-lb3",
        "colab": {
          "base_uri": "https://localhost:8080/",
          "height": 17
        },
        "outputId": "ca3b9070-a4af-4b05-84d7-1c2f9be5b174"
      },
      "source": [
        "files.download(out_file)"
      ],
      "execution_count": null,
      "outputs": [
        {
          "output_type": "display_data",
          "data": {
            "application/javascript": [
              "\n",
              "    async function download(id, filename, size) {\n",
              "      if (!google.colab.kernel.accessAllowed) {\n",
              "        return;\n",
              "      }\n",
              "      const div = document.createElement('div');\n",
              "      const label = document.createElement('label');\n",
              "      label.textContent = `Downloading \"${filename}\": `;\n",
              "      div.appendChild(label);\n",
              "      const progress = document.createElement('progress');\n",
              "      progress.max = size;\n",
              "      div.appendChild(progress);\n",
              "      document.body.appendChild(div);\n",
              "\n",
              "      const buffers = [];\n",
              "      let downloaded = 0;\n",
              "\n",
              "      const channel = await google.colab.kernel.comms.open(id);\n",
              "      // Send a message to notify the kernel that we're ready.\n",
              "      channel.send({})\n",
              "\n",
              "      for await (const message of channel.messages) {\n",
              "        // Send a message to notify the kernel that we're ready.\n",
              "        channel.send({})\n",
              "        if (message.buffers) {\n",
              "          for (const buffer of message.buffers) {\n",
              "            buffers.push(buffer);\n",
              "            downloaded += buffer.byteLength;\n",
              "            progress.value = downloaded;\n",
              "          }\n",
              "        }\n",
              "      }\n",
              "      const blob = new Blob(buffers, {type: 'application/binary'});\n",
              "      const a = document.createElement('a');\n",
              "      a.href = window.URL.createObjectURL(blob);\n",
              "      a.download = filename;\n",
              "      div.appendChild(a);\n",
              "      a.click();\n",
              "      div.remove();\n",
              "    }\n",
              "  "
            ],
            "text/plain": [
              "<IPython.core.display.Javascript object>"
            ]
          },
          "metadata": {
            "tags": []
          }
        },
        {
          "output_type": "display_data",
          "data": {
            "application/javascript": [
              "download(\"download_6332ac04-a6a1-458b-a738-3671248dc6c7\", \"rt_08-07-2021_12_12-07-2021_12.xlsx\", 29245)"
            ],
            "text/plain": [
              "<IPython.core.display.Javascript object>"
            ]
          },
          "metadata": {
            "tags": []
          }
        }
      ]
    },
    {
      "cell_type": "code",
      "metadata": {
        "id": "uF-m9xl8FM-k"
      },
      "source": [
        ""
      ],
      "execution_count": null,
      "outputs": []
    },
    {
      "cell_type": "code",
      "metadata": {
        "id": "RUwfN4_D_2DL"
      },
      "source": [
        "# import pandas as pd\n",
        "\n",
        "# wb = openpyxl.load_workbook(out_file)\n",
        "\n",
        "\n",
        "# pd_wb = pd.read_excel(out_file, sheet_name=wb.sheetnames)\n",
        "# xlsWriter = pd.ExcelWriter(out_file[:-1], engine = 'xlwt')\n",
        "\n",
        "# pd_wb['Инцидент'].to_excel(xlsWriter, sheet_name='Инцидент', index=False)\n",
        "# pd_wb['Билет по регионам'].to_excel(xlsWriter, sheet_name='Билет по регионам', index=False)\n",
        "# xlsWriter.save()\n"
      ],
      "execution_count": null,
      "outputs": []
    }
  ]
}
