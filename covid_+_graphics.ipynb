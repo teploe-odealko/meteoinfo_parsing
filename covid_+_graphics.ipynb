{
  "nbformat": 4,
  "nbformat_minor": 0,
  "metadata": {
    "colab": {
      "name": "covid_+_graphics.ipynb",
      "provenance": [],
      "collapsed_sections": [
        "hK78LzIp6BPO",
        "f8JdQPif6MYJ",
        "mhmg4VXD6lts",
        "eBylHB-o6ptj",
        "_VZtAxabZt7L",
        "yjgfSwQc5e6L",
        "UHPDvgOpJRR-",
        "9tFFSwo6cz5T",
        "bOgM-EiEFPyq",
        "vEh_QrVcAEy2",
        "gtJwGbwx1oZg",
        "Fj2RS7Duc8KS"
      ],
      "include_colab_link": true
    },
    "kernelspec": {
      "display_name": "Python 3",
      "name": "python3"
    },
    "language_info": {
      "name": "python"
    }
  },
  "cells": [
    {
      "cell_type": "markdown",
      "metadata": {
        "id": "view-in-github",
        "colab_type": "text"
      },
      "source": [
        "<a href=\"https://colab.research.google.com/github/teploe-odealko/meteoinfo_parsing/blob/main/covid_%2B_graphics.ipynb\" target=\"_parent\"><img src=\"https://colab.research.google.com/assets/colab-badge.svg\" alt=\"Open In Colab\"/></a>"
      ]
    },
    {
      "cell_type": "markdown",
      "metadata": {
        "id": "NRjia9CSWwTS"
      },
      "source": [
        "#Загрузка шаблонов"
      ]
    },
    {
      "cell_type": "markdown",
      "metadata": {
        "id": "E5BtijRRXx8D"
      },
      "source": [
        "Шаблон табличной сводки по миру - файл xlsx"
      ]
    },
    {
      "cell_type": "code",
      "metadata": {
        "id": "-YB2llD_YClp",
        "colab": {
          "resources": {
            "http://localhost:8080/nbextensions/google.colab/files.js": {
              "data": "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",
              "ok": true,
              "headers": [
                [
                  "content-type",
                  "application/javascript"
                ]
              ],
              "status": 200,
              "status_text": ""
            }
          },
          "base_uri": "https://localhost:8080/",
          "height": 73
        },
        "outputId": "dfeb2ac6-8dea-48ae-8172-eb5b4fd1383f"
      },
      "source": [
        "from google.colab import files\n",
        "world_input_filename = files.upload()\n",
        "world_input_filename = next(iter(world_input_filename))"
      ],
      "execution_count": null,
      "outputs": [
        {
          "output_type": "display_data",
          "data": {
            "text/html": [
              "\n",
              "     <input type=\"file\" id=\"files-6586af5a-d908-440c-8790-5f2c8e7a5388\" name=\"files[]\" multiple disabled\n",
              "        style=\"border:none\" />\n",
              "     <output id=\"result-6586af5a-d908-440c-8790-5f2c8e7a5388\">\n",
              "      Upload widget is only available when the cell has been executed in the\n",
              "      current browser session. Please rerun this cell to enable.\n",
              "      </output>\n",
              "      <script src=\"/nbextensions/google.colab/files.js\"></script> "
            ],
            "text/plain": [
              "<IPython.core.display.HTML object>"
            ]
          },
          "metadata": {
            "tags": []
          }
        },
        {
          "output_type": "stream",
          "text": [
            "Saving МИР21_27-07-2021_28-07-2021.xlsx to МИР21_27-07-2021_28-07-2021.xlsx\n"
          ],
          "name": "stdout"
        }
      ]
    },
    {
      "cell_type": "markdown",
      "metadata": {
        "id": "RtezPrK9WbED"
      },
      "source": [
        "Табличня сводка по россии - файл xlsx"
      ]
    },
    {
      "cell_type": "code",
      "metadata": {
        "id": "PIO4aPsnXxcX"
      },
      "source": [
        "russia_input_filename = files.upload()\n",
        "russia_input_filename = next(iter(russia_input_filename))"
      ],
      "execution_count": null,
      "outputs": []
    },
    {
      "cell_type": "markdown",
      "metadata": {
        "id": "DsEv1Uc-NLSf"
      },
      "source": [
        "Презентация с графиками"
      ]
    },
    {
      "cell_type": "code",
      "metadata": {
        "id": "UtPtK27kNKQU"
      },
      "source": [
        "prs_filename = files.upload()\n",
        "prs_filename = next(iter(prs_filename))"
      ],
      "execution_count": null,
      "outputs": []
    },
    {
      "cell_type": "markdown",
      "metadata": {
        "id": "hK78LzIp6BPO"
      },
      "source": [
        "# Install & import"
      ]
    },
    {
      "cell_type": "code",
      "metadata": {
        "id": "5KPdbVBrLove"
      },
      "source": [
        "import time\n",
        "start_time = time.time()"
      ],
      "execution_count": null,
      "outputs": []
    },
    {
      "cell_type": "code",
      "metadata": {
        "id": "_TVsyj3R6p6v"
      },
      "source": [
        "import os\n",
        "from datetime import datetime\n",
        "today = datetime.today().strftime(\"%d-%m-%Y\")\n",
        "if not os.path.exists(today):\n",
        "    os.mkdir(today)\n",
        "os.environ['FOLDER_NAME'] = today"
      ],
      "execution_count": null,
      "outputs": []
    },
    {
      "cell_type": "markdown",
      "metadata": {
        "id": "f8JdQPif6MYJ"
      },
      "source": [
        "##install"
      ]
    },
    {
      "cell_type": "markdown",
      "metadata": {
        "id": "mhmg4VXD6lts"
      },
      "source": [
        "###Selenium web driver"
      ]
    },
    {
      "cell_type": "code",
      "metadata": {
        "id": "_FGaXvBz6OIp"
      },
      "source": [
        "!pip install selenium\n",
        "!apt-get update # to update ubuntu to correctly run apt install\n",
        "!apt install chromium-chromedriver\n",
        "!cp /usr/lib/chromium-browser/chromedriver /usr/bin\n",
        "import sys\n",
        "sys.path.insert(0,'/usr/lib/chromium-browser/chromedriver')\n",
        "from selenium import webdriver\n",
        "\n",
        "\n",
        "chrome_options = webdriver.ChromeOptions()\n",
        "chrome_options.add_argument('--headless')\n",
        "chrome_options.add_argument('--no-sandbox')\n",
        "chrome_options.add_argument('--disable-dev-shm-usage')\n",
        "wd = webdriver.Chrome('chromedriver',chrome_options=chrome_options)"
      ],
      "execution_count": null,
      "outputs": []
    },
    {
      "cell_type": "markdown",
      "metadata": {
        "id": "eBylHB-o6ptj"
      },
      "source": [
        "###other"
      ]
    },
    {
      "cell_type": "code",
      "metadata": {
        "id": "7hwF_M436rPd"
      },
      "source": [
        "!pip install requests-html\n",
        "!pip install python-docx\n",
        "# !pip install pip install excel-formulas-calculator\n",
        "!git clone https://github.com/teploe-odealko/excel-formulas-calculator.git\n",
        "!pip install html2text\n",
        "!pip install python-pptx\n",
        "!pip install -U kaleido\n",
        "\n",
        "\n",
        "!pip install plotly>=4.0.0\n",
        "!wget https://github.com/plotly/orca/releases/download/v1.2.1/orca-1.2.1-x86_64.AppImage -O /usr/local/bin/orca\n",
        "!chmod +x /usr/local/bin/orca\n",
        "!apt-get install xvfb libgtk2.0-0 libgconf-2-4"
      ],
      "execution_count": null,
      "outputs": []
    },
    {
      "cell_type": "code",
      "metadata": {
        "id": "tix4GsVp7Ab0"
      },
      "source": [
        "cd excel-formulas-calculator/"
      ],
      "execution_count": null,
      "outputs": []
    },
    {
      "cell_type": "code",
      "metadata": {
        "id": "dh1LKNjv7Cqw"
      },
      "source": [
        "!sudo python setup.py install"
      ],
      "execution_count": null,
      "outputs": []
    },
    {
      "cell_type": "markdown",
      "metadata": {
        "id": "NeQy59AT6Kxe"
      },
      "source": [
        "##import"
      ]
    },
    {
      "cell_type": "code",
      "metadata": {
        "id": "ri4Lu3ab6F9i"
      },
      "source": [
        "import openpyxl\n",
        "from openpyxl.worksheet.worksheet import Worksheet\n",
        "from openpyxl.formula import Tokenizer\n",
        "from openpyxl.formula.translate import Translator\n",
        "from openpyxl.utils.cell import get_column_letter\n",
        "from openpyxl.utils.dataframe import dataframe_to_rows\n",
        "from openpyxl.formatting.rule import FormulaRule\n",
        "from openpyxl.styles import Color, PatternFill, Font, Border\n",
        "\n",
        "from typing import Dict, List, Tuple\n",
        "from collections import defaultdict\n",
        "from copy import copy\n",
        "import glob\n",
        "import re\n",
        "import requests_html\n",
        "\n",
        "import pandas as pd\n",
        "import numpy as np\n",
        "\n",
        "import html2text\n",
        "import docx\n",
        "from docx.shared import RGBColor\n",
        "from bs4 import BeautifulSoup\n",
        "import urllib3\n",
        "from nltk.stem.snowball import SnowballStemmer\n",
        "from datetime import datetime, date, timedelta\n",
        "from efc.interfaces.iopenpyxl import OpenpyxlInterface\n",
        "import plotly.express as px\n",
        "import plotly.graph_objects as go\n",
        "import pptx\n",
        "from pptx import Presentation\n",
        "from pptx.enum.text import PP_ALIGN"
      ],
      "execution_count": null,
      "outputs": []
    },
    {
      "cell_type": "code",
      "metadata": {
        "id": "sw6QSsTT7DM4"
      },
      "source": [
        "cd ../"
      ],
      "execution_count": null,
      "outputs": []
    },
    {
      "cell_type": "markdown",
      "metadata": {
        "id": "tso9WDhP6IPc"
      },
      "source": [
        "##constants"
      ]
    },
    {
      "cell_type": "code",
      "metadata": {
        "id": "7WnJfehO6HuX"
      },
      "source": [
        "WEEKLY_REPORT_DAY = 1\n",
        "countries_map = {\"United States\": \"США\", \"Diamond Princess\": \"Судно \\\"Diamond Princess\\\"\",  \"MS Zaandam\":  \"Судно \\\"MS Zaandam\\\"\",\n",
        "                \"Taiwan*\":\"Тайвань\", \"Timor-Leste\":\"Восточный Тимор\", \"US\":\"США\", \"West Bank and Gaza\":\"Западный берег реки Иордан\", \"Syria\": \"Сирия\", \"Slovakia\": \"Словакия\", \"Sao Tome and Principe\": \"Сан-Томе и Принсипи\", \"Russia\": \"Россия\",\n",
        "                 \"Korea, South\": \"Южная Корея\", \"Iran\": \"Иран\", \"Eswatini\": \"Эсватини\", \"Cote d'Ivoire\": \"Кот-д’Ивуар\", \"Congo (Kinshasa)\": \"ДР Конго\", \"Congo (Brazzaville)\":\"Республика Конго\",\n",
        "                 \"Cabo Verde\":\"Кабо-Верде\", \"Burma\": \"Мьянма\", \"Afghanistan\":  \"Афганистан\", \"Albania\":  \"Албания\", \"Algeria\":  \"Алжир\", \"American Samoa\":  \"Американское Самоа\", \"Andorra\":  \"Андорра\", \"Angola\":  \"Ангола\", \"Anguilla\": \"Ангилья\",\n",
        "                 \"Antarctica\":  \"Антарктика\", \"Antigua and Barbuda\":  \"Антигуа и Барбуда\", \"Argentina\":  \"Аргентина\", \"Armenia\":  \"Армения\", \"Aruba\":  \"Аруба\", \"Australia\":  \"Австралия\", \"Austria\":  \"Австрия\", \"Azerbaijan\":  \"Азербайджан\", \n",
        "                 \"Bahamas\":  \"Багамские острова\", \"Bahrain\":  \"Бахрейн\", \"Bangladesh\":  \"Бангладеш\", \"Barbados\":  \"Барбадос\", \"Belarus\":  \"Беларусь\", \"Belgium\":  \"Бельгия\", \"Belize\":  \"Белиз\", \"Benin\":  \"Бенин\", \n",
        "                 \"Bermuda\": \"Бермудские Острова\", \"Bhutan\":  \"Бутан\", \"Bolivia\":  \"Боливия\", \"Bosnia and Herzegovina\":  \"Босния и Герцеговина\", \"Botswana\":  \"Ботсвана\", \"Brazil\":  \"Бразилия\", \"Brunei\":  \"Бруней\", \"Bulgaria\":  \"Болгария\",\n",
        "                 \"Burkina Faso\":  \"Буркина-Фасо\", \"Burundi\":  \"Бурунди\", \"Cambodia\":  \"Камбоджа\", \"Cameroon\":  \"Камерун\", \"Canada\":  \"Канада\", \"Cape Verde\":  \"Кабо-Верде\", \"Cayman Islands\":  \"Острова Кайман\",\n",
        "                 \"Central African Republic\":  \"ЦАР\", \"Chad\":  \"Чад\", \"Chile\":  \"Чили\", \"China\":  \"Китай\", \"Colombia\":  \"Колумбия\", \"Comoros\":  \"Коморские острова\",\n",
        "                 \"Cook Islands\":  \"Острова Кука\", \"Costa Rica\":  \"Коста-Рика\",\n",
        "                 \"Ivory Coast (Cote d'Ivoire)\":  \"Кот-д’Ивуар\", \"Croatia\":  \"Хорватия\", \"Cuba\":  \"Куба\", \"Cyprus\":  \"Кипр\", \"Czechia\":  \"Чехия\", \"Denmark\":  \"Дания\", \"Djibouti\":  \"Джибути\", \"Dominica\":  \"Доминика\",\n",
        "                 \"Dominican Republic\":  \"Доминиканская Республика\", \"East Timor (Timor-Leste)\":  \"Восточный Тимор\", \"Ecuador\":  \"Эквадор\", \"Egypt\":  \"Египет\", \"El Salvador\":  \"Сальвадор\", \"Equatorial Guinea\":  \"Экваториальная Гвинея\",\n",
        "                 \"Eritrea\":  \"Эритрея\", \"Estonia\":  \"Эстония\", \"Ethiopia\":  \"Эфиопия\", \"Falkland Islands\":  \"Фолклендские острова\", \"Faroe Islands\":  \"Фарерские острова\", \"Fiji\":  \"Фиджи\", \"Finland\":  \"Финляндия\", \"France\":  \"Франция\",\n",
        "                 \"French Guiana\":  \"Гвиана\", \"French Polynesia\":  \"Французская Полинезия\", \"Gabon\":  \"Габон\", \"Gambia\":  \"Гамбия\", \"Georgia\":  \"Грузия\", \"Germany\":  \"Германия\", \"Ghana\":  \"Гана\", \"Gibraltar\":  \"Гибралтар\",\n",
        "                 \"Greece\":  \"Греция\", \"Greenland\":  \"Гренландия\", \"Grenada\":  \"Гренада\", \"Guadeloupe\":  \"Гваделупа\", \"Guam\":  \"Гуам\", \"Guatemala\":  \"Гватемала\", \"Guinea\":  \"Гвинея\", \"Guinea-Bissau\":  \"Гвинея-Бисау\",\n",
        "                 \"Guyana\":  \"Гайана\", \"Haiti\":  \"Гаити\", \"Honduras\":  \"Гондурас\", \"Hong Kong\":  \"Гонконг\", \"Hungary\":  \"Венгрия\", \"Iceland\":  \"Исландия\", \"India\":  \"Индия\", \"Indonesia\":  \"Индонезия\",\n",
        "                 \"Iran (Islamic Republic of)\":  \"Иран (Персия)\", \"Iraq\":  \"Ирак\", \"Ireland\":  \"Ирландия\", \"Israel\":  \"Израиль\", \"Italy\":  \"Италия\", \"Jamaica\":  \"Ямайка\", \"Japan\":  \"Япония\", \"Jordan\":  \"Иордания\",\n",
        "                 \"Kazakhstan\":  \"Казахстан\", \"Kenya\":  \"Кения\", \"Kiribati\":  \"Кирибати\", \"Korea, Democratic People's Rep. (North Korea)\":  \"Северная Корея (КНДР)\", \"Korea, Republic of (South Korea)\":  \"Ю́жная Коре́я (Республика Корея)\",\n",
        "                 \"Kosovo\":  \"Косово и Метохия\", \"Kuwait\":  \"Кувейт\", \"Kyrgyzstan\":  \"Киргизия\", \"Laos\":  \"Лаос\", \"Latvia\":  \"Латвия\", \"Lebanon\":  \"Ливан\", \"Lesotho\":  \"Лесото\", \"Liberia\":  \"Либерия\",\n",
        "                 \"Libya\":  \"Ливия\", \"Liechtenstein\":  \"Лихтенштейн\", \"Lithuania\":  \"Литва\", \"Luxembourg\":  \"Люксембург\", \"Macau\":  \"Макао (Аомынь)\", \"North Macedonia\":  \"Северная Македония\", \"Madagascar\":  \"Мадагаскар\", \"Malawi\":  \"Малави\",\n",
        "                 \"Malaysia\":  \"Малайзия\", \"Maldives\":  \"Мальдивы\", \"Mali\":  \"Мали\", \"Malta\":  \"Мальта\", \"Martinique\":  \"Мартиника\", \"Mauritania\":  \"Мавритания\", \"Mauritius\":  \"Маврикий\", \"Mayotte\":  \"Майотта\", \"Mexico\":  \"Мексика\",\n",
        "                 \"Микронезия, Federated States of\":  \"Федеративные Штаты Микронезии\", \"Moldova\":  \"Молдавия\", \"Monaco\":  \"Монако\", \"Mongolia\":  \"Монголия\", \"Montenegro\":  \"Черногория\", \"Montserrat\":  \"Монтсеррат\", \n",
        "                 \"Morocco\":  \"Марокко\", \"Mozambique\":  \"Мозамбик\", \"Myanmar, Burma\":  \"Мьянма, (Би́рма)\", \"Namibia\":  \"Намибия\", \"Nauru\":  \"Науру\", \"Nepal\":  \"Непал\", \"Netherlands\":  \"Нидерланды\", \"New Caledonia\":  \"Новая Каледония\", \n",
        "                 \"New Zealand\":  \"Новая Зеландия\", \"Nicaragua\":  \"Никарагуа\", \"Niger\":  \"Нигер\", \"Nigeria\":  \"Нигерия\", \"Northern Mariana Islands\":  \"Северные Марианские\", \"\":  \"острова\", \"Norway\":  \"Норвегия\", \"Oman\":  \"Оман\", \n",
        "                 \"Pakistan\":  \"Пакистан\", \"Palau\":  \"Палау\", \"State of Palestine\":  \"Государство Палестина\", \"Panama\":  \"Панама\", \"Papua New Guinea\":  \"Папуа — Новая Гвинея\", \"Paraguay\":  \"Парагвай\", \"Peru\":  \"Перу\", \"Philippines\":  \"Филиппины\", \n",
        "                 \"Poland\":  \"Польша\", \"Portugal\":  \"Португалия\", \"Puerto Rico\":  \"Пуэрто-Рико\", \"Qatar\":  \"Катар\", \"Réunion\":  \"Реюньон\", \"Romania\":  \"Румыния\", \"Russian Federation\":  \"Россия, Росси́йская Федера́ция\", \"Rwanda\":  \"Руанда\",\n",
        "                 \"Saint Kitts and Nevis\":  \"Сент-Китс и Невис\", \"Saint Lucia\":  \"Сент-Люсия\", \"Saint Vincent and the Grenadines\":  \"Сент-Винсент и Гренадины\", \"Samoa\":  \"Самоа\", \"San Marino\":  \"Сан-Марино\", \n",
        "                 \"Sao Tome and Príncipe\":  \"Сан-Томе и Принсипи\", \"Saudi Arabia\":  \"Саудовская Аравия\", \"Senegal\":  \"Сенегал\", \"Serbia\":  \"Сербия\", \"Seychelles\":  \"Сейшельские острова\", \"Sierra Leone\":  \"Сьерра-Леоне\", \n",
        "                 \"Singapore\":  \"Сингапур\", \"Slovakia (Slovak Republic)\":  \"Словакия\", \"Slovenia\":  \"Словения\", \"Solomon Islands\":  \"Соломоновы острова\", \"Somalia\":  \"Сомали\", \"South Africa\":  \"ЮАР\", \"South Sudan\":  \"Южный Судан\", \n",
        "                 \"Spain\":  \"Испания\", \"Sri Lanka\":  \"Шри-Ланка\", \"Sudan\":  \"Судан\", \"Suriname\":  \"Суринам\", \"Swaziland (Eswatini)\":  \"Сва́зиле́нд (Эсватини)\", \"Sweden\":  \"Швеция\", \"Switzerland\":  \"Швейцария\", \n",
        "                 \"Syria, Syrian Arab Republic\":  \"Сирия\", \"Taiwan\":  \"Китайская Республика (Тайвань)\", \"Tajikistan\":  \"Таджикистан\", \"Tanzania\":  \"Танзания\", \"Thailand\":  \"Таиланд\", \"Tibet\":  \"Тибет\", \n",
        "                 \"Timor-Leste (East Timor)\":  \"Восточный Тимор\", \"Togo\":  \"Того\", \"Tokelau\":  \"Токелау\", \"Tonga\":  \"Тонга\", \"Trinidad and Tobago\":  \"Тринидад и Тобаго\", \"Tunisia\":  \"Тунис\", \"Turkey\":  \"Турция\", \"Turkmenistan\":  \"Туркмения\", \n",
        "                 \"Tuvalu\":  \"Тувалу\", \"Uganda\":  \"Уганда\", \"Ukraine\":  \"Украина\", \"United Arab Emirates\":  \"ОАЭ\", \"United Kingdom\":  \"Великобритания\", \n",
        "                 \"Uruguay\":  \"Уругвай\", \"Uzbekistan\":  \"Узбекистан\", \"Vanuatu\":  \"Вануату\", \"Holy See\":  \"Папский Престол\", \"Venezuela\":  \"Венесуэла\", \"Vietnam\":  \"Вьетнам\", \n",
        "                 \"Virgin Islands (British)\":  \"Виргинские Острова (Великобритания)\", \"Virgin Islands (U.S.)\":  \"Виргинские Острова (США)\", \"Wallis and Futuna Islands\":  \"Уоллис и Футуна\", \"Western Sahara\":  \"Западная Сахара\",\n",
        "                 \"Yemen\":  \"Йемен\", \"Zambia\":  \"Замбия\", \"Zimbabwe\":  \"Зимбабве\"}"
      ],
      "execution_count": null,
      "outputs": []
    },
    {
      "cell_type": "markdown",
      "metadata": {
        "id": "_VZtAxabZt7L"
      },
      "source": [
        "#Подготовка данных с репозитория университета Хопкинса"
      ]
    },
    {
      "cell_type": "code",
      "metadata": {
        "id": "r-PoSqyKKcP1"
      },
      "source": [
        "!add-apt-repository ppa:git-core/ppa -y\n",
        "!apt update; apt install git\n",
        "!git clone --depth 1 --filter=blob:none --spars https://github.com/CSSEGISandData/COVID-19"
      ],
      "execution_count": null,
      "outputs": []
    },
    {
      "cell_type": "code",
      "metadata": {
        "id": "Q5IpgnJzL5gr"
      },
      "source": [
        "cd COVID-19/"
      ],
      "execution_count": null,
      "outputs": []
    },
    {
      "cell_type": "code",
      "metadata": {
        "id": "5X4p337ZL6Wf"
      },
      "source": [
        "# !git sparse-checkout set csse_covid_19_data/csse_covid_19_daily_reports"
      ],
      "execution_count": null,
      "outputs": []
    },
    {
      "cell_type": "code",
      "metadata": {
        "id": "gN6rPVb4OJw1"
      },
      "source": [
        "!git sparse-checkout set csse_covid_19_data/csse_covid_19_time_series"
      ],
      "execution_count": null,
      "outputs": []
    },
    {
      "cell_type": "code",
      "metadata": {
        "id": "u6SncAu_OPU5"
      },
      "source": [
        ""
      ],
      "execution_count": null,
      "outputs": []
    },
    {
      "cell_type": "code",
      "metadata": {
        "id": "iJICf52dLGdG"
      },
      "source": [
        "cd .."
      ],
      "execution_count": null,
      "outputs": []
    },
    {
      "cell_type": "code",
      "metadata": {
        "id": "AzCGEAMiOeOb"
      },
      "source": [
        "confirmed_ts = pd.read_csv('/content/COVID-19/csse_covid_19_data/csse_covid_19_time_series/time_series_covid19_confirmed_global.csv')\n",
        "deaths_ts = pd.read_csv('/content/COVID-19/csse_covid_19_data/csse_covid_19_time_series/time_series_covid19_deaths_global.csv')\n",
        "recovered_ts = pd.read_csv('/content/COVID-19/csse_covid_19_data/csse_covid_19_time_series/time_series_covid19_recovered_global.csv')"
      ],
      "execution_count": null,
      "outputs": []
    },
    {
      "cell_type": "code",
      "metadata": {
        "id": "wm9J4d6YP_ck"
      },
      "source": [
        ""
      ],
      "execution_count": null,
      "outputs": []
    },
    {
      "cell_type": "code",
      "metadata": {
        "id": "p9nCvdnmOjSt"
      },
      "source": [
        "confirmed_ts = confirmed_ts.groupby('Country/Region').sum().iloc[:,2:]\n",
        "deaths_ts = deaths_ts.groupby('Country/Region').sum().iloc[:,2:]\n",
        "recovered_ts = recovered_ts.groupby('Country/Region').sum().iloc[:,2:]"
      ],
      "execution_count": null,
      "outputs": []
    },
    {
      "cell_type": "code",
      "metadata": {
        "id": "YvCoxFz5QEZa"
      },
      "source": [
        "li = []\n",
        "for i in range(len(confirmed_ts)):\n",
        "    tmp = pd.DataFrame()\n",
        "    tmp['Дата'] = confirmed_ts.iloc[i,:].index\n",
        "    tmp['Страна'] = confirmed_ts.iloc[i,:].name\n",
        "    tmp['Заражений'] = confirmed_ts.iloc[i,:].values\n",
        "    tmp['Заражений за день'] = tmp['Заражений'].diff(1)\n",
        "    tmp['Заражений(МА)'] = tmp['Заражений за день'].rolling(7).sum()\n",
        "    tmp['Смертей'] = deaths_ts.iloc[i,:].values\n",
        "    tmp['Смертей за день'] = tmp['Смертей'].diff(1)\n",
        "    tmp['Выздоровлений'] = recovered_ts.iloc[i,:].values\n",
        "    tmp['Выздоровлений за день'] = tmp['Выздоровлений'].diff(1)\n",
        "    li.append(tmp)"
      ],
      "execution_count": null,
      "outputs": []
    },
    {
      "cell_type": "code",
      "metadata": {
        "id": "IZ0OqPEDSqM1"
      },
      "source": [
        "df = pd.concat(li, axis=0, ignore_index=True)"
      ],
      "execution_count": null,
      "outputs": []
    },
    {
      "cell_type": "code",
      "metadata": {
        "id": "dfL9YDjojTqT"
      },
      "source": [
        "df = df[['Страна', 'Дата', 'Заражений', 'Заражений за день', 'Заражений(МА)',\n",
        "       'Смертей', 'Смертей за день', 'Выздоровлений', 'Выздоровлений за день']]"
      ],
      "execution_count": null,
      "outputs": []
    },
    {
      "cell_type": "code",
      "metadata": {
        "id": "s0BYfc2iMcjA"
      },
      "source": [
        "# path = r'/content/COVID-19/csse_covid_19_data/csse_covid_19_daily_reports' # use your path\n",
        "# all_files = glob.glob(path + \"/*.csv\")\n",
        "\n",
        "# li = []\n",
        "\n",
        "# for filename_csv in all_files:\n",
        "#     df = pd.read_csv(filename_csv, index_col=None, header=0)\n",
        "#     df['Last_Update'] = filename_csv.split('.')[0].split('/')[-1]\n",
        "#     li.append(df)\n",
        "\n",
        "# frame = pd.concat(li, axis=0, ignore_index=True)\n",
        "# frame['Last_Update'] = pd.to_datetime(frame['Last_Update'], format='%m-%d-%Y')"
      ],
      "execution_count": null,
      "outputs": []
    },
    {
      "cell_type": "code",
      "metadata": {
        "id": "dIRQeWjQr8TL"
      },
      "source": [
        "li = []\n",
        "def translate_country(eng):\n",
        "    try:\n",
        "        return countries_map[eng]\n",
        "    except KeyError:\n",
        "        li.append(eng)\n",
        "        return eng\n",
        "\n",
        "\n",
        "df['Страна'] = df['Страна'].apply(translate_country)"
      ],
      "execution_count": null,
      "outputs": []
    },
    {
      "cell_type": "code",
      "metadata": {
        "id": "CBnBly302wTj"
      },
      "source": [
        "np.unique(np.array(li))"
      ],
      "execution_count": null,
      "outputs": []
    },
    {
      "cell_type": "code",
      "metadata": {
        "id": "VpdTDiWShBXL"
      },
      "source": [
        "np.unique(np.array(li))"
      ],
      "execution_count": null,
      "outputs": []
    },
    {
      "cell_type": "code",
      "metadata": {
        "id": "sycb0ODkcCbA"
      },
      "source": [
        "df['Дата'] = pd.to_datetime(df['Дата'], format='%m/%d/%y')"
      ],
      "execution_count": null,
      "outputs": []
    },
    {
      "cell_type": "code",
      "metadata": {
        "id": "ObNA84ZCZbfT"
      },
      "source": [
        "df_diff = df"
      ],
      "execution_count": null,
      "outputs": []
    },
    {
      "cell_type": "code",
      "metadata": {
        "id": "zHvDAlvWc3bh"
      },
      "source": [
        "df_diff"
      ],
      "execution_count": null,
      "outputs": []
    },
    {
      "cell_type": "code",
      "metadata": {
        "id": "0kiipHuPXD9O"
      },
      "source": [
        "# df = frame[['Confirmed', 'Recovered', 'Deaths', 'Country_Region', 'Last_Update', 'Combined_Key']]\n",
        "# sorted_df = df.groupby(['Last_Update', 'Country_Region']).sum().reset_index().sort_values(by=['Country_Region', 'Last_Update'])\n"
      ],
      "execution_count": null,
      "outputs": []
    },
    {
      "cell_type": "code",
      "metadata": {
        "id": "740lIVEkXBuZ"
      },
      "source": [
        ""
      ],
      "execution_count": null,
      "outputs": []
    },
    {
      "cell_type": "code",
      "metadata": {
        "id": "Lcvu59zUHt-F"
      },
      "source": [
        "# li = []\n",
        "# for country in df['Country_Region'].unique():\n",
        "#     country_df = df[df['Country_Region'] == country].copy()\n",
        "#     country_df_diff = country_df[['Confirmed', 'Recovered', 'Deaths']].diff()\n",
        "#     country_df['Confirmed_diff'] = country_df_diff['Confirmed']\n",
        "#     country_df['Recovered_diff'] = country_df_diff['Recovered']\n",
        "#     country_df['Deaths_diff'] = country_df_diff['Deaths']\n",
        "#     country_df['Confirmed_rolling_sum'] = country_df_diff['Confirmed'].rolling(7).sum()\n",
        "#     country_df['Confirmed_diff_rolling_sum'] = country_df['Confirmed_diff'].rolling(7).sum()\n",
        "#     country_df['Deaths_diff_rolling_sum'] = country_df['Deaths_diff'].rolling(7).sum()\n",
        "#     li.append(country_df)\n",
        "\n",
        "\n",
        "# df_diff = pd.concat(li, axis=0, ignore_index=True)\n",
        "# df_diff = df_diff.fillna(0)\n",
        "# df_diff = df_diff[['Country_Region', 'Last_Update', 'Confirmed', 'Recovered', 'Deaths', 'Confirmed_diff', 'Recovered_diff', 'Deaths_diff', 'Confirmed_rolling_sum', 'Confirmed_diff_rolling_sum', 'Deaths_diff_rolling_sum']]\n",
        "# df_diff.columns = ['Страна', 'Дата', 'Заражений', 'Выздоровлений', 'Смертей', 'Заражений за день', 'Выздоровлений за день', 'Смертей за день', 'Заражений(МА)', 'Заражений за день(МА)', 'Смертей за день(МА)']"
      ],
      "execution_count": null,
      "outputs": []
    },
    {
      "cell_type": "markdown",
      "metadata": {
        "id": "yjgfSwQc5e6L"
      },
      "source": [
        "#Срипт"
      ]
    },
    {
      "cell_type": "markdown",
      "metadata": {
        "id": "UHPDvgOpJRR-"
      },
      "source": [
        "##Utils"
      ]
    },
    {
      "cell_type": "code",
      "metadata": {
        "id": "i0n6s935JTpU"
      },
      "source": [
        "def rename_input_filename(filename: str):\n",
        "    today = datetime.today().strftime(\"%d-%m-%Y\")\n",
        "    splitted_filename = filename.split('.')\n",
        "    splitted_filename[0] = f'{splitted_filename[0]}_{today}'\n",
        "    output_filename = '.'.join(splitted_filename)\n",
        "    return f'{today}/{output_filename}'"
      ],
      "execution_count": null,
      "outputs": []
    },
    {
      "cell_type": "code",
      "metadata": {
        "id": "OIajjWwsnFw5"
      },
      "source": [
        "\n",
        "# def continue_formula_n_down(ws: Worksheet, columns: list, row: int, n: int):\n",
        "#     for column in columns:\n",
        "\n",
        "#         formula = ws.cell(row=(row - n), column=column).value\n",
        "#         last_cell_id = get_column_letter(column) + str(row - n)\n",
        "#         next_cell_id = get_column_letter(column) + str(row)\n",
        "#         ws[next_cell_id] = Translator(formula, origin=last_cell_id).translate_formula(next_cell_id)\n",
        "#         ws[next_cell_id]._style = copy(ws[last_cell_id]._style)\n",
        "\n",
        "\n",
        "# def continue_formula_down(ws: Worksheet, columns: list, row: int):\n",
        "#     continue_formula_n_down(ws, columns, row, 1)"
      ],
      "execution_count": null,
      "outputs": []
    },
    {
      "cell_type": "code",
      "metadata": {
        "id": "GJxhPkIFAV84"
      },
      "source": [
        "def continue_formula_n_down(ws: Worksheet, columns: list, row: int, n: int):\n",
        "    for column in columns:\n",
        "\n",
        "        formula = ws.cell(row=(row - n), column=column).value\n",
        "        last_cell_id = get_column_letter(column) + str(row - n)\n",
        "        next_cell_id = get_column_letter(column) + str(row)\n",
        "        ws[next_cell_id] = Translator(formula, origin=last_cell_id).translate_formula(next_cell_id)\n",
        "        ws[next_cell_id]._style = copy(ws[last_cell_id]._style)\n",
        "\n",
        "\n",
        "def continue_formula_down(ws: Worksheet, columns: list, row: int):\n",
        "    continue_formula_n_down(ws, columns, row, 1)"
      ],
      "execution_count": null,
      "outputs": []
    },
    {
      "cell_type": "code",
      "metadata": {
        "id": "82_GYEza_QFT"
      },
      "source": [
        "def  continue_date_down(ws: Worksheet, columns: list, days: int):\n",
        "    # print('here')\n",
        "    for column in columns:\n",
        "        try:\n",
        "            row = [c.value for c in ws[get_column_letter(column)]].index(None) + 1\n",
        "        except ValueError:\n",
        "            row = ws.max_row + 1\n",
        "        last_table_date = ws.cell(row=row-1, column=column).value\n",
        "        # print(row, column)\n",
        "        # print(last_table_date)\n",
        "        ws.cell(row=row, column=column).value = (last_table_date) + timedelta(days=days)\n",
        "        ws.cell(row=row, column=column).number_format = 'DD.MM.YY'\n",
        "\n",
        "        last_cell_id = get_column_letter(column) + str(row-1)\n",
        "        next_cell_id = get_column_letter(column) + str(row)\n",
        "        ws[next_cell_id]._style = copy(ws[last_cell_id]._style)"
      ],
      "execution_count": null,
      "outputs": []
    },
    {
      "cell_type": "markdown",
      "metadata": {
        "id": "9tFFSwo6cz5T"
      },
      "source": [
        "##МИР xlsx"
      ]
    },
    {
      "cell_type": "code",
      "metadata": {
        "id": "nREIavzuLarD"
      },
      "source": [
        "def base_countries_sheet(ws: Worksheet):\n",
        "    for i, row in enumerate(dataframe_to_rows(df_diff, index=False)):\n",
        "        ws.append(row)\n",
        "        r = i + 2\n",
        "        ws.cell(row=r, column=9).value = fr'=IF(YEAR(B{r})=2020,(IF(J{r}=1,WEEKNUM(B{r},2),IF(J{r}=2,WEEKNUM(B{r},2),IF(J{r}=3,WEEKNUM(B{r},2),IF(J{r}=4,WEEKNUM(B{r},2),IF(J{r}=5,WEEKNUM(B{r},2),IF(J{r}=6,WEEKNUM(B{r},2),IF(J{r}=7,WEEKNUM(B{r},2)+1)))))))),IF(YEAR(B{r})=2021,(IF(J{r}=1,WEEKNUM(B{r},2),IF(J{r}=2,WEEKNUM(B{r},2),IF(J{r}=3,WEEKNUM(B{r},2),IF(J{r}=4,WEEKNUM(B{r},2),IF(J{r}=5,WEEKNUM(B{r},2),IF(J{r}=6,WEEKNUM(B{r},2),IF(J{r}=7,WEEKNUM(B{r},2)+1))))))))+52))'\n",
        "        ws.cell(row=r, column=10).value = fr'=WEEKDAY(B{r},2)'\n",
        "        ws.cell(row=r, column=2).number_format = 'DD.MM.YYYY'\n",
        "        \n",
        "    ws.cell(row=1, column=9).value = fr'Номер недели'\n",
        "    ws.cell(row=1, column=10).value = fr'Номер дня недели'"
      ],
      "execution_count": null,
      "outputs": []
    },
    {
      "cell_type": "code",
      "metadata": {
        "id": "NUOSekgaAP27"
      },
      "source": [
        "def continue_number_down(ws: Worksheet, columns: list):\n",
        "    for column in columns:\n",
        "\n",
        "        row = ws.max_row + 1\n",
        "        last_num = ws.cell(row=row - 1, column=column).value\n",
        "        ws.cell(row=row, column=column).value = last_num + 1\n",
        "\n",
        "        last_cell_id = get_column_letter(column) + str(row-1)\n",
        "        next_cell_id = get_column_letter(column) + str(row)\n",
        "        ws[next_cell_id]._style = copy(ws[last_cell_id]._style)"
      ],
      "execution_count": null,
      "outputs": []
    },
    {
      "cell_type": "code",
      "metadata": {
        "id": "0wqx4QC_-hnT"
      },
      "source": [
        "def base_world_sheet(ws: Worksheet):\n",
        "    new_row = ws.max_row + 1\n",
        "    ws.cell(row=new_row, column=1).value = datetime.now()\n",
        "    ws.cell(row=new_row, column=1).number_format = 'DD.MM.YY'\n",
        "    continue_formula_down(ws, list(range(2, 6)) + [7, 8, 10, 11] + list(range(13, 21)), new_row)\n",
        "\n",
        "    today = (datetime.today() - timedelta(days=1))\n",
        "    daily_df = df_diff.groupby('Дата').sum().loc[today.strftime('%d.%m.%y')]\n",
        "    ws.cell(row=new_row, column=6).value = daily_df['Заражений']\n",
        "    ws.cell(row=new_row, column=9).value = daily_df['Выздоровлений']\n",
        "    ws.cell(row=new_row, column=12).value = daily_df['Смертей']"
      ],
      "execution_count": null,
      "outputs": []
    },
    {
      "cell_type": "code",
      "metadata": {
        "id": "JZQpo-h6Jwrk"
      },
      "source": [
        "def weeks_sheet(ws: Worksheet):\n",
        "    new_row = ws.max_row + 1\n",
        "    # print(new_row)\n",
        "    continue_number_down(ws, [1])\n",
        "    continue_formula_down(ws, list(range(2, 15)), new_row)"
      ],
      "execution_count": null,
      "outputs": []
    },
    {
      "cell_type": "code",
      "metadata": {
        "id": "NwDdWNCl09bR"
      },
      "source": [
        "def countrie_sheet(ws: Worksheet):\n",
        "    new_row = ws.max_row + 1\n",
        "    # print(new_row)\n",
        "    continue_number_down(ws, [1])\n",
        "    continue_formula_down(ws, list(range(2, 32)), new_row)"
      ],
      "execution_count": null,
      "outputs": []
    },
    {
      "cell_type": "code",
      "metadata": {
        "id": "E28DfZxFaglx"
      },
      "source": [
        "def world(filename: str):\n",
        "    wb = openpyxl.load_workbook(filename)\n",
        "\n",
        "    # clear sheet\n",
        "    sheet_name = 'База страны'\n",
        "    idx = wb.sheetnames.index(sheet_name)\n",
        "    ws = wb[sheet_name]\n",
        "    wb.remove(ws)\n",
        "    wb.create_sheet(sheet_name, idx)\n",
        "\n",
        "\n",
        "    base_countries_sheet(wb['База страны'])\n",
        "    base_world_sheet(wb['База мир'])\n",
        "\n",
        "    if (datetime.today().weekday() + 1 == WEEKLY_REPORT_DAY):\n",
        "        weeks_sheet(wb['Недели'])\n",
        "        for country in wb.sheetnames[8:-1]:\n",
        "            countrie_sheet(wb[country])\n",
        "\n",
        "    wb.save(rename_input_filename(filename))"
      ],
      "execution_count": null,
      "outputs": []
    },
    {
      "cell_type": "markdown",
      "metadata": {
        "id": "bOgM-EiEFPyq"
      },
      "source": [
        "##Россия xlsx"
      ]
    },
    {
      "cell_type": "code",
      "metadata": {
        "id": "cpBADbL8FhaE"
      },
      "source": [
        "URL = 'https://yastat.net/s3/milab/2020/covid19-stat/data/v10/deep_data.json'\n",
        "REGION_COLUMN = 2\n",
        "REGION_ROWS_RANGE = (2, 87)\n",
        "WEEKLY_REPORT_DAY = 7\n",
        "DAYS_OF_THE_WEEK_MAP = {\n",
        "    1: 'ПН',\n",
        "    2: 'ВТ',\n",
        "    3: 'СР',\n",
        "    4: 'ЧТ',\n",
        "    5: 'ПТ',\n",
        "    6: 'СБ',\n",
        "    7: 'ВС',\n",
        "}"
      ],
      "execution_count": null,
      "outputs": []
    },
    {
      "cell_type": "code",
      "metadata": {
        "id": "bZGju3vHFPDW"
      },
      "source": [
        "def get_general_info(info: dict):\n",
        "    STOP_COVID_URL = 'https://стопкоронавирус.рф/information/'\n",
        "    wd.get(STOP_COVID_URL)\n",
        "    raw_rows = wd.find_elements_by_xpath('//h3[@class=\"cv-stats-virus__item-value\"]')\n",
        "    rows = [row.text for row in raw_rows]\n",
        "    statistics = [int(''.join(row.strip('\\n ').split())) for row in rows]\n",
        "    useful_statistics = [statistics[2], statistics[4], statistics[0]]\n",
        "    info.update({'general': useful_statistics})\n",
        "\n",
        "\n",
        "def normolize_string(string: str):\n",
        "    string = string.strip().lower().translate({ord('.'): None})\n",
        "    string = ' '.join(string.split('-'))\n",
        "\n",
        "    # remove stop words\n",
        "    stop_words = ['г', 'обл', 'область', 'республика', 'автономная', 'ао']\n",
        "    try:\n",
        "        splitted_string = string.split()\n",
        "    except IndexError:\n",
        "        return ''\n",
        "    stemmer = SnowballStemmer(\"russian\")\n",
        "    string = ' '.join(stemmer.stem(w) for w in splitted_string if w not in stop_words)\n",
        "    return string\n",
        "\n",
        "\n",
        "def fill_сases_sheet(ws: Worksheet, info: dict):\n",
        "    OVERALL_CASES_FORMULA_ROW = 88\n",
        "\n",
        "    last_available_date = datetime.strptime(info['dates'][-1], '%Y-%m-%d')\n",
        "    last_column = ws.max_column\n",
        "    last_table_date = ws.cell(row=1, column=last_column).value\n",
        "    new_days_amount = (last_available_date - last_table_date).days\n",
        "    for i in range(1, new_days_amount + 1):\n",
        "        ws.cell(row=1, column=(last_column + i)).value = (last_table_date + timedelta(days=i))\n",
        "        ws.cell(row=1, column=(last_column + i)).number_format = 'DD.MM.YYYY'\n",
        "\n",
        "        for row in range(*REGION_ROWS_RANGE):\n",
        "            name = ws.cell(row=row, column=REGION_COLUMN).value\n",
        "            key = normolize_string(name)\n",
        "            if key in info['data']:\n",
        "                ws.cell(row=row, column=(last_column + i)).value = \\\n",
        "                    info['data'][key]['cases'][(i - 1) - new_days_amount][0]\n",
        "            else:\n",
        "                raise KeyError(key)\n",
        "\n",
        "        formula = ws.cell(row=OVERALL_CASES_FORMULA_ROW, column=ws.max_column - 1).value\n",
        "        last_cell_id = get_column_letter(ws.max_column - 1) + str(OVERALL_CASES_FORMULA_ROW)\n",
        "        next_cell_id = get_column_letter(ws.max_column) + str(OVERALL_CASES_FORMULA_ROW)\n",
        "        ws[next_cell_id] = Translator(formula, origin=last_cell_id).translate_formula(next_cell_id)\n",
        "\n",
        "    info.update({'new_days_amount': new_days_amount})\n",
        "\n",
        "\n",
        "def get_regions_info() -> dict:\n",
        "    session = requests_html.HTMLSession()\n",
        "    final_region_data = {}\n",
        "    response: dict = session.get(URL, verify=False).json()\n",
        "    regions = response['russia_stat_struct']['data']\n",
        "    dates = response['russia_stat_struct']['dates']\n",
        "    for region in regions:\n",
        "        full_name = regions[region]['info']['name']\n",
        "        short_name = regions[region]['info']['short_name']\n",
        "        regions[region]['info'].pop('name', None)\n",
        "        regions[region]['info'].pop('short_name', None)\n",
        "        final_region_data.update(\n",
        "            dict.fromkeys([normolize_string(full_name), normolize_string(short_name)], regions[region]))\n",
        "    return {'data': final_region_data,\n",
        "            'dates': dates,\n",
        "            'last_date': datetime.strptime(dates[-1], '%Y-%m-%d')}\n",
        "\n",
        "\n",
        "def continue_formula_right(ws: Worksheet, rows: list, column: int):\n",
        "    for row in rows:\n",
        "        formula = ws.cell(row=row, column=column - 1).value\n",
        "        last_cell_id = get_column_letter(column - 1) + str(row)\n",
        "        next_cell_id = get_column_letter(column) + str(row)\n",
        "        ws[next_cell_id] = Translator(formula, origin=last_cell_id).translate_formula(next_cell_id)\n",
        "        ws[next_cell_id]._style = copy(ws[last_cell_id]._style)\n",
        "\n",
        "\n",
        "def  continue_date_right(ws: Worksheet, rows: list):\n",
        "    for row in rows:\n",
        "        try:\n",
        "            column = [c.value for c in ws[row]][3:].index(None) + 4\n",
        "        except ValueError:\n",
        "            column = ws.max_column + 1\n",
        "        last_table_date = ws.cell(row=row, column=column - 1).value\n",
        "        ws.cell(row=row, column=column).value = (last_table_date) + timedelta(days=1)\n",
        "        ws.cell(row=row, column=column).number_format = 'DD.MM.YYYY'\n",
        "\n",
        "        last_cell_id = get_column_letter(column - 1) + str(row)\n",
        "        next_cell_id = get_column_letter(column) + str(row)\n",
        "        ws[next_cell_id]._style = copy(ws[last_cell_id]._style)\n",
        "\n",
        "\n",
        "def continue_number_right(ws: Worksheet, rows: list):\n",
        "    for row in rows:\n",
        "        try:\n",
        "            column = [c.value for c in ws[row]].index(None) + 1\n",
        "        except ValueError:\n",
        "            column = ws.max_column + 1\n",
        "        last_num = ws.cell(row=row, column=column - 1).value\n",
        "        ws.cell(row=row, column=column).value = last_num + 1\n",
        "\n",
        "        last_cell_id = get_column_letter(column - 1) + str(row)\n",
        "        next_cell_id = get_column_letter(column) + str(row)\n",
        "        ws[next_cell_id]._style = copy(ws[last_cell_id]._style)\n",
        "\n",
        "\n",
        "def gain_sheet(ws: Worksheet, info: dict):\n",
        "    NEW_COLUMN_NUM_GAIN = [c.value for c in ws[1]].index(None) + 1\n",
        "\n",
        "    for i in range(info['new_days_amount']):\n",
        "        ws.insert_cols(NEW_COLUMN_NUM_GAIN+i)\n",
        "        continue_date_right(ws, [1])\n",
        "        continue_formula_right(ws, list(range(2, 96)), NEW_COLUMN_NUM_GAIN + i)\n",
        "\n",
        "    info['last_col_in_gain_sheet'] = [c.value for c in ws[1]].index(None)\n",
        "\n",
        "\n",
        "def daily_region_gain_sheet(ws: Worksheet, info: dict):\n",
        "    NEW_COLUMN_NUM_DAILY_GAIN = ws.max_column + 1\n",
        "\n",
        "    for i in range(info['new_days_amount']):\n",
        "        continue_date_right(ws, [1, 20, 35])\n",
        "        continue_formula_right(ws,\n",
        "                               list(range(2, 19)) + list(range(21, 34)) + list(range(36, 49)),\n",
        "                               NEW_COLUMN_NUM_DAILY_GAIN + i)\n",
        "\n",
        "\n",
        "def weekly_gain_sheet(ws: Worksheet, info: dict):\n",
        "    new_col = [c.value for c in ws[1]].index(None) + 1\n",
        "    ws.insert_cols(new_col)\n",
        "    continue_number_right(ws, [1])\n",
        "    continue_formula_right(ws, list(range(2, 94)), new_col)\n",
        "    for row in range(2, 87):\n",
        "        # left part\n",
        "        raw_formula = ws.cell(row=row, column=new_col).value\n",
        "        tokenized_formula = Tokenizer(raw_formula)\n",
        "        last_col_in_gain_sheet = info['last_col_in_gain_sheet']\n",
        "\n",
        "        tokenized_formula.items[1].value = re.sub(r'(?<=:\\$)\\D*',\n",
        "                                                  get_column_letter(last_col_in_gain_sheet),\n",
        "                                                  tokenized_formula.items[1].value)\n",
        "        tokenized_formula.items[3].value = re.sub(r'(?<=:\\$).*(?=\\$)',\n",
        "                                                  get_column_letter(last_col_in_gain_sheet),\n",
        "                                                  tokenized_formula.items[3].value)\n",
        "        new_formula = ''.join(token.value for token in tokenized_formula.items)\n",
        "        ws.cell(row=row, column=new_col).value = fr'={new_formula}'\n",
        "\n",
        "        # right part\n",
        "        ws.cell(row=row, column=new_col+2).value = fr'=MAX($C{row}:${get_column_letter(new_col)}{row})'\n",
        "        ws.cell(row=row, column=new_col+3).value = fr'={get_column_letter(new_col+2)}{row}-{get_column_letter(new_col)}{row}'\n",
        "        ws.cell(row=row, column=new_col+4).value = fr'={get_column_letter(new_col)}{row}-{get_column_letter(new_col-1)}{row}'\n",
        "        ws.cell(row=row, column=new_col+6).value = fr'={get_column_letter(new_col)}{row}/{get_column_letter(new_col-1)}{row}-100%'\n",
        "        ws.cell(row=row, column=new_col+7).value = fr'={get_column_letter(new_col-1)}{row}/{get_column_letter(new_col-2)}{row}-100%'\n",
        "\n",
        "\n",
        "    ws.cell(row=87, column=new_col+4).value = fr'={get_column_letter(new_col)}{87}-{get_column_letter(new_col-1)}{87}'\n",
        "\n",
        "\n",
        "def tpr_weekly_gain_sheet(ws: Worksheet, info: dict):\n",
        "    new_col = [c.value for c in ws[1]].index(None) + 1\n",
        "    ws.insert_cols(new_col)\n",
        "    continue_number_right(ws, [1])\n",
        "    continue_formula_right(ws, list(range(2, 88)), new_col)\n",
        "\n",
        "\n",
        "\n",
        "def get_first_clear_row_in_column(column):\n",
        "    return max((c.row for c in column if c.value is not None)) + 1\n",
        "\n",
        "def base_rf_sheet(ws: Worksheet, info: dict):\n",
        "    NEW_ROW_NUM = get_first_clear_row_in_column(ws['B'])\n",
        "\n",
        "    ws.cell(row=NEW_ROW_NUM, column=1).value = info['last_date']\n",
        "    ws.cell(row=NEW_ROW_NUM, column=1).number_format = 'DD.MM'\n",
        "    for i, stat in enumerate(info['general']):\n",
        "        ws.cell(row=NEW_ROW_NUM, column=2 + i).value = info['general'][i]\n",
        "        ws.cell(row=NEW_ROW_NUM, column=2 + i)._style = copy(ws.cell(row=NEW_ROW_NUM - 1, column=2 + i)._style)\n",
        "    continue_formula_down(ws,\n",
        "                          list(range(5, 20)) + [26] + list(range(28, 36)),\n",
        "                          NEW_ROW_NUM)\n",
        "\n",
        "    if info['last_date'].weekday() + 1 == WEEKLY_REPORT_DAY:  # if it's sunday\n",
        "        continue_formula_n_down(ws, list(range(20, 25))+[27], NEW_ROW_NUM, 7)\n",
        "        continue_formula_n_down(ws, list(range(20, 23)), NEW_ROW_NUM + 1, 7)\n",
        "    # I_column = [c.value for c in ws['I'][10:]]\n",
        "    # try:\n",
        "    #     info['day_infections_cell'] = f'I{I_column.index(None)+10}'\n",
        "    # except ValueError:\n",
        "    #     info['day_infections_cell'] = f'I{len(I_column)+10}'\n",
        "\n",
        "\n",
        "def date_week_sheet(ws: Worksheet, info: dict):\n",
        "    NEW_ROW_NUM = get_first_clear_row_in_column(ws['A'])\n",
        "    ws.cell(row=NEW_ROW_NUM, column=1).value = ws.cell(row=NEW_ROW_NUM - 1, column=1).value + 1\n",
        "    continue_date_down(ws, list(range(2, 4)), 7)\n",
        "\n",
        "\n",
        "\n",
        "\n",
        "def parse_info():\n",
        "    info = get_regions_info()\n",
        "    get_general_info(info)\n",
        "    return info\n",
        "\n",
        "\n",
        "def weekly_region_gain_sheet(ws: Worksheet, info: dict):\n",
        "    new_column = ws.max_column + 1\n",
        "\n",
        "    continue_number_right(ws, [1, 20])\n",
        "    continue_formula_right(ws,\n",
        "                           list(range(2, 17)) + list(range(21, 34)),\n",
        "                           new_column)\n",
        "\n",
        "def gain_7day_sheet(ws: Worksheet, info: dict):\n",
        "    new_column = [c.value for c in ws[1]].index(None) + 1\n",
        "\n",
        "    for i in range(info['new_days_amount']):\n",
        "        ws.insert_cols(new_column+i)\n",
        "        continue_date_right(ws, [1])\n",
        "        continue_formula_right(ws, list(range(2, 94)), new_column + i)\n",
        "\n",
        "    for row in range(2, 87):\n",
        "        ws.cell(row=row, column=new_column+i+3).value = fr'={get_column_letter(new_column+i)}{row}'\n",
        "        ws.cell(row=row, column=new_column+i+2).value = fr'=RANK({get_column_letter(new_column+i+3)}{row},${get_column_letter(new_column+i+3)}$2:${get_column_letter(new_column+i+3)}$86,0)'\n",
        "        ws.cell(row=row, column=new_column+i+4).value = fr'={get_column_letter(new_column+i)}{row}-{get_column_letter(new_column+i-7)}{row}'\n",
        "        ws.cell(row=row, column=new_column+i+6).value = fr'={get_column_letter(new_column+i)}{row}/{get_column_letter(new_column+i-7)}{row}-1'\n",
        "    ws.cell(row=row, column=new_column+i+3).value = fr'={get_column_letter(new_column + i)}{row}'\n",
        "\n",
        "    for row in range(92, 97):\n",
        "        ws.cell(row=row, column=new_column+i+4).value = fr'=VLOOKUP({get_column_letter(new_column+i+2)}{row},${get_column_letter(new_column+i+2)}$2:${get_column_letter(new_column+i+3)}$86,2,0)'\n",
        "        ws.cell(row=row, column=new_column+i+5).value = fr'={get_column_letter(new_column+i+4)}{row}/${get_column_letter(new_column+i+4)}$97'\n",
        "        ws.cell(row=row, column=new_column+i+6).value = fr'==VLOOKUP({get_column_letter(new_column+i+2)}{row},${get_column_letter(new_column+i+2)}$2:${get_column_letter(new_column+i+6)}$86,4,0)'\n",
        "    ws.cell(row=97, column=new_column+i+4).value = fr'={get_column_letter(new_column+i+3)}87'\n",
        "    ws.cell(row=97, column=new_column+i+5).value = fr'={get_column_letter(new_column+i+4)}{97}/${get_column_letter(new_column+i+4)}$97'\n",
        "\n",
        "def rt_sheet(ws: Worksheet, info: dict):\n",
        "    new_column = [c.value for c in ws[2]][3:].index(None) + 4\n",
        "    for i in range(info['new_days_amount']):\n",
        "        ws.insert_cols(new_column+i)\n",
        "        continue_date_right(ws, [2])\n",
        "        continue_formula_right(ws, list(range(3, 89)), new_column + i)\n",
        "\n",
        "    ws.cell(row=1, column=(new_column+i+5)).value = info['last_date']\n",
        "    c = get_column_letter(new_column+i+5)\n",
        "    r = '1'\n",
        "    cell1 = c+r\n",
        "    ws.cell(row=1, column=(new_column+i+6)).value = fr'=MATCH({cell1},$A$2:{get_column_letter(new_column+i)}2)-3'\n",
        "\n",
        "    for row in range(3, 88):\n",
        "        col = get_column_letter(new_column+i)\n",
        "        ws.cell(row=row, column=(new_column+i+2)).value = fr'=RANK({col}{row},${col}$3:${col}$87,0)'\n",
        "\n",
        "        ws.cell(row=row, column=(new_column+i+4)).value = fr'=IF(INDEX($D$3:${col}$87,${get_column_letter(new_column+i+8)}{row},${get_column_letter(new_column+i+6)}$1)<1,1,0)'\n",
        "        ws.cell(row=row, column=(new_column+i+5)).value = fr'=IF(INDEX($D$3:${col}$87,${get_column_letter(new_column+i+8)}{row},${get_column_letter(new_column+i+6)}$1)>1,1,0)'\n",
        "        ws.cell(row=row, column=(new_column+i+6)).value = fr'=IF(INDEX($D$3:${col}$87,${get_column_letter(new_column+i+8)}{row},${get_column_letter(new_column+i+6)}$1)=1,1,0)'\n",
        "\n",
        "    ws.cell(row=88, column=(new_column+i+4)).value = fr'=SUM({get_column_letter(new_column+i+4)}3:{get_column_letter(new_column+i+4)}87)'\n",
        "    ws.cell(row=88, column=(new_column+i+5)).value = fr'=SUM({get_column_letter(new_column+i+5)}3:{get_column_letter(new_column+i+5)}87)'\n",
        "    ws.cell(row=88, column=(new_column+i+6)).value = fr'=SUM({get_column_letter(new_column+i+6)}3:{get_column_letter(new_column+i+6)}87)'\n",
        "    ws.cell(row=89, column=(new_column+i+6)).value = fr'=85-SUM({get_column_letter(new_column+i+4)}88:{get_column_letter(new_column+i+6)}88)'\n",
        "    info['rt_bigger1_cell'] = f'{get_column_letter(new_column+i+5)}88'\n",
        "\n",
        "\n",
        "def delta_day_sheet(ws: Worksheet, info: dict):\n",
        "    new_column = ws.max_column + 1\n",
        "    bigger_zero_fill = PatternFill(start_color='F1CCB1', end_color='F1CCB1', fill_type='solid')\n",
        "    lower_zero_fill = PatternFill(start_color='E4EFDC', end_color='E4EFDC', fill_type='solid')\n",
        "\n",
        "    for i in range(info['new_days_amount']):\n",
        "        continue_date_right(ws, [1])\n",
        "        ws.cell(row=2, column=new_column + i).value = DAYS_OF_THE_WEEK_MAP.get(\n",
        "            ws.cell(row=1, column=new_column + i).value.weekday() + 1\n",
        "        )\n",
        "        last_cell_id = get_column_letter(new_column + i - 1) + str(2)\n",
        "        next_cell_id = get_column_letter(new_column + i) + str(2)\n",
        "        ws[next_cell_id]._style = copy(ws[last_cell_id]._style)\n",
        "\n",
        "        continue_formula_right(ws, list(range(3, 98)), new_column + i)\n",
        "        cell_ids_formatting = '{}3:{}87'.format(get_column_letter(new_column + i), get_column_letter(new_column + i))\n",
        "        ws.conditional_formatting.add(cell_ids_formatting, FormulaRule(formula=[f'{next_cell_id}>0'], fill=bigger_zero_fill))\n",
        "        ws.conditional_formatting.add(cell_ids_formatting, FormulaRule(formula=[f'{next_cell_id}<0'], fill=lower_zero_fill))\n",
        "\n",
        "\n",
        "def msc_sp_sheet(ws: Worksheet, info: dict):\n",
        "    new_column = ws.max_column + 1\n",
        "    # bigger_zero_fill = PatternFill(start_color='F1CCB1', end_color='F1CCB1', fill_type='solid')\n",
        "    # lower_zero_fill = PatternFill(start_color='E4EFDC', end_color='E4EFDC', fill_type='solid')\n",
        "\n",
        "    for i in range(info['new_days_amount']):\n",
        "        continue_date_right(ws, [1])\n",
        "        ws.cell(row=2, column=new_column + i).value = DAYS_OF_THE_WEEK_MAP.get(\n",
        "            ws.cell(row=1, column=new_column + i).value.weekday() + 1\n",
        "        )\n",
        "        last_cell_id = get_column_letter(new_column + i - 1) + str(2)\n",
        "        next_cell_id = get_column_letter(new_column + i) + str(2)\n",
        "        ws[next_cell_id]._style = copy(ws[last_cell_id]._style)\n",
        "        continue_formula_right(ws, list(range(3, 98)), new_column + i)\n"
      ],
      "execution_count": null,
      "outputs": []
    },
    {
      "cell_type": "code",
      "metadata": {
        "id": "7Gv2nkiGGlom"
      },
      "source": [
        "def russia(filename: str):\n",
        "    wb = openpyxl.load_workbook(filename)\n",
        "\n",
        "    info = parse_info()\n",
        "\n",
        "    fill_сases_sheet(wb['Случаев'], info)\n",
        "    gain_sheet(wb['Прирост'], info)\n",
        "    msc_sp_sheet(wb['МСК и СП'], info)\n",
        "    rt_sheet(wb['Rt'], info)\n",
        "    gain_7day_sheet(wb['прирост 7дн'], info)\n",
        "    delta_day_sheet(wb['дельта за сутки'], info)\n",
        "    daily_region_gain_sheet(wb['По рег прис (сут)'], info)\n",
        "\n",
        "    if info['last_date'].weekday()+1 == WEEKLY_REPORT_DAY:\n",
        "        weekly_gain_sheet(wb['Прирост нед'], info)\n",
        "        tpr_weekly_gain_sheet(wb['Тпр нед прироста'], info)\n",
        "        weekly_region_gain_sheet(wb['По рег прис (нед)'], info)\n",
        "        date_week_sheet(wb['Дата-неделя'], info)\n",
        "\n",
        "    base_rf_sheet(wb['База РФ'], info)\n",
        "\n",
        "    wb.save(rename_input_filename(filename))"
      ],
      "execution_count": null,
      "outputs": []
    },
    {
      "cell_type": "markdown",
      "metadata": {
        "id": "vEh_QrVcAEy2"
      },
      "source": [
        "##Сводка docx"
      ]
    },
    {
      "cell_type": "code",
      "metadata": {
        "id": "SbJlqQy_s0oG"
      },
      "source": [
        "# world_out_file = 'МИР21.xlsx'\n",
        "# russia = '/content/russia_regions (1).xlsx'"
      ],
      "execution_count": null,
      "outputs": []
    },
    {
      "cell_type": "code",
      "metadata": {
        "id": "RwGKCCChEPfD"
      },
      "source": [
        "def choise(var: int, s1, s2, s3):\n",
        "    if var > 0:\n",
        "        return s1\n",
        "    elif var < 0:\n",
        "        return s2\n",
        "    else:\n",
        "        return s3"
      ],
      "execution_count": null,
      "outputs": []
    },
    {
      "cell_type": "code",
      "metadata": {
        "id": "3ku-QY7eo_cw"
      },
      "source": [
        "def paragraph1(ws: Worksheet, doc, interface):\n",
        "    row = ws.max_row\n",
        "    print(row)\n",
        "    week_to_week = int(interface.calc_cell(f'P{row}', 'База мир')*100)\n",
        "\n",
        "    w1 = choise(week_to_week,\n",
        "                    'ускоряется',\n",
        "                    'замедляется',\n",
        "                    'остается прежним')\n",
        "\n",
        "    par = f'Темп роста количества новых случаев заражения {w1} (прирост за последние 7 дней находится на уровне {week_to_week}%).'\n",
        "    doc.add_paragraph(par, style='List Bullet')"
      ],
      "execution_count": null,
      "outputs": []
    },
    {
      "cell_type": "code",
      "metadata": {
        "id": "Dbyyxufzq6UZ"
      },
      "source": [
        "def paragraph2(ws: Worksheet, doc, interface):\n",
        "    # row = [c.value for c in ws['AC'][7:]].index(None) + 7\n",
        "    AC_column = [c.value for c in ws['AC']]\n",
        "    while AC_column[-1] is None:\n",
        "        AC_column = AC_column[:-1]\n",
        "    row = len(AC_column)\n",
        "    week = interface.calc_cell(f'AC{row}', 'База РФ')\n",
        "    week_to_week = int(interface.calc_cell(f'AD{row}', 'База РФ')*100)\n",
        "    week_to_week_prev = int(interface.calc_cell(f'AD{row-1}', 'База РФ')*100)\n",
        "\n",
        "    w1 = choise(week_to_week,\n",
        "                    'наблюдается динамика увеличения заболеваемости',\n",
        "                    'наблюдается динамика уменьшения заболеваемости',\n",
        "                    'динамика заболеваемости остается на прежнем уровне')\n",
        "\n",
        "    if week_to_week < week_to_week_prev:\n",
        "        w2 = 'замедлились'\n",
        "    elif week_to_week > week_to_week_prev:\n",
        "        w2 = 'ускорились'\n",
        "    else:\n",
        "        w2 = 'остались неизменными'\n",
        "\n",
        "    dynamic = interface.calc_cell(f'E{row}', 'База РФ')\n",
        "    dynamic_speed = int(interface.calc_cell(f'R{row}', 'База РФ')*100)\n",
        "    dynamic_speed_prev = int(interface.calc_cell(f'R{row-1}', 'База РФ')*100)\n",
        "\n",
        "    w3 = choise(dynamic_speed,\n",
        "                f'повысился на {abs(dynamic_speed)}%',\n",
        "                f'снизился на {abs(dynamic_speed)}%',\n",
        "                'остался неизменным')\n",
        "    w4 = choise(dynamic_speed_prev,\n",
        "                f'повысился на {abs(dynamic_speed_prev)}%',\n",
        "                f'снизился на {abs(dynamic_speed_prev)}%',\n",
        "                'остался неизменным')\n",
        "\n",
        "    recover = interface.calc_cell(f'AE{row}', 'База РФ')\n",
        "    recover_week_to_week = int(interface.calc_cell(f'AF{row}', 'База РФ')*100)\n",
        "\n",
        "    mortality = interface.calc_cell(f'AG{row}', 'База РФ')\n",
        "    mortality_week_to_week = int(interface.calc_cell(f'AH{row}', 'База РФ')*100)\n",
        "\n",
        "    w5 = choise(recover_week_to_week,\n",
        "                f'вырасло на {abs(dynamic_speed)}%',\n",
        "                f'снизилось на {abs(dynamic_speed)}%',\n",
        "                'осталось неизменным')\n",
        "    \n",
        "    w6 = choise(mortality_week_to_week,\n",
        "                f'вырос на {abs(dynamic_speed)}%',\n",
        "                f'снизился на {abs(dynamic_speed)}%',\n",
        "                'остался неизменным')\n",
        "\n",
        "    day_deaths = interface.calc_cell(f'H{row}', 'База РФ')\n",
        "    max_day_deaths = interface.calc_cell(f'L{row}', 'База РФ')\n",
        "    is_daily_record = ', что является новым суточным максимумом за весь период пандемии.' if day_deaths == max_day_deaths else '.' \n",
        "\n",
        "    par = f'В России {w1}, темпы недельного роста {w2}: количество заболевших за последние 7 дней увеличилось на {week_to_week}% (аналогичный показатель днем ранее - {week_to_week_prev}%) и составило {week} случаев. '\\\n",
        "        f'Темп суточной динамики {w3} (днем ранее {w4}), за истекшие сутки зарегистрировано {dynamic} случаев(ая). '\\\n",
        "        f'Количество выздоровлений за семидневный период {w5} по сравнению с показателем предшествующей недели и составило {recover} случаев(ая). '\\\n",
        "        f'Недельный прирост количества летальных исходов {w6} и составил {mortality} случаев(ая). '\\\n",
        "        f'Суточный показатель составил {day_deaths} случаев(ая){is_daily_record}'\n",
        "    doc.add_paragraph(par, style='List Bullet')"
      ],
      "execution_count": null,
      "outputs": []
    },
    {
      "cell_type": "code",
      "metadata": {
        "id": "zCKm7t8LA4j7"
      },
      "source": [
        "def paragraph3(ws: Worksheet, doc, interface):\n",
        "    col = ws.max_column \n",
        "    gain = interface.calc_cell(f'{get_column_letter(col)}3', 'МСК и СП')\n",
        "    gain_speed = int(interface.calc_cell(f'{get_column_letter(col)}6', 'МСК и СП')*100)\n",
        "    gain_speed_prev = int(interface.calc_cell(f'{get_column_letter(col-1)}6', 'МСК и СП')*100)\n",
        "\n",
        "    gain_week = int(interface.calc_cell(f'{get_column_letter(col)}13', 'МСК и СП')*100)\n",
        "    gain_week_prev = int(interface.calc_cell(f'{get_column_letter(col-1)}13', 'МСК и СП')*100)\n",
        "\n",
        "    w1 = choise(gain_speed,\n",
        "                'зафиксировано повышение суточной динамики',\n",
        "                'зафиксировано снижение суточной динамики',\n",
        "                'суточный прирост не изменился')\n",
        "    \n",
        "    w2 = choise(gain_speed,\n",
        "                f'повысился на {abs(gain_speed)}%',\n",
        "                f'снизился на {abs(gain_speed)}%',\n",
        "                f'остался неизменным')\n",
        "    \n",
        "    w3 = choise(gain_speed_prev,\n",
        "                f'повышение составило {gain_speed_prev}%',\n",
        "                f'снижение составило {gain_speed_prev}%',\n",
        "                f'темп остался неизменным')\n",
        "    \n",
        "    w4 = choise(gain_week,\n",
        "                f'повышения недельного прироста составляет {abs(gain_week)}%',\n",
        "                f'снижения недельного прироста составляет {abs(gain_week)}%',\n",
        "                f'недельного прироста остался неизменным')\n",
        "    \n",
        "    w5 = choise(gain_week_prev,\n",
        "                f'повышениe {abs(gain_week_prev)}%',\n",
        "                f'снижениe {abs(gain_week_prev)}%',\n",
        "                f'темп был неизменным')\n",
        "\n",
        "    par = f'В Москве {w1}: за истекший день темп прироста {w2} (днем ранее {w3}), число выявленных случаев составило {gain}. '\\\n",
        "        f'Темп {w4} (днем ранее {w5}).'\n",
        "\n",
        "    doc.add_paragraph(par, style='List Bullet')\n",
        "\n"
      ],
      "execution_count": null,
      "outputs": []
    },
    {
      "cell_type": "code",
      "metadata": {
        "id": "KWZPu5fGybPC"
      },
      "source": [
        "def paragraph4(ws: Worksheet, doc, interface):\n",
        "    col = ws.max_column \n",
        "    gain = interface.calc_cell(f'{get_column_letter(col)}4', 'МСК и СП')\n",
        "    gain_speed = int(interface.calc_cell(f'{get_column_letter(col)}7', 'МСК и СП')*100)\n",
        "    gain_speed_prev = int(interface.calc_cell(f'{get_column_letter(col-1)}7', 'МСК и СП')*100)\n",
        "\n",
        "    gain_week = int(interface.calc_cell(f'{get_column_letter(col)}15', 'МСК и СП')*100)\n",
        "    gain_week_prev = int(interface.calc_cell(f'{get_column_letter(col-1)}15', 'МСК и СП')*100)\n",
        "\n",
        "    w1 = choise(gain_speed,\n",
        "                'зафиксировано повышение суточной динамики',\n",
        "                'зафиксировано снижение суточной динамики',\n",
        "                'суточный прирост не изменился')\n",
        "    \n",
        "    w2 = choise(gain_speed,\n",
        "                f'повысился на {abs(gain_speed)}%',\n",
        "                f'снизился на {abs(gain_speed)}%',\n",
        "                f'остался неизменным')\n",
        "    \n",
        "    w3 = choise(gain_speed_prev,\n",
        "                f'повышение составило {gain_speed_prev}%',\n",
        "                f'снижение составило {gain_speed_prev}%',\n",
        "                f'темп остался неизменным')\n",
        "    \n",
        "    w4 = choise(gain_week,\n",
        "                f'повышения недельного прироста составляет {abs(gain_week)}%',\n",
        "                f'снижения недельного прироста составляет {abs(gain_week)}%',\n",
        "                f'недельного прироста остался неизменным')\n",
        "    \n",
        "    w5 = choise(gain_week_prev,\n",
        "                f'повышениe {abs(gain_week_prev)}%',\n",
        "                f'снижениe {abs(gain_week_prev)}%',\n",
        "                f'темп был неизменным')\n",
        "\n",
        "    par = f'В Санкт-Петербурге {w1}: за истекший день темп прироста {w2} (днем ранее {w3}), число выявленных случаев составило {gain}. '\\\n",
        "        f'Темп {w4} (днем ранее {w5}).'\n",
        "\n",
        "    doc.add_paragraph(par, style='List Bullet')\n"
      ],
      "execution_count": null,
      "outputs": []
    },
    {
      "cell_type": "code",
      "metadata": {
        "id": "OS4u4o9y1CEE"
      },
      "source": [
        "def paragraph5(ws: Worksheet, doc, interface):\n",
        "    info = defaultdict(list)\n",
        "    col = [c.value for c in ws[1]].index(None) + 6\n",
        "    # cities = []\n",
        "    # percents = []\n",
        "    # print(get_column_letter(col))\n",
        "    for i in range(2, 87):\n",
        "        info['ratio'].append(interface.calc_cell(f'{get_column_letter(col)}{i}', 'прирост 7дн'))\n",
        "        info['regions'].append(interface.calc_cell(f'{get_column_letter(col-1)}{i}', 'прирост 7дн'))\n",
        "        info['cases'].append(interface.calc_cell(f'{get_column_letter(col-3)}{i}', 'прирост 7дн'))\n",
        "    # print(info['cases'])\n",
        "    top5_idx = np.array(info['cases']).argsort()[-5:][::-1]\n",
        "    top5_regions = np.array(info['regions'])[top5_idx]\n",
        "    top5_cases = np.array(info['cases'])[top5_idx]\n",
        "\n",
        "    total = interface.calc_cell(f'{get_column_letter(col-3)}{87}', 'прирост 7дн')\n",
        "    top5_percents = [case/total for case in top5_cases]\n",
        "\n",
        "    top5_list = [f'{region} ({round(ratio*100)}%)' for region, ratio in zip(top5_regions, top5_percents)]\n",
        "    # print(top5_list)\n",
        "    par = f'Регионы, которые обеспечили основной прирост по России за последние 7 дней:\\n{\", \".join(top5_list)}.'\n",
        "\n",
        "\n",
        "    doc.add_paragraph(par, style='List Bullet')"
      ],
      "execution_count": null,
      "outputs": []
    },
    {
      "cell_type": "code",
      "metadata": {
        "id": "1_AxAek_Nl8W"
      },
      "source": [
        "def paragraph6(ws: Worksheet, doc, interface):\n",
        "    info = defaultdict(list)\n",
        "    col = [c.value for c in ws[1]].index(None) + 6\n",
        "    # cities = []\n",
        "    # percents = []\n",
        "    for i in range(2, 87):\n",
        "        info['ratio'].append(interface.calc_cell(f'{get_column_letter(col)}{i}', 'прирост 7дн'))\n",
        "        info['regions'].append(interface.calc_cell(f'{get_column_letter(col-1)}{i}', 'прирост 7дн'))\n",
        "        info['last_date'].append(interface.calc_cell(f'{get_column_letter(col-3)}{i}', 'прирост 7дн'))\n",
        "    top20 = np.array(info['last_date']).argsort()[-20:][::-1]\n",
        "    top20_regions = np.array(info['regions'])[top20]\n",
        "    top20_ratio = np.array(info['ratio'])[top20]\n",
        "    top5_ratio_index = top20_ratio.argsort()[-5:][::-1]\n",
        "    top5_regions = top20_regions[top5_ratio_index]\n",
        "    top5_ratio = top20_ratio[top5_ratio_index]\n",
        "    top5_list = [f'{region} (рост на {round(ratio*100)}%)' for region, ratio in zip(top5_regions, top5_ratio)]\n",
        "    # print(top5_list)\n",
        "\n",
        "    bigger50_idx = [i for i, value in enumerate(info['ratio']) if round(value*100) >= 50]\n",
        "    bigger50_regions = np.array(info['regions'])[bigger50_idx]\n",
        "\n",
        "    \n",
        "\n",
        "    if len(bigger50_regions) > 0:\n",
        "        par2 = f'\\nСтоит также отметить, что дополнительно к 5 названным еще в {len(bigger50_regions)} регионе(ах) с меньшей статистикой* скорость недельного прироста превышает 50%.\\n'\\\n",
        "                f'* {\", \".join(bigger50_regions)}'\n",
        "    else:\n",
        "        par2 = ''\n",
        "    \n",
        "    par1 = f'Скорость прироста от недели к неделе (из числа ТОП-20 по абсолютному приросту за последние 7 дней): {\", \".join(top5_list)}.'\n",
        "    doc.add_paragraph(par1+par2, style='List Bullet')"
      ],
      "execution_count": null,
      "outputs": []
    },
    {
      "cell_type": "code",
      "metadata": {
        "id": "hYqhur3HZnsS"
      },
      "source": [
        "def fill_header(doc):\n",
        "    header = '[В Мире и России]'\n",
        "    description = 'Файл «МИР».\\n'\\\n",
        "                    'Лист «Источник» - ссылка на исходные данные. Скачиваем данные в формате xls. Загружаем в лист «База страны».\\n'\\\n",
        "                    'Лист «База мир». В столбце А проставить текущую дату, протянуть формулы по всей строке.\\n'\\\n",
        "                    'Лист «Сутки_забол». Задаем формулы для формирования данных за сутки и за последние 7 дней. Дата для формирования данных за сутки задается как Т-1 (дата предыдущего дня).\\n'\\\n",
        "                    'Данные по вакцинации берем с сайта GOGOV.ru вакцинация. Других источников таких данных пока не обнаружили.\\n'\\\n",
        "                    'Иногда случаются «выбросы» по отдельным странам, когда пересматривается подсчет показателей и за один день показывается статистика за целый период. В этом случае ищем «выброс» в листе «База страны», по какой стране произошло нестандартное отклонение.'\n",
        "    p1 = doc.add_paragraph()\n",
        "    p1.alignment = 1\n",
        "    font = p1.add_run(header).font\n",
        "    font.color.rgb = RGBColor.from_string('EB4034')\n",
        "    \n",
        "    p2 = doc.add_paragraph()\n",
        "    font = p2.add_run(description).font\n",
        "    font.color.rgb = RGBColor.from_string('A32E26')\n",
        "\n"
      ],
      "execution_count": null,
      "outputs": []
    },
    {
      "cell_type": "code",
      "metadata": {
        "id": "TuPGnAfdT8kI"
      },
      "source": [
        "RBC_URL = 'https://www.rbc.ru/story/5e2881539a794724ab627caa'\n",
        "wd.get(RBC_URL)\n",
        "news_links = wd.find_elements_by_xpath(\"//a[@class='item__link']\")\n",
        "headers = wd.find_elements_by_xpath(\"//span[@class='item__title rm-cm-item-text']\")\n",
        "\n",
        "for i, header in enumerate(headers):\n",
        "    try:\n",
        "        if 'о пандемии на' in (header.text.split('.')[1]):\n",
        "            break\n",
        "    except IndexError:\n",
        "        continue\n",
        "\n",
        "news_links[i].click()\n",
        "elem = wd.find_element_by_xpath(\"//*\")\n",
        "source_code = elem.get_attribute(\"outerHTML\")\n",
        "\n",
        "h = html2text.HTML2Text()\n",
        "h.ignore_links = True\n",
        "source_text = h.handle(source_code)\n",
        "rbc_news = [s[4:] for s in source_text.split('\\n') if s.startswith('  * ')]"
      ],
      "execution_count": null,
      "outputs": []
    },
    {
      "cell_type": "code",
      "metadata": {
        "id": "k8M9x5HOUeZ4"
      },
      "source": [
        "STOPCORONA_URL = 'https://стопкоронавирус.рф/news/'\n",
        "wd.get(STOPCORONA_URL)\n",
        "\n",
        "stopcorona_headers_elements = wd.find_elements_by_xpath(\"//div[@class='cv-news-page__news-list-item']//h2\")\n",
        "stopcorona_headers = [header.text for header in stopcorona_headers_elements]\n"
      ],
      "execution_count": null,
      "outputs": []
    },
    {
      "cell_type": "code",
      "metadata": {
        "id": "T8BJ3ymcUegU"
      },
      "source": [
        "STOPCORONA_URL_BUISNESS = 'https://стопкоронавирус.рф/news/?tags=1'\n",
        "wd.get(STOPCORONA_URL_BUISNESS)\n",
        "\n",
        "stopcorona_headers_elements = wd.find_elements_by_xpath(\"//div[@class='cv-news-page__news-list-item']//h2\")\n",
        "stopcorona_headers_buisness = [header.text for header in stopcorona_headers_elements]\n"
      ],
      "execution_count": null,
      "outputs": []
    },
    {
      "cell_type": "code",
      "metadata": {
        "id": "VMS-FJJ9UevR"
      },
      "source": [
        "YANDEX_URL = 'https://yandex.ru/news/rubric/koronavirus'\n",
        "wd.get(YANDEX_URL)\n",
        "\n",
        "stopcorona_headers_elements = wd.find_elements_by_xpath(\"//div[@class='mg-card__annotation']\")\n",
        "yandex_annotation = [header.text for header in stopcorona_headers_elements if header.text != '']\n"
      ],
      "execution_count": null,
      "outputs": []
    },
    {
      "cell_type": "code",
      "metadata": {
        "id": "aLl5YCcMVYNf"
      },
      "source": [
        "def paragraph_news(doc):\n",
        "    doc.add_paragraph('Справочно')\n",
        "    p = doc.add_paragraph()\n",
        "    runner = p.add_run('РБК')\n",
        "    runner.bold = True\n",
        "    for news in rbc_news:\n",
        "        doc.add_paragraph(news, style='List Bullet')\n",
        "\n",
        "    p = doc.add_paragraph()\n",
        "    runner = p.add_run('Стопкоронавирус')\n",
        "    runner.bold = True\n",
        "    for news in stopcorona_headers[:10]:\n",
        "        doc.add_paragraph(news, style='List Bullet')\n",
        "\n",
        "    p = doc.add_paragraph()\n",
        "    runner = p.add_run('Стопкоронавирус по тегу \"бизнесу\"')\n",
        "    runner.bold = True\n",
        "    for news in stopcorona_headers_buisness[:10]:\n",
        "        doc.add_paragraph(news, style='List Bullet')\n",
        "\n",
        "    p = doc.add_paragraph()\n",
        "    runner = p.add_run('Яндекс')\n",
        "    runner.bold = True\n",
        "    for news in yandex_annotation[:10]:\n",
        "        doc.add_paragraph(news, style='List Bullet')"
      ],
      "execution_count": null,
      "outputs": []
    },
    {
      "cell_type": "code",
      "metadata": {
        "id": "5fohDbMYpvtO"
      },
      "source": [
        "def report_docx():\n",
        "    wb_world = openpyxl.load_workbook(rename_input_filename(world_input_filename))\n",
        "    wb_russia = openpyxl.load_workbook(rename_input_filename(russia_input_filename))\n",
        "    interface_world = OpenpyxlInterface(wb=wb_world, use_cache=True)\n",
        "    interface_russia = OpenpyxlInterface(wb=wb_russia, use_cache=True)\n",
        "\n",
        "    doc = docx.Document()\n",
        "    fill_header(doc)\n",
        "    paragraph1(wb_world['База мир'], doc, interface_world)\n",
        "    paragraph2(wb_russia['База РФ'], doc, interface_russia)\n",
        "    paragraph3(wb_russia['МСК и СП'], doc, interface_russia)\n",
        "    paragraph4(wb_russia['МСК и СП'], doc, interface_russia)\n",
        "    paragraph5(wb_russia['прирост 7дн'], doc, interface_russia)\n",
        "    paragraph6(wb_russia['прирост 7дн'], doc, interface_russia)\n",
        "    paragraph_news(doc)\n",
        "    doc.save(rename_input_filename('сводка.docx'))\n"
      ],
      "execution_count": null,
      "outputs": []
    },
    {
      "cell_type": "markdown",
      "metadata": {
        "id": "gtJwGbwx1oZg"
      },
      "source": [
        "#Графики"
      ]
    },
    {
      "cell_type": "code",
      "metadata": {
        "id": "33qRZk6FuFhe"
      },
      "source": [
        "!wget https://raw.githubusercontent.com/owid/covid-19-data/master/public/data/vaccinations/vaccinations.csv"
      ],
      "execution_count": null,
      "outputs": []
    },
    {
      "cell_type": "code",
      "metadata": {
        "id": "xyroFnx2uF-E"
      },
      "source": [
        "vac = pd.read_csv('/content/vaccinations.csv')\n",
        "vac['location'] = vac['location'].apply(translate_country)"
      ],
      "execution_count": null,
      "outputs": []
    },
    {
      "cell_type": "code",
      "metadata": {
        "id": "jWILqi6Jdlqy"
      },
      "source": [
        "last_date = df_diff['Дата'].sort_values().iloc[-1]\n",
        "top5_countries = df_diff[df_diff['Дата'] == last_date].sort_values('Заражений(МА)', ascending=False).iloc[:5]['Страна'].values"
      ],
      "execution_count": null,
      "outputs": []
    },
    {
      "cell_type": "code",
      "metadata": {
        "id": "ZdV3yAWB6xHY"
      },
      "source": [
        "if not os.path.exists(f'{today}/graphics'):\n",
        "    os.mkdir(f'{today}/graphics')"
      ],
      "execution_count": null,
      "outputs": []
    },
    {
      "cell_type": "code",
      "metadata": {
        "id": "EXoh5yrhklpV"
      },
      "source": [
        "prs.slides[0].shapes[7].table.cell(0, 1).text"
      ],
      "execution_count": null,
      "outputs": []
    },
    {
      "cell_type": "code",
      "metadata": {
        "id": "2ZcpWvemrOsM"
      },
      "source": [
        "\n"
      ],
      "execution_count": null,
      "outputs": []
    },
    {
      "cell_type": "code",
      "metadata": {
        "id": "WTDZcodKcvFG"
      },
      "source": [
        "pic_width = 7.34\n",
        "pic_height = 2.98\n",
        "\n",
        "#(slide, x, y)\n",
        "pic_positions = [(1, 1.33, 2.65), (1, 1.33, 5.84), (1, 1.33, 8.86),\n",
        "                 (1, 8.89, 2.65), (1, 8.89, 5.84), (1, 8.89, 8.86),\n",
        "                 (1, 16.79, 2.65), (1, 16.79, 5.84), (1, 16.79, 8.86),\n",
        "                 (2, 5.02, 2.59), (2, 5.02, 5.88), (2, 5.02, 8.86),\n",
        "                 (2, 13.74, 2.59), (2, 13.74, 5.88), (2, 13.74, 8.86)]\n",
        "county_name_positions = [(1.5, 2.14), (8.9, 2.14), (16.8, 2.14), (5.05, 2.14), (13.66, 2.14)]\n",
        "confirmed_text_positions = [(1.61, 2.6), (9, 2.6), (16.87, 2.6), (5.1, 2.6), (13.7, 2.6)]\n",
        "deaths_text_positions = [(1.61, 5.84), (9, 5.84), (16.87, 5.84), (5.1, 5.95), (13.7, 5.95)]\n",
        "vaccine_text_positions = [(1.61, 9.04), (9, 9.04), (16.87, 9.04), (5.1, 9.04), (13.7, 9.04)]\n",
        "prs = Presentation(prs_filename)\n",
        "\n",
        "\n",
        "for i, country in enumerate(top5_countries):\n",
        "    # First graphic (confirmed)\n",
        "    country_df = df_diff[df_diff['Страна'] == country]\n",
        "    fig = px.line(country_df.sort_values('Дата'),\n",
        "                  x=\"Дата\",\n",
        "                  y=\"Заражений за день\",\n",
        "                  color_discrete_sequence=[\"red\"],\n",
        "                  template='plotly_white',)\n",
        "    fig.update_layout(\n",
        "        margin=dict(t=0,l=0,b=0,r=15)\n",
        "    )\n",
        "    fig.update_yaxes(title_text=\"\")\n",
        "    fig.update_xaxes(title_text=\"\")\n",
        "    pic_path = f'{today}/graphics/Заражений {country}.jpeg'\n",
        "    fig.write_image(pic_path)\n",
        "    \n",
        "    slide, x, y = pic_positions.pop(0)\n",
        "    prs.slides[pic_pos[0]].shapes.add_picture(pic_path, pptx.util.Cm(x), pptx.util.Cm(y),\n",
        "                               width=pptx.util.Cm(pic_width), height=pptx.util.Cm(pic_height))\n",
        "\n",
        "    # country name\n",
        "    x, y = county_name_positions.pop(0)\n",
        "    txBox = prs.slides[pic_pos[0]].shapes.add_textbox(pptx.util.Cm(x), pptx.util.Cm(y),\n",
        "                               width=pptx.util.Cm(1), height=pptx.util.Cm(1))\n",
        "    tf = txBox.text_frame\n",
        "    p = tf.paragraphs[0]\n",
        "    p.text = country\n",
        "    p.font.size = pptx.util.Pt(10)\n",
        "    p.font.bold = True\n",
        "\n",
        "    # Confirmed cases text\n",
        "    x, y = confirmed_text_positions.pop(0)\n",
        "    txBox = prs.slides[slide].shapes.add_textbox(pptx.util.Cm(x), pptx.util.Cm(y),\n",
        "                               width=pptx.util.Cm(1), height=pptx.util.Cm(1))\n",
        "    tf = txBox.text_frame\n",
        "    p = tf.paragraphs[0]\n",
        "    confirmed = country_df[country_df['Дата'] == country_df['Дата'].max()]['Заражений'].iloc[0]\n",
        "    p.text = f'Заболеваний: {int(confirmed)}'\n",
        "    p.font.size = pptx.util.Pt(5)\n",
        "    p.font.bold = True\n",
        "    p.font.name = 'Trebuchet MS'\n",
        "\n",
        "\n",
        "    # Second graphic (deaths)\n",
        "    fig = px.line(country_df.sort_values('Дата'), x=\"Дата\", y=\"Смертей за день\", color_discrete_sequence=[\"blue\"], template='plotly_white')\n",
        "    fig.update_layout(\n",
        "        margin=dict(t=0,l=0,b=0,r=15)\n",
        "    )\n",
        "    fig.update_yaxes(title_text=\"\")\n",
        "    fig.update_xaxes(title_text=\"\")\n",
        "    pic_path = f'{today}/graphics/Смертей {country}.jpeg'\n",
        "    fig.write_image(pic_path)\n",
        "\n",
        "    slide, x, y = pic_positions.pop(0)\n",
        "    prs.slides[slide].shapes.add_picture(pic_path, pptx.util.Cm(x), pptx.util.Cm(y),\n",
        "                               width=pptx.util.Cm(pic_width), height=pptx.util.Cm(pic_height))\n",
        "\n",
        "\n",
        "    # Deaths text\n",
        "    x, y = deaths_text_positions.pop(0)\n",
        "    txBox = prs.slides[slide].shapes.add_textbox(pptx.util.Cm(x), pptx.util.Cm(y),\n",
        "                               width=pptx.util.Cm(1), height=pptx.util.Cm(1))\n",
        "    tf = txBox.text_frame\n",
        "    p = tf.paragraphs[0]\n",
        "    deaths = country_df[country_df['Дата'] == country_df['Дата'].max()]['Смертей'].iloc[0]\n",
        "    p.text = f'Летальных исходов: {int(deaths)} ({round(deaths/confirmed * 100, 1)}%)'\n",
        "    p.font.size = pptx.util.Pt(5)\n",
        "    p.font.bold = True\n",
        "    p.font.name = 'Trebuchet MS'\n",
        "\n",
        "\n",
        "    #vaccine_graphics\n",
        "    print(country)\n",
        "    vac_country = vac[vac['location'] == country]\n",
        "    fig = go.Figure()\n",
        "    fig.add_trace(go.Scatter(x=vac_country['date'], y=vac_country['people_fully_vaccinated'],\n",
        "                        mode='lines',\n",
        "                        name='Итого привито 2 комп., чел.', connectgaps=True))\n",
        "    fig.add_trace(go.Scatter(x=vac_country['date'], y=vac_country['people_vaccinated'],\n",
        "                        mode='lines',\n",
        "                        name='Итого привито 1 комп., чел.', connectgaps=True))\n",
        "    fig.add_trace(go.Scatter(x=vac_country['date'], y=vac_country['total_vaccinations'],\n",
        "                        mode='lines', name='Итого прививок, шт.', connectgaps=True))\n",
        "    fig.update_layout(\n",
        "        margin=dict(t=0,l=0,b=0,r=15)\n",
        "    )\n",
        "    fig.update_layout(template='plotly_white')\n",
        "    fig.update_layout(legend=dict(\n",
        "        orientation=\"h\",\n",
        "        yanchor=\"bottom\",\n",
        "        y=1.02,\n",
        "        xanchor=\"right\",\n",
        "        x=0.5\n",
        "    ))\n",
        "    pic_path = f'{today}/graphics/Вакцина {country}.jpeg'\n",
        "    fig.write_image(pic_path)\n",
        "    slide, x, y = pic_positions.pop(0)\n",
        "    prs.slides[slide].shapes.add_picture(pic_path, pptx.util.Cm(x), pptx.util.Cm(y),\n",
        "                               width=pptx.util.Cm(pic_width), height=pptx.util.Cm(pic_height))\n",
        "    \n",
        "\n",
        "    # vaccine info\n",
        "    last_date = vac_country[vac_country['date'] == vac_country['date'].max()]\n",
        "    people_fully_vaccinated = last_date['people_fully_vaccinated'].iloc[0]\n",
        "    people_fully_vaccinated_per_hundred = last_date['people_fully_vaccinated_per_hundred'].iloc[0]\n",
        "    people_vaccinated = last_date['people_vaccinated'].iloc[0]\n",
        "    people_vaccinated_per_hundred = last_date['people_vaccinated_per_hundred'].iloc[0]\n",
        "    daily_vaccinations = last_date['daily_vaccinations'].iloc[0]\n",
        "    daily_vaccinations_per_hundred = last_date['daily_vaccinations_per_million'].iloc[0]/100000\n",
        "\n",
        "\n",
        "    x, y = vaccine_text_positions.pop(0)\n",
        "    txBox = prs.slides[slide].shapes.add_textbox(pptx.util.Cm(x), pptx.util.Cm(y),\n",
        "                               width=pptx.util.Cm(1), height=pptx.util.Cm(1))\n",
        "    tf = txBox.text_frame\n",
        "    p = tf.paragraphs[0]\n",
        "    p.text = f'Привито {people_fully_vaccinated_per_hundred}% ({int(people_fully_vaccinated)} чел.)'\n",
        "    p.font.size = pptx.util.Pt(5)\n",
        "    p.font.name = 'Trebuchet MS'\n",
        "\n",
        "    p = tf.add_paragraph()\n",
        "    p.text = f'Привито 1 компонентом {people_vaccinated_per_hundred}% ({int(people_vaccinated)} чел.)'\n",
        "    p.font.size = pptx.util.Pt(5)\n",
        "    p.font.name = 'Trebuchet MS'\n",
        "\n",
        "    p = tf.add_paragraph()\n",
        "    p.text = f'Привито за день {int(daily_vaccinations)} чел. ({daily_vaccinations_per_hundred}% от населения)'\n",
        "    p.font.size = pptx.util.Pt(5)\n",
        "    p.font.name = 'Trebuchet MS'\n",
        "\n",
        "\n",
        "    # table in 1 slide\n",
        "    table_row = [country,\n",
        "                 str(int(country_df[country_df['Дата'] == country_df['Дата'].max()]['Заражений(МА)'].iloc[0])),\n",
        "                 str(int(country_df[country_df['Дата'] == country_df['Дата'].max()]['Заражений за день'].iloc[0])),\n",
        "                 str(people_vaccinated_per_hundred),\n",
        "                 str(people_fully_vaccinated_per_hundred),\n",
        "                 str(int(country_df[country_df['Дата'] == country_df['Дата'].max()]['Смертей за день'].iloc[0]))]\n",
        "    for j, elem in enumerate(table_row):\n",
        "        prs.slides[0].shapes[7].table.cell(i+1, j).text = elem\n",
        "        p = prs.slides[0].shapes[7].table.cell(i+1, j).text_frame.paragraphs[0]\n",
        "        p.font.size = pptx.util.Pt(11)\n",
        "        p.alignment = PP_ALIGN.CENTER\n",
        "\n",
        "    \n",
        "prs.save(rename_input_filename('out.pptx'))"
      ],
      "execution_count": null,
      "outputs": []
    },
    {
      "cell_type": "code",
      "metadata": {
        "id": "YCQI3GhfdLxY"
      },
      "source": [
        "# files.download('/content/29-07-2021/out_29-07-2021.pptx')"
      ],
      "execution_count": null,
      "outputs": []
    },
    {
      "cell_type": "markdown",
      "metadata": {
        "id": "Fj2RS7Duc8KS"
      },
      "source": [
        "#Результат"
      ]
    },
    {
      "cell_type": "code",
      "metadata": {
        "id": "5XG4eRRx_hKj"
      },
      "source": [
        "def main(world_input_filename: str, russia_input_filename: str):\n",
        "    russia(russia_input_filename)\n",
        "    world(world_input_filename)\n",
        "    report_docx()\n"
      ],
      "execution_count": null,
      "outputs": []
    },
    {
      "cell_type": "code",
      "metadata": {
        "id": "VeUuBTnfHqVe"
      },
      "source": [
        "main(world_input_filename, russia_input_filename)"
      ],
      "execution_count": null,
      "outputs": []
    },
    {
      "cell_type": "code",
      "metadata": {
        "id": "3N1cdVZJRfTr"
      },
      "source": [
        "!zip -r archive.zip $FOLDER_NAME"
      ],
      "execution_count": null,
      "outputs": []
    },
    {
      "cell_type": "code",
      "metadata": {
        "id": "6lImsy5QkR8m"
      },
      "source": [
        "print(f'Время работы скрипта: {(time.time() - start_time)/60} минут')"
      ],
      "execution_count": null,
      "outputs": []
    },
    {
      "cell_type": "code",
      "metadata": {
        "id": "BjUd8frFi72A"
      },
      "source": [
        "files.download('archive.zip')"
      ],
      "execution_count": null,
      "outputs": []
    }
  ]
}