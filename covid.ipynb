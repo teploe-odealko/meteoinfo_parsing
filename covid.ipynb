{
  "nbformat": 4,
  "nbformat_minor": 0,
  "metadata": {
    "colab": {
      "name": "covid",
      "provenance": [],
      "collapsed_sections": [
        "dLOXfkplKZAP"
      ],
      "include_colab_link": true
    },
    "kernelspec": {
      "name": "python3",
      "display_name": "Python 3"
    },
    "language_info": {
      "name": "python"
    }
  },
  "cells": [
    {
      "cell_type": "markdown",
      "metadata": {
        "id": "view-in-github",
        "colab_type": "text"
      },
      "source": [
        "<a href=\"https://colab.research.google.com/github/teploe-odealko/meteoinfo_parsing/blob/main/covid.ipynb\" target=\"_parent\"><img src=\"https://colab.research.google.com/assets/colab-badge.svg\" alt=\"Open In Colab\"/></a>"
      ]
    },
    {
      "cell_type": "markdown",
      "metadata": {
        "id": "eKYOd9krKb1C"
      },
      "source": [
        "#Настройка"
      ]
    },
    {
      "cell_type": "code",
      "metadata": {
        "colab": {
          "resources": {
            "http://localhost:8080/nbextensions/google.colab/files.js": {
              "data": "Ly8gQ29weXJpZ2h0IDIwMTcgR29vZ2xlIExMQwovLwovLyBMaWNlbnNlZCB1bmRlciB0aGUgQXBhY2hlIExpY2Vuc2UsIFZlcnNpb24gMi4wICh0aGUgIkxpY2Vuc2UiKTsKLy8geW91IG1heSBub3QgdXNlIHRoaXMgZmlsZSBleGNlcHQgaW4gY29tcGxpYW5jZSB3aXRoIHRoZSBMaWNlbnNlLgovLyBZb3UgbWF5IG9idGFpbiBhIGNvcHkgb2YgdGhlIExpY2Vuc2UgYXQKLy8KLy8gICAgICBodHRwOi8vd3d3LmFwYWNoZS5vcmcvbGljZW5zZXMvTElDRU5TRS0yLjAKLy8KLy8gVW5sZXNzIHJlcXVpcmVkIGJ5IGFwcGxpY2FibGUgbGF3IG9yIGFncmVlZCB0byBpbiB3cml0aW5nLCBzb2Z0d2FyZQovLyBkaXN0cmlidXRlZCB1bmRlciB0aGUgTGljZW5zZSBpcyBkaXN0cmlidXRlZCBvbiBhbiAiQVMgSVMiIEJBU0lTLAovLyBXSVRIT1VUIFdBUlJBTlRJRVMgT1IgQ09ORElUSU9OUyBPRiBBTlkgS0lORCwgZWl0aGVyIGV4cHJlc3Mgb3IgaW1wbGllZC4KLy8gU2VlIHRoZSBMaWNlbnNlIGZvciB0aGUgc3BlY2lmaWMgbGFuZ3VhZ2UgZ292ZXJuaW5nIHBlcm1pc3Npb25zIGFuZAovLyBsaW1pdGF0aW9ucyB1bmRlciB0aGUgTGljZW5zZS4KCi8qKgogKiBAZmlsZW92ZXJ2aWV3IEhlbHBlcnMgZm9yIGdvb2dsZS5jb2xhYiBQeXRob24gbW9kdWxlLgogKi8KKGZ1bmN0aW9uKHNjb3BlKSB7CmZ1bmN0aW9uIHNwYW4odGV4dCwgc3R5bGVBdHRyaWJ1dGVzID0ge30pIHsKICBjb25zdCBlbGVtZW50ID0gZG9jdW1lbnQuY3JlYXRlRWxlbWVudCgnc3BhbicpOwogIGVsZW1lbnQudGV4dENvbnRlbnQgPSB0ZXh0OwogIGZvciAoY29uc3Qga2V5IG9mIE9iamVjdC5rZXlzKHN0eWxlQXR0cmlidXRlcykpIHsKICAgIGVsZW1lbnQuc3R5bGVba2V5XSA9IHN0eWxlQXR0cmlidXRlc1trZXldOwogIH0KICByZXR1cm4gZWxlbWVudDsKfQoKLy8gTWF4IG51bWJlciBvZiBieXRlcyB3aGljaCB3aWxsIGJlIHVwbG9hZGVkIGF0IGEgdGltZS4KY29uc3QgTUFYX1BBWUxPQURfU0laRSA9IDEwMCAqIDEwMjQ7CgpmdW5jdGlvbiBfdXBsb2FkRmlsZXMoaW5wdXRJZCwgb3V0cHV0SWQpIHsKICBjb25zdCBzdGVwcyA9IHVwbG9hZEZpbGVzU3RlcChpbnB1dElkLCBvdXRwdXRJZCk7CiAgY29uc3Qgb3V0cHV0RWxlbWVudCA9IGRvY3VtZW50LmdldEVsZW1lbnRCeUlkKG91dHB1dElkKTsKICAvLyBDYWNoZSBzdGVwcyBvbiB0aGUgb3V0cHV0RWxlbWVudCB0byBtYWtlIGl0IGF2YWlsYWJsZSBmb3IgdGhlIG5leHQgY2FsbAogIC8vIHRvIHVwbG9hZEZpbGVzQ29udGludWUgZnJvbSBQeXRob24uCiAgb3V0cHV0RWxlbWVudC5zdGVwcyA9IHN0ZXBzOwoKICByZXR1cm4gX3VwbG9hZEZpbGVzQ29udGludWUob3V0cHV0SWQpOwp9CgovLyBUaGlzIGlzIHJvdWdobHkgYW4gYXN5bmMgZ2VuZXJhdG9yIChub3Qgc3VwcG9ydGVkIGluIHRoZSBicm93c2VyIHlldCksCi8vIHdoZXJlIHRoZXJlIGFyZSBtdWx0aXBsZSBhc3luY2hyb25vdXMgc3RlcHMgYW5kIHRoZSBQeXRob24gc2lkZSBpcyBnb2luZwovLyB0byBwb2xsIGZvciBjb21wbGV0aW9uIG9mIGVhY2ggc3RlcC4KLy8gVGhpcyB1c2VzIGEgUHJvbWlzZSB0byBibG9jayB0aGUgcHl0aG9uIHNpZGUgb24gY29tcGxldGlvbiBvZiBlYWNoIHN0ZXAsCi8vIHRoZW4gcGFzc2VzIHRoZSByZXN1bHQgb2YgdGhlIHByZXZpb3VzIHN0ZXAgYXMgdGhlIGlucHV0IHRvIHRoZSBuZXh0IHN0ZXAuCmZ1bmN0aW9uIF91cGxvYWRGaWxlc0NvbnRpbnVlKG91dHB1dElkKSB7CiAgY29uc3Qgb3V0cHV0RWxlbWVudCA9IGRvY3VtZW50LmdldEVsZW1lbnRCeUlkKG91dHB1dElkKTsKICBjb25zdCBzdGVwcyA9IG91dHB1dEVsZW1lbnQuc3RlcHM7CgogIGNvbnN0IG5leHQgPSBzdGVwcy5uZXh0KG91dHB1dEVsZW1lbnQubGFzdFByb21pc2VWYWx1ZSk7CiAgcmV0dXJuIFByb21pc2UucmVzb2x2ZShuZXh0LnZhbHVlLnByb21pc2UpLnRoZW4oKHZhbHVlKSA9PiB7CiAgICAvLyBDYWNoZSB0aGUgbGFzdCBwcm9taXNlIHZhbHVlIHRvIG1ha2UgaXQgYXZhaWxhYmxlIHRvIHRoZSBuZXh0CiAgICAvLyBzdGVwIG9mIHRoZSBnZW5lcmF0b3IuCiAgICBvdXRwdXRFbGVtZW50Lmxhc3RQcm9taXNlVmFsdWUgPSB2YWx1ZTsKICAgIHJldHVybiBuZXh0LnZhbHVlLnJlc3BvbnNlOwogIH0pOwp9CgovKioKICogR2VuZXJhdG9yIGZ1bmN0aW9uIHdoaWNoIGlzIGNhbGxlZCBiZXR3ZWVuIGVhY2ggYXN5bmMgc3RlcCBvZiB0aGUgdXBsb2FkCiAqIHByb2Nlc3MuCiAqIEBwYXJhbSB7c3RyaW5nfSBpbnB1dElkIEVsZW1lbnQgSUQgb2YgdGhlIGlucHV0IGZpbGUgcGlja2VyIGVsZW1lbnQuCiAqIEBwYXJhbSB7c3RyaW5nfSBvdXRwdXRJZCBFbGVtZW50IElEIG9mIHRoZSBvdXRwdXQgZGlzcGxheS4KICogQHJldHVybiB7IUl0ZXJhYmxlPCFPYmplY3Q+fSBJdGVyYWJsZSBvZiBuZXh0IHN0ZXBzLgogKi8KZnVuY3Rpb24qIHVwbG9hZEZpbGVzU3RlcChpbnB1dElkLCBvdXRwdXRJZCkgewogIGNvbnN0IGlucHV0RWxlbWVudCA9IGRvY3VtZW50LmdldEVsZW1lbnRCeUlkKGlucHV0SWQpOwogIGlucHV0RWxlbWVudC5kaXNhYmxlZCA9IGZhbHNlOwoKICBjb25zdCBvdXRwdXRFbGVtZW50ID0gZG9jdW1lbnQuZ2V0RWxlbWVudEJ5SWQob3V0cHV0SWQpOwogIG91dHB1dEVsZW1lbnQuaW5uZXJIVE1MID0gJyc7CgogIGNvbnN0IHBpY2tlZFByb21pc2UgPSBuZXcgUHJvbWlzZSgocmVzb2x2ZSkgPT4gewogICAgaW5wdXRFbGVtZW50LmFkZEV2ZW50TGlzdGVuZXIoJ2NoYW5nZScsIChlKSA9PiB7CiAgICAgIHJlc29sdmUoZS50YXJnZXQuZmlsZXMpOwogICAgfSk7CiAgfSk7CgogIGNvbnN0IGNhbmNlbCA9IGRvY3VtZW50LmNyZWF0ZUVsZW1lbnQoJ2J1dHRvbicpOwogIGlucHV0RWxlbWVudC5wYXJlbnRFbGVtZW50LmFwcGVuZENoaWxkKGNhbmNlbCk7CiAgY2FuY2VsLnRleHRDb250ZW50ID0gJ0NhbmNlbCB1cGxvYWQnOwogIGNvbnN0IGNhbmNlbFByb21pc2UgPSBuZXcgUHJvbWlzZSgocmVzb2x2ZSkgPT4gewogICAgY2FuY2VsLm9uY2xpY2sgPSAoKSA9PiB7CiAgICAgIHJlc29sdmUobnVsbCk7CiAgICB9OwogIH0pOwoKICAvLyBXYWl0IGZvciB0aGUgdXNlciB0byBwaWNrIHRoZSBmaWxlcy4KICBjb25zdCBmaWxlcyA9IHlpZWxkIHsKICAgIHByb21pc2U6IFByb21pc2UucmFjZShbcGlja2VkUHJvbWlzZSwgY2FuY2VsUHJvbWlzZV0pLAogICAgcmVzcG9uc2U6IHsKICAgICAgYWN0aW9uOiAnc3RhcnRpbmcnLAogICAgfQogIH07CgogIGNhbmNlbC5yZW1vdmUoKTsKCiAgLy8gRGlzYWJsZSB0aGUgaW5wdXQgZWxlbWVudCBzaW5jZSBmdXJ0aGVyIHBpY2tzIGFyZSBub3QgYWxsb3dlZC4KICBpbnB1dEVsZW1lbnQuZGlzYWJsZWQgPSB0cnVlOwoKICBpZiAoIWZpbGVzKSB7CiAgICByZXR1cm4gewogICAgICByZXNwb25zZTogewogICAgICAgIGFjdGlvbjogJ2NvbXBsZXRlJywKICAgICAgfQogICAgfTsKICB9CgogIGZvciAoY29uc3QgZmlsZSBvZiBmaWxlcykgewogICAgY29uc3QgbGkgPSBkb2N1bWVudC5jcmVhdGVFbGVtZW50KCdsaScpOwogICAgbGkuYXBwZW5kKHNwYW4oZmlsZS5uYW1lLCB7Zm9udFdlaWdodDogJ2JvbGQnfSkpOwogICAgbGkuYXBwZW5kKHNwYW4oCiAgICAgICAgYCgke2ZpbGUudHlwZSB8fCAnbi9hJ30pIC0gJHtmaWxlLnNpemV9IGJ5dGVzLCBgICsKICAgICAgICBgbGFzdCBtb2RpZmllZDogJHsKICAgICAgICAgICAgZmlsZS5sYXN0TW9kaWZpZWREYXRlID8gZmlsZS5sYXN0TW9kaWZpZWREYXRlLnRvTG9jYWxlRGF0ZVN0cmluZygpIDoKICAgICAgICAgICAgICAgICAgICAgICAgICAgICAgICAgICAgJ24vYSd9IC0gYCkpOwogICAgY29uc3QgcGVyY2VudCA9IHNwYW4oJzAlIGRvbmUnKTsKICAgIGxpLmFwcGVuZENoaWxkKHBlcmNlbnQpOwoKICAgIG91dHB1dEVsZW1lbnQuYXBwZW5kQ2hpbGQobGkpOwoKICAgIGNvbnN0IGZpbGVEYXRhUHJvbWlzZSA9IG5ldyBQcm9taXNlKChyZXNvbHZlKSA9PiB7CiAgICAgIGNvbnN0IHJlYWRlciA9IG5ldyBGaWxlUmVhZGVyKCk7CiAgICAgIHJlYWRlci5vbmxvYWQgPSAoZSkgPT4gewogICAgICAgIHJlc29sdmUoZS50YXJnZXQucmVzdWx0KTsKICAgICAgfTsKICAgICAgcmVhZGVyLnJlYWRBc0FycmF5QnVmZmVyKGZpbGUpOwogICAgfSk7CiAgICAvLyBXYWl0IGZvciB0aGUgZGF0YSB0byBiZSByZWFkeS4KICAgIGxldCBmaWxlRGF0YSA9IHlpZWxkIHsKICAgICAgcHJvbWlzZTogZmlsZURhdGFQcm9taXNlLAogICAgICByZXNwb25zZTogewogICAgICAgIGFjdGlvbjogJ2NvbnRpbnVlJywKICAgICAgfQogICAgfTsKCiAgICAvLyBVc2UgYSBjaHVua2VkIHNlbmRpbmcgdG8gYXZvaWQgbWVzc2FnZSBzaXplIGxpbWl0cy4gU2VlIGIvNjIxMTU2NjAuCiAgICBsZXQgcG9zaXRpb24gPSAwOwogICAgZG8gewogICAgICBjb25zdCBsZW5ndGggPSBNYXRoLm1pbihmaWxlRGF0YS5ieXRlTGVuZ3RoIC0gcG9zaXRpb24sIE1BWF9QQVlMT0FEX1NJWkUpOwogICAgICBjb25zdCBjaHVuayA9IG5ldyBVaW50OEFycmF5KGZpbGVEYXRhLCBwb3NpdGlvbiwgbGVuZ3RoKTsKICAgICAgcG9zaXRpb24gKz0gbGVuZ3RoOwoKICAgICAgY29uc3QgYmFzZTY0ID0gYnRvYShTdHJpbmcuZnJvbUNoYXJDb2RlLmFwcGx5KG51bGwsIGNodW5rKSk7CiAgICAgIHlpZWxkIHsKICAgICAgICByZXNwb25zZTogewogICAgICAgICAgYWN0aW9uOiAnYXBwZW5kJywKICAgICAgICAgIGZpbGU6IGZpbGUubmFtZSwKICAgICAgICAgIGRhdGE6IGJhc2U2NCwKICAgICAgICB9LAogICAgICB9OwoKICAgICAgbGV0IHBlcmNlbnREb25lID0gZmlsZURhdGEuYnl0ZUxlbmd0aCA9PT0gMCA/CiAgICAgICAgICAxMDAgOgogICAgICAgICAgTWF0aC5yb3VuZCgocG9zaXRpb24gLyBmaWxlRGF0YS5ieXRlTGVuZ3RoKSAqIDEwMCk7CiAgICAgIHBlcmNlbnQudGV4dENvbnRlbnQgPSBgJHtwZXJjZW50RG9uZX0lIGRvbmVgOwoKICAgIH0gd2hpbGUgKHBvc2l0aW9uIDwgZmlsZURhdGEuYnl0ZUxlbmd0aCk7CiAgfQoKICAvLyBBbGwgZG9uZS4KICB5aWVsZCB7CiAgICByZXNwb25zZTogewogICAgICBhY3Rpb246ICdjb21wbGV0ZScsCiAgICB9CiAgfTsKfQoKc2NvcGUuZ29vZ2xlID0gc2NvcGUuZ29vZ2xlIHx8IHt9OwpzY29wZS5nb29nbGUuY29sYWIgPSBzY29wZS5nb29nbGUuY29sYWIgfHwge307CnNjb3BlLmdvb2dsZS5jb2xhYi5fZmlsZXMgPSB7CiAgX3VwbG9hZEZpbGVzLAogIF91cGxvYWRGaWxlc0NvbnRpbnVlLAp9Owp9KShzZWxmKTsK",
              "ok": true,
              "headers": [
                [
                  "content-type",
                  "application/javascript"
                ]
              ],
              "status": 200,
              "status_text": ""
            }
          },
          "base_uri": "https://localhost:8080/",
          "height": 73
        },
        "id": "Qiru8t619gzu",
        "outputId": "af16da6b-35e6-49eb-cb10-12065d81407a"
      },
      "source": [
        "from google.colab import files\n",
        "filename = files.upload()\n",
        "filename = next(iter(filename))"
      ],
      "execution_count": null,
      "outputs": [
        {
          "output_type": "display_data",
          "data": {
            "text/html": [
              "\n",
              "     <input type=\"file\" id=\"files-6b74e3a0-3052-4d20-b068-f4700cd8436c\" name=\"files[]\" multiple disabled\n",
              "        style=\"border:none\" />\n",
              "     <output id=\"result-6b74e3a0-3052-4d20-b068-f4700cd8436c\">\n",
              "      Upload widget is only available when the cell has been executed in the\n",
              "      current browser session. Please rerun this cell to enable.\n",
              "      </output>\n",
              "      <script src=\"/nbextensions/google.colab/files.js\"></script> "
            ],
            "text/plain": [
              "<IPython.core.display.HTML object>"
            ]
          },
          "metadata": {
            "tags": []
          }
        },
        {
          "output_type": "stream",
          "text": [
            "Saving russia.xlsx to russia.xlsx\n"
          ],
          "name": "stdout"
        }
      ]
    },
    {
      "cell_type": "markdown",
      "metadata": {
        "id": "dLOXfkplKZAP"
      },
      "source": [
        "#Скрипт"
      ]
    },
    {
      "cell_type": "code",
      "metadata": {
        "colab": {
          "base_uri": "https://localhost:8080/"
        },
        "id": "wFQZS-BX4DMh",
        "outputId": "63c9981b-fa06-4de6-9046-12f6f7ee1e13"
      },
      "source": [
        "!pip install selenium\n",
        "!apt-get update # to update ubuntu to correctly run apt install\n",
        "!apt install chromium-chromedriver\n",
        "!cp /usr/lib/chromium-browser/chromedriver /usr/bin\n",
        "import sys\n",
        "sys.path.insert(0,'/usr/lib/chromium-browser/chromedriver')\n",
        "from selenium import webdriver\n"
      ],
      "execution_count": null,
      "outputs": [
        {
          "output_type": "stream",
          "text": [
            "Collecting selenium\n",
            "\u001b[?25l  Downloading https://files.pythonhosted.org/packages/80/d6/4294f0b4bce4de0abf13e17190289f9d0613b0a44e5dd6a7f5ca98459853/selenium-3.141.0-py2.py3-none-any.whl (904kB)\n",
            "\u001b[K     |████████████████████████████████| 911kB 5.2MB/s \n",
            "\u001b[?25hRequirement already satisfied: urllib3 in /usr/local/lib/python3.7/dist-packages (from selenium) (1.24.3)\n",
            "Installing collected packages: selenium\n",
            "Successfully installed selenium-3.141.0\n",
            "Get:1 http://security.ubuntu.com/ubuntu bionic-security InRelease [88.7 kB]\n",
            "Get:2 https://cloud.r-project.org/bin/linux/ubuntu bionic-cran40/ InRelease [3,626 B]\n",
            "Ign:3 https://developer.download.nvidia.com/compute/cuda/repos/ubuntu1804/x86_64  InRelease\n",
            "Ign:4 https://developer.download.nvidia.com/compute/machine-learning/repos/ubuntu1804/x86_64  InRelease\n",
            "Get:5 https://developer.download.nvidia.com/compute/cuda/repos/ubuntu1804/x86_64  Release [697 B]\n",
            "Get:6 http://ppa.launchpad.net/c2d4u.team/c2d4u4.0+/ubuntu bionic InRelease [15.9 kB]\n",
            "Hit:7 https://developer.download.nvidia.com/compute/machine-learning/repos/ubuntu1804/x86_64  Release\n",
            "Get:8 https://developer.download.nvidia.com/compute/cuda/repos/ubuntu1804/x86_64  Release.gpg [836 B]\n",
            "Hit:9 http://archive.ubuntu.com/ubuntu bionic InRelease\n",
            "Get:10 http://archive.ubuntu.com/ubuntu bionic-updates InRelease [88.7 kB]\n",
            "Get:11 https://cloud.r-project.org/bin/linux/ubuntu bionic-cran40/ Packages [62.2 kB]\n",
            "Hit:12 http://ppa.launchpad.net/cran/libgit2/ubuntu bionic InRelease\n",
            "Get:13 http://security.ubuntu.com/ubuntu bionic-security/main amd64 Packages [2,221 kB]\n",
            "Get:14 http://ppa.launchpad.net/deadsnakes/ppa/ubuntu bionic InRelease [15.9 kB]\n",
            "Get:15 http://archive.ubuntu.com/ubuntu bionic-backports InRelease [74.6 kB]\n",
            "Get:16 http://security.ubuntu.com/ubuntu bionic-security/universe amd64 Packages [1,418 kB]\n",
            "Hit:18 http://ppa.launchpad.net/graphics-drivers/ppa/ubuntu bionic InRelease\n",
            "Ign:19 https://developer.download.nvidia.com/compute/cuda/repos/ubuntu1804/x86_64  Packages\n",
            "Get:19 https://developer.download.nvidia.com/compute/cuda/repos/ubuntu1804/x86_64  Packages [637 kB]\n",
            "Get:20 http://ppa.launchpad.net/c2d4u.team/c2d4u4.0+/ubuntu bionic/main Sources [1,780 kB]\n",
            "Get:21 http://archive.ubuntu.com/ubuntu bionic-updates/universe amd64 Packages [2,188 kB]\n",
            "Get:22 http://ppa.launchpad.net/c2d4u.team/c2d4u4.0+/ubuntu bionic/main amd64 Packages [910 kB]\n",
            "Get:23 http://archive.ubuntu.com/ubuntu bionic-updates/main amd64 Packages [2,658 kB]\n",
            "Get:24 http://ppa.launchpad.net/deadsnakes/ppa/ubuntu bionic/main amd64 Packages [40.9 kB]\n",
            "Fetched 12.2 MB in 4s (3,275 kB/s)\n",
            "Reading package lists... Done\n",
            "Reading package lists... Done\n",
            "Building dependency tree       \n",
            "Reading state information... Done\n",
            "The following additional packages will be installed:\n",
            "  chromium-browser chromium-browser-l10n chromium-codecs-ffmpeg-extra\n",
            "Suggested packages:\n",
            "  webaccounts-chromium-extension unity-chromium-extension\n",
            "The following NEW packages will be installed:\n",
            "  chromium-browser chromium-browser-l10n chromium-chromedriver\n",
            "  chromium-codecs-ffmpeg-extra\n",
            "0 upgraded, 4 newly installed, 0 to remove and 58 not upgraded.\n",
            "Need to get 86.0 MB of archives.\n",
            "After this operation, 298 MB of additional disk space will be used.\n",
            "Get:1 http://archive.ubuntu.com/ubuntu bionic-updates/universe amd64 chromium-codecs-ffmpeg-extra amd64 91.0.4472.101-0ubuntu0.18.04.1 [1,124 kB]\n",
            "Get:2 http://archive.ubuntu.com/ubuntu bionic-updates/universe amd64 chromium-browser amd64 91.0.4472.101-0ubuntu0.18.04.1 [76.1 MB]\n",
            "Get:3 http://archive.ubuntu.com/ubuntu bionic-updates/universe amd64 chromium-browser-l10n all 91.0.4472.101-0ubuntu0.18.04.1 [3,937 kB]\n",
            "Get:4 http://archive.ubuntu.com/ubuntu bionic-updates/universe amd64 chromium-chromedriver amd64 91.0.4472.101-0ubuntu0.18.04.1 [4,837 kB]\n",
            "Fetched 86.0 MB in 5s (19.0 MB/s)\n",
            "Selecting previously unselected package chromium-codecs-ffmpeg-extra.\n",
            "(Reading database ... 160815 files and directories currently installed.)\n",
            "Preparing to unpack .../chromium-codecs-ffmpeg-extra_91.0.4472.101-0ubuntu0.18.04.1_amd64.deb ...\n",
            "Unpacking chromium-codecs-ffmpeg-extra (91.0.4472.101-0ubuntu0.18.04.1) ...\n",
            "Selecting previously unselected package chromium-browser.\n",
            "Preparing to unpack .../chromium-browser_91.0.4472.101-0ubuntu0.18.04.1_amd64.deb ...\n",
            "Unpacking chromium-browser (91.0.4472.101-0ubuntu0.18.04.1) ...\n",
            "Selecting previously unselected package chromium-browser-l10n.\n",
            "Preparing to unpack .../chromium-browser-l10n_91.0.4472.101-0ubuntu0.18.04.1_all.deb ...\n",
            "Unpacking chromium-browser-l10n (91.0.4472.101-0ubuntu0.18.04.1) ...\n",
            "Selecting previously unselected package chromium-chromedriver.\n",
            "Preparing to unpack .../chromium-chromedriver_91.0.4472.101-0ubuntu0.18.04.1_amd64.deb ...\n",
            "Unpacking chromium-chromedriver (91.0.4472.101-0ubuntu0.18.04.1) ...\n",
            "Setting up chromium-codecs-ffmpeg-extra (91.0.4472.101-0ubuntu0.18.04.1) ...\n",
            "Setting up chromium-browser (91.0.4472.101-0ubuntu0.18.04.1) ...\n",
            "update-alternatives: using /usr/bin/chromium-browser to provide /usr/bin/x-www-browser (x-www-browser) in auto mode\n",
            "update-alternatives: using /usr/bin/chromium-browser to provide /usr/bin/gnome-www-browser (gnome-www-browser) in auto mode\n",
            "Setting up chromium-chromedriver (91.0.4472.101-0ubuntu0.18.04.1) ...\n",
            "Setting up chromium-browser-l10n (91.0.4472.101-0ubuntu0.18.04.1) ...\n",
            "Processing triggers for man-db (2.8.3-2ubuntu0.1) ...\n",
            "Processing triggers for hicolor-icon-theme (0.17-2) ...\n",
            "Processing triggers for mime-support (3.60ubuntu1) ...\n",
            "Processing triggers for libc-bin (2.27-3ubuntu1.2) ...\n",
            "/sbin/ldconfig.real: /usr/local/lib/python3.7/dist-packages/ideep4py/lib/libmkldnn.so.0 is not a symbolic link\n",
            "\n",
            "cp: '/usr/lib/chromium-browser/chromedriver' and '/usr/bin/chromedriver' are the same file\n"
          ],
          "name": "stdout"
        }
      ]
    },
    {
      "cell_type": "code",
      "metadata": {
        "id": "FXTkqWSUcbFJ",
        "colab": {
          "base_uri": "https://localhost:8080/"
        },
        "outputId": "56d88930-10ba-4db5-cd83-455923500f37"
      },
      "source": [
        "chrome_options = webdriver.ChromeOptions()\n",
        "chrome_options.add_argument('--headless')\n",
        "chrome_options.add_argument('--no-sandbox')\n",
        "chrome_options.add_argument('--disable-dev-shm-usage')\n",
        "wd = webdriver.Chrome('chromedriver',chrome_options=chrome_options)"
      ],
      "execution_count": null,
      "outputs": [
        {
          "output_type": "stream",
          "text": [
            "/usr/local/lib/python3.7/dist-packages/ipykernel_launcher.py:5: DeprecationWarning: use options instead of chrome_options\n",
            "  \"\"\"\n"
          ],
          "name": "stderr"
        }
      ]
    },
    {
      "cell_type": "code",
      "metadata": {
        "id": "lQlC_7jmW3K_"
      },
      "source": [
        "import openpyxl\n",
        "from typing import Dict, List, Tuple\n",
        "\n",
        "from bs4 import BeautifulSoup\n",
        "import urllib3\n",
        "from openpyxl.worksheet.worksheet import Worksheet\n",
        "from nltk.stem.snowball import SnowballStemmer\n",
        "from datetime import datetime, date, time, timedelta\n",
        "from openpyxl.formula import Tokenizer\n",
        "from openpyxl.formula.translate import Translator\n",
        "from openpyxl.utils.cell import get_column_letter\n",
        "from copy import copy\n",
        "from openpyxl.formatting.rule import FormulaRule\n",
        "\n",
        "import re\n",
        "from openpyxl.styles import Color, PatternFill, Font, Border\n",
        "\n",
        "urllib3.disable_warnings()"
      ],
      "execution_count": null,
      "outputs": []
    },
    {
      "cell_type": "code",
      "metadata": {
        "id": "6HBykUjAtxa0"
      },
      "source": [
        "def get_general_info(info: dict):\n",
        "    STOP_COVID_URL = 'https://стопкоронавирус.рф/information/'\n",
        "    wd.get(STOP_COVID_URL)\n",
        "    raw_rows = wd.find_elements_by_xpath('//h3[@class=\"cv-stats-virus__item-value\"]')\n",
        "    rows = [row.text for row in raw_rows]\n",
        "    statistics = [int(''.join(row.strip('\\n ').split())) for row in rows]\n",
        "    useful_statistics = [statistics[2], statistics[4], statistics[0]]\n",
        "    info.update({'general': useful_statistics})"
      ],
      "execution_count": null,
      "outputs": []
    },
    {
      "cell_type": "code",
      "metadata": {
        "id": "wXgnOP_NyyfA"
      },
      "source": [
        "URL = 'https://yastat.net/s3/milab/2020/covid19-stat/data/v10/deep_data.json'\n",
        "REGION_COLUMN = 2\n",
        "REGION_ROWS_RANGE = (2, 87)\n",
        "WEEKLY_REPORT_DAY = 7\n",
        "DAYS_OF_THE_WEEK_MAP = {\n",
        "    1: 'ПН',\n",
        "    2: 'ВТ',\n",
        "    3: 'СР',\n",
        "    4: 'ЧТ',\n",
        "    5: 'ПТ',\n",
        "    6: 'СБ',\n",
        "    7: 'ВС',\n",
        "}\n",
        "\n",
        "def normolize_string(string: str):\n",
        "    string = string.strip().lower().translate({ord('.'): None})\n",
        "    string = ' '.join(string.split('-'))\n",
        "\n",
        "    # remove stop words\n",
        "    stop_words = ['г', 'обл', 'область', 'республика', 'автономная', 'ао']\n",
        "    try:\n",
        "        splitted_string = string.split()\n",
        "    except IndexError:\n",
        "        return ''\n",
        "    stemmer = SnowballStemmer(\"russian\")\n",
        "    string = ' '.join(stemmer.stem(w) for w in splitted_string if w not in stop_words)\n",
        "    return string\n",
        "\n",
        "\n",
        "def fill_сases_sheet(ws: Worksheet, info: dict):\n",
        "    OVERALL_CASES_FORMULA_ROW = 88\n",
        "\n",
        "    last_available_date = datetime.strptime(info['dates'][-1], '%Y-%m-%d')\n",
        "    last_column = ws.max_column\n",
        "    # print(\"last column\", last_column)\n",
        "    last_table_date = ws.cell(row=1, column=last_column).value\n",
        "    new_days_amount = (last_available_date - last_table_date).days\n",
        "    for i in range(1, new_days_amount + 1):\n",
        "        ws.cell(row=1, column=(last_column + i)).value = (last_table_date + timedelta(days=i))\n",
        "        ws.cell(row=1, column=(last_column + i)).number_format = 'DD.MM.YYYY'\n",
        "\n",
        "        for row in range(*REGION_ROWS_RANGE):\n",
        "            name = ws.cell(row=row, column=REGION_COLUMN).value\n",
        "            key = normolize_string(name)\n",
        "            if key in info['data']:\n",
        "                ws.cell(row=row, column=(last_column + i)).value = \\\n",
        "                    info['data'][key]['cases'][(i - 1) - new_days_amount][0]\n",
        "            else:\n",
        "                raise KeyError(key)\n",
        "\n",
        "        formula = ws.cell(row=OVERALL_CASES_FORMULA_ROW, column=ws.max_column - 1).value\n",
        "        last_cell_id = get_column_letter(ws.max_column - 1) + str(OVERALL_CASES_FORMULA_ROW)\n",
        "        next_cell_id = get_column_letter(ws.max_column) + str(OVERALL_CASES_FORMULA_ROW)\n",
        "        ws[next_cell_id] = Translator(formula, origin=last_cell_id).translate_formula(next_cell_id)\n",
        "\n",
        "    info.update({'new_days_amount': new_days_amount})\n",
        "\n",
        "import requests\n",
        "def get_regions_info() -> dict:\n",
        "    final_region_data = {}\n",
        "\n",
        "    response: dict = requests.get(URL, verify=False).json()\n",
        "    regions = response['russia_stat_struct']['data']\n",
        "    dates = response['russia_stat_struct']['dates']\n",
        "    for region in regions:\n",
        "        full_name = regions[region]['info']['name']\n",
        "        short_name = regions[region]['info']['short_name']\n",
        "        regions[region]['info'].pop('name', None)\n",
        "        regions[region]['info'].pop('short_name', None)\n",
        "        final_region_data.update(\n",
        "            dict.fromkeys([normolize_string(full_name), normolize_string(short_name)], regions[region]))\n",
        "    return {'data': final_region_data,\n",
        "            'dates': dates,\n",
        "            'last_date': datetime.strptime(dates[-1], '%Y-%m-%d')}\n",
        "\n",
        "\n",
        "def continue_formula_right(ws: Worksheet, rows: list, column: int):\n",
        "    for row in rows:\n",
        "        formula = ws.cell(row=row, column=column - 1).value\n",
        "        last_cell_id = get_column_letter(column - 1) + str(row)\n",
        "        next_cell_id = get_column_letter(column) + str(row)\n",
        "        ws[next_cell_id] = Translator(formula, origin=last_cell_id).translate_formula(next_cell_id)\n",
        "        # print(last_cell_id, next_cell_id)\n",
        "        ws[next_cell_id]._style = copy(ws[last_cell_id]._style)\n",
        "        # print(ws[last_cell_id]._style, ws[next_cell_id]._style)\n",
        "\n",
        "\n",
        "def  continue_date_right(ws: Worksheet, rows: list):\n",
        "    for row in rows:\n",
        "        try:\n",
        "            column = [c.value for c in ws[row]][3:].index(None) + 4\n",
        "        except ValueError:\n",
        "            column = ws.max_column + 1\n",
        "        last_table_date = ws.cell(row=row, column=column - 1).value\n",
        "        ws.cell(row=row, column=column).value = (last_table_date) + timedelta(days=1)\n",
        "        ws.cell(row=row, column=column).number_format = 'DD.MM.YYYY'\n",
        "\n",
        "        last_cell_id = get_column_letter(column - 1) + str(row)\n",
        "        next_cell_id = get_column_letter(column) + str(row)\n",
        "        ws[next_cell_id]._style = copy(ws[last_cell_id]._style)\n",
        "\n",
        "\n",
        "def continue_number_right(ws: Worksheet, rows: list):\n",
        "    for row in rows:\n",
        "        try:\n",
        "            column = [c.value for c in ws[row]].index(None) + 1\n",
        "        except ValueError:\n",
        "            column = ws.max_column + 1\n",
        "        last_num = ws.cell(row=row, column=column - 1).value\n",
        "        ws.cell(row=row, column=column).value = last_num + 1\n",
        "\n",
        "        last_cell_id = get_column_letter(column - 1) + str(row)\n",
        "        next_cell_id = get_column_letter(column) + str(row)\n",
        "        ws[next_cell_id]._style = copy(ws[last_cell_id]._style)\n",
        "\n",
        "\n",
        "def gain_sheet(ws: Worksheet, info: dict):\n",
        "    NEW_COLUMN_NUM_GAIN = [c.value for c in ws[1]].index(None) + 1\n",
        "\n",
        "    for i in range(info['new_days_amount']):\n",
        "        ws.insert_cols(NEW_COLUMN_NUM_GAIN+i)\n",
        "        continue_date_right(ws, [1])\n",
        "        continue_formula_right(ws, list(range(2, 96)), NEW_COLUMN_NUM_GAIN + i)\n",
        "\n",
        "    info['last_col_in_gain_sheet'] = [c.value for c in ws[1]].index(None)\n",
        "\n",
        "\n",
        "def daily_region_gain_sheet(ws: Worksheet, info: dict):\n",
        "    NEW_COLUMN_NUM_DAILY_GAIN = ws.max_column + 1\n",
        "\n",
        "    for i in range(info['new_days_amount']):\n",
        "        continue_date_right(ws, [1, 20, 35])\n",
        "        continue_formula_right(ws,\n",
        "                               list(range(2, 19)) + list(range(21, 34)) + list(range(36, 49)),\n",
        "                               NEW_COLUMN_NUM_DAILY_GAIN + i)\n",
        "\n",
        "\n",
        "def weekly_gain_sheet(ws: Worksheet, info: dict):\n",
        "    print(info['last_date'].weekday() + 1, WEEKLY_REPORT_DAY)\n",
        "    new_col = [c.value for c in ws[1]].index(None) + 1\n",
        "    ws.insert_cols(new_col)\n",
        "    continue_number_right(ws, [1])\n",
        "    continue_formula_right(ws, list(range(2, 94)), new_col)\n",
        "    for row in range(2, 87):\n",
        "        # left part\n",
        "        raw_formula = ws.cell(row=row, column=new_col).value\n",
        "        tokenized_formula = Tokenizer(raw_formula)\n",
        "        last_col_in_gain_sheet = info['last_col_in_gain_sheet']\n",
        "\n",
        "        tokenized_formula.items[1].value = re.sub(r'(?<=:\\$)\\D*',\n",
        "                                                  get_column_letter(last_col_in_gain_sheet),\n",
        "                                                  tokenized_formula.items[1].value)\n",
        "        tokenized_formula.items[3].value = re.sub(r'(?<=:\\$).*(?=\\$)',\n",
        "                                                  get_column_letter(last_col_in_gain_sheet),\n",
        "                                                  tokenized_formula.items[3].value)\n",
        "        new_formula = ''.join(token.value for token in tokenized_formula.items)\n",
        "        ws.cell(row=row, column=new_col).value = fr'={new_formula}'\n",
        "\n",
        "        # right part\n",
        "        ws.cell(row=row, column=new_col+2).value = fr'=MAX($C{row}:${get_column_letter(new_col)}{row})'\n",
        "        ws.cell(row=row, column=new_col+3).value = fr'={get_column_letter(new_col+2)}{row}-{get_column_letter(new_col)}{row}'\n",
        "        ws.cell(row=row, column=new_col+4).value = fr'={get_column_letter(new_col)}{row}-{get_column_letter(new_col-1)}{row}'\n",
        "        ws.cell(row=row, column=new_col+6).value = fr'={get_column_letter(new_col)}{row}/{get_column_letter(new_col-1)}{row}-100%'\n",
        "        ws.cell(row=row, column=new_col+7).value = fr'={get_column_letter(new_col-1)}{row}/{get_column_letter(new_col-2)}{row}-100%'\n",
        "\n",
        "\n",
        "    ws.cell(row=87, column=new_col+4).value = fr'={get_column_letter(new_col)}{87}-{get_column_letter(new_col-1)}{87}'\n",
        "\n",
        "\n",
        "def tpr_weekly_gain_sheet(ws: Worksheet, info: dict):\n",
        "    new_col = [c.value for c in ws[1]].index(None) + 1\n",
        "    ws.insert_cols(new_col)\n",
        "    continue_number_right(ws, [1])\n",
        "    continue_formula_right(ws, list(range(2, 88)), new_col)\n",
        "\n",
        "\n",
        "# {}\n",
        "\n",
        "# def cases_sheet(wb):\n",
        "#\n",
        "#\n",
        "    # continue_number_right(ws_weekly_gain, )\n",
        "\n",
        "\n",
        "def continue_formula_n_down(ws: Worksheet, columns: list, row: int, n: int):\n",
        "    for column in columns:\n",
        "\n",
        "        formula = ws.cell(row=(row - n), column=column).value\n",
        "        # print(row-n, column, formula)\n",
        "        last_cell_id = get_column_letter(column) + str(row - n)\n",
        "        next_cell_id = get_column_letter(column) + str(row)\n",
        "        ws[next_cell_id] = Translator(formula, origin=last_cell_id).translate_formula(next_cell_id)\n",
        "        ws[next_cell_id]._style = copy(ws[last_cell_id]._style)\n",
        "\n",
        "\n",
        "def continue_formula_down(ws: Worksheet, columns: list, row: int):\n",
        "    continue_formula_n_down(ws, columns, row, 1)\n",
        "\n",
        "\n",
        "# def get_first_clear_column_in_row(row):\n",
        "#     return max((c.row for c in column if c.value is not None)) + 1\n",
        "\n",
        "\n",
        "def get_first_clear_row_in_column(column):\n",
        "    return max((c.row for c in column if c.value is not None)) + 1\n",
        "\n",
        "def base_rf_sheet(ws: Worksheet, info: dict):\n",
        "    NEW_ROW_NUM = get_first_clear_row_in_column(ws['B'])\n",
        "\n",
        "    ws.cell(row=NEW_ROW_NUM, column=1).value = info['last_date']\n",
        "    ws.cell(row=NEW_ROW_NUM, column=1).number_format = 'DD.MM'\n",
        "    for i, stat in enumerate(info['general']):\n",
        "        ws.cell(row=NEW_ROW_NUM, column=2 + i).value = info['general'][i]\n",
        "        ws.cell(row=NEW_ROW_NUM, column=2 + i)._style = copy(ws.cell(row=NEW_ROW_NUM - 1, column=2 + i)._style)\n",
        "    continue_formula_down(ws,\n",
        "                          list(range(5, 20)) + [26] + list(range(28, 36)),\n",
        "                          NEW_ROW_NUM)\n",
        "\n",
        "    if info['last_date'].weekday() + 1 == WEEKLY_REPORT_DAY:  # if it's sunday\n",
        "        continue_formula_n_down(ws, list(range(20, 25))+[27], NEW_ROW_NUM, 7)\n",
        "        continue_formula_n_down(ws, list(range(20, 23)), NEW_ROW_NUM + 1, 7)\n",
        "\n",
        "\n",
        "def date_week_sheet(ws: Worksheet, info: dict):\n",
        "    NEW_ROW_NUM = get_first_clear_row_in_column(ws['A'])\n",
        "    ws.cell(row=NEW_ROW_NUM, column=1).value = ws.cell(row=NEW_ROW_NUM - 1, column=1).value + 1\n",
        "    continue_formula_down(ws, list(range(2, 4)), NEW_ROW_NUM)\n",
        "\n",
        "\n",
        "\n",
        "\n",
        "def parse_info():\n",
        "    info = get_regions_info()\n",
        "    # {dates: [list of available dates], data: {'*REGION_NAME*': {*REGION_INFO*}}}\n",
        "    get_general_info(info)\n",
        "    return info\n",
        "\n",
        "\n",
        "def weekly_region_gain_sheet(ws: Worksheet, info: dict):\n",
        "    new_column = ws.max_column + 1\n",
        "\n",
        "    continue_number_right(ws, [1, 20])\n",
        "    continue_formula_right(ws,\n",
        "                           list(range(2, 17)) + list(range(21, 34)),\n",
        "                           new_column)\n",
        "\n",
        "def gain_7day_sheet(ws: Worksheet, info: dict):\n",
        "    new_column = [c.value for c in ws[1]].index(None) + 1\n",
        "\n",
        "    for i in range(info['new_days_amount']):\n",
        "        ws.insert_cols(new_column+i)\n",
        "        continue_date_right(ws, [1])\n",
        "        continue_formula_right(ws, list(range(2, 94)), new_column + i)\n",
        "\n",
        "    for row in range(2, 87):\n",
        "        ws.cell(row=row, column=new_column+i+3).value = fr'={get_column_letter(new_column+i)}{row}'\n",
        "        ws.cell(row=row, column=new_column+i+2).value = fr'=RANK({get_column_letter(new_column+i+3)}{row},${get_column_letter(new_column+i+3)}$2:${get_column_letter(new_column+i+3)}$86,0)'\n",
        "        ws.cell(row=row, column=new_column+i+4).value = fr'={get_column_letter(new_column+i)}{row}-{get_column_letter(new_column+i-7)}{row}'\n",
        "        ws.cell(row=row, column=new_column+i+6).value = fr'={get_column_letter(new_column+i)}{row}/{get_column_letter(new_column+i-7)}{row}-1'\n",
        "    ws.cell(row=row, column=new_column+i+3).value = fr'={get_column_letter(new_column + i)}{row}'\n",
        "\n",
        "    for row in range(92, 97):\n",
        "        ws.cell(row=row, column=new_column+i+4).value = fr'=VLOOKUP({get_column_letter(new_column+i+2)}{row},${get_column_letter(new_column+i+2)}$2:${get_column_letter(new_column+i+3)}$86,2,0)'\n",
        "        ws.cell(row=row, column=new_column+i+5).value = fr'={get_column_letter(new_column+i+4)}{row}/${get_column_letter(new_column+i+4)}$97'\n",
        "        ws.cell(row=row, column=new_column+i+6).value = fr'==VLOOKUP({get_column_letter(new_column+i+2)}{row},${get_column_letter(new_column+i+2)}$2:${get_column_letter(new_column+i+6)}$86,4,0)'\n",
        "    ws.cell(row=97, column=new_column+i+4).value = fr'={get_column_letter(new_column+i+3)}87'\n",
        "    ws.cell(row=97, column=new_column+i+5).value = fr'={get_column_letter(new_column+i+4)}{97}/${get_column_letter(new_column+i+4)}$97'\n",
        "\n",
        "def rt_sheet(ws: Worksheet, info: dict):\n",
        "    new_column = [c.value for c in ws[2]][3:].index(None) + 4\n",
        "    for i in range(info['new_days_amount']):\n",
        "        ws.insert_cols(new_column+i)\n",
        "        continue_date_right(ws, [2])\n",
        "        continue_formula_right(ws, list(range(3, 89)), new_column + i)\n",
        "\n",
        "    ws.cell(row=1, column=(new_column+i+5)).value = info['last_date']\n",
        "    c = get_column_letter(new_column+i+5)\n",
        "    r = '1'\n",
        "    cell1 = c+r\n",
        "    ws.cell(row=1, column=(new_column+i+6)).value = fr'=MATCH({cell1},$A$2:{get_column_letter(new_column+i)}2)-3'\n",
        "\n",
        "    for row in range(3, 88):\n",
        "        col = get_column_letter(new_column+i)\n",
        "        ws.cell(row=row, column=(new_column+i+2)).value = fr'=RANK({col}{row},${col}$3:${col}$87,0)'\n",
        "\n",
        "        ws.cell(row=row, column=(new_column+i+4)).value = fr'=IF(INDEX($D$3:${col}$87,${get_column_letter(new_column+i+8)}{row},${get_column_letter(new_column+i+6)}$1)<1,1,0)'\n",
        "        ws.cell(row=row, column=(new_column+i+5)).value = fr'=IF(INDEX($D$3:${col}$87,${get_column_letter(new_column+i+8)}{row},${get_column_letter(new_column+i+6)}$1)>1,1,0)'\n",
        "        ws.cell(row=row, column=(new_column+i+6)).value = fr'=IF(INDEX($D$3:${col}$87,${get_column_letter(new_column+i+8)}{row},${get_column_letter(new_column+i+6)}$1)=1,1,0)'\n",
        "\n",
        "    ws.cell(row=88, column=(new_column+i+4)).value = fr'=SUM({get_column_letter(new_column+i+4)}3:{get_column_letter(new_column+i+4)}87)'\n",
        "    ws.cell(row=88, column=(new_column+i+5)).value = fr'=SUM({get_column_letter(new_column+i+5)}3:{get_column_letter(new_column+i+5)}87)'\n",
        "    ws.cell(row=88, column=(new_column+i+6)).value = fr'=SUM({get_column_letter(new_column+i+6)}3:{get_column_letter(new_column+i+6)}87)'\n",
        "    ws.cell(row=89, column=(new_column+i+6)).value = fr'=85-SUM({get_column_letter(new_column+i+4)}88:{get_column_letter(new_column+i+6)}88)'\n",
        "\n",
        "\n",
        "def delta_day_sheet(ws: Worksheet, info: dict):\n",
        "    new_column = ws.max_column + 1\n",
        "    bigger_zero_fill = PatternFill(start_color='F1CCB1', end_color='F1CCB1', fill_type='solid')\n",
        "    lower_zero_fill = PatternFill(start_color='E4EFDC', end_color='E4EFDC', fill_type='solid')\n",
        "\n",
        "    for i in range(info['new_days_amount']):\n",
        "        continue_date_right(ws, [1])\n",
        "        print(new_column + i)\n",
        "        print(ws.cell(row=1, column=new_column + i).value)\n",
        "        ws.cell(row=2, column=new_column + i).value = DAYS_OF_THE_WEEK_MAP.get(\n",
        "            ws.cell(row=1, column=new_column + i).value.weekday() + 1\n",
        "        )\n",
        "        last_cell_id = get_column_letter(new_column + i - 1) + str(2)\n",
        "        next_cell_id = get_column_letter(new_column + i) + str(2)\n",
        "        ws[next_cell_id]._style = copy(ws[last_cell_id]._style)\n",
        "\n",
        "        continue_formula_right(ws, list(range(3, 98)), new_column + i)\n",
        "        cell_ids_formatting = '{}3:{}87'.format(get_column_letter(new_column + i), get_column_letter(new_column + i))\n",
        "        ws.conditional_formatting.add(cell_ids_formatting, FormulaRule(formula=[f'{next_cell_id}>0'], fill=bigger_zero_fill))\n",
        "        ws.conditional_formatting.add(cell_ids_formatting, FormulaRule(formula=[f'{next_cell_id}<0'], fill=lower_zero_fill))\n",
        "\n",
        "\n",
        "def msc_sp_sheet(ws: Worksheet, info: dict):\n",
        "    new_column = ws.max_column + 1\n",
        "    # bigger_zero_fill = PatternFill(start_color='F1CCB1', end_color='F1CCB1', fill_type='solid')\n",
        "    # lower_zero_fill = PatternFill(start_color='E4EFDC', end_color='E4EFDC', fill_type='solid')\n",
        "\n",
        "    for i in range(info['new_days_amount']):\n",
        "        continue_date_right(ws, [1])\n",
        "        ws.cell(row=2, column=new_column + i).value = DAYS_OF_THE_WEEK_MAP.get(\n",
        "            ws.cell(row=1, column=new_column + i).value.weekday() + 1\n",
        "        )\n",
        "        last_cell_id = get_column_letter(new_column + i - 1) + str(2)\n",
        "        next_cell_id = get_column_letter(new_column + i) + str(2)\n",
        "        ws[next_cell_id]._style = copy(ws[last_cell_id]._style)\n",
        "        continue_formula_right(ws, list(range(3, 98)), new_column + i)\n"
      ],
      "execution_count": null,
      "outputs": []
    },
    {
      "cell_type": "code",
      "metadata": {
        "id": "E0BGgeQZVUG0"
      },
      "source": [
        "def main(filename: str):\n",
        "    wb = openpyxl.load_workbook(filename)\n",
        "\n",
        "    info = parse_info()\n",
        "\n",
        "    fill_сases_sheet(wb['Случаев'], info)\n",
        "    gain_sheet(wb['Прирост'], info)\n",
        "    msc_sp_sheet(wb['МСК и СП'], info)\n",
        "    rt_sheet(wb['Rt'], info)\n",
        "    gain_7day_sheet(wb['прирост 7дн'], info)\n",
        "    delta_day_sheet(wb['дельта за сутки'], info)\n",
        "    daily_region_gain_sheet(wb['По рег прис (сут)'], info)\n",
        "\n",
        "    if info['last_date'].weekday()+1 == WEEKLY_REPORT_DAY:\n",
        "        weekly_gain_sheet(wb['Прирост нед'], info)\n",
        "        tpr_weekly_gain_sheet(wb['Тпр нед прироста'], info)\n",
        "        weekly_region_gain_sheet(wb['По рег прис (нед)'], info)\n",
        "        date_week_sheet(wb['Дата-неделя'], info)\n",
        "\n",
        "    base_rf_sheet(wb['База РФ'], info)\n",
        "\n",
        "    # out_file = filename.split('.')\n",
        "    # out_file[0] = f'{out_file[0]}_saved'\n",
        "    # out_file = '.'.join(out_file)\n",
        "    out_file = 'out.xlsx'\n",
        "    wb.save(out_file)\n",
        "    return out_file"
      ],
      "execution_count": null,
      "outputs": []
    },
    {
      "cell_type": "markdown",
      "metadata": {
        "id": "mywhIDYNDEjr"
      },
      "source": [
        "# Результат"
      ]
    },
    {
      "cell_type": "code",
      "metadata": {
        "colab": {
          "base_uri": "https://localhost:8080/"
        },
        "id": "z9d0cqvGTd42",
        "outputId": "c95c9efe-1710-4330-8acb-83216b6bb567"
      },
      "source": [
        "out_file = main(filename)\n"
      ],
      "execution_count": null,
      "outputs": [
        {
          "output_type": "stream",
          "text": [
            "108\n",
            "2021-07-12 00:00:00\n",
            "109\n",
            "2021-07-13 00:00:00\n",
            "110\n",
            "2021-07-14 00:00:00\n"
          ],
          "name": "stdout"
        }
      ]
    },
    {
      "cell_type": "code",
      "metadata": {
        "id": "Wkw8DZF7-lb3",
        "colab": {
          "base_uri": "https://localhost:8080/",
          "height": 17
        },
        "outputId": "b00c34f9-ebe4-467d-8608-ffecc2418e8a"
      },
      "source": [
        "files.download(out_file)"
      ],
      "execution_count": null,
      "outputs": [
        {
          "output_type": "display_data",
          "data": {
            "application/javascript": [
              "\n",
              "    async function download(id, filename, size) {\n",
              "      if (!google.colab.kernel.accessAllowed) {\n",
              "        return;\n",
              "      }\n",
              "      const div = document.createElement('div');\n",
              "      const label = document.createElement('label');\n",
              "      label.textContent = `Downloading \"${filename}\": `;\n",
              "      div.appendChild(label);\n",
              "      const progress = document.createElement('progress');\n",
              "      progress.max = size;\n",
              "      div.appendChild(progress);\n",
              "      document.body.appendChild(div);\n",
              "\n",
              "      const buffers = [];\n",
              "      let downloaded = 0;\n",
              "\n",
              "      const channel = await google.colab.kernel.comms.open(id);\n",
              "      // Send a message to notify the kernel that we're ready.\n",
              "      channel.send({})\n",
              "\n",
              "      for await (const message of channel.messages) {\n",
              "        // Send a message to notify the kernel that we're ready.\n",
              "        channel.send({})\n",
              "        if (message.buffers) {\n",
              "          for (const buffer of message.buffers) {\n",
              "            buffers.push(buffer);\n",
              "            downloaded += buffer.byteLength;\n",
              "            progress.value = downloaded;\n",
              "          }\n",
              "        }\n",
              "      }\n",
              "      const blob = new Blob(buffers, {type: 'application/binary'});\n",
              "      const a = document.createElement('a');\n",
              "      a.href = window.URL.createObjectURL(blob);\n",
              "      a.download = filename;\n",
              "      div.appendChild(a);\n",
              "      a.click();\n",
              "      div.remove();\n",
              "    }\n",
              "  "
            ],
            "text/plain": [
              "<IPython.core.display.Javascript object>"
            ]
          },
          "metadata": {
            "tags": []
          }
        },
        {
          "output_type": "display_data",
          "data": {
            "application/javascript": [
              "download(\"download_beac6d38-91bd-49d6-9e06-7bc4cfae04ec\", \"out.xlsx\", 2315229)"
            ],
            "text/plain": [
              "<IPython.core.display.Javascript object>"
            ]
          },
          "metadata": {
            "tags": []
          }
        }
      ]
    },
    {
      "cell_type": "code",
      "metadata": {
        "id": "ITNxK_AQW9m6"
      },
      "source": [
        ""
      ],
      "execution_count": null,
      "outputs": []
    }
  ]
}