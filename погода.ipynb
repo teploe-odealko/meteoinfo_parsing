{
  "nbformat": 4,
  "nbformat_minor": 0,
  "metadata": {
    "colab": {
      "name": "погода",
      "provenance": [],
      "collapsed_sections": [
        "dLOXfkplKZAP",
        "GPgTSKBR43Cs",
        "SyeGzIIK-EVT",
        "ihavSUiW5ZSi"
      ],
      "include_colab_link": true
    },
    "kernelspec": {
      "name": "python3",
      "display_name": "Python 3"
    },
    "language_info": {
      "name": "python"
    }
  },
  "cells": [
    {
      "cell_type": "markdown",
      "metadata": {
        "id": "view-in-github",
        "colab_type": "text"
      },
      "source": [
        "<a href=\"https://colab.research.google.com/github/teploe-odealko/meteoinfo_parsing/blob/main/%D0%BF%D0%BE%D0%B3%D0%BE%D0%B4%D0%B0.ipynb\" target=\"_parent\"><img src=\"https://colab.research.google.com/assets/colab-badge.svg\" alt=\"Open In Colab\"/></a>"
      ]
    },
    {
      "cell_type": "markdown",
      "metadata": {
        "id": "eKYOd9krKb1C"
      },
      "source": [
        "#Настройка"
      ]
    },
    {
      "cell_type": "code",
      "metadata": {
        "id": "RJ8VxV7XGR-f"
      },
      "source": [
        "hours = 12"
      ],
      "execution_count": null,
      "outputs": []
    },
    {
      "cell_type": "code",
      "metadata": {
        "id": "0MIqRBbpGLBk"
      },
      "source": [
        "hours_button_map = {12: 'id_l_1', 24: 'id_l_2', 36: 'id_l_3'}\n",
        "try:\n",
        "    hours_button_id = hours_button_map[hours]\n",
        "except:\n",
        "    raise KeyError('Неправильное значение переменной \"hours\"')"
      ],
      "execution_count": null,
      "outputs": []
    },
    {
      "cell_type": "markdown",
      "metadata": {
        "id": "2R_9-42nACKC"
      },
      "source": [
        "Шаблон meteoinfo (tr_template.xlsx)"
      ]
    },
    {
      "cell_type": "code",
      "metadata": {
        "colab": {
          "resources": {
            "http://localhost:8080/nbextensions/google.colab/files.js": {
              "data": "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",
              "ok": true,
              "headers": [
                [
                  "content-type",
                  "application/javascript"
                ]
              ],
              "status": 200,
              "status_text": ""
            }
          },
          "base_uri": "https://localhost:8080/",
          "height": 73
        },
        "id": "sOBjxeJPAAJD",
        "outputId": "c0f3303f-4f25-4619-c3a8-71d526eaf948"
      },
      "source": [
        "from google.colab import files\n",
        "meteoinfo_filename = files.upload()\n",
        "meteoinfo_filename = next(iter(meteoinfo_filename))"
      ],
      "execution_count": null,
      "outputs": [
        {
          "output_type": "display_data",
          "data": {
            "text/html": [
              "\n",
              "     <input type=\"file\" id=\"files-58c72755-6a2b-4640-ba9d-95c37fa7e74f\" name=\"files[]\" multiple disabled\n",
              "        style=\"border:none\" />\n",
              "     <output id=\"result-58c72755-6a2b-4640-ba9d-95c37fa7e74f\">\n",
              "      Upload widget is only available when the cell has been executed in the\n",
              "      current browser session. Please rerun this cell to enable.\n",
              "      </output>\n",
              "      <script src=\"/nbextensions/google.colab/files.js\"></script> "
            ],
            "text/plain": [
              "<IPython.core.display.HTML object>"
            ]
          },
          "metadata": {
            "tags": []
          }
        },
        {
          "output_type": "stream",
          "text": [
            "Saving rt_template.xlsx to rt_template.xlsx\n"
          ],
          "name": "stdout"
        }
      ]
    },
    {
      "cell_type": "markdown",
      "metadata": {
        "id": "dLOXfkplKZAP"
      },
      "source": [
        "#Скрипт"
      ]
    },
    {
      "cell_type": "markdown",
      "metadata": {
        "id": "GPgTSKBR43Cs"
      },
      "source": [
        "##install & import"
      ]
    },
    {
      "cell_type": "code",
      "metadata": {
        "id": "wFQZS-BX4DMh",
        "colab": {
          "base_uri": "https://localhost:8080/"
        },
        "outputId": "69d3ddaa-ec94-4aee-c2df-58631ecda40f"
      },
      "source": [
        "!pip install selenium\n",
        "!pip install python-pptx\n",
        "!apt-get update # to update ubuntu to correctly run apt install\n",
        "!apt install chromium-chromedriver\n",
        "!pip install pip install excel-formulas-calculator\n",
        "!cp /usr/lib/chromium-browser/chromedriver /usr/bin\n",
        "import sys\n",
        "sys.path.insert(0,'/usr/lib/chromium-browser/chromedriver')\n",
        "from selenium import webdriver\n",
        "\n",
        "\n",
        "chrome_options = webdriver.ChromeOptions()\n",
        "chrome_options.add_argument('--headless')\n",
        "chrome_options.add_argument('--no-sandbox')\n",
        "chrome_options.add_argument('--disable-dev-shm-usage')\n",
        "wd = webdriver.Chrome('chromedriver',chrome_options=chrome_options)"
      ],
      "execution_count": null,
      "outputs": [
        {
          "output_type": "stream",
          "text": [
            "Collecting selenium\n",
            "  Downloading selenium-3.141.0-py2.py3-none-any.whl (904 kB)\n",
            "\u001b[?25l\r\u001b[K     |▍                               | 10 kB 22.2 MB/s eta 0:00:01\r\u001b[K     |▊                               | 20 kB 28.1 MB/s eta 0:00:01\r\u001b[K     |█                               | 30 kB 25.6 MB/s eta 0:00:01\r\u001b[K     |█▌                              | 40 kB 19.9 MB/s eta 0:00:01\r\u001b[K     |█▉                              | 51 kB 9.5 MB/s eta 0:00:01\r\u001b[K     |██▏                             | 61 kB 10.3 MB/s eta 0:00:01\r\u001b[K     |██▌                             | 71 kB 9.4 MB/s eta 0:00:01\r\u001b[K     |███                             | 81 kB 9.2 MB/s eta 0:00:01\r\u001b[K     |███▎                            | 92 kB 9.7 MB/s eta 0:00:01\r\u001b[K     |███▋                            | 102 kB 8.8 MB/s eta 0:00:01\r\u001b[K     |████                            | 112 kB 8.8 MB/s eta 0:00:01\r\u001b[K     |████▍                           | 122 kB 8.8 MB/s eta 0:00:01\r\u001b[K     |████▊                           | 133 kB 8.8 MB/s eta 0:00:01\r\u001b[K     |█████                           | 143 kB 8.8 MB/s eta 0:00:01\r\u001b[K     |█████▍                          | 153 kB 8.8 MB/s eta 0:00:01\r\u001b[K     |█████▉                          | 163 kB 8.8 MB/s eta 0:00:01\r\u001b[K     |██████▏                         | 174 kB 8.8 MB/s eta 0:00:01\r\u001b[K     |██████▌                         | 184 kB 8.8 MB/s eta 0:00:01\r\u001b[K     |██████▉                         | 194 kB 8.8 MB/s eta 0:00:01\r\u001b[K     |███████▎                        | 204 kB 8.8 MB/s eta 0:00:01\r\u001b[K     |███████▋                        | 215 kB 8.8 MB/s eta 0:00:01\r\u001b[K     |████████                        | 225 kB 8.8 MB/s eta 0:00:01\r\u001b[K     |████████▎                       | 235 kB 8.8 MB/s eta 0:00:01\r\u001b[K     |████████▊                       | 245 kB 8.8 MB/s eta 0:00:01\r\u001b[K     |█████████                       | 256 kB 8.8 MB/s eta 0:00:01\r\u001b[K     |█████████▍                      | 266 kB 8.8 MB/s eta 0:00:01\r\u001b[K     |█████████▉                      | 276 kB 8.8 MB/s eta 0:00:01\r\u001b[K     |██████████▏                     | 286 kB 8.8 MB/s eta 0:00:01\r\u001b[K     |██████████▌                     | 296 kB 8.8 MB/s eta 0:00:01\r\u001b[K     |██████████▉                     | 307 kB 8.8 MB/s eta 0:00:01\r\u001b[K     |███████████▎                    | 317 kB 8.8 MB/s eta 0:00:01\r\u001b[K     |███████████▋                    | 327 kB 8.8 MB/s eta 0:00:01\r\u001b[K     |████████████                    | 337 kB 8.8 MB/s eta 0:00:01\r\u001b[K     |████████████▎                   | 348 kB 8.8 MB/s eta 0:00:01\r\u001b[K     |████████████▊                   | 358 kB 8.8 MB/s eta 0:00:01\r\u001b[K     |█████████████                   | 368 kB 8.8 MB/s eta 0:00:01\r\u001b[K     |█████████████▍                  | 378 kB 8.8 MB/s eta 0:00:01\r\u001b[K     |█████████████▊                  | 389 kB 8.8 MB/s eta 0:00:01\r\u001b[K     |██████████████▏                 | 399 kB 8.8 MB/s eta 0:00:01\r\u001b[K     |██████████████▌                 | 409 kB 8.8 MB/s eta 0:00:01\r\u001b[K     |██████████████▉                 | 419 kB 8.8 MB/s eta 0:00:01\r\u001b[K     |███████████████▏                | 430 kB 8.8 MB/s eta 0:00:01\r\u001b[K     |███████████████▋                | 440 kB 8.8 MB/s eta 0:00:01\r\u001b[K     |████████████████                | 450 kB 8.8 MB/s eta 0:00:01\r\u001b[K     |████████████████▎               | 460 kB 8.8 MB/s eta 0:00:01\r\u001b[K     |████████████████▋               | 471 kB 8.8 MB/s eta 0:00:01\r\u001b[K     |█████████████████               | 481 kB 8.8 MB/s eta 0:00:01\r\u001b[K     |█████████████████▍              | 491 kB 8.8 MB/s eta 0:00:01\r\u001b[K     |█████████████████▊              | 501 kB 8.8 MB/s eta 0:00:01\r\u001b[K     |██████████████████▏             | 512 kB 8.8 MB/s eta 0:00:01\r\u001b[K     |██████████████████▌             | 522 kB 8.8 MB/s eta 0:00:01\r\u001b[K     |██████████████████▉             | 532 kB 8.8 MB/s eta 0:00:01\r\u001b[K     |███████████████████▏            | 542 kB 8.8 MB/s eta 0:00:01\r\u001b[K     |███████████████████▋            | 552 kB 8.8 MB/s eta 0:00:01\r\u001b[K     |████████████████████            | 563 kB 8.8 MB/s eta 0:00:01\r\u001b[K     |████████████████████▎           | 573 kB 8.8 MB/s eta 0:00:01\r\u001b[K     |████████████████████▋           | 583 kB 8.8 MB/s eta 0:00:01\r\u001b[K     |█████████████████████           | 593 kB 8.8 MB/s eta 0:00:01\r\u001b[K     |█████████████████████▍          | 604 kB 8.8 MB/s eta 0:00:01\r\u001b[K     |█████████████████████▊          | 614 kB 8.8 MB/s eta 0:00:01\r\u001b[K     |██████████████████████          | 624 kB 8.8 MB/s eta 0:00:01\r\u001b[K     |██████████████████████▌         | 634 kB 8.8 MB/s eta 0:00:01\r\u001b[K     |██████████████████████▉         | 645 kB 8.8 MB/s eta 0:00:01\r\u001b[K     |███████████████████████▏        | 655 kB 8.8 MB/s eta 0:00:01\r\u001b[K     |███████████████████████▌        | 665 kB 8.8 MB/s eta 0:00:01\r\u001b[K     |████████████████████████        | 675 kB 8.8 MB/s eta 0:00:01\r\u001b[K     |████████████████████████▎       | 686 kB 8.8 MB/s eta 0:00:01\r\u001b[K     |████████████████████████▋       | 696 kB 8.8 MB/s eta 0:00:01\r\u001b[K     |█████████████████████████       | 706 kB 8.8 MB/s eta 0:00:01\r\u001b[K     |█████████████████████████▍      | 716 kB 8.8 MB/s eta 0:00:01\r\u001b[K     |█████████████████████████▊      | 727 kB 8.8 MB/s eta 0:00:01\r\u001b[K     |██████████████████████████      | 737 kB 8.8 MB/s eta 0:00:01\r\u001b[K     |██████████████████████████▍     | 747 kB 8.8 MB/s eta 0:00:01\r\u001b[K     |██████████████████████████▉     | 757 kB 8.8 MB/s eta 0:00:01\r\u001b[K     |███████████████████████████▏    | 768 kB 8.8 MB/s eta 0:00:01\r\u001b[K     |███████████████████████████▌    | 778 kB 8.8 MB/s eta 0:00:01\r\u001b[K     |████████████████████████████    | 788 kB 8.8 MB/s eta 0:00:01\r\u001b[K     |████████████████████████████▎   | 798 kB 8.8 MB/s eta 0:00:01\r\u001b[K     |████████████████████████████▋   | 808 kB 8.8 MB/s eta 0:00:01\r\u001b[K     |█████████████████████████████   | 819 kB 8.8 MB/s eta 0:00:01\r\u001b[K     |█████████████████████████████▍  | 829 kB 8.8 MB/s eta 0:00:01\r\u001b[K     |█████████████████████████████▊  | 839 kB 8.8 MB/s eta 0:00:01\r\u001b[K     |██████████████████████████████  | 849 kB 8.8 MB/s eta 0:00:01\r\u001b[K     |██████████████████████████████▍ | 860 kB 8.8 MB/s eta 0:00:01\r\u001b[K     |██████████████████████████████▉ | 870 kB 8.8 MB/s eta 0:00:01\r\u001b[K     |███████████████████████████████▏| 880 kB 8.8 MB/s eta 0:00:01\r\u001b[K     |███████████████████████████████▌| 890 kB 8.8 MB/s eta 0:00:01\r\u001b[K     |███████████████████████████████▉| 901 kB 8.8 MB/s eta 0:00:01\r\u001b[K     |████████████████████████████████| 904 kB 8.8 MB/s \n",
            "\u001b[?25hRequirement already satisfied: urllib3 in /usr/local/lib/python3.7/dist-packages (from selenium) (1.24.3)\n",
            "Installing collected packages: selenium\n",
            "Successfully installed selenium-3.141.0\n",
            "Collecting python-pptx\n",
            "  Downloading python-pptx-0.6.19.tar.gz (9.3 MB)\n",
            "\u001b[K     |████████████████████████████████| 9.3 MB 6.2 MB/s \n",
            "\u001b[?25hRequirement already satisfied: lxml>=3.1.0 in /usr/local/lib/python3.7/dist-packages (from python-pptx) (4.2.6)\n",
            "Requirement already satisfied: Pillow>=3.3.2 in /usr/local/lib/python3.7/dist-packages (from python-pptx) (7.1.2)\n",
            "Collecting XlsxWriter>=0.5.7\n",
            "  Downloading XlsxWriter-1.4.4-py2.py3-none-any.whl (149 kB)\n",
            "\u001b[K     |████████████████████████████████| 149 kB 53.2 MB/s \n",
            "\u001b[?25hBuilding wheels for collected packages: python-pptx\n",
            "  Building wheel for python-pptx (setup.py) ... \u001b[?25l\u001b[?25hdone\n",
            "  Created wheel for python-pptx: filename=python_pptx-0.6.19-py3-none-any.whl size=469951 sha256=4ab1c1562410bec23133f3e0ab7a507018c5c85ad5015c35923427830ef8c7d7\n",
            "  Stored in directory: /root/.cache/pip/wheels/17/2f/48/d23f362a5c4728f063b61c4be61e23c2415da1a371f902e5b4\n",
            "Successfully built python-pptx\n",
            "Installing collected packages: XlsxWriter, python-pptx\n",
            "Successfully installed XlsxWriter-1.4.4 python-pptx-0.6.19\n",
            "Ign:1 https://developer.download.nvidia.com/compute/cuda/repos/ubuntu1804/x86_64  InRelease\n",
            "Get:2 https://cloud.r-project.org/bin/linux/ubuntu bionic-cran40/ InRelease [3,626 B]\n",
            "Ign:3 https://developer.download.nvidia.com/compute/machine-learning/repos/ubuntu1804/x86_64  InRelease\n",
            "Get:4 https://developer.download.nvidia.com/compute/cuda/repos/ubuntu1804/x86_64  Release [697 B]\n",
            "Hit:5 https://developer.download.nvidia.com/compute/machine-learning/repos/ubuntu1804/x86_64  Release\n",
            "Get:6 https://developer.download.nvidia.com/compute/cuda/repos/ubuntu1804/x86_64  Release.gpg [836 B]\n",
            "Get:7 http://security.ubuntu.com/ubuntu bionic-security InRelease [88.7 kB]\n",
            "Get:8 http://ppa.launchpad.net/c2d4u.team/c2d4u4.0+/ubuntu bionic InRelease [15.9 kB]\n",
            "Hit:9 http://archive.ubuntu.com/ubuntu bionic InRelease\n",
            "Get:10 http://archive.ubuntu.com/ubuntu bionic-updates InRelease [88.7 kB]\n",
            "Hit:12 http://ppa.launchpad.net/cran/libgit2/ubuntu bionic InRelease\n",
            "Ign:13 https://developer.download.nvidia.com/compute/cuda/repos/ubuntu1804/x86_64  Packages\n",
            "Get:13 https://developer.download.nvidia.com/compute/cuda/repos/ubuntu1804/x86_64  Packages [679 kB]\n",
            "Hit:14 http://ppa.launchpad.net/deadsnakes/ppa/ubuntu bionic InRelease\n",
            "Get:15 http://archive.ubuntu.com/ubuntu bionic-backports InRelease [74.6 kB]\n",
            "Get:16 http://security.ubuntu.com/ubuntu bionic-security/main amd64 Packages [2,257 kB]\n",
            "Get:17 http://ppa.launchpad.net/graphics-drivers/ppa/ubuntu bionic InRelease [21.3 kB]\n",
            "Get:18 http://security.ubuntu.com/ubuntu bionic-security/universe amd64 Packages [1,420 kB]\n",
            "Get:19 http://security.ubuntu.com/ubuntu bionic-security/restricted amd64 Packages [500 kB]\n",
            "Get:20 http://security.ubuntu.com/ubuntu bionic-security/multiverse amd64 Packages [31.5 kB]\n",
            "Get:21 http://ppa.launchpad.net/c2d4u.team/c2d4u4.0+/ubuntu bionic/main Sources [1,785 kB]\n",
            "Get:22 http://archive.ubuntu.com/ubuntu bionic-updates/multiverse amd64 Packages [38.7 kB]\n",
            "Get:23 http://archive.ubuntu.com/ubuntu bionic-updates/universe amd64 Packages [2,190 kB]\n",
            "Get:24 http://archive.ubuntu.com/ubuntu bionic-updates/restricted amd64 Packages [533 kB]\n",
            "Get:25 http://ppa.launchpad.net/c2d4u.team/c2d4u4.0+/ubuntu bionic/main amd64 Packages [913 kB]\n",
            "Get:26 http://archive.ubuntu.com/ubuntu bionic-updates/main amd64 Packages [2,693 kB]\n",
            "Get:27 http://ppa.launchpad.net/graphics-drivers/ppa/ubuntu bionic/main amd64 Packages [44.1 kB]\n",
            "Fetched 13.4 MB in 4s (3,116 kB/s)\n",
            "Reading package lists... Done\n",
            "Reading package lists... Done\n",
            "Building dependency tree       \n",
            "Reading state information... Done\n",
            "The following additional packages will be installed:\n",
            "  chromium-browser chromium-browser-l10n chromium-codecs-ffmpeg-extra\n",
            "Suggested packages:\n",
            "  webaccounts-chromium-extension unity-chromium-extension\n",
            "The following NEW packages will be installed:\n",
            "  chromium-browser chromium-browser-l10n chromium-chromedriver\n",
            "  chromium-codecs-ffmpeg-extra\n",
            "0 upgraded, 4 newly installed, 0 to remove and 80 not upgraded.\n",
            "Need to get 86.0 MB of archives.\n",
            "After this operation, 298 MB of additional disk space will be used.\n",
            "Get:1 http://archive.ubuntu.com/ubuntu bionic-updates/universe amd64 chromium-codecs-ffmpeg-extra amd64 91.0.4472.101-0ubuntu0.18.04.1 [1,124 kB]\n",
            "Get:2 http://archive.ubuntu.com/ubuntu bionic-updates/universe amd64 chromium-browser amd64 91.0.4472.101-0ubuntu0.18.04.1 [76.1 MB]\n",
            "Get:3 http://archive.ubuntu.com/ubuntu bionic-updates/universe amd64 chromium-browser-l10n all 91.0.4472.101-0ubuntu0.18.04.1 [3,937 kB]\n",
            "Get:4 http://archive.ubuntu.com/ubuntu bionic-updates/universe amd64 chromium-chromedriver amd64 91.0.4472.101-0ubuntu0.18.04.1 [4,837 kB]\n",
            "Fetched 86.0 MB in 6s (15.3 MB/s)\n",
            "Selecting previously unselected package chromium-codecs-ffmpeg-extra.\n",
            "(Reading database ... 160837 files and directories currently installed.)\n",
            "Preparing to unpack .../chromium-codecs-ffmpeg-extra_91.0.4472.101-0ubuntu0.18.04.1_amd64.deb ...\n",
            "Unpacking chromium-codecs-ffmpeg-extra (91.0.4472.101-0ubuntu0.18.04.1) ...\n",
            "Selecting previously unselected package chromium-browser.\n",
            "Preparing to unpack .../chromium-browser_91.0.4472.101-0ubuntu0.18.04.1_amd64.deb ...\n",
            "Unpacking chromium-browser (91.0.4472.101-0ubuntu0.18.04.1) ...\n",
            "Selecting previously unselected package chromium-browser-l10n.\n",
            "Preparing to unpack .../chromium-browser-l10n_91.0.4472.101-0ubuntu0.18.04.1_all.deb ...\n",
            "Unpacking chromium-browser-l10n (91.0.4472.101-0ubuntu0.18.04.1) ...\n",
            "Selecting previously unselected package chromium-chromedriver.\n",
            "Preparing to unpack .../chromium-chromedriver_91.0.4472.101-0ubuntu0.18.04.1_amd64.deb ...\n",
            "Unpacking chromium-chromedriver (91.0.4472.101-0ubuntu0.18.04.1) ...\n",
            "Setting up chromium-codecs-ffmpeg-extra (91.0.4472.101-0ubuntu0.18.04.1) ...\n",
            "Setting up chromium-browser (91.0.4472.101-0ubuntu0.18.04.1) ...\n",
            "update-alternatives: using /usr/bin/chromium-browser to provide /usr/bin/x-www-browser (x-www-browser) in auto mode\n",
            "update-alternatives: using /usr/bin/chromium-browser to provide /usr/bin/gnome-www-browser (gnome-www-browser) in auto mode\n",
            "Setting up chromium-chromedriver (91.0.4472.101-0ubuntu0.18.04.1) ...\n",
            "Setting up chromium-browser-l10n (91.0.4472.101-0ubuntu0.18.04.1) ...\n",
            "Processing triggers for man-db (2.8.3-2ubuntu0.1) ...\n",
            "Processing triggers for hicolor-icon-theme (0.17-2) ...\n",
            "Processing triggers for mime-support (3.60ubuntu1) ...\n",
            "Processing triggers for libc-bin (2.27-3ubuntu1.2) ...\n",
            "/sbin/ldconfig.real: /usr/local/lib/python3.7/dist-packages/ideep4py/lib/libmkldnn.so.0 is not a symbolic link\n",
            "\n",
            "Requirement already satisfied: pip in /usr/local/lib/python3.7/dist-packages (21.1.3)\n",
            "Requirement already satisfied: install in /usr/local/lib/python3.7/dist-packages (1.3.4)\n",
            "Collecting excel-formulas-calculator\n",
            "  Downloading excel_formulas_calculator-0.2.3-py2.py3-none-any.whl (36 kB)\n",
            "Requirement already satisfied: six in /usr/local/lib/python3.7/dist-packages (from excel-formulas-calculator) (1.15.0)\n",
            "Installing collected packages: excel-formulas-calculator\n",
            "Successfully installed excel-formulas-calculator-0.2.3\n",
            "cp: '/usr/lib/chromium-browser/chromedriver' and '/usr/bin/chromedriver' are the same file\n"
          ],
          "name": "stdout"
        },
        {
          "output_type": "stream",
          "text": [
            "/usr/local/lib/python3.7/dist-packages/ipykernel_launcher.py:16: DeprecationWarning: use options instead of chrome_options\n",
            "  app.launch_new_instance()\n"
          ],
          "name": "stderr"
        }
      ]
    },
    {
      "cell_type": "code",
      "metadata": {
        "id": "FXTkqWSUcbFJ"
      },
      "source": [
        ""
      ],
      "execution_count": null,
      "outputs": []
    },
    {
      "cell_type": "code",
      "metadata": {
        "id": "lQlC_7jmW3K_"
      },
      "source": [
        "import openpyxl\n",
        "from typing import Dict, List, Tuple\n",
        "\n",
        "from bs4 import BeautifulSoup\n",
        "import urllib3\n",
        "from openpyxl.worksheet.worksheet import Worksheet\n",
        "from nltk.stem.snowball import SnowballStemmer\n",
        "from datetime import datetime, date, time, timedelta\n",
        "from openpyxl.formula import Tokenizer\n",
        "from openpyxl.formula.translate import Translator\n",
        "from openpyxl.utils.cell import get_column_letter\n",
        "from copy import copy\n",
        "from openpyxl.formatting.rule import FormulaRule\n",
        "\n",
        "import re\n",
        "from openpyxl.styles import Color, PatternFill, Font, Border\n",
        "from pptx import Presentation\n",
        "from efc.interfaces.iopenpyxl import OpenpyxlInterface\n",
        "import numpy as np\n",
        "urllib3.disable_warnings()"
      ],
      "execution_count": null,
      "outputs": []
    },
    {
      "cell_type": "markdown",
      "metadata": {
        "id": "SyeGzIIK-EVT"
      },
      "source": [
        "##Meteoinfo погодные явления"
      ]
    },
    {
      "cell_type": "code",
      "metadata": {
        "colab": {
          "base_uri": "https://localhost:8080/",
          "height": 1000
        },
        "id": "Yr-sR4AaHBlb",
        "outputId": "bbc3361d-014b-4fe5-b33f-4a3803e57265"
      },
      "source": [
        "!pip install requests-html"
      ],
      "execution_count": null,
      "outputs": [
        {
          "output_type": "stream",
          "text": [
            "Collecting requests-html\n",
            "  Downloading requests_html-0.10.0-py3-none-any.whl (13 kB)\n",
            "Collecting parse\n",
            "  Downloading parse-1.19.0.tar.gz (30 kB)\n",
            "Requirement already satisfied: requests in /usr/local/lib/python3.7/dist-packages (from requests-html) (2.23.0)\n",
            "Collecting pyquery\n",
            "  Downloading pyquery-1.4.3-py3-none-any.whl (22 kB)\n",
            "Requirement already satisfied: bs4 in /usr/local/lib/python3.7/dist-packages (from requests-html) (0.0.1)\n",
            "Collecting fake-useragent\n",
            "  Downloading fake-useragent-0.1.11.tar.gz (13 kB)\n",
            "Collecting pyppeteer>=0.0.14\n",
            "  Downloading pyppeteer-0.2.5-py3-none-any.whl (87 kB)\n",
            "\u001b[K     |████████████████████████████████| 87 kB 4.9 MB/s \n",
            "\u001b[?25hCollecting w3lib\n",
            "  Downloading w3lib-1.22.0-py2.py3-none-any.whl (20 kB)\n",
            "Collecting urllib3<2.0.0,>=1.25.8\n",
            "  Downloading urllib3-1.26.6-py2.py3-none-any.whl (138 kB)\n",
            "\u001b[K     |████████████████████████████████| 138 kB 55.3 MB/s \n",
            "\u001b[?25hCollecting pyee<9.0.0,>=8.1.0\n",
            "  Downloading pyee-8.1.0-py2.py3-none-any.whl (12 kB)\n",
            "Collecting tqdm<5.0.0,>=4.42.1\n",
            "  Downloading tqdm-4.61.2-py2.py3-none-any.whl (76 kB)\n",
            "\u001b[K     |████████████████████████████████| 76 kB 5.1 MB/s \n",
            "\u001b[?25hCollecting importlib-metadata<3.0.0,>=2.1.1\n",
            "  Downloading importlib_metadata-2.1.1-py2.py3-none-any.whl (10 kB)\n",
            "Requirement already satisfied: appdirs<2.0.0,>=1.4.3 in /usr/local/lib/python3.7/dist-packages (from pyppeteer>=0.0.14->requests-html) (1.4.4)\n",
            "Collecting websockets<9.0,>=8.1\n",
            "  Downloading websockets-8.1-cp37-cp37m-manylinux2010_x86_64.whl (79 kB)\n",
            "\u001b[K     |████████████████████████████████| 79 kB 8.8 MB/s \n",
            "\u001b[?25hRequirement already satisfied: zipp>=0.5 in /usr/local/lib/python3.7/dist-packages (from importlib-metadata<3.0.0,>=2.1.1->pyppeteer>=0.0.14->requests-html) (3.5.0)\n",
            "Requirement already satisfied: beautifulsoup4 in /usr/local/lib/python3.7/dist-packages (from bs4->requests-html) (4.6.3)\n",
            "Collecting cssselect>0.7.9\n",
            "  Downloading cssselect-1.1.0-py2.py3-none-any.whl (16 kB)\n",
            "Requirement already satisfied: lxml>=2.1 in /usr/local/lib/python3.7/dist-packages (from pyquery->requests-html) (4.2.6)\n",
            "Requirement already satisfied: chardet<4,>=3.0.2 in /usr/local/lib/python3.7/dist-packages (from requests->requests-html) (3.0.4)\n",
            "Collecting urllib3<2.0.0,>=1.25.8\n",
            "  Downloading urllib3-1.25.11-py2.py3-none-any.whl (127 kB)\n",
            "\u001b[K     |████████████████████████████████| 127 kB 60.5 MB/s \n",
            "\u001b[?25hRequirement already satisfied: idna<3,>=2.5 in /usr/local/lib/python3.7/dist-packages (from requests->requests-html) (2.10)\n",
            "Requirement already satisfied: certifi>=2017.4.17 in /usr/local/lib/python3.7/dist-packages (from requests->requests-html) (2021.5.30)\n",
            "Requirement already satisfied: six>=1.4.1 in /usr/local/lib/python3.7/dist-packages (from w3lib->requests-html) (1.15.0)\n",
            "Building wheels for collected packages: fake-useragent, parse\n",
            "  Building wheel for fake-useragent (setup.py) ... \u001b[?25l\u001b[?25hdone\n",
            "  Created wheel for fake-useragent: filename=fake_useragent-0.1.11-py3-none-any.whl size=13503 sha256=40c88e24c2fb37f544918674852ea7bed2f88b94881a7bf7bd80fbd29b71487b\n",
            "  Stored in directory: /root/.cache/pip/wheels/ed/f7/62/50ab6c9a0b5567267ab76a9daa9d06315704209b2c5d032031\n",
            "  Building wheel for parse (setup.py) ... \u001b[?25l\u001b[?25hdone\n",
            "  Created wheel for parse: filename=parse-1.19.0-py3-none-any.whl size=24591 sha256=5eb12b17516d7b2ff02e157bd1b001e4d079ad27ec95f67c6fb5257d7064a4ca\n",
            "  Stored in directory: /root/.cache/pip/wheels/9c/aa/cc/f2228050ccb40f22144b073f15a2c84f11204f29fc0dce028e\n",
            "Successfully built fake-useragent parse\n",
            "Installing collected packages: websockets, urllib3, tqdm, pyee, importlib-metadata, cssselect, w3lib, pyquery, pyppeteer, parse, fake-useragent, requests-html\n",
            "  Attempting uninstall: urllib3\n",
            "    Found existing installation: urllib3 1.24.3\n",
            "    Uninstalling urllib3-1.24.3:\n",
            "      Successfully uninstalled urllib3-1.24.3\n",
            "  Attempting uninstall: tqdm\n",
            "    Found existing installation: tqdm 4.41.1\n",
            "    Uninstalling tqdm-4.41.1:\n",
            "      Successfully uninstalled tqdm-4.41.1\n",
            "  Attempting uninstall: importlib-metadata\n",
            "    Found existing installation: importlib-metadata 4.6.1\n",
            "    Uninstalling importlib-metadata-4.6.1:\n",
            "      Successfully uninstalled importlib-metadata-4.6.1\n",
            "\u001b[31mERROR: pip's dependency resolver does not currently take into account all the packages that are installed. This behaviour is the source of the following dependency conflicts.\n",
            "datascience 0.10.6 requires folium==0.2.1, but you have folium 0.8.3 which is incompatible.\u001b[0m\n",
            "Successfully installed cssselect-1.1.0 fake-useragent-0.1.11 importlib-metadata-2.1.1 parse-1.19.0 pyee-8.1.0 pyppeteer-0.2.5 pyquery-1.4.3 requests-html-0.10.0 tqdm-4.61.2 urllib3-1.25.11 w3lib-1.22.0 websockets-8.1\n"
          ],
          "name": "stdout"
        },
        {
          "output_type": "display_data",
          "data": {
            "application/vnd.colab-display-data+json": {
              "pip_warning": {
                "packages": [
                  "urllib3"
                ]
              }
            }
          },
          "metadata": {
            "tags": []
          }
        }
      ]
    },
    {
      "cell_type": "code",
      "metadata": {
        "id": "Y_Sdtc52-J8B"
      },
      "source": [
        "#!/usr/bin/env python3\n",
        "import collections\n",
        "from typing import Dict, List\n",
        "from collections import defaultdict\n",
        "from openpyxl.worksheet.worksheet import Worksheet\n",
        "import sys\n",
        "from requests_html import HTMLSession\n",
        "from bs4 import BeautifulSoup\n",
        "import urllib3\n",
        "import requests\n",
        "import openpyxl\n",
        "\n",
        "import re\n",
        "import warnings\n",
        "import requests\n",
        "from openpyxl import load_workbook\n",
        "from datetime import datetime\n",
        "import requests\n",
        "\n",
        "warnings.filterwarnings('ignore')\n",
        "urllib3.disable_warnings()\n",
        "\n",
        "\n",
        "URLS = [\n",
        "    'https://meteoinfo.ru/hdmapsmeteoalarmszfo',\n",
        "    'https://meteoinfo.ru/hdmapsmeteoalarmcfo',\n",
        "    'https://meteoinfo.ru/hdmapsmeteoalarmprfo',\n",
        "    'https://meteoinfo.ru/hdmapsmeteoalarmyugfo',\n",
        "    'https://meteoinfo.ru/hdmapsmeteoalarmyskfo',\n",
        "    'https://meteoinfo.ru/hdmapsmeteoalarmural',\n",
        "    'https://meteoinfo.ru/hdmapsmeteoalarmsyb',\n",
        "    'https://meteoinfo.ru/hdmapsmeteoalarmdv',\n",
        "]\n",
        "\n",
        "HAZARDS_URL = 'https://meteoinfo.ru/hazardsbull'\n",
        "\n",
        "SIZE = 4\n",
        "\n",
        "SHEET_NAME = 'Билет по регионам'\n",
        "\n",
        "REGION_COLUMN = 2\n",
        "\n",
        "FORECAST_COLUMNS = (6, 7, 8, 9)\n",
        "FACTOR_COLUMNS = (10, 11, 12, 13)\n",
        "\n",
        "FORCASTS = (\n",
        "    'Угроза повреждения ЛЭП и линий связи, обрушения слабо укрепленных, широкоформатных, ветхих и рекламных конструкций',\n",
        "    'Угроза выхода из строя систем ЖКХ, городских коммуникаций',\n",
        "    'Угроза затопления населенных пунктов, дорог, мостов',\n",
        "    'Угроза сбоев в работе всех видов транспорта, увеличение количества ДТП',\n",
        "    'Угроза жизни и здоровью населения',\n",
        "    'Увеличение количества травм пешеходов',\n",
        "    'Угроза повреждения населенных пунктов, дорог, мостов'\n",
        ")\n",
        "\n",
        "# INTERCHANGEABLE_FACTORS = [\n",
        "#     {'Ветер', 'Дождь', 'Снег/Обледенение', 'Гроза'},\n",
        "#     {'Заморозки', 'Очень низкая температура'},\n",
        "#     {'Туман', 'Голеледно - изморозевые отложения'},\n",
        "#     {'Пожарная опасность'},\n",
        "#     {'Паводок'},\n",
        "#     {'Очень высокая температура'}\n",
        "# ]\n",
        "\n",
        "FORCAST_MAP = {\n",
        "    'очень высокая температура': set((FORCASTS[4],)),\n",
        "    'очень низкая температура': set((FORCASTS[1], FORCASTS[4])),\n",
        "    'заморозки': set((FORCASTS[1], FORCASTS[4])),\n",
        "    'ветер': set((FORCASTS[0], FORCASTS[1], FORCASTS[4])),\n",
        "    'дождь': set((FORCASTS[0], FORCASTS[1])),\n",
        "    'гроза': set((FORCASTS[0], FORCASTS[1])),\n",
        "    'град': set((FORCASTS[0], FORCASTS[1])),\n",
        "    'паводок': set((FORCASTS[2], FORCASTS[4])),\n",
        "    'наводнение': set((FORCASTS[2], FORCASTS[4])),\n",
        "    'снег/Обледенение': set((FORCASTS[0], FORCASTS[1], FORCASTS[3])),\n",
        "    'голеледно - изморозевые отложения': set((FORCASTS[3], FORCASTS[5])),\n",
        "    'лавины': set((FORCASTS[4], FORCASTS[6])),\n",
        "    'сель': set((FORCASTS[4], FORCASTS[6])),\n",
        "    'прибрежные события': set((FORCASTS[1], FORCASTS[6], FORCASTS[4])),\n",
        "    'пыльная (песчаная) буря': set((FORCASTS[0], FORCASTS[1], FORCASTS[3], FORCASTS[4])),\n",
        "    'туман': set((FORCASTS[3],)),\n",
        "    'пожарная опасность': set((FORCASTS[6], FORCASTS[4])),\n",
        "    'прочие опасности': set(),\n",
        "}\n",
        "\n",
        "DASHBOARD_LABEL_MAP = {\n",
        "    'очень высокая температура': 'Критическое повышение температуры воздуха',\n",
        "    'очень низкая температура': 'Критическое понижение температуры воздуха',\n",
        "    'заморозки': 'Заморозки',\n",
        "    'ветер': 'Сильный ветер',\n",
        "    'дождь': 'Дождь',\n",
        "    'гроза': 'Гроза',\n",
        "    'паводок': 'Паводок, подтопление',\n",
        "    'наводнение': 'Наводнение',\n",
        "    'снег/Обледенение': 'Снегопад, метель',\n",
        "    'голеледно - изморозевые отложения': 'Гололедица',\n",
        "    'лавины': 'Оползни, обвалы, снежные лавины',\n",
        "    'сель': 'Сель',\n",
        "    'прибрежные события': 'Прибрежные события',\n",
        "    'пыльная (песчаная) буря': 'Пыльная (песчаная) буря',\n",
        "    'туман': 'Туман',\n",
        "    'пожарная опасность': 'Пожароопасная обстановка, пожары',\n",
        "    'прочие опасности': 'Прочие опасности',\n",
        "    'град': 'Град или снежный дождь'\n",
        "}\n",
        "\n",
        "FACTORS = FORCAST_MAP.keys()\n",
        "\n",
        "regions_need_to_join = {'саха',\n",
        "                        'магаданская',\n",
        "                        'ямало ненецкий ао',\n",
        "                        'камчатский край',\n",
        "                        'амурская',\n",
        "                        'хабаровский край',\n",
        "                        'чеч',\n",
        "                        'северная осетия',\n",
        "                        'красноярский',\n",
        "                        'моск'}\n",
        "\n",
        "\n",
        "def join_region(region: str) -> str:\n",
        "    if region.startswith('сахалин'):\n",
        "        return 'сахалин'\n",
        "    for reg in regions_need_to_join:\n",
        "        if region.startswith(reg):\n",
        "            return reg\n",
        "    return region\n",
        "\n",
        "\n",
        "def normolize_string(string: str):\n",
        "    string = string.strip().lower().translate({ord('.'): None})\n",
        "    string = ' '.join(string.split('-'))\n",
        "\n",
        "    # remove stop words\n",
        "    stop_words = ['г', 'обл', 'область', 'республика', 'югра', 'ао']\n",
        "    try:\n",
        "        splitted_string = string.split()\n",
        "    except IndexError:\n",
        "        return ''\n",
        "    string = ' '.join(w for w in splitted_string if w not in stop_words)\n",
        "    return join_region(string)\n",
        "\n",
        "\n",
        "def remove_interchangeable_factors(factor_desc_list: list):\n",
        "    factors_set = set()\n",
        "    prev_len_factors_set = 0\n",
        "\n",
        "    for factor_desc in factor_desc_list:\n",
        "        factor = factor_desc[0]\n",
        "        forecast = FORCAST_MAP.get(factor.lower())\n",
        "        if not forecast:\n",
        "            continue\n",
        "        factors_set.update(forecast)\n",
        "        if len(factors_set) == prev_len_factors_set:\n",
        "            factor_desc_list.remove(factor_desc)\n",
        "            return factor_desc_list\n",
        "        prev_len_factors_set = len(factors_set)\n",
        "    return factor_desc_list\n",
        "\n",
        "\n",
        "def analyze_factors(factors_desc: list):\n",
        "    final_forecasts = set()\n",
        "\n",
        "    prev_len = len(factors_desc)\n",
        "    while len(factors_desc) > SIZE:\n",
        "        factors_desc = remove_interchangeable_factors(factors_desc)\n",
        "        if len(factors_desc) == prev_len:  # If nothing has been deleted, means there is no interchangeable factors\n",
        "            factors_desc = factors_desc[:SIZE]\n",
        "        prev_len = len(factors_desc)\n",
        "\n",
        "    for factor, desc in factors_desc:\n",
        "        forecast: set = FORCAST_MAP.get(factor.lower())\n",
        "        if forecast is None:\n",
        "            print(f\"\\x1b[31mНЕИЗВЕСТНЫЙ ФАКТОР \\\"{factor}\\\"\\x1b[0m\")\n",
        "            continue\n",
        "        final_forecasts.update(forecast)\n",
        "\n",
        "    while len(final_forecasts) > SIZE:\n",
        "        final_forecasts.pop()\n",
        "\n",
        "    return final_forecasts, set(factors_desc)\n",
        "\n",
        "\n",
        "def factor_mapping(factor: str, description: str):\n",
        "    dashboard_factor = DASHBOARD_LABEL_MAP.get(factor.lower())\n",
        "    if dashboard_factor == 'Дождь':\n",
        "        for word in description.split():\n",
        "            if word.startswith('сильн') or word.startswith('лив'):\n",
        "                dashboard_factor = 'Сильный дождь, ливневой дождь'\n",
        "                break\n",
        "    return dashboard_factor\n",
        "\n",
        "def fill_excel_regions_weather(ws: Worksheet, regions: dict):\n",
        "    for row in range(2, ws.max_row + 1):\n",
        "        name = ws.cell(row=row, column=REGION_COLUMN).value\n",
        "        if not name:\n",
        "            continue\n",
        "\n",
        "        name = normolize_string(name)\n",
        "        factors_desc = regions.get(name)\n",
        "\n",
        "        if not factors_desc: # if there is no forecast for the region\n",
        "            # print(name)\n",
        "            continue\n",
        "\n",
        "        forecasts, factors_desc = analyze_factors(factors_desc)\n",
        "        for column, forecast in zip(FORECAST_COLUMNS, forecasts):\n",
        "            ws.cell(row=row, column=column).value = forecast\n",
        "\n",
        "        for column, factor_desc in zip(FACTOR_COLUMNS, factors_desc):\n",
        "            factor = factor_desc[0]\n",
        "            desc = factor_desc[1]\n",
        "            ws.cell(row=row, column=column).value = factor_mapping(factor, desc)\n",
        "\n",
        "\n",
        "def get_hazards(ws:Worksheet, url: str):\n",
        "    session = HTMLSession()\n",
        "    response = session.get(url, verify=False)\n",
        "    rows = response.html.find('#div_1', first=True).xpath('*/table/tbody/tr')\n",
        "    row_data = rows[1].xpath('//p', first=True)\n",
        "    ws['B5'].value = row_data.text\n",
        "    # print(row_data.text)\n",
        "\n",
        "\n",
        "def parse_description(factor_list: list, region_factor_desc: str):\n",
        "    for word in re.split(';|,|\\.| ', region_factor_desc):\n",
        "        # try:\n",
        "        #     factors = list(zip(*factor_list))[0]\n",
        "        # except IndexError:\n",
        "        #     factors = []\n",
        "        if (word.lower().startswith('дожд') or word.lower().startswith('лив')):\n",
        "            factor_list.append(('Дождь', region_factor_desc))\n",
        "        elif word.lower().startswith('гроз'):\n",
        "            factor_list.append(('Гроза', region_factor_desc))\n",
        "        elif word.lower().startswith('град'):\n",
        "            factor_list.append(('Град', region_factor_desc))\n",
        "        elif (word.lower().startswith('шквал') or word.lower().startswith('вет')):\n",
        "            factor_list.append(('Ветер', region_factor_desc))\n",
        "\n",
        "\n",
        "def get_regions(urls: List[str]) -> Dict:\n",
        "    # factors = defaultdict(list)\n",
        "    # descriptions = defaultdict(list)\n",
        "    regions = defaultdict(list)\n",
        "    for url in urls:\n",
        "        wd.get(url)\n",
        "        hours24_button = wd.find_element_by_id(hours_button_id)\n",
        "        hours24_button.click()\n",
        "        for row in wd.find_elements_by_xpath('//div[@class=\"test\"]'):\n",
        "            try:\n",
        "                row_data_bs = BeautifulSoup(row.get_attribute('data-original-title'),\n",
        "                                            features='lxml')\n",
        "            except:\n",
        "                print('error')\n",
        "                continue  # if raw_data is None\n",
        "            region_name = normolize_string(row_data_bs.find(class_='cl_tbl_obl_name_tooltip').text)\n",
        "            region_factor = row_data_bs.find(class_='cl_tbl_tooltip_text').find('b').text.strip('. ')\n",
        "            region_factor_desc = '.'.join(row_data_bs.find(class_='cl_tbl_tooltip_text').text.split('.')[1:]).strip()\n",
        "\n",
        "            if (region_factor == 'КМЯ' or region_factor == 'Прочие опасности'):\n",
        "                parse_description(regions[region_name], region_factor_desc)\n",
        "                # print(regions[region_name], region_factor)\n",
        "                continue\n",
        "\n",
        "            \n",
        "\n",
        "            try:\n",
        "                factors = list(zip(*regions[region_name]))[0]\n",
        "            except IndexError:\n",
        "                factors = []\n",
        "\n",
        "            if region_factor != '':\n",
        "                regions[region_name].append((region_factor, region_factor_desc))\n",
        "\n",
        "    return regions\n",
        "\n",
        "\n",
        "def fill_excel_covid_rt(ws: Worksheet):\n",
        "    obl_pattern = re.compile(r'\\bобл\\.', re.IGNORECASE)\n",
        "    ao_pattern = re.compile(r'(?<!Еврейская)\\bао\\b', re.IGNORECASE)\n",
        "    gorod_pattern = re.compile(r'\\bг\\.', re.IGNORECASE)\n",
        "    strange_pattern = re.compile(r'[—]')\n",
        "\n",
        "    url = 'https://yastat.net/s3/milab/2020/covid19-stat/data/v10/deep_data.json?v=1618916098074'\n",
        "    sheet = 'Билет по регионам'\n",
        "\n",
        "    json_dict = requests.get(url, verify=False).json()\n",
        "\n",
        "    region_rt_dict = {strange_pattern.sub('-', x['info']['name'].lower()): x['info'].get('rt') for x in json_dict['russia_stat_struct']['data'].values()}\n",
        "    region_rt_dict_short_name = {strange_pattern.sub('-', x['info']['short_name'].lower()): x['info'].get('rt') for x in json_dict['russia_stat_struct']['data'].values()}\n",
        "\n",
        "    for row in range(2, ws.max_row + 1):\n",
        "        # print(ws.cell(row=row, column=2).value)\n",
        "        key = ws.cell(row=row, column=2).value.lower()\n",
        "\n",
        "        key = obl_pattern.sub('область', key).strip()\n",
        "        key = gorod_pattern.sub('', key).strip()\n",
        "\n",
        "        value = region_rt_dict_short_name.get(key, region_rt_dict.get(ao_pattern.sub('автономный округ', key).strip()))\n",
        "\n",
        "        ws.cell(row=row, column=3).value = round(value, 2) if value else value\n",
        "\n",
        "def clear_table(ws: Worksheet):\n",
        "    for row in range(2, ws.max_row + 1):\n",
        "        for column in (FORECAST_COLUMNS + FACTOR_COLUMNS + (3,)):\n",
        "            ws.cell(row=row, column=column).value = None"
      ],
      "execution_count": null,
      "outputs": []
    },
    {
      "cell_type": "code",
      "metadata": {
        "id": "wT52ydtzv3kF"
      },
      "source": [
        "def get_regions_info() -> dict:\n",
        "    final_region_data = {}\n",
        "\n",
        "    response: dict = requests.get(URL, verify=False).json()\n",
        "    regions = response['russia_stat_struct']['data']\n",
        "    dates = response['russia_stat_struct']['dates']\n",
        "    for region in regions:\n",
        "        full_name = regions[region]['info']['name']\n",
        "        short_name = regions[region]['info']['short_name']\n",
        "        regions[region]['info'].pop('name', None)\n",
        "        regions[region]['info'].pop('short_name', None)\n",
        "        final_region_data[short_name] = regions[region]\n",
        "    return final_region_data"
      ],
      "execution_count": null,
      "outputs": []
    },
    {
      "cell_type": "code",
      "metadata": {
        "id": "KCBz7nV8Aeb0"
      },
      "source": [
        ""
      ],
      "execution_count": null,
      "outputs": []
    },
    {
      "cell_type": "code",
      "metadata": {
        "id": "QjkT3zqTUEfn"
      },
      "source": [
        "URL = 'https://yastat.net/s3/milab/2020/covid19-stat/data/v10/deep_data.json'\n",
        "\n",
        "def situation_in_the_bank(wb):\n",
        "    regions = get_regions_info()\n",
        "\n",
        "    # interface = OpenpyxlInterface(wb=wb, use_cache=True)\n",
        "    day_infections = regions['Россия']['info']['cases_delta']\n",
        "    rt = wb['Билет по регионам']['C'][2:85]\n",
        "    rt_bigger_1_num = len([r.value for r in rt if r.value > 1])\n",
        "    s1 = \"субъекте\" if (rt_bigger_1_num%10 == 1) and rt_bigger_1_num != 11 else \"субъектах\"\n",
        "\n",
        "    gain = []\n",
        "    regions = []\n",
        "\n",
        "    regions_dict = {}\n",
        "    for region in reg:\n",
        "        if region not in ['Санкт-Петербург', 'Московская область', 'Москва', 'Россия']:\n",
        "            regions_dict[region] = reg[region]['info']['cases_delta']\n",
        "    top5 = sorted(regions_dict.items(), key=lambda x: 1/x[1])[:5]\n",
        "\n",
        "    s2 = ', '.join([f'{region} ({gain})' for region, gain in top5])\n",
        "    template = f\"{day_infections} новых случаев в России. Ухудшение – в {rt_bigger_1_num} {s1} РФ. Наибольший прирост новых случаев: {s2}.\"\n",
        "    # print(template)\n",
        "    wb['Обстановка в банке']['B7'] = template\n"
      ],
      "execution_count": null,
      "outputs": []
    },
    {
      "cell_type": "code",
      "metadata": {
        "id": "1JvHSIm6_fME"
      },
      "source": [
        "def meteoinfo(filename: str):\n",
        "    wb = openpyxl.load_workbook(filename)\n",
        "    ws = wb[SHEET_NAME]\n",
        "\n",
        "    clear_table(ws)\n",
        "    fill_excel_covid_rt(ws=ws)\n",
        "    regions = get_regions(urls=URLS)\n",
        "    print(regions)\n",
        "    # remove duplicate factors\n",
        "    for region in regions:\n",
        "        factors = regions[region]\n",
        "        final_list = []\n",
        "        for factor in factors:\n",
        "            try:\n",
        "                unique_factors = list(zip(*final_list))[0]\n",
        "            except:\n",
        "                unique_factors = []\n",
        "            if factor[0] not in unique_factors:\n",
        "                final_list.append(factor)\n",
        "        regions[region] = final_list\n",
        "\n",
        "\n",
        "    fill_excel_regions_weather(ws=ws, regions=regions)\n",
        "\n",
        "    # B5\n",
        "    get_hazards(wb['Обстановка в банке'], HAZARDS_URL)\n",
        "    # B7\n",
        "    situation_in_the_bank(wb)\n",
        "\n",
        "    today = datetime.today().strftime(\"%d-%m-%Y\")\n",
        "    splitted_filename = filename.split('.')\n",
        "    splitted_filename[0] = f'{splitted_filename[0]}_{today}_{hours}'\n",
        "    output_file_name = '.'.join(splitted_filename)\n",
        "\n",
        "    wb.save(output_file_name)\n",
        "    return output_file_name"
      ],
      "execution_count": null,
      "outputs": []
    },
    {
      "cell_type": "markdown",
      "metadata": {
        "id": "ihavSUiW5ZSi"
      },
      "source": [
        "##main"
      ]
    },
    {
      "cell_type": "code",
      "metadata": {
        "id": "E0BGgeQZVUG0"
      },
      "source": [
        "def main(meteoinfo_filename: str):\n",
        "    # Заполнение погодных данных с meteoinfo в xlsx файл\n",
        "    meteoinfo(meteoinfo_filename)\n",
        "    \n"
      ],
      "execution_count": null,
      "outputs": []
    },
    {
      "cell_type": "markdown",
      "metadata": {
        "id": "mywhIDYNDEjr"
      },
      "source": [
        "\n",
        "# Результат"
      ]
    },
    {
      "cell_type": "code",
      "metadata": {
        "id": "PPE_spTG922b"
      },
      "source": [
        ""
      ],
      "execution_count": null,
      "outputs": []
    },
    {
      "cell_type": "code",
      "metadata": {
        "id": "z9d0cqvGTd42",
        "colab": {
          "base_uri": "https://localhost:8080/"
        },
        "outputId": "677a28b9-c4e2-46e8-b3ba-b2d20b4d8a0f"
      },
      "source": [
        "out_file = main(meteoinfo_filename)"
      ],
      "execution_count": null,
      "outputs": [
        {
          "output_type": "stream",
          "text": [
            "defaultdict(<class 'list'>, {'архангельская': [('Пожарная опасность', 'Период предупреждения до 21 ч. 24 июля местами 5 класс пожароопасности (более 3000 градусов по формуле Нестерова)'), ('Дождь', 'Период предупреждения с 21 ч. 23 июля до 09 ч. 24 июля местами сильный дождь'), ('Ветер', 'Период предупреждения до 21 ч. 23 июля Местами в северных районах порывы 15 м/с')], 'вологодская': [('Пожарная опасность', 'Период предупреждения до 21 ч. 24 июля местами пожароопасность 4 кл.'), ('Гроза', 'Период предупреждения до 21 ч. 23 июля Местами гроза')], 'калининградская': [], 'ленинградская': [('Пожарная опасность', 'Период предупреждения до 00 ч. 25 июля местами')], 'мурманская': [('Ветер', 'Период предупреждения до 04 ч. 25 июля Местами сильный ветер')], 'ненецкий': [('Ветер', 'Период предупреждения до 21 ч. 24 июля на побережье местами порывы 15-18 м/с')], 'новая земля': [('Ветер', 'Период предупреждения до 21 ч. 24 июля местами порывы 18-23 м/с')], 'новгородская': [], 'псковская': [('Пожарная опасность', 'Период предупреждения до 10 ч. 25 июля местами чрезвычайная пожарная опасность, местами высокая пожарная опасность')], 'карелия': [('атмосферная засуха', 'Период предупреждения до 23 ч. 24 июля по юго-западным районам Карелии')], 'коми': [('Пожарная опасность', 'Период предупреждения до 21 ч. 24 июля местами 5 класс пожароопасности (более 3000 градусов по формуле Нестерова)'), ('Дождь', 'Период предупреждения с 21 ч. 23 июля до 09 ч. 24 июля местами сильный дождь')], 'санкт петербург': [], 'белгородская': [], 'брянская': [], 'владимирская': [('Пожарная опасность', 'Период предупреждения до 13 ч. 24 июля Местами чрезвычайная пожароопасность 5 класс')], 'воронежская': [('Пожарная опасность', 'Период предупреждения до 06 ч. 25 июля местами 5 класс пожарной опасности')], 'ивановская': [('Пожарная опасность', 'Период предупреждения до 04 ч. 25 июля местами чрезвычайная пожароопасность 5 класса')], 'калужская': [], 'костромская': [('Пожарная опасность', 'Период предупреждения до 04 ч. 25 июля В большинстве районов высокая (4 класс), местами чрезвычайная (5 класс) пожароопасность')], 'курская': [], 'липецкая': [('Гроза', 'Период предупреждения с 06 ч. 24 июля до 18 ч. 24 июля местами грозы')], 'моск': [('Пожарная опасность', 'Период предупреждения до 21 ч. 24 июля местами высокая пожароопасность 4 класса')], 'орловская': [], 'рязанская': [('Пожарная опасность', 'Период предупреждения до 11 ч. 25 июля В большинстве районов высокая (4 класс), местами чрезвычайная (5 класс) пожароопасность.')], 'смоленская': [('Пожарная опасность', 'Период предупреждения до 13 ч. 25 июля Местами высокая')], 'тамбовская': [('Гроза', 'Период предупреждения с 06 ч. 24 июля до 18 ч. 24 июля местами грозы')], 'тверская': [], 'тульская': [('Пожарная опасность', 'Период предупреждения до 16 ч. 25 июля по Алексинскому, Воловскому району и Туле 4 класс пожароопасности')], 'ярославская': [('Пожарная опасность', 'Период предупреждения до 21 ч. 24 июля местами чрезвычайная пожароопасность 5 класс')], 'кировская': [('Гроза', 'Период предупреждения до 00 ч. 25 июля МЕСТАМИ ГРОЗА'), ('Пожарная опасность', 'Период предупреждения до 00 ч. 25 июля местами высокая пожароопасность')], 'марий эл': [], 'нижегородская': [('Пожарная опасность', 'Период предупреждения до 00 ч. 25 июля местами высокая и чрезвычайная пожароопасность лесов'), ('Гроза', 'Период предупреждения до 00 ч. 25 июля местами гроза')], 'оренбургская': [('Пожарная опасность', 'Период предупреждения до 14 ч. 27 июля В период с 23.07.21г. по 26.07.21г. в отдельных районах области сохранится чрезвычайная пожарная опасность - 5 класс.'), ('Гроза', 'Период предупреждения до 20 ч. 24 июля местами гроза'), ('Ветер', 'Период предупреждения до 08 ч. 24 июля днем местами порывы 18-23 м/с, ночью местами порывы 15-20 м/с'), ('Дождь', 'Период предупреждения до 08 ч. 24 июля местами сильный дождь')], 'пензенская': [], 'пермский край': [], 'башкортостан': [('Пожарная опасность', 'Период предупреждения до 20 ч. 24 июля в южных районах республики ожидается чрезвычайный класс пожароопасности'), ('Дождь', 'Период предупреждения до 14 ч. 24 июля ночью по юго-востоку республики местами сильный дождь, сильный ливень'), ('Ветер', 'Период предупреждения до 20 ч. 24 июля днем 23.07 местами порывы 17-22м/с ночью 24.07 по юго-востоку республики шквалистое усиление ветра 21-26м/с днем 24.07 местами порывы 15-20м/с'), ('Гроза', 'Период предупреждения до 08 ч. 24 июля местами грозы')], 'мордовия': [('Пожарная опасность', 'Период предупреждения до 00 ч. 25 июля местами чрезвычайная и высокая пожароопасность')], 'татарстан': [('Гроза', 'Период предупреждения до 18 ч. 24 июля Местами гроза'), ('Ветер', 'Период предупреждения до 18 ч. 24 июля При грозе кратковременные усиления до 15-20 м/с')], 'самарская': [('Пожарная опасность', 'Период предупреждения до 06 ч. 25 июля Местами высокая и чрезвычайная пожарная опасность')], 'саратовская': [('Пожарная опасность', 'Период предупреждения до 13 ч. 25 июля В период с 24.07.2021 г. по 30.07.2021 г. ожидается чрезвычайная пожарная опасность - 5 класс.')], 'удмуртская': [], 'ульяновская': [], 'чувашская': [('Гроза', 'Период предупреждения до 00 ч. 25 июля местами гроза')], 'астраханская': [('Комплекс метеоявлений', 'Период предупреждения до 00 ч. 24 июля до конца суток 23.07 местами ожидаются сильные дожди, ливни, град в сочетании с грозой и шквалистым ветром 20-22 м/с.'), ('Пожарная опасность', 'Период предупреждения до 19 ч. 24 июля 23-24.07 в г. Астрахани, южных и центральном Харабалинском районах сохранится чрезвычайная пожароопасность.')], 'волгоградская': [('Гроза', 'Период предупреждения до 18 ч. 25 июля местами гроза')], 'краснодарский край': [('Дождь', 'Период предупреждения до 00 ч. 24 июля Местами в крае ожидается комплекс метеорологических явлений: сильный дождь, ливень в сочетании с грозой, градом, шквалистым усилением ветра 20-22 м/с. На участке от Анапы до Магри существует вероятность формирования смерчей над морем.'), ('Дождь', 'Период предупреждения до 00 ч. 24 июля Местами в крае ожидается комплекс метеорологических явлений: сильный дождь, ливень в сочетании с грозой, градом, шквалистым усилением ветра 20-22 м/с. На участке от Анапы до Магри существует вероятность формирования смерчей над морем.'), ('Гроза', 'Период предупреждения до 00 ч. 24 июля Местами в крае ожидается комплекс метеорологических явлений: сильный дождь, ливень в сочетании с грозой, градом, шквалистым усилением ветра 20-22 м/с. На участке от Анапы до Магри существует вероятность формирования смерчей над морем.'), ('Град', 'Период предупреждения до 00 ч. 24 июля Местами в крае ожидается комплекс метеорологических явлений: сильный дождь, ливень в сочетании с грозой, градом, шквалистым усилением ветра 20-22 м/с. На участке от Анапы до Магри существует вероятность формирования смерчей над морем.'), ('Ветер', 'Период предупреждения до 00 ч. 24 июля Местами в крае ожидается комплекс метеорологических явлений: сильный дождь, ливень в сочетании с грозой, градом, шквалистым усилением ветра 20-22 м/с. На участке от Анапы до Магри существует вероятность формирования смерчей над морем.'), ('Ветер', 'Период предупреждения до 00 ч. 24 июля Местами в крае ожидается комплекс метеорологических явлений: сильный дождь, ливень в сочетании с грозой, градом, шквалистым усилением ветра 20-22 м/с. На участке от Анапы до Магри существует вероятность формирования смерчей над морем.'), ('Пожарная опасность', 'Период предупреждения до 14 ч. 25 июля Местами в западной половине и центральных районах края сохранится ЧПО 5 класса (ОЯ), в северо-западных районах края сохранится ВПО 4 класс (НЯ)'), ('Дождь', 'Период предупреждения с 00 ч. 24 июля до 18 ч. 24 июля Местами в южной половине края сильный дождь'), ('Гроза', 'Период предупреждения до 16 ч. 25 июля Местами гроза'), ('Паводок', 'Период предупреждения до 00 ч. 24 июля На реках, малых реках и водотоках бассейна р.Кубань юго-восточной территории края и реках Черноморского побережья (МО Геленджик, Туапсинский район)ожидаются подъёмы уровней воды местами с превышением неблагоприятных отметок.')], 'крым, горные районы': [], 'крым, предгорные районы': [('Пожарная опасность', 'Период предупреждения до 00 ч. 25 июля чрезвычайная пожарная опасность (5 класс)')], 'крым, степные районы': [], 'крым, южное побережье': [('Пожарная опасность', 'Период предупреждения до 00 ч. 25 июля чрезвычайная пожарная опасность')], 'адыгея': [('Дождь', 'Период предупреждения до 23 ч. 23 июля сильные дожди, ливни в сочетании с грозой, градом, шквалистое усиление ветра до 20 м/с'), ('Дождь', 'Период предупреждения до 23 ч. 23 июля сильные дожди, ливни в сочетании с грозой, градом, шквалистое усиление ветра до 20 м/с'), ('Гроза', 'Период предупреждения до 23 ч. 23 июля сильные дожди, ливни в сочетании с грозой, градом, шквалистое усиление ветра до 20 м/с'), ('Град', 'Период предупреждения до 23 ч. 23 июля сильные дожди, ливни в сочетании с грозой, градом, шквалистое усиление ветра до 20 м/с'), ('Ветер', 'Период предупреждения до 23 ч. 23 июля сильные дожди, ливни в сочетании с грозой, градом, шквалистое усиление ветра до 20 м/с'), ('Ветер', 'Период предупреждения до 23 ч. 23 июля сильные дожди, ливни в сочетании с грозой, градом, шквалистое усиление ветра до 20 м/с'), ('Дождь', 'Период предупреждения с 00 ч. 24 июля до 18 ч. 24 июля местами сильный дождь'), ('Гроза', 'Период предупреждения до 18 ч. 26 июля местами гроза')], 'калмыкия': [('Пожарная опасность', 'Период предупреждения до 12 ч. 25 июля Чрезвычайная пожарная опасность 5 класса местами в северных районах (Юстинский, Октябрьский районы), местами в центральном районе (восточная половина Яшкульского района), местами в юго-восточных районах (Лаганский район, восточная половина Черноземельского района).')], 'ростовская': [('Пожарная опасность', 'Период предупреждения до 20 ч. 24 июля Местами в северо-восточных и северо-западных районах чрезвычайная пожароопасность (5 класс). Местами в северо-восточных районах высокая пожароопасность (4 класс).'), ('Почвенная засуха на полях с подсолнечником', 'Период предупреждения до 15 ч. 25 июля В отдельных северо-западных (Боковский) районах Ростовской области почвенная засуха сохраняется.')], 'сочи': [('Дождь', 'Период предупреждения до 23 ч. 23 июля комплекс гидрометеорологических явлений: местами сильные дожди, ливни с грозами, градом. На реках подъемы уровней воды, местами с достижением неблагоприятных отметок. Возрастает риск схода селевых потоков малого объема. Имеется опасность формирования смерчей над морем.'), ('Дождь', 'Период предупреждения до 23 ч. 23 июля комплекс гидрометеорологических явлений: местами сильные дожди, ливни с грозами, градом. На реках подъемы уровней воды, местами с достижением неблагоприятных отметок. Возрастает риск схода селевых потоков малого объема. Имеется опасность формирования смерчей над морем.'), ('Гроза', 'Период предупреждения до 23 ч. 23 июля комплекс гидрометеорологических явлений: местами сильные дожди, ливни с грозами, градом. На реках подъемы уровней воды, местами с достижением неблагоприятных отметок. Возрастает риск схода селевых потоков малого объема. Имеется опасность формирования смерчей над морем.'), ('Град', 'Период предупреждения до 23 ч. 23 июля комплекс гидрометеорологических явлений: местами сильные дожди, ливни с грозами, градом. На реках подъемы уровней воды, местами с достижением неблагоприятных отметок. Возрастает риск схода селевых потоков малого объема. Имеется опасность формирования смерчей над морем.'), ('Прибрежные события', 'Период предупреждения до 06 ч. 24 июля Высота волны 1,3-2,0 метра')], 'кабардино балкарская': [('Паводок', 'Период предупреждения до 23 ч. 23 июля на реках ожидается подъем уровней воды до ня'), ('град', 'Период предупреждения до 18 ч. 24 июля местами град'), ('Дождь', 'Период предупреждения до 18 ч. 24 июля местами сильный дождь'), ('Пожарная опасность', 'Период предупреждения до 10 ч. 25 июля в северо-восточных районах чрезвычайная пожароопасность леса'), ('Гроза', 'Период предупреждения до 23 ч. 23 июля местами гроза'), ('Ветер', 'Период предупреждения до 23 ч. 23 июля при грозе местами усиление ветра до 18-23м/с'), ('Сель', 'Период предупреждения до 23 ч. 23 июля в горах ожидается сход селей малых объемов'), ('Гроза', 'Период предупреждения с 23 ч. 23 июля до 06 ч. 25 июля местами гроза')], 'карачаево черкесская': [('Дождь', 'Период предупреждения до 00 ч. 24 июля Местами сильный дождь в сочетании с грозой, градом и шквалом 20-25 м/с.'), ('Гроза', 'Период предупреждения до 00 ч. 24 июля Местами сильный дождь в сочетании с грозой, градом и шквалом 20-25 м/с.'), ('Град', 'Период предупреждения до 00 ч. 24 июля Местами сильный дождь в сочетании с грозой, градом и шквалом 20-25 м/с.'), ('Ветер', 'Период предупреждения до 00 ч. 24 июля Местами сильный дождь в сочетании с грозой, градом и шквалом 20-25 м/с.'), ('Гроза', 'Период предупреждения до 04 ч. 25 июля Местами гроза.'), ('Пожарная опасность', 'Период предупреждения до 12 ч. 25 июля Местами в горных районах высокая пожароопасность.')], 'дагестан': [('Пожарная опасность', 'Период предупреждения до 18 ч. 24 июля Местами по приморским, предгорным и горным районам Дагестана сохранится высокая пожароопасность (4 кл.); по низменным районам сохранится, местами по предгорным районам ожидается чрезвычайная пожароопасность (5 кл.).')], 'ингушетия': [('Пожарная опасность', 'Период предупреждения до 12 ч. 25 июля в северных районах сохранится чрезвычайная пожароопасность (5 класс).'), ('Дождь', 'Период предупреждения до 23 ч. 24 июля Местами сильные дожди, ливни в сочетании с грозой, градом и шквалистым усилением ветра 20-25 м/с; на реках подъёмы уровней воды с достижением местами неблагоприятных отметок, в горах сход селей малого объёма.'), ('Дождь', 'Период предупреждения до 23 ч. 24 июля Местами сильные дожди, ливни в сочетании с грозой, градом и шквалистым усилением ветра 20-25 м/с; на реках подъёмы уровней воды с достижением местами неблагоприятных отметок, в горах сход селей малого объёма.'), ('Гроза', 'Период предупреждения до 23 ч. 24 июля Местами сильные дожди, ливни в сочетании с грозой, градом и шквалистым усилением ветра 20-25 м/с; на реках подъёмы уровней воды с достижением местами неблагоприятных отметок, в горах сход селей малого объёма.'), ('Град', 'Период предупреждения до 23 ч. 24 июля Местами сильные дожди, ливни в сочетании с грозой, градом и шквалистым усилением ветра 20-25 м/с; на реках подъёмы уровней воды с достижением местами неблагоприятных отметок, в горах сход селей малого объёма.'), ('Ветер', 'Период предупреждения до 23 ч. 24 июля Местами сильные дожди, ливни в сочетании с грозой, градом и шквалистым усилением ветра 20-25 м/с; на реках подъёмы уровней воды с достижением местами неблагоприятных отметок, в горах сход селей малого объёма.'), ('Ветер', 'Период предупреждения до 23 ч. 24 июля Местами сильные дожди, ливни в сочетании с грозой, градом и шквалистым усилением ветра 20-25 м/с; на реках подъёмы уровней воды с достижением местами неблагоприятных отметок, в горах сход селей малого объёма.')], 'северная осетия': [('Пожарная опасность', 'Период предупреждения до 23 ч. 24 июля 21-22 июля в степных районай чрезвычайная пожароопсаность'), ('Гроза', 'Период предупреждения до 23 ч. 24 июля местами гроза'), ('Ветер', 'Период предупреждения до 23 ч. 24 июля при грозе усиление ветра 20-25 м/с'), ('Дождь', 'Период предупреждения до 23 ч. 24 июля кратковременный дождь,в отдельных районах сильный'), ('Град', 'Период предупреждения до 23 ч. 24 июля местами град'), ('Паводок', 'Период предупреждения до 23 ч. 24 июля на реках подъем уровней воды,местами до неблагоприятных отмееток'), ('Сель', 'Период предупреждения до 23 ч. 24 июля в горах сели малого объема')], 'ставропольский край': [('Засуха почвенная под пропашными культурами', 'Период предупреждения до 08 ч. 24 июля В отдельных северо-западных районах отмечается засуха почвенная под пропашными культурами.'), ('Дождь', 'Период предупреждения до 00 ч. 24 июля Местами сильный дождь в сочетании с грозой, градом и шквалом 20-25 м/с.'), ('Пожарная опасность', 'Период предупреждения до 12 ч. 25 июля местами в северной части и юго-восточных районах чрезвычайная пожароопасность (5 класс).'), ('Гроза', 'Период предупреждения до 18 ч. 24 июля Местами гроза.')], 'чеч': [('Дождь', 'Период предупреждения до 23 ч. 24 июля Местами сильные дожди, ливни в сочетании с грозой, градом и шквалистым усилением ветра 20-25 м/с; на реках подъёмы уровней воды с достижением местами неблагоприятных отметок, в горах сход селей малого объёма.'), ('Дождь', 'Период предупреждения до 23 ч. 24 июля Местами сильные дожди, ливни в сочетании с грозой, градом и шквалистым усилением ветра 20-25 м/с; на реках подъёмы уровней воды с достижением местами неблагоприятных отметок, в горах сход селей малого объёма.'), ('Гроза', 'Период предупреждения до 23 ч. 24 июля Местами сильные дожди, ливни в сочетании с грозой, градом и шквалистым усилением ветра 20-25 м/с; на реках подъёмы уровней воды с достижением местами неблагоприятных отметок, в горах сход селей малого объёма.'), ('Град', 'Период предупреждения до 23 ч. 24 июля Местами сильные дожди, ливни в сочетании с грозой, градом и шквалистым усилением ветра 20-25 м/с; на реках подъёмы уровней воды с достижением местами неблагоприятных отметок, в горах сход селей малого объёма.'), ('Ветер', 'Период предупреждения до 23 ч. 24 июля Местами сильные дожди, ливни в сочетании с грозой, градом и шквалистым усилением ветра 20-25 м/с; на реках подъёмы уровней воды с достижением местами неблагоприятных отметок, в горах сход селей малого объёма.'), ('Ветер', 'Период предупреждения до 23 ч. 24 июля Местами сильные дожди, ливни в сочетании с грозой, градом и шквалистым усилением ветра 20-25 м/с; на реках подъёмы уровней воды с достижением местами неблагоприятных отметок, в горах сход селей малого объёма.'), ('Пожарная опасность', 'Период предупреждения до 12 ч. 25 июля Местами в южных районах сохранится высокая пожароопасность (4 класс).')], 'курганская': [('Гроза', 'Период предупреждения до 20 ч. 24 июля Местами грозы.'), ('Ветер', 'Период предупреждения до 20 ч. 24 июля Отдельные порывы до 18 м/с.')], 'свердловская': [('Ветер', 'Период предупреждения до 20 ч. 24 июля Шквалистое усиление ветра до 25 м/с.'), ('Дождь', 'Период предупреждения до 20 ч. 24 июля Местами сильные и очень сильные дожди, сильные ливни'), ('Гроза', 'Период предупреждения до 20 ч. 24 июля Местами грозы, град')], 'тюменская': [('Дождь', 'Период предупреждения с 08 ч. 24 июля до 20 ч. 24 июля местами сильные дожди'), ('Ветер', 'Период предупреждения до 20 ч. 24 июля местами порывы 15-20 м/с'), ('Гроза', 'Период предупреждения до 20 ч. 24 июля местами грозы')], 'ханты мансийский': [('Ветер', 'Период предупреждения до 17 ч. 25 июля Местами 15-18 м/с'), ('Гроза', 'Период предупреждения до 12 ч. 25 июля местами'), ('Туман', 'Период предупреждения до 08 ч. 24 июля Местами туман.')], 'челябинская': [('Ветер', 'Период предупреждения до 20 ч. 24 июля Шквалистое усиление ветра до 25 м/с'), ('Дождь', 'Период предупреждения до 20 ч. 24 июля Местами сильные и очень сильные дожди, сильные ливни'), ('Гроза', 'Период предупреждения до 20 ч. 24 июля Местами грозы, возможен град.'), ('Пожарная опасность', 'Период предупреждения до 20 ч. 24 июля Местами на юге области сохраняется высокая пожарная опасность (4 класс горимости леса по региональной шкале)')], 'ямало ненецкий ао': [('Дождь', 'Период предупреждения с 23 ч. 23 июля до 23 ч. 24 июля местами ливни'), ('Ветер', 'Период предупреждения до 23 ч. 24 июля местами порывы 17-22 м/с, днем в северной половине региона 25-30 м/с'), ('Гроза', 'Период предупреждения до 23 ч. 24 июля местами гроза'), ('Ветер', 'Период предупреждения до 08 ч. 24 июля Местами порывы до 25 м/с'), ('Дождь', 'Период предупреждения до 08 ч. 24 июля Местами по Ямало-Ненецкому АО очень сильный дождь'), ('Гроза', 'Период предупреждения до 08 ч. 24 июля в отдельных районах'), ('Ветер', 'Период предупреждения с 08 ч. 24 июля до 22 ч. 24 июля в отдельных районах порывы 16-21 м/с')], 'алтайский край': [('Пожарная опасность', 'Период предупреждения до 22 ч. 25 июля В Тогульском районе чрезвычайная пожароопасность (5 класс горимости)'), ('Дождь', 'Период предупреждения до 19 ч. 24 июля местами сильные дожди'), ('Очень высокая температура', 'Период предупреждения до 22 ч. 25 июля местами +30 гр. и выше'), ('Гроза', 'Период предупреждения до 12 ч. 25 июля Местами грозы')], 'иркутская': [('Пожарная опасность', 'Период предупреждения до 10 ч. 25 июля 24-26 июля местами по области ожидается высокая 4 класса и чрезвычайная 5 класса пожароопасность лесов'), ('Туман', 'Период предупреждения с 03 ч. 24 июля до 09 ч. 24 июля 24 июля утром местами по области туман'), ('Гроза', 'Период предупреждения до 20 ч. 24 июля 23-24 июля местами по области грозы')], 'кемеровская': [('Гроза', 'Период предупреждения до 19 ч. 24 июля Местами грозы, возможен град'), ('Дождь', 'Период предупреждения до 19 ч. 24 июля Местами по югу сильные дожди'), ('Пожарная опасность', 'Период предупреждения до 23 ч. 25 июля В Юргинском районе высокая пожароопасность (4 класса)'), ('Очень высокая температура', 'Период предупреждения до 23 ч. 25 июля Местами ожидается аномально-жаркая погода с максимальной температурой воздуха +30 гр. С и выше')], 'красноярский': [('Ветер', 'Период предупреждения до 01 ч. 25 июля Местами порывы 18-23 м/с'), ('Ветер', 'Период предупреждения до 19 ч. 24 июля порывы южного ветра 15-20 м/с, местами 23-28 м/с'), ('Ветер', 'Период предупреждения с 07 ч. 24 июля до 19 ч. 24 июля днем местами порывы 15-18 м/с'), ('Очень высокая температура', 'Период предупреждения с 07 ч. 24 июля до 19 ч. 24 июля днем местами температура воздуха +30,+32 гр.'), ('Очень высокая температура', 'Период предупреждения с 07 ч. 24 июля до 19 ч. 24 июля температура воздуха местами +30,+32 гр'), ('Туман', 'Период предупреждения до 10 ч. 24 июля Ночью и утром местами туман с видимостью менее 500 м.'), ('Град', 'Период предупреждения с 07 ч. 24 июля до 19 ч. 24 июля днем в горах местами град'), ('Гроза', 'Период предупреждения до 19 ч. 25 июля местами грозы'), ('Очень высокая температура', 'Период предупреждения с 07 ч. 24 июля до 19 ч. 24 июля температура воздуха +30,+32гр.'), ('Дождь', 'Период предупреждения с 07 ч. 24 июля до 19 ч. 24 июля днем в горах местами сильные дожди')], 'новосибирская': [('Очень высокая температура', 'Период предупреждения до 22 ч. 25 июля местами ожидается аномально-жаркая погода с температурами +30 С и выше'), ('Пожарная опасность', 'Период предупреждения до 22 ч. 25 июля местами высокая пожароопасность (4 класса)'), ('Туман', 'Период предупреждения до 10 ч. 24 июля местами туманы')], 'омская': [('Гроза', 'Период предупреждения с 03 ч. 24 июля до 03 ч. 26 июля местами')], 'алтай': [('Гроза', 'Период предупреждения до 12 ч. 25 июля местами грозы')], 'тыва': [('Дождь', 'Период предупреждения до 19 ч. 24 июля местами сильные дожди'), ('Град', 'Период предупреждения до 19 ч. 24 июля местами град'), ('Ветер', 'Период предупреждения до 19 ч. 24 июля при грозах шквалистые усиления ветра 15-20 м/с'), ('Очень высокая температура', 'Период предупреждения с 07 ч. 24 июля до 19 ч. 24 июля температура воздуха +25,+30 гр'), ('Пожарная опасность', 'Период предупреждения до 12 ч. 25 июля местами высокая пожарная опасность 4 класса'), ('Гроза', 'Период предупреждения до 19 ч. 24 июля местами грозы')], 'хакасия': [('Гроза', 'Период предупреждения до 19 ч. 25 июля местами грозы')], 'томская': [('Очень высокая температура', 'Период предупреждения до 22 ч. 25 июля местами аномально жаркая погода +30 и выше')], 'амурская': [], 'еврейская': [], 'забайкальский край': [('Туман', 'Период предупреждения с 05 ч. 24 июля до 10 ч. 24 июля местами туман'), ('Гроза', 'Период предупреждения до 21 ч. 24 июля Местами грозы.'), ('Ветер', 'Период предупреждения с 09 ч. 24 июля до 21 ч. 24 июля местами по краю порывы 15-18 м/с.')], 'камчатский край': [], 'курильские острова, север': [], 'курильские острова, юг': [('Туман', 'Период предупреждения до 20 ч. 24 июля местами')], 'магаданская': [], 'приморский край': [('Очень высокая температура', 'Период предупреждения до 12 ч. 25 июля На большей территории Приморского края ожидается установление аномально жаркой погоды, в отдельных районах сильная жара.'), ('Пожарная опасность', 'Период предупреждения до 12 ч. 25 июля В отдельных районах (Лазовский, Хорольский, Чугуевский, Пожарский, Кавалеровский) 4 (высокий) класс, на севере центральных районов (Красноармейский) местами 5 (высокий).')], 'бурятия': [('Пожарная опасность', 'Период предупреждения до 20 ч. 24 июля 23-24 июля высокая пожарная опасность – 4 класс в Окинском районе'), ('Гроза', 'Период предупреждения с 08 ч. 24 июля до 20 ч. 24 июля днем местами грозы')], 'саха': [('Пожарная опасность', 'Период предупреждения до 02 ч. 25 июля Томпонском р-не чрезвычайно высокий 5-й класс, Оймяконском р-не высокий 4-й класс пожароопасности леса'), ('Дождь', 'Период предупреждения до 02 ч. 25 июля Днём Томпонском р-не дожди местами сильные'), ('Гроза', 'Период предупреждения до 02 ч. 25 июля Днём Томпонском и ВерхоЯнском р-нах местами грозы'), ('Пожарная опасность', 'Период предупреждения до 02 ч. 25 июля Мирнинском р-не чрезвычайно высокий 5-й класс пожароопаности леса'), ('Пожарная опасность', 'Период предупреждения до 02 ч. 25 июля Намском, УстьАлданском, Горном р-нах чрезвычайно высокий 5-й класс, Жиганском р-не высокий 4-й класс пожароопасности леса'), ('Дождь', 'Период предупреждения до 02 ч. 25 июля Днём Усть-Майском р-не дожди местами сильные'), ('Гроза', 'Период предупреждения до 02 ч. 25 июля Днём УстьМайском р-не местами грозы'), ('Гроза', 'Период предупреждения до 02 ч. 25 июля Ночью Нерюнгрнском, Алданском р-нах местами грозы'), ('Дождь', 'Период предупреждения до 13 ч. 24 июля днем местами сильные дожди')], 'сахалин': [('Пожарная опасность', 'Период предупреждения до 20 ч. 24 июля в Смирныховском районе высокая пожарная опасность'), ('Пожарная опасность', 'Период предупреждения до 20 ч. 24 июля В Долинском, Анивском районах и в г. Южно-Сахалинск сохранится высокая пожарная опасность.')], 'хабаровский край': [('Дождь', 'Период предупреждения с 07 ч. 24 июля до 19 ч. 24 июля местами ливни')], 'чукотский': [('Ветер', 'Период предупреждения до 21 ч. 24 июля На побережье Восточно-Сибирского моря северо-западный ветер порывами 15-20 м/с'), ('Туман', 'Период предупреждения до 21 ч. 24 июля Местами туман')]})\n",
            "\u001b[31mНЕИЗВЕСТНЫЙ ФАКТОР \"Комплекс метеоявлений\"\u001b[0m\n",
            "\u001b[31mНЕИЗВЕСТНЫЙ ФАКТОР \"Почвенная засуха на полях с подсолнечником\"\u001b[0m\n",
            "\u001b[31mНЕИЗВЕСТНЫЙ ФАКТОР \"Засуха почвенная под пропашными культурами\"\u001b[0m\n",
            "\u001b[31mНЕИЗВЕСТНЫЙ ФАКТОР \"атмосферная засуха\"\u001b[0m\n"
          ],
          "name": "stdout"
        }
      ]
    },
    {
      "cell_type": "code",
      "metadata": {
        "id": "SyBhbeejDPPz"
      },
      "source": [
        "files.download(out_file)"
      ],
      "execution_count": null,
      "outputs": []
    }
  ]
}