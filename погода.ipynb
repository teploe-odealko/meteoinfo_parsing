{
  "nbformat": 4,
  "nbformat_minor": 0,
  "metadata": {
    "colab": {
      "name": "погода",
      "provenance": [],
      "collapsed_sections": [
        "dLOXfkplKZAP",
        "GPgTSKBR43Cs",
        "ihavSUiW5ZSi"
      ],
      "include_colab_link": true
    },
    "kernelspec": {
      "name": "python3",
      "display_name": "Python 3"
    },
    "language_info": {
      "name": "python"
    }
  },
  "cells": [
    {
      "cell_type": "markdown",
      "metadata": {
        "id": "view-in-github",
        "colab_type": "text"
      },
      "source": [
        "<a href=\"https://colab.research.google.com/github/teploe-odealko/meteoinfo_parsing/blob/main/%D0%BF%D0%BE%D0%B3%D0%BE%D0%B4%D0%B0.ipynb\" target=\"_parent\"><img src=\"https://colab.research.google.com/assets/colab-badge.svg\" alt=\"Open In Colab\"/></a>"
      ]
    },
    {
      "cell_type": "markdown",
      "metadata": {
        "id": "eKYOd9krKb1C"
      },
      "source": [
        "#Настройка"
      ]
    },
    {
      "cell_type": "code",
      "metadata": {
        "id": "RJ8VxV7XGR-f"
      },
      "source": [
        "hours = 24"
      ],
      "execution_count": 1,
      "outputs": []
    },
    {
      "cell_type": "code",
      "metadata": {
        "id": "0MIqRBbpGLBk"
      },
      "source": [
        "hours_button_map = {12: 'id_l_1', 24: 'id_l_2', 36: 'id_l_3'}\n",
        "try:\n",
        "    hours_button_id = hours_button_map[hours]\n",
        "except:\n",
        "    raise KeyError('Неправильное значение переменной \"hours\"')"
      ],
      "execution_count": 2,
      "outputs": []
    },
    {
      "cell_type": "markdown",
      "metadata": {
        "id": "2R_9-42nACKC"
      },
      "source": [
        "Шаблон meteoinfo (tr_template.xlsx)"
      ]
    },
    {
      "cell_type": "code",
      "metadata": {
        "colab": {
          "resources": {
            "http://localhost:8080/nbextensions/google.colab/files.js": {
              "data": "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",
              "ok": true,
              "headers": [
                [
                  "content-type",
                  "application/javascript"
                ]
              ],
              "status": 200,
              "status_text": ""
            }
          },
          "base_uri": "https://localhost:8080/",
          "height": 73
        },
        "id": "sOBjxeJPAAJD",
        "outputId": "73c62b7a-a27e-4cd8-c3d4-359e68e325f1"
      },
      "source": [
        "from google.colab import files\n",
        "meteoinfo_filename = files.upload()\n",
        "meteoinfo_filename = next(iter(meteoinfo_filename))"
      ],
      "execution_count": 3,
      "outputs": [
        {
          "output_type": "display_data",
          "data": {
            "text/html": [
              "\n",
              "     <input type=\"file\" id=\"files-b29c1842-0426-47e3-a838-0b8b96196647\" name=\"files[]\" multiple disabled\n",
              "        style=\"border:none\" />\n",
              "     <output id=\"result-b29c1842-0426-47e3-a838-0b8b96196647\">\n",
              "      Upload widget is only available when the cell has been executed in the\n",
              "      current browser session. Please rerun this cell to enable.\n",
              "      </output>\n",
              "      <script src=\"/nbextensions/google.colab/files.js\"></script> "
            ],
            "text/plain": [
              "<IPython.core.display.HTML object>"
            ]
          },
          "metadata": {
            "tags": []
          }
        },
        {
          "output_type": "stream",
          "text": [
            "Saving rt_template_23-07-2021_12.xlsx to rt_template_23-07-2021_12.xlsx\n"
          ],
          "name": "stdout"
        }
      ]
    },
    {
      "cell_type": "markdown",
      "metadata": {
        "id": "dLOXfkplKZAP"
      },
      "source": [
        "#Скрипт"
      ]
    },
    {
      "cell_type": "markdown",
      "metadata": {
        "id": "GPgTSKBR43Cs"
      },
      "source": [
        "##install & import"
      ]
    },
    {
      "cell_type": "code",
      "metadata": {
        "id": "wFQZS-BX4DMh",
        "colab": {
          "base_uri": "https://localhost:8080/"
        },
        "outputId": "2fbf696a-afce-44b2-a289-a28c7d9fd22c"
      },
      "source": [
        "!pip install selenium\n",
        "!pip install python-pptx\n",
        "!apt-get update # to update ubuntu to correctly run apt install\n",
        "!apt install chromium-chromedriver\n",
        "!pip install pip install excel-formulas-calculator\n",
        "!cp /usr/lib/chromium-browser/chromedriver /usr/bin\n",
        "import sys\n",
        "sys.path.insert(0,'/usr/lib/chromium-browser/chromedriver')\n",
        "from selenium import webdriver\n",
        "\n",
        "\n",
        "chrome_options = webdriver.ChromeOptions()\n",
        "chrome_options.add_argument('--headless')\n",
        "chrome_options.add_argument('--no-sandbox')\n",
        "chrome_options.add_argument('--disable-dev-shm-usage')\n",
        "wd = webdriver.Chrome('chromedriver',chrome_options=chrome_options)"
      ],
      "execution_count": 4,
      "outputs": [
        {
          "output_type": "stream",
          "text": [
            "Collecting selenium\n",
            "  Downloading selenium-3.141.0-py2.py3-none-any.whl (904 kB)\n",
            "\u001b[K     |████████████████████████████████| 904 kB 5.0 MB/s \n",
            "\u001b[?25hRequirement already satisfied: urllib3 in /usr/local/lib/python3.7/dist-packages (from selenium) (1.24.3)\n",
            "Installing collected packages: selenium\n",
            "Successfully installed selenium-3.141.0\n",
            "Collecting python-pptx\n",
            "  Downloading python-pptx-0.6.19.tar.gz (9.3 MB)\n",
            "\u001b[K     |████████████████████████████████| 9.3 MB 5.1 MB/s \n",
            "\u001b[?25hRequirement already satisfied: lxml>=3.1.0 in /usr/local/lib/python3.7/dist-packages (from python-pptx) (4.2.6)\n",
            "Requirement already satisfied: Pillow>=3.3.2 in /usr/local/lib/python3.7/dist-packages (from python-pptx) (7.1.2)\n",
            "Collecting XlsxWriter>=0.5.7\n",
            "  Downloading XlsxWriter-1.4.4-py2.py3-none-any.whl (149 kB)\n",
            "\u001b[K     |████████████████████████████████| 149 kB 52.8 MB/s \n",
            "\u001b[?25hBuilding wheels for collected packages: python-pptx\n",
            "  Building wheel for python-pptx (setup.py) ... \u001b[?25l\u001b[?25hdone\n",
            "  Created wheel for python-pptx: filename=python_pptx-0.6.19-py3-none-any.whl size=469951 sha256=1b8063eea7cb80019f0fc1677e7662a00729e55429443c0dba793f031687eafa\n",
            "  Stored in directory: /root/.cache/pip/wheels/17/2f/48/d23f362a5c4728f063b61c4be61e23c2415da1a371f902e5b4\n",
            "Successfully built python-pptx\n",
            "Installing collected packages: XlsxWriter, python-pptx\n",
            "Successfully installed XlsxWriter-1.4.4 python-pptx-0.6.19\n",
            "Get:1 http://security.ubuntu.com/ubuntu bionic-security InRelease [88.7 kB]\n",
            "Ign:2 https://developer.download.nvidia.com/compute/cuda/repos/ubuntu1804/x86_64  InRelease\n",
            "Hit:3 http://archive.ubuntu.com/ubuntu bionic InRelease\n",
            "Get:4 https://cloud.r-project.org/bin/linux/ubuntu bionic-cran40/ InRelease [3,626 B]\n",
            "Get:5 http://ppa.launchpad.net/c2d4u.team/c2d4u4.0+/ubuntu bionic InRelease [15.9 kB]\n",
            "Ign:6 https://developer.download.nvidia.com/compute/machine-learning/repos/ubuntu1804/x86_64  InRelease\n",
            "Get:7 https://developer.download.nvidia.com/compute/cuda/repos/ubuntu1804/x86_64  Release [697 B]\n",
            "Hit:8 https://developer.download.nvidia.com/compute/machine-learning/repos/ubuntu1804/x86_64  Release\n",
            "Get:9 https://developer.download.nvidia.com/compute/cuda/repos/ubuntu1804/x86_64  Release.gpg [836 B]\n",
            "Get:10 http://archive.ubuntu.com/ubuntu bionic-updates InRelease [88.7 kB]\n",
            "Hit:11 http://ppa.launchpad.net/cran/libgit2/ubuntu bionic InRelease\n",
            "Get:12 http://security.ubuntu.com/ubuntu bionic-security/main amd64 Packages [2,257 kB]\n",
            "Get:13 http://archive.ubuntu.com/ubuntu bionic-backports InRelease [74.6 kB]\n",
            "Hit:14 http://ppa.launchpad.net/deadsnakes/ppa/ubuntu bionic InRelease\n",
            "Get:15 http://security.ubuntu.com/ubuntu bionic-security/universe amd64 Packages [1,420 kB]\n",
            "Get:16 http://security.ubuntu.com/ubuntu bionic-security/multiverse amd64 Packages [31.5 kB]\n",
            "Get:17 http://security.ubuntu.com/ubuntu bionic-security/restricted amd64 Packages [500 kB]\n",
            "Get:18 http://ppa.launchpad.net/graphics-drivers/ppa/ubuntu bionic InRelease [21.3 kB]\n",
            "Ign:20 https://developer.download.nvidia.com/compute/cuda/repos/ubuntu1804/x86_64  Packages\n",
            "Get:20 https://developer.download.nvidia.com/compute/cuda/repos/ubuntu1804/x86_64  Packages [679 kB]\n",
            "Get:21 http://ppa.launchpad.net/c2d4u.team/c2d4u4.0+/ubuntu bionic/main Sources [1,785 kB]\n",
            "Get:22 http://archive.ubuntu.com/ubuntu bionic-updates/restricted amd64 Packages [533 kB]\n",
            "Get:23 http://archive.ubuntu.com/ubuntu bionic-updates/multiverse amd64 Packages [38.7 kB]\n",
            "Get:24 http://archive.ubuntu.com/ubuntu bionic-updates/universe amd64 Packages [2,190 kB]\n",
            "Get:25 http://ppa.launchpad.net/c2d4u.team/c2d4u4.0+/ubuntu bionic/main amd64 Packages [913 kB]\n",
            "Get:26 http://archive.ubuntu.com/ubuntu bionic-updates/main amd64 Packages [2,693 kB]\n",
            "Get:27 http://ppa.launchpad.net/graphics-drivers/ppa/ubuntu bionic/main amd64 Packages [44.1 kB]\n",
            "Fetched 13.4 MB in 4s (3,667 kB/s)\n",
            "Reading package lists... Done\n",
            "Reading package lists... Done\n",
            "Building dependency tree       \n",
            "Reading state information... Done\n",
            "The following additional packages will be installed:\n",
            "  chromium-browser chromium-browser-l10n chromium-codecs-ffmpeg-extra\n",
            "Suggested packages:\n",
            "  webaccounts-chromium-extension unity-chromium-extension\n",
            "The following NEW packages will be installed:\n",
            "  chromium-browser chromium-browser-l10n chromium-chromedriver\n",
            "  chromium-codecs-ffmpeg-extra\n",
            "0 upgraded, 4 newly installed, 0 to remove and 84 not upgraded.\n",
            "Need to get 86.0 MB of archives.\n",
            "After this operation, 298 MB of additional disk space will be used.\n",
            "Get:1 http://archive.ubuntu.com/ubuntu bionic-updates/universe amd64 chromium-codecs-ffmpeg-extra amd64 91.0.4472.101-0ubuntu0.18.04.1 [1,124 kB]\n",
            "Get:2 http://archive.ubuntu.com/ubuntu bionic-updates/universe amd64 chromium-browser amd64 91.0.4472.101-0ubuntu0.18.04.1 [76.1 MB]\n",
            "Get:3 http://archive.ubuntu.com/ubuntu bionic-updates/universe amd64 chromium-browser-l10n all 91.0.4472.101-0ubuntu0.18.04.1 [3,937 kB]\n",
            "Get:4 http://archive.ubuntu.com/ubuntu bionic-updates/universe amd64 chromium-chromedriver amd64 91.0.4472.101-0ubuntu0.18.04.1 [4,837 kB]\n",
            "Fetched 86.0 MB in 4s (23.5 MB/s)\n",
            "Selecting previously unselected package chromium-codecs-ffmpeg-extra.\n",
            "(Reading database ... 160837 files and directories currently installed.)\n",
            "Preparing to unpack .../chromium-codecs-ffmpeg-extra_91.0.4472.101-0ubuntu0.18.04.1_amd64.deb ...\n",
            "Unpacking chromium-codecs-ffmpeg-extra (91.0.4472.101-0ubuntu0.18.04.1) ...\n",
            "Selecting previously unselected package chromium-browser.\n",
            "Preparing to unpack .../chromium-browser_91.0.4472.101-0ubuntu0.18.04.1_amd64.deb ...\n",
            "Unpacking chromium-browser (91.0.4472.101-0ubuntu0.18.04.1) ...\n",
            "Selecting previously unselected package chromium-browser-l10n.\n",
            "Preparing to unpack .../chromium-browser-l10n_91.0.4472.101-0ubuntu0.18.04.1_all.deb ...\n",
            "Unpacking chromium-browser-l10n (91.0.4472.101-0ubuntu0.18.04.1) ...\n",
            "Selecting previously unselected package chromium-chromedriver.\n",
            "Preparing to unpack .../chromium-chromedriver_91.0.4472.101-0ubuntu0.18.04.1_amd64.deb ...\n",
            "Unpacking chromium-chromedriver (91.0.4472.101-0ubuntu0.18.04.1) ...\n",
            "Setting up chromium-codecs-ffmpeg-extra (91.0.4472.101-0ubuntu0.18.04.1) ...\n",
            "Setting up chromium-browser (91.0.4472.101-0ubuntu0.18.04.1) ...\n",
            "update-alternatives: using /usr/bin/chromium-browser to provide /usr/bin/x-www-browser (x-www-browser) in auto mode\n",
            "update-alternatives: using /usr/bin/chromium-browser to provide /usr/bin/gnome-www-browser (gnome-www-browser) in auto mode\n",
            "Setting up chromium-chromedriver (91.0.4472.101-0ubuntu0.18.04.1) ...\n",
            "Setting up chromium-browser-l10n (91.0.4472.101-0ubuntu0.18.04.1) ...\n",
            "Processing triggers for man-db (2.8.3-2ubuntu0.1) ...\n",
            "Processing triggers for hicolor-icon-theme (0.17-2) ...\n",
            "Processing triggers for mime-support (3.60ubuntu1) ...\n",
            "Processing triggers for libc-bin (2.27-3ubuntu1.2) ...\n",
            "/sbin/ldconfig.real: /usr/local/lib/python3.7/dist-packages/ideep4py/lib/libmkldnn.so.0 is not a symbolic link\n",
            "\n",
            "Requirement already satisfied: pip in /usr/local/lib/python3.7/dist-packages (21.1.3)\n",
            "Requirement already satisfied: install in /usr/local/lib/python3.7/dist-packages (1.3.4)\n",
            "Collecting excel-formulas-calculator\n",
            "  Downloading excel_formulas_calculator-0.2.3-py2.py3-none-any.whl (36 kB)\n",
            "Requirement already satisfied: six in /usr/local/lib/python3.7/dist-packages (from excel-formulas-calculator) (1.15.0)\n",
            "Installing collected packages: excel-formulas-calculator\n",
            "Successfully installed excel-formulas-calculator-0.2.3\n",
            "cp: '/usr/lib/chromium-browser/chromedriver' and '/usr/bin/chromedriver' are the same file\n"
          ],
          "name": "stdout"
        },
        {
          "output_type": "stream",
          "text": [
            "/usr/local/lib/python3.7/dist-packages/ipykernel_launcher.py:16: DeprecationWarning: use options instead of chrome_options\n",
            "  app.launch_new_instance()\n"
          ],
          "name": "stderr"
        }
      ]
    },
    {
      "cell_type": "code",
      "metadata": {
        "id": "FXTkqWSUcbFJ"
      },
      "source": [
        ""
      ],
      "execution_count": 4,
      "outputs": []
    },
    {
      "cell_type": "code",
      "metadata": {
        "id": "lQlC_7jmW3K_"
      },
      "source": [
        "import openpyxl\n",
        "from typing import Dict, List, Tuple\n",
        "\n",
        "from bs4 import BeautifulSoup\n",
        "import urllib3\n",
        "from openpyxl.worksheet.worksheet import Worksheet\n",
        "from nltk.stem.snowball import SnowballStemmer\n",
        "from datetime import datetime, date, time, timedelta\n",
        "from openpyxl.formula import Tokenizer\n",
        "from openpyxl.formula.translate import Translator\n",
        "from openpyxl.utils.cell import get_column_letter\n",
        "from copy import copy\n",
        "from openpyxl.formatting.rule import FormulaRule\n",
        "\n",
        "import re\n",
        "from openpyxl.styles import Color, PatternFill, Font, Border\n",
        "from pptx import Presentation\n",
        "from efc.interfaces.iopenpyxl import OpenpyxlInterface\n",
        "import numpy as np\n",
        "urllib3.disable_warnings()"
      ],
      "execution_count": 5,
      "outputs": []
    },
    {
      "cell_type": "markdown",
      "metadata": {
        "id": "SyeGzIIK-EVT"
      },
      "source": [
        "##Meteoinfo погодные явления"
      ]
    },
    {
      "cell_type": "code",
      "metadata": {
        "colab": {
          "base_uri": "https://localhost:8080/",
          "height": 0
        },
        "id": "Yr-sR4AaHBlb",
        "outputId": "39d7d832-4a7b-42ec-8cc8-e718241d0937"
      },
      "source": [
        "!pip install requests-html"
      ],
      "execution_count": 6,
      "outputs": [
        {
          "output_type": "stream",
          "text": [
            "Collecting requests-html\n",
            "  Downloading requests_html-0.10.0-py3-none-any.whl (13 kB)\n",
            "Requirement already satisfied: requests in /usr/local/lib/python3.7/dist-packages (from requests-html) (2.23.0)\n",
            "Requirement already satisfied: bs4 in /usr/local/lib/python3.7/dist-packages (from requests-html) (0.0.1)\n",
            "Collecting fake-useragent\n",
            "  Downloading fake-useragent-0.1.11.tar.gz (13 kB)\n",
            "Collecting pyquery\n",
            "  Downloading pyquery-1.4.3-py3-none-any.whl (22 kB)\n",
            "Collecting w3lib\n",
            "  Downloading w3lib-1.22.0-py2.py3-none-any.whl (20 kB)\n",
            "Collecting pyppeteer>=0.0.14\n",
            "  Downloading pyppeteer-0.2.5-py3-none-any.whl (87 kB)\n",
            "\u001b[K     |████████████████████████████████| 87 kB 3.6 MB/s \n",
            "\u001b[?25hCollecting parse\n",
            "  Downloading parse-1.19.0.tar.gz (30 kB)\n",
            "Collecting importlib-metadata<3.0.0,>=2.1.1\n",
            "  Downloading importlib_metadata-2.1.1-py2.py3-none-any.whl (10 kB)\n",
            "Collecting tqdm<5.0.0,>=4.42.1\n",
            "  Downloading tqdm-4.61.2-py2.py3-none-any.whl (76 kB)\n",
            "\u001b[K     |████████████████████████████████| 76 kB 3.8 MB/s \n",
            "\u001b[?25hCollecting websockets<9.0,>=8.1\n",
            "  Downloading websockets-8.1-cp37-cp37m-manylinux2010_x86_64.whl (79 kB)\n",
            "\u001b[K     |████████████████████████████████| 79 kB 7.6 MB/s \n",
            "\u001b[?25hRequirement already satisfied: appdirs<2.0.0,>=1.4.3 in /usr/local/lib/python3.7/dist-packages (from pyppeteer>=0.0.14->requests-html) (1.4.4)\n",
            "Collecting urllib3<2.0.0,>=1.25.8\n",
            "  Downloading urllib3-1.26.6-py2.py3-none-any.whl (138 kB)\n",
            "\u001b[K     |████████████████████████████████| 138 kB 34.7 MB/s \n",
            "\u001b[?25hCollecting pyee<9.0.0,>=8.1.0\n",
            "  Downloading pyee-8.1.0-py2.py3-none-any.whl (12 kB)\n",
            "Requirement already satisfied: zipp>=0.5 in /usr/local/lib/python3.7/dist-packages (from importlib-metadata<3.0.0,>=2.1.1->pyppeteer>=0.0.14->requests-html) (3.5.0)\n",
            "Requirement already satisfied: beautifulsoup4 in /usr/local/lib/python3.7/dist-packages (from bs4->requests-html) (4.6.3)\n",
            "Requirement already satisfied: lxml>=2.1 in /usr/local/lib/python3.7/dist-packages (from pyquery->requests-html) (4.2.6)\n",
            "Collecting cssselect>0.7.9\n",
            "  Downloading cssselect-1.1.0-py2.py3-none-any.whl (16 kB)\n",
            "Collecting urllib3<2.0.0,>=1.25.8\n",
            "  Downloading urllib3-1.25.11-py2.py3-none-any.whl (127 kB)\n",
            "\u001b[K     |████████████████████████████████| 127 kB 46.3 MB/s \n",
            "\u001b[?25hRequirement already satisfied: certifi>=2017.4.17 in /usr/local/lib/python3.7/dist-packages (from requests->requests-html) (2021.5.30)\n",
            "Requirement already satisfied: idna<3,>=2.5 in /usr/local/lib/python3.7/dist-packages (from requests->requests-html) (2.10)\n",
            "Requirement already satisfied: chardet<4,>=3.0.2 in /usr/local/lib/python3.7/dist-packages (from requests->requests-html) (3.0.4)\n",
            "Requirement already satisfied: six>=1.4.1 in /usr/local/lib/python3.7/dist-packages (from w3lib->requests-html) (1.15.0)\n",
            "Building wheels for collected packages: fake-useragent, parse\n",
            "  Building wheel for fake-useragent (setup.py) ... \u001b[?25l\u001b[?25hdone\n",
            "  Created wheel for fake-useragent: filename=fake_useragent-0.1.11-py3-none-any.whl size=13503 sha256=85ff0868890f09a8774fce2dee8ac441921528875ed28ab21f34bbe2df1f11ac\n",
            "  Stored in directory: /root/.cache/pip/wheels/ed/f7/62/50ab6c9a0b5567267ab76a9daa9d06315704209b2c5d032031\n",
            "  Building wheel for parse (setup.py) ... \u001b[?25l\u001b[?25hdone\n",
            "  Created wheel for parse: filename=parse-1.19.0-py3-none-any.whl size=24591 sha256=5967adc5e0d06b90796f068cd0cbebbe8b6c3ed142e6f24d15f27aaa9d7ae72f\n",
            "  Stored in directory: /root/.cache/pip/wheels/9c/aa/cc/f2228050ccb40f22144b073f15a2c84f11204f29fc0dce028e\n",
            "Successfully built fake-useragent parse\n",
            "Installing collected packages: websockets, urllib3, tqdm, pyee, importlib-metadata, cssselect, w3lib, pyquery, pyppeteer, parse, fake-useragent, requests-html\n",
            "  Attempting uninstall: urllib3\n",
            "    Found existing installation: urllib3 1.24.3\n",
            "    Uninstalling urllib3-1.24.3:\n",
            "      Successfully uninstalled urllib3-1.24.3\n",
            "  Attempting uninstall: tqdm\n",
            "    Found existing installation: tqdm 4.41.1\n",
            "    Uninstalling tqdm-4.41.1:\n",
            "      Successfully uninstalled tqdm-4.41.1\n",
            "  Attempting uninstall: importlib-metadata\n",
            "    Found existing installation: importlib-metadata 4.6.1\n",
            "    Uninstalling importlib-metadata-4.6.1:\n",
            "      Successfully uninstalled importlib-metadata-4.6.1\n",
            "\u001b[31mERROR: pip's dependency resolver does not currently take into account all the packages that are installed. This behaviour is the source of the following dependency conflicts.\n",
            "datascience 0.10.6 requires folium==0.2.1, but you have folium 0.8.3 which is incompatible.\u001b[0m\n",
            "Successfully installed cssselect-1.1.0 fake-useragent-0.1.11 importlib-metadata-2.1.1 parse-1.19.0 pyee-8.1.0 pyppeteer-0.2.5 pyquery-1.4.3 requests-html-0.10.0 tqdm-4.61.2 urllib3-1.25.11 w3lib-1.22.0 websockets-8.1\n"
          ],
          "name": "stdout"
        },
        {
          "output_type": "display_data",
          "data": {
            "application/vnd.colab-display-data+json": {
              "pip_warning": {
                "packages": [
                  "urllib3"
                ]
              }
            }
          },
          "metadata": {
            "tags": []
          }
        }
      ]
    },
    {
      "cell_type": "code",
      "metadata": {
        "id": "Y_Sdtc52-J8B"
      },
      "source": [
        "#!/usr/bin/env python3\n",
        "import collections\n",
        "from typing import Dict, List\n",
        "from collections import defaultdict\n",
        "from openpyxl.worksheet.worksheet import Worksheet\n",
        "import sys\n",
        "from requests_html import HTMLSession\n",
        "from bs4 import BeautifulSoup\n",
        "import urllib3\n",
        "import requests\n",
        "import openpyxl\n",
        "\n",
        "import re\n",
        "import warnings\n",
        "import requests\n",
        "from openpyxl import load_workbook\n",
        "from datetime import datetime\n",
        "import requests\n",
        "\n",
        "warnings.filterwarnings('ignore')\n",
        "urllib3.disable_warnings()\n",
        "\n",
        "\n",
        "URLS = [\n",
        "    'https://meteoinfo.ru/hdmapsmeteoalarmszfo',\n",
        "    'https://meteoinfo.ru/hdmapsmeteoalarmcfo',\n",
        "    'https://meteoinfo.ru/hdmapsmeteoalarmprfo',\n",
        "    'https://meteoinfo.ru/hdmapsmeteoalarmyugfo',\n",
        "    'https://meteoinfo.ru/hdmapsmeteoalarmyskfo',\n",
        "    'https://meteoinfo.ru/hdmapsmeteoalarmural',\n",
        "    'https://meteoinfo.ru/hdmapsmeteoalarmsyb',\n",
        "    'https://meteoinfo.ru/hdmapsmeteoalarmdv',\n",
        "]\n",
        "\n",
        "HAZARDS_URL = 'https://meteoinfo.ru/hazardsbull'\n",
        "\n",
        "SIZE = 4\n",
        "\n",
        "SHEET_NAME = 'Билет по регионам'\n",
        "\n",
        "REGION_COLUMN = 2\n",
        "\n",
        "FORECAST_COLUMNS = (6, 7, 8, 9)\n",
        "FACTOR_COLUMNS = (10, 11, 12, 13)\n",
        "\n",
        "FORCASTS = (\n",
        "    'Угроза повреждения ЛЭП и линий связи, обрушения слабо укрепленных, широкоформатных, ветхих и рекламных конструкций',\n",
        "    'Угроза выхода из строя систем ЖКХ, городских коммуникаций',\n",
        "    'Угроза затопления населенных пунктов, дорог, мостов',\n",
        "    'Угроза сбоев в работе всех видов транспорта, увеличение количества ДТП',\n",
        "    'Угроза жизни и здоровью населения',\n",
        "    'Увеличение количества травм пешеходов',\n",
        "    'Угроза повреждения населенных пунктов, дорог, мостов'\n",
        ")\n",
        "\n",
        "# INTERCHANGEABLE_FACTORS = [\n",
        "#     {'Ветер', 'Дождь', 'Снег/Обледенение', 'Гроза'},\n",
        "#     {'Заморозки', 'Очень низкая температура'},\n",
        "#     {'Туман', 'Голеледно - изморозевые отложения'},\n",
        "#     {'Пожарная опасность'},\n",
        "#     {'Паводок'},\n",
        "#     {'Очень высокая температура'}\n",
        "# ]\n",
        "\n",
        "FORCAST_MAP = {\n",
        "    'очень высокая температура': set((FORCASTS[4],)),\n",
        "    'очень низкая температура': set((FORCASTS[1], FORCASTS[4])),\n",
        "    'заморозки': set((FORCASTS[1], FORCASTS[4])),\n",
        "    'ветер': set((FORCASTS[0], FORCASTS[1], FORCASTS[4])),\n",
        "    'дождь': set((FORCASTS[0], FORCASTS[1])),\n",
        "    'гроза': set((FORCASTS[0], FORCASTS[1])),\n",
        "    'град': set((FORCASTS[0], FORCASTS[1])),\n",
        "    'паводок': set((FORCASTS[2], FORCASTS[4])),\n",
        "    'наводнение': set((FORCASTS[2], FORCASTS[4])),\n",
        "    'снег/Обледенение': set((FORCASTS[0], FORCASTS[1], FORCASTS[3])),\n",
        "    'голеледно - изморозевые отложения': set((FORCASTS[3], FORCASTS[5])),\n",
        "    'лавины': set((FORCASTS[4], FORCASTS[6])),\n",
        "    'сель': set((FORCASTS[4], FORCASTS[6])),\n",
        "    'прибрежные события': set((FORCASTS[1], FORCASTS[6], FORCASTS[4])),\n",
        "    'пыльная (песчаная) буря': set((FORCASTS[0], FORCASTS[1], FORCASTS[3], FORCASTS[4])),\n",
        "    'туман': set((FORCASTS[3],)),\n",
        "    'пожарная опасность': set((FORCASTS[6], FORCASTS[4])),\n",
        "    'прочие опасности': set(),\n",
        "}\n",
        "\n",
        "DASHBOARD_LABEL_MAP = {\n",
        "    'очень высокая температура': 'Критическое повышение температуры воздуха',\n",
        "    'очень низкая температура': 'Критическое понижение температуры воздуха',\n",
        "    'заморозки': 'Заморозки',\n",
        "    'ветер': 'Сильный ветер',\n",
        "    'дождь': 'Дождь',\n",
        "    'гроза': 'Гроза',\n",
        "    'паводок': 'Паводок, подтопление',\n",
        "    'наводнение': 'Наводнение',\n",
        "    'снег/Обледенение': 'Снегопад, метель',\n",
        "    'голеледно - изморозевые отложения': 'Гололедица',\n",
        "    'лавины': 'Оползни, обвалы, снежные лавины',\n",
        "    'сель': 'Сель',\n",
        "    'прибрежные события': 'Прибрежные события',\n",
        "    'пыльная (песчаная) буря': 'Пыльная (песчаная) буря',\n",
        "    'туман': 'Туман',\n",
        "    'пожарная опасность': 'Пожароопасная обстановка, пожары',\n",
        "    'прочие опасности': 'Прочие опасности',\n",
        "    'град': 'Град или снежный дождь'\n",
        "}\n",
        "\n",
        "FACTORS = FORCAST_MAP.keys()\n",
        "\n",
        "regions_need_to_join = {'саха',\n",
        "                        'магаданская',\n",
        "                        'ямало ненецкий ао',\n",
        "                        'камчатский край',\n",
        "                        'амурская',\n",
        "                        'хабаровский край',\n",
        "                        'чеч',\n",
        "                        'северная осетия',\n",
        "                        'красноярский',\n",
        "                        'моск'}\n",
        "\n",
        "\n",
        "def join_region(region: str) -> str:\n",
        "    if region.startswith('сахалин'):\n",
        "        return 'сахалин'\n",
        "    for reg in regions_need_to_join:\n",
        "        if region.startswith(reg):\n",
        "            return reg\n",
        "    return region\n",
        "\n",
        "\n",
        "def normolize_string(string: str):\n",
        "    string = string.strip().lower().translate({ord('.'): None})\n",
        "    string = ' '.join(string.split('-'))\n",
        "\n",
        "    # remove stop words\n",
        "    stop_words = ['г', 'обл', 'область', 'республика', 'югра', 'ао']\n",
        "    try:\n",
        "        splitted_string = string.split()\n",
        "    except IndexError:\n",
        "        return ''\n",
        "    string = ' '.join(w for w in splitted_string if w not in stop_words)\n",
        "    return join_region(string)\n",
        "\n",
        "\n",
        "def remove_interchangeable_factors(factor_desc_list: list):\n",
        "    factors_set = set()\n",
        "    prev_len_factors_set = 0\n",
        "\n",
        "    for factor_desc in factor_desc_list:\n",
        "        factor = factor_desc[0]\n",
        "        forecast = FORCAST_MAP.get(factor.lower())\n",
        "        if not forecast:\n",
        "            continue\n",
        "        factors_set.update(forecast)\n",
        "        if len(factors_set) == prev_len_factors_set:\n",
        "            factor_desc_list.remove(factor_desc)\n",
        "            return factor_desc_list\n",
        "        prev_len_factors_set = len(factors_set)\n",
        "    return factor_desc_list\n",
        "\n",
        "\n",
        "def analyze_factors(factors_desc: list):\n",
        "    final_forecasts = set()\n",
        "\n",
        "    prev_len = len(factors_desc)\n",
        "    while len(factors_desc) > SIZE:\n",
        "        factors_desc = remove_interchangeable_factors(factors_desc)\n",
        "        if len(factors_desc) == prev_len:  # If nothing has been deleted, means there is no interchangeable factors\n",
        "            factors_desc = factors_desc[:SIZE]\n",
        "        prev_len = len(factors_desc)\n",
        "\n",
        "    for factor, desc in factors_desc:\n",
        "        forecast: set = FORCAST_MAP.get(factor.lower())\n",
        "        if forecast is None:\n",
        "            print(f\"\\x1b[31mНЕИЗВЕСТНЫЙ ФАКТОР \\\"{factor}\\\"\\x1b[0m\")\n",
        "            continue\n",
        "        final_forecasts.update(forecast)\n",
        "\n",
        "    while len(final_forecasts) > SIZE:\n",
        "        final_forecasts.pop()\n",
        "\n",
        "    return final_forecasts, set(factors_desc)\n",
        "\n",
        "\n",
        "def factor_mapping(factor: str, description: str):\n",
        "    dashboard_factor = DASHBOARD_LABEL_MAP.get(factor.lower())\n",
        "    if dashboard_factor == 'Дождь':\n",
        "        for word in description.split():\n",
        "            if word.startswith('сильн') or word.startswith('лив'):\n",
        "                dashboard_factor = 'Сильный дождь, ливневой дождь'\n",
        "                break\n",
        "    return dashboard_factor\n",
        "\n",
        "def fill_excel_regions_weather(ws: Worksheet, regions: dict):\n",
        "    for row in range(2, ws.max_row + 1):\n",
        "        name = ws.cell(row=row, column=REGION_COLUMN).value\n",
        "        if not name:\n",
        "            continue\n",
        "\n",
        "        name = normolize_string(name)\n",
        "        factors_desc = regions.get(name)\n",
        "\n",
        "        if not factors_desc: # if there is no forecast for the region\n",
        "            # print(name)\n",
        "            continue\n",
        "\n",
        "        forecasts, factors_desc = analyze_factors(factors_desc)\n",
        "        for column, forecast in zip(FORECAST_COLUMNS, forecasts):\n",
        "            ws.cell(row=row, column=column).value = forecast\n",
        "\n",
        "        for column, factor_desc in zip(FACTOR_COLUMNS, factors_desc):\n",
        "            factor = factor_desc[0]\n",
        "            desc = factor_desc[1]\n",
        "            ws.cell(row=row, column=column).value = factor_mapping(factor, desc)\n",
        "\n",
        "\n",
        "def get_hazards(ws:Worksheet, url: str):\n",
        "    session = HTMLSession()\n",
        "    response = session.get(url, verify=False)\n",
        "    rows = response.html.find('#div_1', first=True).xpath('*/table/tbody/tr')\n",
        "    row_data = rows[1].xpath('//p', first=True)\n",
        "    ws['B5'].value = row_data.text\n",
        "    # print(row_data.text)\n",
        "\n",
        "\n",
        "def parse_description(factor_list: list, region_factor_desc: str):\n",
        "    for word in re.split(';|,|\\.| ', region_factor_desc):\n",
        "        # try:\n",
        "        #     factors = list(zip(*factor_list))[0]\n",
        "        # except IndexError:\n",
        "        #     factors = []\n",
        "        if (word.lower().startswith('дожд') or word.lower().startswith('лив')):\n",
        "            factor_list.append(('Дождь', region_factor_desc))\n",
        "        elif word.lower().startswith('гроз'):\n",
        "            factor_list.append(('Гроза', region_factor_desc))\n",
        "        elif word.lower().startswith('град'):\n",
        "            factor_list.append(('Град', region_factor_desc))\n",
        "        elif (word.lower().startswith('шквал') or word.lower().startswith('вет')):\n",
        "            factor_list.append(('Ветер', region_factor_desc))\n",
        "\n",
        "\n",
        "def get_regions(urls: List[str]) -> Dict:\n",
        "    # factors = defaultdict(list)\n",
        "    # descriptions = defaultdict(list)\n",
        "    regions = defaultdict(list)\n",
        "    for url in urls:\n",
        "        wd.get(url)\n",
        "        hours24_button = wd.find_element_by_id(hours_button_id)\n",
        "        hours24_button.click()\n",
        "        for row in wd.find_elements_by_xpath('//div[@class=\"test\"]'):\n",
        "            try:\n",
        "                row_data_bs = BeautifulSoup(row.get_attribute('data-original-title'),\n",
        "                                            features='lxml')\n",
        "            except:\n",
        "                print('error')\n",
        "                continue  # if raw_data is None\n",
        "            region_name = normolize_string(row_data_bs.find(class_='cl_tbl_obl_name_tooltip').text)\n",
        "            region_factor = row_data_bs.find(class_='cl_tbl_tooltip_text').find('b').text.strip('. ')\n",
        "            region_factor_desc = '.'.join(row_data_bs.find(class_='cl_tbl_tooltip_text').text.split('.')[1:]).strip()\n",
        "\n",
        "            if (region_factor == 'КМЯ' or region_factor == 'Прочие опасности'):\n",
        "                parse_description(regions[region_name], region_factor_desc)\n",
        "                # print(regions[region_name], region_factor)\n",
        "                continue\n",
        "\n",
        "            \n",
        "\n",
        "            try:\n",
        "                factors = list(zip(*regions[region_name]))[0]\n",
        "            except IndexError:\n",
        "                factors = []\n",
        "\n",
        "            if region_factor != '':\n",
        "                regions[region_name].append((region_factor, region_factor_desc))\n",
        "\n",
        "    return regions\n",
        "\n",
        "\n",
        "def fill_excel_covid_rt(ws: Worksheet):\n",
        "    obl_pattern = re.compile(r'\\bобл\\.', re.IGNORECASE)\n",
        "    ao_pattern = re.compile(r'(?<!Еврейская)\\bао\\b', re.IGNORECASE)\n",
        "    gorod_pattern = re.compile(r'\\bг\\.', re.IGNORECASE)\n",
        "    strange_pattern = re.compile(r'[—]')\n",
        "\n",
        "    url = 'https://yastat.net/s3/milab/2020/covid19-stat/data/v10/deep_data.json?v=1618916098074'\n",
        "    sheet = 'Билет по регионам'\n",
        "\n",
        "    json_dict = requests.get(url, verify=False).json()\n",
        "\n",
        "    region_rt_dict = {strange_pattern.sub('-', x['info']['name'].lower()): x['info'].get('rt') for x in json_dict['russia_stat_struct']['data'].values()}\n",
        "    region_rt_dict_short_name = {strange_pattern.sub('-', x['info']['short_name'].lower()): x['info'].get('rt') for x in json_dict['russia_stat_struct']['data'].values()}\n",
        "\n",
        "    for row in range(2, ws.max_row + 1):\n",
        "        # print(ws.cell(row=row, column=2).value)\n",
        "        key = ws.cell(row=row, column=2).value.lower()\n",
        "\n",
        "        key = obl_pattern.sub('область', key).strip()\n",
        "        key = gorod_pattern.sub('', key).strip()\n",
        "\n",
        "        value = region_rt_dict_short_name.get(key, region_rt_dict.get(ao_pattern.sub('автономный округ', key).strip()))\n",
        "\n",
        "        ws.cell(row=row, column=3).value = round(value, 2) if value else value\n",
        "\n",
        "def clear_table(ws: Worksheet):\n",
        "    for row in range(2, ws.max_row + 1):\n",
        "        for column in (FORECAST_COLUMNS + FACTOR_COLUMNS + (3,)):\n",
        "            ws.cell(row=row, column=column).value = None"
      ],
      "execution_count": 13,
      "outputs": []
    },
    {
      "cell_type": "code",
      "metadata": {
        "id": "wT52ydtzv3kF"
      },
      "source": [
        "def get_regions_info() -> dict:\n",
        "    final_region_data = {}\n",
        "\n",
        "    response: dict = requests.get(URL, verify=False).json()\n",
        "    regions = response['russia_stat_struct']['data']\n",
        "    dates = response['russia_stat_struct']['dates']\n",
        "    for region in regions:\n",
        "        full_name = regions[region]['info']['name']\n",
        "        short_name = regions[region]['info']['short_name']\n",
        "        regions[region]['info'].pop('name', None)\n",
        "        regions[region]['info'].pop('short_name', None)\n",
        "        final_region_data[short_name] = regions[region]\n",
        "    return final_region_data"
      ],
      "execution_count": 14,
      "outputs": []
    },
    {
      "cell_type": "code",
      "metadata": {
        "id": "KCBz7nV8Aeb0"
      },
      "source": [
        ""
      ],
      "execution_count": 14,
      "outputs": []
    },
    {
      "cell_type": "code",
      "metadata": {
        "id": "QjkT3zqTUEfn"
      },
      "source": [
        "URL = 'https://yastat.net/s3/milab/2020/covid19-stat/data/v10/deep_data.json'\n",
        "\n",
        "def situation_in_the_bank(wb):\n",
        "    regions = get_regions_info()\n",
        "\n",
        "    # interface = OpenpyxlInterface(wb=wb, use_cache=True)\n",
        "    day_infections = regions['Россия']['info']['cases_delta']\n",
        "    rt = wb['Билет по регионам']['C'][2:85]\n",
        "    rt_bigger_1_num = len([r.value for r in rt if r.value > 1])\n",
        "    s1 = \"субъекте\" if (rt_bigger_1_num%10 == 1) and rt_bigger_1_num != 11 else \"субъектах\"\n",
        "\n",
        "    gain = []\n",
        "\n",
        "    regions_dict = {}\n",
        "    for region in regions:\n",
        "        if region not in ['Санкт-Петербург', 'Московская область', 'Москва', 'Россия']:\n",
        "            regions_dict[region] = regions[region]['info']['cases_delta']\n",
        "    top5 = sorted(regions_dict.items(), key=lambda x: 1/x[1])[:5]\n",
        "\n",
        "    s2 = ', '.join([f'{region} ({gain})' for region, gain in top5])\n",
        "    template = f\"{day_infections} новых случаев в России. Ухудшение – в {rt_bigger_1_num} {s1} РФ. Наибольший прирост новых случаев: {s2}.\"\n",
        "    # print(template)\n",
        "    wb['Обстановка в банке']['B7'] = template\n"
      ],
      "execution_count": 19,
      "outputs": []
    },
    {
      "cell_type": "code",
      "metadata": {
        "id": "1JvHSIm6_fME"
      },
      "source": [
        "def meteoinfo(filename: str):\n",
        "    wb = openpyxl.load_workbook(filename)\n",
        "    ws = wb[SHEET_NAME]\n",
        "\n",
        "    clear_table(ws)\n",
        "    fill_excel_covid_rt(ws=ws)\n",
        "    regions = get_regions(urls=URLS)\n",
        "    # print(regions)\n",
        "    # remove duplicate factors\n",
        "    for region in regions:\n",
        "        factors = regions[region]\n",
        "        final_list = []\n",
        "        for factor in factors:\n",
        "            try:\n",
        "                unique_factors = list(zip(*final_list))[0]\n",
        "            except:\n",
        "                unique_factors = []\n",
        "            if factor[0] not in unique_factors:\n",
        "                final_list.append(factor)\n",
        "        regions[region] = final_list\n",
        "\n",
        "\n",
        "    fill_excel_regions_weather(ws=ws, regions=regions)\n",
        "\n",
        "    # B5\n",
        "    get_hazards(wb['Обстановка в банке'], HAZARDS_URL)\n",
        "    # B7\n",
        "    situation_in_the_bank(wb)\n",
        "\n",
        "    today = datetime.today().strftime(\"%d-%m-%Y\")\n",
        "    splitted_filename = filename.split('.')\n",
        "    splitted_filename[0] = f'{splitted_filename[0]}_{today}_{hours}'\n",
        "    output_file_name = '.'.join(splitted_filename)\n",
        "\n",
        "    wb.save(output_file_name)\n",
        "    return output_file_name"
      ],
      "execution_count": 20,
      "outputs": []
    },
    {
      "cell_type": "markdown",
      "metadata": {
        "id": "ihavSUiW5ZSi"
      },
      "source": [
        "##main"
      ]
    },
    {
      "cell_type": "code",
      "metadata": {
        "id": "E0BGgeQZVUG0"
      },
      "source": [
        "def main(meteoinfo_filename: str):\n",
        "    # Заполнение погодных данных с meteoinfo в xlsx файл\n",
        "    return meteoinfo(meteoinfo_filename)\n",
        "    \n"
      ],
      "execution_count": 25,
      "outputs": []
    },
    {
      "cell_type": "markdown",
      "metadata": {
        "id": "mywhIDYNDEjr"
      },
      "source": [
        "\n",
        "# Результат"
      ]
    },
    {
      "cell_type": "code",
      "metadata": {
        "id": "PPE_spTG922b"
      },
      "source": [
        ""
      ],
      "execution_count": 25,
      "outputs": []
    },
    {
      "cell_type": "code",
      "metadata": {
        "id": "z9d0cqvGTd42"
      },
      "source": [
        "out_file = main(meteoinfo_filename)"
      ],
      "execution_count": 26,
      "outputs": []
    },
    {
      "cell_type": "code",
      "metadata": {
        "id": "SyBhbeejDPPz",
        "colab": {
          "base_uri": "https://localhost:8080/",
          "height": 17
        },
        "outputId": "b9d944fd-30c5-4a9d-aa3b-31cb7c7417df"
      },
      "source": [
        "files.download(out_file)"
      ],
      "execution_count": 27,
      "outputs": [
        {
          "output_type": "display_data",
          "data": {
            "application/javascript": [
              "\n",
              "    async function download(id, filename, size) {\n",
              "      if (!google.colab.kernel.accessAllowed) {\n",
              "        return;\n",
              "      }\n",
              "      const div = document.createElement('div');\n",
              "      const label = document.createElement('label');\n",
              "      label.textContent = `Downloading \"${filename}\": `;\n",
              "      div.appendChild(label);\n",
              "      const progress = document.createElement('progress');\n",
              "      progress.max = size;\n",
              "      div.appendChild(progress);\n",
              "      document.body.appendChild(div);\n",
              "\n",
              "      const buffers = [];\n",
              "      let downloaded = 0;\n",
              "\n",
              "      const channel = await google.colab.kernel.comms.open(id);\n",
              "      // Send a message to notify the kernel that we're ready.\n",
              "      channel.send({})\n",
              "\n",
              "      for await (const message of channel.messages) {\n",
              "        // Send a message to notify the kernel that we're ready.\n",
              "        channel.send({})\n",
              "        if (message.buffers) {\n",
              "          for (const buffer of message.buffers) {\n",
              "            buffers.push(buffer);\n",
              "            downloaded += buffer.byteLength;\n",
              "            progress.value = downloaded;\n",
              "          }\n",
              "        }\n",
              "      }\n",
              "      const blob = new Blob(buffers, {type: 'application/binary'});\n",
              "      const a = document.createElement('a');\n",
              "      a.href = window.URL.createObjectURL(blob);\n",
              "      a.download = filename;\n",
              "      div.appendChild(a);\n",
              "      a.click();\n",
              "      div.remove();\n",
              "    }\n",
              "  "
            ],
            "text/plain": [
              "<IPython.core.display.Javascript object>"
            ]
          },
          "metadata": {
            "tags": []
          }
        },
        {
          "output_type": "display_data",
          "data": {
            "application/javascript": [
              "download(\"download_abe00be4-a88e-4717-b324-aaf8fbd6b605\", \"rt_template_23-07-2021_12_26-07-2021_24.xlsx\", 23342)"
            ],
            "text/plain": [
              "<IPython.core.display.Javascript object>"
            ]
          },
          "metadata": {
            "tags": []
          }
        }
      ]
    }
  ]
}