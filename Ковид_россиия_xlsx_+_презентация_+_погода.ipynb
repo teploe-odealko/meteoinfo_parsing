{
  "nbformat": 4,
  "nbformat_minor": 0,
  "metadata": {
    "colab": {
      "name": "Ковид россиия xlsx + презентация + погода",
      "provenance": [],
      "collapsed_sections": [
        "SyeGzIIK-EVT"
      ],
      "include_colab_link": true
    },
    "kernelspec": {
      "name": "python3",
      "display_name": "Python 3"
    },
    "language_info": {
      "name": "python"
    }
  },
  "cells": [
    {
      "cell_type": "markdown",
      "metadata": {
        "id": "view-in-github",
        "colab_type": "text"
      },
      "source": [
        "<a href=\"https://colab.research.google.com/github/teploe-odealko/meteoinfo_parsing/blob/main/%D0%9A%D0%BE%D0%B2%D0%B8%D0%B4_%D1%80%D0%BE%D1%81%D1%81%D0%B8%D0%B8%D1%8F_xlsx_%2B_%D0%BF%D1%80%D0%B5%D0%B7%D0%B5%D0%BD%D1%82%D0%B0%D1%86%D0%B8%D1%8F_%2B_%D0%BF%D0%BE%D0%B3%D0%BE%D0%B4%D0%B0.ipynb\" target=\"_parent\"><img src=\"https://colab.research.google.com/assets/colab-badge.svg\" alt=\"Open In Colab\"/></a>"
      ]
    },
    {
      "cell_type": "markdown",
      "metadata": {
        "id": "eKYOd9krKb1C"
      },
      "source": [
        "#Настройка"
      ]
    },
    {
      "cell_type": "code",
      "metadata": {
        "id": "RJ8VxV7XGR-f"
      },
      "source": [
        "hours = 12"
      ],
      "execution_count": 1,
      "outputs": []
    },
    {
      "cell_type": "code",
      "metadata": {
        "id": "0MIqRBbpGLBk"
      },
      "source": [
        "hours_button_map = {12: 'id_l_1', 24: 'id_l_2', 36: 'id_l_3'}\n",
        "try:\n",
        "    hours_button_id = hours_button_map[hours]\n",
        "except:\n",
        "    raise KeyError('Неправильное значение переменной \"hours\"')"
      ],
      "execution_count": 2,
      "outputs": []
    },
    {
      "cell_type": "markdown",
      "metadata": {
        "id": "tMZSX4SFOTcI"
      },
      "source": [
        "сводка ковида по России (xlsx файл)"
      ]
    },
    {
      "cell_type": "code",
      "metadata": {
        "colab": {
          "resources": {
            "http://localhost:8080/nbextensions/google.colab/files.js": {
              "data": "Ly8gQ29weXJpZ2h0IDIwMTcgR29vZ2xlIExMQwovLwovLyBMaWNlbnNlZCB1bmRlciB0aGUgQXBhY2hlIExpY2Vuc2UsIFZlcnNpb24gMi4wICh0aGUgIkxpY2Vuc2UiKTsKLy8geW91IG1heSBub3QgdXNlIHRoaXMgZmlsZSBleGNlcHQgaW4gY29tcGxpYW5jZSB3aXRoIHRoZSBMaWNlbnNlLgovLyBZb3UgbWF5IG9idGFpbiBhIGNvcHkgb2YgdGhlIExpY2Vuc2UgYXQKLy8KLy8gICAgICBodHRwOi8vd3d3LmFwYWNoZS5vcmcvbGljZW5zZXMvTElDRU5TRS0yLjAKLy8KLy8gVW5sZXNzIHJlcXVpcmVkIGJ5IGFwcGxpY2FibGUgbGF3IG9yIGFncmVlZCB0byBpbiB3cml0aW5nLCBzb2Z0d2FyZQovLyBkaXN0cmlidXRlZCB1bmRlciB0aGUgTGljZW5zZSBpcyBkaXN0cmlidXRlZCBvbiBhbiAiQVMgSVMiIEJBU0lTLAovLyBXSVRIT1VUIFdBUlJBTlRJRVMgT1IgQ09ORElUSU9OUyBPRiBBTlkgS0lORCwgZWl0aGVyIGV4cHJlc3Mgb3IgaW1wbGllZC4KLy8gU2VlIHRoZSBMaWNlbnNlIGZvciB0aGUgc3BlY2lmaWMgbGFuZ3VhZ2UgZ292ZXJuaW5nIHBlcm1pc3Npb25zIGFuZAovLyBsaW1pdGF0aW9ucyB1bmRlciB0aGUgTGljZW5zZS4KCi8qKgogKiBAZmlsZW92ZXJ2aWV3IEhlbHBlcnMgZm9yIGdvb2dsZS5jb2xhYiBQeXRob24gbW9kdWxlLgogKi8KKGZ1bmN0aW9uKHNjb3BlKSB7CmZ1bmN0aW9uIHNwYW4odGV4dCwgc3R5bGVBdHRyaWJ1dGVzID0ge30pIHsKICBjb25zdCBlbGVtZW50ID0gZG9jdW1lbnQuY3JlYXRlRWxlbWVudCgnc3BhbicpOwogIGVsZW1lbnQudGV4dENvbnRlbnQgPSB0ZXh0OwogIGZvciAoY29uc3Qga2V5IG9mIE9iamVjdC5rZXlzKHN0eWxlQXR0cmlidXRlcykpIHsKICAgIGVsZW1lbnQuc3R5bGVba2V5XSA9IHN0eWxlQXR0cmlidXRlc1trZXldOwogIH0KICByZXR1cm4gZWxlbWVudDsKfQoKLy8gTWF4IG51bWJlciBvZiBieXRlcyB3aGljaCB3aWxsIGJlIHVwbG9hZGVkIGF0IGEgdGltZS4KY29uc3QgTUFYX1BBWUxPQURfU0laRSA9IDEwMCAqIDEwMjQ7CgpmdW5jdGlvbiBfdXBsb2FkRmlsZXMoaW5wdXRJZCwgb3V0cHV0SWQpIHsKICBjb25zdCBzdGVwcyA9IHVwbG9hZEZpbGVzU3RlcChpbnB1dElkLCBvdXRwdXRJZCk7CiAgY29uc3Qgb3V0cHV0RWxlbWVudCA9IGRvY3VtZW50LmdldEVsZW1lbnRCeUlkKG91dHB1dElkKTsKICAvLyBDYWNoZSBzdGVwcyBvbiB0aGUgb3V0cHV0RWxlbWVudCB0byBtYWtlIGl0IGF2YWlsYWJsZSBmb3IgdGhlIG5leHQgY2FsbAogIC8vIHRvIHVwbG9hZEZpbGVzQ29udGludWUgZnJvbSBQeXRob24uCiAgb3V0cHV0RWxlbWVudC5zdGVwcyA9IHN0ZXBzOwoKICByZXR1cm4gX3VwbG9hZEZpbGVzQ29udGludWUob3V0cHV0SWQpOwp9CgovLyBUaGlzIGlzIHJvdWdobHkgYW4gYXN5bmMgZ2VuZXJhdG9yIChub3Qgc3VwcG9ydGVkIGluIHRoZSBicm93c2VyIHlldCksCi8vIHdoZXJlIHRoZXJlIGFyZSBtdWx0aXBsZSBhc3luY2hyb25vdXMgc3RlcHMgYW5kIHRoZSBQeXRob24gc2lkZSBpcyBnb2luZwovLyB0byBwb2xsIGZvciBjb21wbGV0aW9uIG9mIGVhY2ggc3RlcC4KLy8gVGhpcyB1c2VzIGEgUHJvbWlzZSB0byBibG9jayB0aGUgcHl0aG9uIHNpZGUgb24gY29tcGxldGlvbiBvZiBlYWNoIHN0ZXAsCi8vIHRoZW4gcGFzc2VzIHRoZSByZXN1bHQgb2YgdGhlIHByZXZpb3VzIHN0ZXAgYXMgdGhlIGlucHV0IHRvIHRoZSBuZXh0IHN0ZXAuCmZ1bmN0aW9uIF91cGxvYWRGaWxlc0NvbnRpbnVlKG91dHB1dElkKSB7CiAgY29uc3Qgb3V0cHV0RWxlbWVudCA9IGRvY3VtZW50LmdldEVsZW1lbnRCeUlkKG91dHB1dElkKTsKICBjb25zdCBzdGVwcyA9IG91dHB1dEVsZW1lbnQuc3RlcHM7CgogIGNvbnN0IG5leHQgPSBzdGVwcy5uZXh0KG91dHB1dEVsZW1lbnQubGFzdFByb21pc2VWYWx1ZSk7CiAgcmV0dXJuIFByb21pc2UucmVzb2x2ZShuZXh0LnZhbHVlLnByb21pc2UpLnRoZW4oKHZhbHVlKSA9PiB7CiAgICAvLyBDYWNoZSB0aGUgbGFzdCBwcm9taXNlIHZhbHVlIHRvIG1ha2UgaXQgYXZhaWxhYmxlIHRvIHRoZSBuZXh0CiAgICAvLyBzdGVwIG9mIHRoZSBnZW5lcmF0b3IuCiAgICBvdXRwdXRFbGVtZW50Lmxhc3RQcm9taXNlVmFsdWUgPSB2YWx1ZTsKICAgIHJldHVybiBuZXh0LnZhbHVlLnJlc3BvbnNlOwogIH0pOwp9CgovKioKICogR2VuZXJhdG9yIGZ1bmN0aW9uIHdoaWNoIGlzIGNhbGxlZCBiZXR3ZWVuIGVhY2ggYXN5bmMgc3RlcCBvZiB0aGUgdXBsb2FkCiAqIHByb2Nlc3MuCiAqIEBwYXJhbSB7c3RyaW5nfSBpbnB1dElkIEVsZW1lbnQgSUQgb2YgdGhlIGlucHV0IGZpbGUgcGlja2VyIGVsZW1lbnQuCiAqIEBwYXJhbSB7c3RyaW5nfSBvdXRwdXRJZCBFbGVtZW50IElEIG9mIHRoZSBvdXRwdXQgZGlzcGxheS4KICogQHJldHVybiB7IUl0ZXJhYmxlPCFPYmplY3Q+fSBJdGVyYWJsZSBvZiBuZXh0IHN0ZXBzLgogKi8KZnVuY3Rpb24qIHVwbG9hZEZpbGVzU3RlcChpbnB1dElkLCBvdXRwdXRJZCkgewogIGNvbnN0IGlucHV0RWxlbWVudCA9IGRvY3VtZW50LmdldEVsZW1lbnRCeUlkKGlucHV0SWQpOwogIGlucHV0RWxlbWVudC5kaXNhYmxlZCA9IGZhbHNlOwoKICBjb25zdCBvdXRwdXRFbGVtZW50ID0gZG9jdW1lbnQuZ2V0RWxlbWVudEJ5SWQob3V0cHV0SWQpOwogIG91dHB1dEVsZW1lbnQuaW5uZXJIVE1MID0gJyc7CgogIGNvbnN0IHBpY2tlZFByb21pc2UgPSBuZXcgUHJvbWlzZSgocmVzb2x2ZSkgPT4gewogICAgaW5wdXRFbGVtZW50LmFkZEV2ZW50TGlzdGVuZXIoJ2NoYW5nZScsIChlKSA9PiB7CiAgICAgIHJlc29sdmUoZS50YXJnZXQuZmlsZXMpOwogICAgfSk7CiAgfSk7CgogIGNvbnN0IGNhbmNlbCA9IGRvY3VtZW50LmNyZWF0ZUVsZW1lbnQoJ2J1dHRvbicpOwogIGlucHV0RWxlbWVudC5wYXJlbnRFbGVtZW50LmFwcGVuZENoaWxkKGNhbmNlbCk7CiAgY2FuY2VsLnRleHRDb250ZW50ID0gJ0NhbmNlbCB1cGxvYWQnOwogIGNvbnN0IGNhbmNlbFByb21pc2UgPSBuZXcgUHJvbWlzZSgocmVzb2x2ZSkgPT4gewogICAgY2FuY2VsLm9uY2xpY2sgPSAoKSA9PiB7CiAgICAgIHJlc29sdmUobnVsbCk7CiAgICB9OwogIH0pOwoKICAvLyBXYWl0IGZvciB0aGUgdXNlciB0byBwaWNrIHRoZSBmaWxlcy4KICBjb25zdCBmaWxlcyA9IHlpZWxkIHsKICAgIHByb21pc2U6IFByb21pc2UucmFjZShbcGlja2VkUHJvbWlzZSwgY2FuY2VsUHJvbWlzZV0pLAogICAgcmVzcG9uc2U6IHsKICAgICAgYWN0aW9uOiAnc3RhcnRpbmcnLAogICAgfQogIH07CgogIGNhbmNlbC5yZW1vdmUoKTsKCiAgLy8gRGlzYWJsZSB0aGUgaW5wdXQgZWxlbWVudCBzaW5jZSBmdXJ0aGVyIHBpY2tzIGFyZSBub3QgYWxsb3dlZC4KICBpbnB1dEVsZW1lbnQuZGlzYWJsZWQgPSB0cnVlOwoKICBpZiAoIWZpbGVzKSB7CiAgICByZXR1cm4gewogICAgICByZXNwb25zZTogewogICAgICAgIGFjdGlvbjogJ2NvbXBsZXRlJywKICAgICAgfQogICAgfTsKICB9CgogIGZvciAoY29uc3QgZmlsZSBvZiBmaWxlcykgewogICAgY29uc3QgbGkgPSBkb2N1bWVudC5jcmVhdGVFbGVtZW50KCdsaScpOwogICAgbGkuYXBwZW5kKHNwYW4oZmlsZS5uYW1lLCB7Zm9udFdlaWdodDogJ2JvbGQnfSkpOwogICAgbGkuYXBwZW5kKHNwYW4oCiAgICAgICAgYCgke2ZpbGUudHlwZSB8fCAnbi9hJ30pIC0gJHtmaWxlLnNpemV9IGJ5dGVzLCBgICsKICAgICAgICBgbGFzdCBtb2RpZmllZDogJHsKICAgICAgICAgICAgZmlsZS5sYXN0TW9kaWZpZWREYXRlID8gZmlsZS5sYXN0TW9kaWZpZWREYXRlLnRvTG9jYWxlRGF0ZVN0cmluZygpIDoKICAgICAgICAgICAgICAgICAgICAgICAgICAgICAgICAgICAgJ24vYSd9IC0gYCkpOwogICAgY29uc3QgcGVyY2VudCA9IHNwYW4oJzAlIGRvbmUnKTsKICAgIGxpLmFwcGVuZENoaWxkKHBlcmNlbnQpOwoKICAgIG91dHB1dEVsZW1lbnQuYXBwZW5kQ2hpbGQobGkpOwoKICAgIGNvbnN0IGZpbGVEYXRhUHJvbWlzZSA9IG5ldyBQcm9taXNlKChyZXNvbHZlKSA9PiB7CiAgICAgIGNvbnN0IHJlYWRlciA9IG5ldyBGaWxlUmVhZGVyKCk7CiAgICAgIHJlYWRlci5vbmxvYWQgPSAoZSkgPT4gewogICAgICAgIHJlc29sdmUoZS50YXJnZXQucmVzdWx0KTsKICAgICAgfTsKICAgICAgcmVhZGVyLnJlYWRBc0FycmF5QnVmZmVyKGZpbGUpOwogICAgfSk7CiAgICAvLyBXYWl0IGZvciB0aGUgZGF0YSB0byBiZSByZWFkeS4KICAgIGxldCBmaWxlRGF0YSA9IHlpZWxkIHsKICAgICAgcHJvbWlzZTogZmlsZURhdGFQcm9taXNlLAogICAgICByZXNwb25zZTogewogICAgICAgIGFjdGlvbjogJ2NvbnRpbnVlJywKICAgICAgfQogICAgfTsKCiAgICAvLyBVc2UgYSBjaHVua2VkIHNlbmRpbmcgdG8gYXZvaWQgbWVzc2FnZSBzaXplIGxpbWl0cy4gU2VlIGIvNjIxMTU2NjAuCiAgICBsZXQgcG9zaXRpb24gPSAwOwogICAgZG8gewogICAgICBjb25zdCBsZW5ndGggPSBNYXRoLm1pbihmaWxlRGF0YS5ieXRlTGVuZ3RoIC0gcG9zaXRpb24sIE1BWF9QQVlMT0FEX1NJWkUpOwogICAgICBjb25zdCBjaHVuayA9IG5ldyBVaW50OEFycmF5KGZpbGVEYXRhLCBwb3NpdGlvbiwgbGVuZ3RoKTsKICAgICAgcG9zaXRpb24gKz0gbGVuZ3RoOwoKICAgICAgY29uc3QgYmFzZTY0ID0gYnRvYShTdHJpbmcuZnJvbUNoYXJDb2RlLmFwcGx5KG51bGwsIGNodW5rKSk7CiAgICAgIHlpZWxkIHsKICAgICAgICByZXNwb25zZTogewogICAgICAgICAgYWN0aW9uOiAnYXBwZW5kJywKICAgICAgICAgIGZpbGU6IGZpbGUubmFtZSwKICAgICAgICAgIGRhdGE6IGJhc2U2NCwKICAgICAgICB9LAogICAgICB9OwoKICAgICAgbGV0IHBlcmNlbnREb25lID0gZmlsZURhdGEuYnl0ZUxlbmd0aCA9PT0gMCA/CiAgICAgICAgICAxMDAgOgogICAgICAgICAgTWF0aC5yb3VuZCgocG9zaXRpb24gLyBmaWxlRGF0YS5ieXRlTGVuZ3RoKSAqIDEwMCk7CiAgICAgIHBlcmNlbnQudGV4dENvbnRlbnQgPSBgJHtwZXJjZW50RG9uZX0lIGRvbmVgOwoKICAgIH0gd2hpbGUgKHBvc2l0aW9uIDwgZmlsZURhdGEuYnl0ZUxlbmd0aCk7CiAgfQoKICAvLyBBbGwgZG9uZS4KICB5aWVsZCB7CiAgICByZXNwb25zZTogewogICAgICBhY3Rpb246ICdjb21wbGV0ZScsCiAgICB9CiAgfTsKfQoKc2NvcGUuZ29vZ2xlID0gc2NvcGUuZ29vZ2xlIHx8IHt9OwpzY29wZS5nb29nbGUuY29sYWIgPSBzY29wZS5nb29nbGUuY29sYWIgfHwge307CnNjb3BlLmdvb2dsZS5jb2xhYi5fZmlsZXMgPSB7CiAgX3VwbG9hZEZpbGVzLAogIF91cGxvYWRGaWxlc0NvbnRpbnVlLAp9Owp9KShzZWxmKTsK",
              "ok": true,
              "headers": [
                [
                  "content-type",
                  "application/javascript"
                ]
              ],
              "status": 200,
              "status_text": ""
            }
          },
          "base_uri": "https://localhost:8080/",
          "height": 90
        },
        "id": "Qiru8t619gzu",
        "outputId": "b8289cd3-a420-4d4b-b680-d7c0bed3968a"
      },
      "source": [
        "from google.colab import files\n",
        "covid_russia_filename = files.upload()\n",
        "covid_russia_filename = next(iter(covid_russia_filename))"
      ],
      "execution_count": 3,
      "outputs": [
        {
          "output_type": "display_data",
          "data": {
            "text/html": [
              "\n",
              "     <input type=\"file\" id=\"files-5106acae-0495-4475-8db2-ce45e7560bf9\" name=\"files[]\" multiple disabled\n",
              "        style=\"border:none\" />\n",
              "     <output id=\"result-5106acae-0495-4475-8db2-ce45e7560bf9\">\n",
              "      Upload widget is only available when the cell has been executed in the\n",
              "      current browser session. Please rerun this cell to enable.\n",
              "      </output>\n",
              "      <script src=\"/nbextensions/google.colab/files.js\"></script> "
            ],
            "text/plain": [
              "<IPython.core.display.HTML object>"
            ]
          },
          "metadata": {
            "tags": []
          }
        },
        {
          "output_type": "stream",
          "text": [
            "Saving russia_regions.xlsx to russia_regions.xlsx\n"
          ],
          "name": "stdout"
        }
      ]
    },
    {
      "cell_type": "markdown",
      "metadata": {
        "id": "2R_9-42nACKC"
      },
      "source": [
        "Шаблон meteoinfo (tr_template.xlsx)"
      ]
    },
    {
      "cell_type": "code",
      "metadata": {
        "colab": {
          "resources": {
            "http://localhost:8080/nbextensions/google.colab/files.js": {
              "data": "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",
              "ok": true,
              "headers": [
                [
                  "content-type",
                  "application/javascript"
                ]
              ],
              "status": 200,
              "status_text": ""
            }
          },
          "base_uri": "https://localhost:8080/",
          "height": 90
        },
        "id": "sOBjxeJPAAJD",
        "outputId": "0f8059a8-b382-428c-92d2-6c9661fa9583"
      },
      "source": [
        "from google.colab import files\n",
        "meteoinfo_filename = files.upload()\n",
        "meteoinfo_filename = next(iter(meteoinfo_filename))"
      ],
      "execution_count": 4,
      "outputs": [
        {
          "output_type": "display_data",
          "data": {
            "text/html": [
              "\n",
              "     <input type=\"file\" id=\"files-ebb3f038-6dcd-4164-bd36-579a976f7a02\" name=\"files[]\" multiple disabled\n",
              "        style=\"border:none\" />\n",
              "     <output id=\"result-ebb3f038-6dcd-4164-bd36-579a976f7a02\">\n",
              "      Upload widget is only available when the cell has been executed in the\n",
              "      current browser session. Please rerun this cell to enable.\n",
              "      </output>\n",
              "      <script src=\"/nbextensions/google.colab/files.js\"></script> "
            ],
            "text/plain": [
              "<IPython.core.display.HTML object>"
            ]
          },
          "metadata": {
            "tags": []
          }
        },
        {
          "output_type": "stream",
          "text": [
            "Saving rt_template.xlsx to rt_template.xlsx\n"
          ],
          "name": "stdout"
        }
      ]
    },
    {
      "cell_type": "markdown",
      "metadata": {
        "id": "8JpUlSRKOahx"
      },
      "source": [
        "презентация"
      ]
    },
    {
      "cell_type": "code",
      "metadata": {
        "colab": {
          "resources": {
            "http://localhost:8080/nbextensions/google.colab/files.js": {
              "data": "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",
              "ok": true,
              "headers": [
                [
                  "content-type",
                  "application/javascript"
                ]
              ],
              "status": 200,
              "status_text": ""
            }
          },
          "base_uri": "https://localhost:8080/",
          "height": 90
        },
        "id": "VY7SPHxlOcKe",
        "outputId": "99091412-430d-4670-c5f4-56468cb9be36"
      },
      "source": [
        "from google.colab import files\n",
        "pptx_filename = files.upload()\n",
        "pptx_filename = next(iter(pptx_filename))"
      ],
      "execution_count": 5,
      "outputs": [
        {
          "output_type": "display_data",
          "data": {
            "text/html": [
              "\n",
              "     <input type=\"file\" id=\"files-a3823a98-ad22-4ddb-bf6a-ebf7adc89748\" name=\"files[]\" multiple disabled\n",
              "        style=\"border:none\" />\n",
              "     <output id=\"result-a3823a98-ad22-4ddb-bf6a-ebf7adc89748\">\n",
              "      Upload widget is only available when the cell has been executed in the\n",
              "      current browser session. Please rerun this cell to enable.\n",
              "      </output>\n",
              "      <script src=\"/nbextensions/google.colab/files.js\"></script> "
            ],
            "text/plain": [
              "<IPython.core.display.HTML object>"
            ]
          },
          "metadata": {
            "tags": []
          }
        },
        {
          "output_type": "stream",
          "text": [
            "Saving 13.pptx to 13.pptx\n"
          ],
          "name": "stdout"
        }
      ]
    },
    {
      "cell_type": "markdown",
      "metadata": {
        "id": "dLOXfkplKZAP"
      },
      "source": [
        "#Скрипт"
      ]
    },
    {
      "cell_type": "markdown",
      "metadata": {
        "id": "GPgTSKBR43Cs"
      },
      "source": [
        "##Россия excel"
      ]
    },
    {
      "cell_type": "code",
      "metadata": {
        "id": "wFQZS-BX4DMh"
      },
      "source": [
        "!pip install selenium\n",
        "!pip install python-pptx\n",
        "!apt-get update # to update ubuntu to correctly run apt install\n",
        "!apt install chromium-chromedriver\n",
        "!pip install pip install excel-formulas-calculator\n",
        "!cp /usr/lib/chromium-browser/chromedriver /usr/bin\n",
        "import sys\n",
        "sys.path.insert(0,'/usr/lib/chromium-browser/chromedriver')\n",
        "from selenium import webdriver\n"
      ],
      "execution_count": null,
      "outputs": []
    },
    {
      "cell_type": "code",
      "metadata": {
        "id": "FXTkqWSUcbFJ",
        "colab": {
          "base_uri": "https://localhost:8080/"
        },
        "outputId": "e10608ea-2edd-4d56-929d-a2e6f7fab467"
      },
      "source": [
        "chrome_options = webdriver.ChromeOptions()\n",
        "chrome_options.add_argument('--headless')\n",
        "chrome_options.add_argument('--no-sandbox')\n",
        "chrome_options.add_argument('--disable-dev-shm-usage')\n",
        "wd = webdriver.Chrome('chromedriver',chrome_options=chrome_options)"
      ],
      "execution_count": 7,
      "outputs": [
        {
          "output_type": "stream",
          "text": [
            "/usr/local/lib/python3.7/dist-packages/ipykernel_launcher.py:5: DeprecationWarning: use options instead of chrome_options\n",
            "  \"\"\"\n"
          ],
          "name": "stderr"
        }
      ]
    },
    {
      "cell_type": "code",
      "metadata": {
        "id": "lQlC_7jmW3K_"
      },
      "source": [
        "import openpyxl\n",
        "from typing import Dict, List, Tuple\n",
        "\n",
        "from bs4 import BeautifulSoup\n",
        "import urllib3\n",
        "from openpyxl.worksheet.worksheet import Worksheet\n",
        "from nltk.stem.snowball import SnowballStemmer\n",
        "from datetime import datetime, date, time, timedelta\n",
        "from openpyxl.formula import Tokenizer\n",
        "from openpyxl.formula.translate import Translator\n",
        "from openpyxl.utils.cell import get_column_letter\n",
        "from copy import copy\n",
        "from openpyxl.formatting.rule import FormulaRule\n",
        "\n",
        "import re\n",
        "from openpyxl.styles import Color, PatternFill, Font, Border\n",
        "from pptx import Presentation\n",
        "from efc.interfaces.iopenpyxl import OpenpyxlInterface\n",
        "import numpy as np\n",
        "urllib3.disable_warnings()"
      ],
      "execution_count": 8,
      "outputs": []
    },
    {
      "cell_type": "code",
      "metadata": {
        "id": "6HBykUjAtxa0"
      },
      "source": [
        "def get_general_info(info: dict):\n",
        "    STOP_COVID_URL = 'https://стопкоронавирус.рф/information/'\n",
        "    wd.get(STOP_COVID_URL)\n",
        "    raw_rows = wd.find_elements_by_xpath('//h3[@class=\"cv-stats-virus__item-value\"]')\n",
        "    rows = [row.text for row in raw_rows]\n",
        "    statistics = [int(''.join(row.strip('\\n ').split())) for row in rows]\n",
        "    useful_statistics = [statistics[2], statistics[4], statistics[0]]\n",
        "    info.update({'general': useful_statistics})"
      ],
      "execution_count": 9,
      "outputs": []
    },
    {
      "cell_type": "code",
      "metadata": {
        "id": "wXgnOP_NyyfA"
      },
      "source": [
        "URL = 'https://yastat.net/s3/milab/2020/covid19-stat/data/v10/deep_data.json'\n",
        "REGION_COLUMN = 2\n",
        "REGION_ROWS_RANGE = (2, 87)\n",
        "WEEKLY_REPORT_DAY = 7\n",
        "DAYS_OF_THE_WEEK_MAP = {\n",
        "    1: 'ПН',\n",
        "    2: 'ВТ',\n",
        "    3: 'СР',\n",
        "    4: 'ЧТ',\n",
        "    5: 'ПТ',\n",
        "    6: 'СБ',\n",
        "    7: 'ВС',\n",
        "}\n",
        "\n",
        "def normolize_string(string: str):\n",
        "    string = string.strip().lower().translate({ord('.'): None})\n",
        "    string = ' '.join(string.split('-'))\n",
        "\n",
        "    # remove stop words\n",
        "    stop_words = ['г', 'обл', 'область', 'республика', 'автономная', 'ао']\n",
        "    try:\n",
        "        splitted_string = string.split()\n",
        "    except IndexError:\n",
        "        return ''\n",
        "    stemmer = SnowballStemmer(\"russian\")\n",
        "    string = ' '.join(stemmer.stem(w) for w in splitted_string if w not in stop_words)\n",
        "    return string\n",
        "\n",
        "\n",
        "def fill_сases_sheet(ws: Worksheet, info: dict):\n",
        "    TOTAL_CASES_FORMULA_ROW = 88\n",
        "\n",
        "    last_available_date = datetime.strptime(info['dates'][-1], '%Y-%m-%d')\n",
        "    last_column = ws.max_column\n",
        "    last_table_date = ws.cell(row=1, column=last_column).value\n",
        "    new_days_amount = (last_available_date - last_table_date).days\n",
        "    for i in range(1, new_days_amount + 1):\n",
        "        ws.cell(row=1, column=(last_column + i)).value = (last_table_date + timedelta(days=i))\n",
        "        ws.cell(row=1, column=(last_column + i)).number_format = 'DD.MM.YYYY'\n",
        "\n",
        "        for row in range(*REGION_ROWS_RANGE):\n",
        "            name = ws.cell(row=row, column=REGION_COLUMN).value\n",
        "            key = normolize_string(name)\n",
        "            if key in info['data']:\n",
        "                ws.cell(row=row, column=(last_column + i)).value = \\\n",
        "                    info['data'][key]['cases'][(i - 1) - new_days_amount][0]\n",
        "            else:\n",
        "                raise KeyError(key)\n",
        "\n",
        "        formula = ws.cell(row=TOTAL_CASES_FORMULA_ROW, column=ws.max_column - 1).value\n",
        "        last_cell_id = get_column_letter(ws.max_column - 1) + str(TOTAL_CASES_FORMULA_ROW)\n",
        "        next_cell_id = get_column_letter(ws.max_column) + str(TOTAL_CASES_FORMULA_ROW)\n",
        "        ws[next_cell_id] = Translator(formula, origin=last_cell_id).translate_formula(next_cell_id)\n",
        "\n",
        "    info.update({'new_days_amount': new_days_amount})\n",
        "\n",
        "import requests\n",
        "def get_regions_info() -> dict:\n",
        "    final_region_data = {}\n",
        "\n",
        "    response: dict = requests.get(URL, verify=False).json()\n",
        "    regions = response['russia_stat_struct']['data']\n",
        "    dates = response['russia_stat_struct']['dates']\n",
        "    for region in regions:\n",
        "        full_name = regions[region]['info']['name']\n",
        "        short_name = regions[region]['info']['short_name']\n",
        "        regions[region]['info'].pop('name', None)\n",
        "        regions[region]['info'].pop('short_name', None)\n",
        "        final_region_data.update(\n",
        "            dict.fromkeys([normolize_string(full_name), normolize_string(short_name)], regions[region]))\n",
        "    return {'data': final_region_data,\n",
        "            'dates': dates,\n",
        "            'last_date': datetime.strptime(dates[-1], '%Y-%m-%d')}\n",
        "\n",
        "\n",
        "def continue_formula_right(ws: Worksheet, rows: list, column: int):\n",
        "    for row in rows:\n",
        "        formula = ws.cell(row=row, column=column - 1).value\n",
        "        last_cell_id = get_column_letter(column - 1) + str(row)\n",
        "        next_cell_id = get_column_letter(column) + str(row)\n",
        "        ws[next_cell_id] = Translator(formula, origin=last_cell_id).translate_formula(next_cell_id)\n",
        "        ws[next_cell_id]._style = copy(ws[last_cell_id]._style)\n",
        "\n",
        "\n",
        "def  continue_date_right(ws: Worksheet, rows: list):\n",
        "    for row in rows:\n",
        "        try:\n",
        "            column = [c.value for c in ws[row]][3:].index(None) + 4\n",
        "        except ValueError:\n",
        "            column = ws.max_column + 1\n",
        "        last_table_date = ws.cell(row=row, column=column - 1).value\n",
        "        ws.cell(row=row, column=column).value = (last_table_date) + timedelta(days=1)\n",
        "        ws.cell(row=row, column=column).number_format = 'DD.MM.YYYY'\n",
        "\n",
        "        last_cell_id = get_column_letter(column - 1) + str(row)\n",
        "        next_cell_id = get_column_letter(column) + str(row)\n",
        "        ws[next_cell_id]._style = copy(ws[last_cell_id]._style)\n",
        "\n",
        "\n",
        "def continue_number_right(ws: Worksheet, rows: list):\n",
        "    for row in rows:\n",
        "        try:\n",
        "            column = [c.value for c in ws[row]].index(None) + 1\n",
        "        except ValueError:\n",
        "            column = ws.max_column + 1\n",
        "        last_num = ws.cell(row=row, column=column - 1).value\n",
        "        ws.cell(row=row, column=column).value = last_num + 1\n",
        "\n",
        "        last_cell_id = get_column_letter(column - 1) + str(row)\n",
        "        next_cell_id = get_column_letter(column) + str(row)\n",
        "        ws[next_cell_id]._style = copy(ws[last_cell_id]._style)\n",
        "\n",
        "\n",
        "def gain_sheet(ws: Worksheet, info: dict):\n",
        "    NEW_COLUMN_NUM_GAIN = [c.value for c in ws[1]].index(None) + 1\n",
        "\n",
        "    for i in range(info['new_days_amount']):\n",
        "        ws.insert_cols(NEW_COLUMN_NUM_GAIN+i)\n",
        "        continue_date_right(ws, [1])\n",
        "        continue_formula_right(ws, list(range(2, 96)), NEW_COLUMN_NUM_GAIN + i)\n",
        "\n",
        "    info['last_col_in_gain_sheet'] = [c.value for c in ws[1]].index(None)\n",
        "\n",
        "\n",
        "def daily_region_gain_sheet(ws: Worksheet, info: dict):\n",
        "    NEW_COLUMN_NUM_DAILY_GAIN = ws.max_column + 1\n",
        "\n",
        "    for i in range(info['new_days_amount']):\n",
        "        continue_date_right(ws, [1, 20, 35])\n",
        "        continue_formula_right(ws,\n",
        "                               list(range(2, 19)) + list(range(21, 34)) + list(range(36, 49)),\n",
        "                               NEW_COLUMN_NUM_DAILY_GAIN + i)\n",
        "\n",
        "\n",
        "def weekly_gain_sheet(ws: Worksheet, info: dict):\n",
        "    new_col = [c.value for c in ws[1]].index(None) + 1\n",
        "    ws.insert_cols(new_col)\n",
        "    continue_number_right(ws, [1])\n",
        "    continue_formula_right(ws, list(range(2, 94)), new_col)\n",
        "    for row in range(2, 87):\n",
        "        # left part\n",
        "        raw_formula = ws.cell(row=row, column=new_col).value\n",
        "        tokenized_formula = Tokenizer(raw_formula)\n",
        "        last_col_in_gain_sheet = info['last_col_in_gain_sheet']\n",
        "\n",
        "        tokenized_formula.items[1].value = re.sub(r'(?<=:\\$)\\D*',\n",
        "                                                  get_column_letter(last_col_in_gain_sheet),\n",
        "                                                  tokenized_formula.items[1].value)\n",
        "        tokenized_formula.items[3].value = re.sub(r'(?<=:\\$).*(?=\\$)',\n",
        "                                                  get_column_letter(last_col_in_gain_sheet),\n",
        "                                                  tokenized_formula.items[3].value)\n",
        "        new_formula = ''.join(token.value for token in tokenized_formula.items)\n",
        "        ws.cell(row=row, column=new_col).value = fr'={new_formula}'\n",
        "\n",
        "        # right part\n",
        "        ws.cell(row=row, column=new_col+2).value = fr'=MAX($C{row}:${get_column_letter(new_col)}{row})'\n",
        "        ws.cell(row=row, column=new_col+3).value = fr'={get_column_letter(new_col+2)}{row}-{get_column_letter(new_col)}{row}'\n",
        "        ws.cell(row=row, column=new_col+4).value = fr'={get_column_letter(new_col)}{row}-{get_column_letter(new_col-1)}{row}'\n",
        "        ws.cell(row=row, column=new_col+6).value = fr'={get_column_letter(new_col)}{row}/{get_column_letter(new_col-1)}{row}-100%'\n",
        "        ws.cell(row=row, column=new_col+7).value = fr'={get_column_letter(new_col-1)}{row}/{get_column_letter(new_col-2)}{row}-100%'\n",
        "\n",
        "\n",
        "    ws.cell(row=87, column=new_col+4).value = fr'={get_column_letter(new_col)}{87}-{get_column_letter(new_col-1)}{87}'\n",
        "\n",
        "\n",
        "def tpr_weekly_gain_sheet(ws: Worksheet, info: dict):\n",
        "    new_col = [c.value for c in ws[1]].index(None) + 1\n",
        "    ws.insert_cols(new_col)\n",
        "    continue_number_right(ws, [1])\n",
        "    continue_formula_right(ws, list(range(2, 88)), new_col)\n",
        "\n",
        "\n",
        "# {}\n",
        "\n",
        "# def cases_sheet(wb):\n",
        "#\n",
        "#\n",
        "    # continue_number_right(ws_weekly_gain, )\n",
        "\n",
        "\n",
        "def continue_formula_n_down(ws: Worksheet, columns: list, row: int, n: int):\n",
        "    for column in columns:\n",
        "\n",
        "        formula = ws.cell(row=(row - n), column=column).value\n",
        "        last_cell_id = get_column_letter(column) + str(row - n)\n",
        "        next_cell_id = get_column_letter(column) + str(row)\n",
        "        ws[next_cell_id] = Translator(formula, origin=last_cell_id).translate_formula(next_cell_id)\n",
        "        ws[next_cell_id]._style = copy(ws[last_cell_id]._style)\n",
        "\n",
        "\n",
        "def continue_formula_down(ws: Worksheet, columns: list, row: int):\n",
        "    continue_formula_n_down(ws, columns, row, 1)\n",
        "\n",
        "\n",
        "# def get_first_clear_column_in_row(row):\n",
        "#     return max((c.row for c in column if c.value is not None)) + 1\n",
        "\n",
        "\n",
        "def get_first_clear_row_in_column(column):\n",
        "    return max((c.row for c in column if c.value is not None)) + 1\n",
        "\n",
        "def base_rf_sheet(ws: Worksheet, info: dict):\n",
        "    NEW_ROW_NUM = get_first_clear_row_in_column(ws['B'])\n",
        "\n",
        "    ws.cell(row=NEW_ROW_NUM, column=1).value = info['last_date']\n",
        "    ws.cell(row=NEW_ROW_NUM, column=1).number_format = 'DD.MM'\n",
        "    for i, stat in enumerate(info['general']):\n",
        "        ws.cell(row=NEW_ROW_NUM, column=2 + i).value = info['general'][i]\n",
        "        ws.cell(row=NEW_ROW_NUM, column=2 + i)._style = copy(ws.cell(row=NEW_ROW_NUM - 1, column=2 + i)._style)\n",
        "    continue_formula_down(ws,\n",
        "                          list(range(5, 20)) + [26] + list(range(28, 36)),\n",
        "                          NEW_ROW_NUM)\n",
        "\n",
        "    if info['last_date'].weekday() + 1 == WEEKLY_REPORT_DAY:  # if it's sunday\n",
        "        continue_formula_n_down(ws, list(range(20, 25))+[27], NEW_ROW_NUM, 7)\n",
        "        continue_formula_n_down(ws, list(range(20, 23)), NEW_ROW_NUM + 1, 7)\n",
        "    I_column = [c.value for c in ws['I'][10:]]\n",
        "    info['day_infections_cell'] = f'I{I_column.index(None)+10}'\n",
        "\n",
        "\n",
        "def date_week_sheet(ws: Worksheet, info: dict):\n",
        "    NEW_ROW_NUM = get_first_clear_row_in_column(ws['A'])\n",
        "    ws.cell(row=NEW_ROW_NUM, column=1).value = ws.cell(row=NEW_ROW_NUM - 1, column=1).value + 1\n",
        "    continue_formula_down(ws, list(range(2, 4)), NEW_ROW_NUM)\n",
        "\n",
        "\n",
        "\n",
        "\n",
        "def parse_info():\n",
        "    info = get_regions_info()\n",
        "    # {dates: [list of available dates], data: {'*REGION_NAME*': {*REGION_INFO*}}}\n",
        "    get_general_info(info)\n",
        "    return info\n",
        "\n",
        "\n",
        "def weekly_region_gain_sheet(ws: Worksheet, info: dict):\n",
        "    new_column = ws.max_column + 1\n",
        "\n",
        "    continue_number_right(ws, [1, 20])\n",
        "    continue_formula_right(ws,\n",
        "                           list(range(2, 17)) + list(range(21, 34)),\n",
        "                           new_column)\n",
        "\n",
        "def gain_7day_sheet(ws: Worksheet, info: dict):\n",
        "    new_column = [c.value for c in ws[1]].index(None) + 1\n",
        "\n",
        "    for i in range(info['new_days_amount']):\n",
        "        ws.insert_cols(new_column+i)\n",
        "        continue_date_right(ws, [1])\n",
        "        continue_formula_right(ws, list(range(2, 94)), new_column + i)\n",
        "\n",
        "    for row in range(2, 87):\n",
        "        ws.cell(row=row, column=new_column+i+3).value = fr'={get_column_letter(new_column+i)}{row}'\n",
        "        ws.cell(row=row, column=new_column+i+2).value = fr'=RANK({get_column_letter(new_column+i+3)}{row},${get_column_letter(new_column+i+3)}$2:${get_column_letter(new_column+i+3)}$86,0)'\n",
        "        ws.cell(row=row, column=new_column+i+4).value = fr'={get_column_letter(new_column+i)}{row}-{get_column_letter(new_column+i-7)}{row}'\n",
        "        ws.cell(row=row, column=new_column+i+6).value = fr'={get_column_letter(new_column+i)}{row}/{get_column_letter(new_column+i-7)}{row}-1'\n",
        "    ws.cell(row=row, column=new_column+i+3).value = fr'={get_column_letter(new_column + i)}{row}'\n",
        "\n",
        "    for row in range(92, 97):\n",
        "        ws.cell(row=row, column=new_column+i+4).value = fr'=VLOOKUP({get_column_letter(new_column+i+2)}{row},${get_column_letter(new_column+i+2)}$2:${get_column_letter(new_column+i+3)}$86,2,0)'\n",
        "        ws.cell(row=row, column=new_column+i+5).value = fr'={get_column_letter(new_column+i+4)}{row}/${get_column_letter(new_column+i+4)}$97'\n",
        "        ws.cell(row=row, column=new_column+i+6).value = fr'==VLOOKUP({get_column_letter(new_column+i+2)}{row},${get_column_letter(new_column+i+2)}$2:${get_column_letter(new_column+i+6)}$86,4,0)'\n",
        "    ws.cell(row=97, column=new_column+i+4).value = fr'={get_column_letter(new_column+i+3)}87'\n",
        "    ws.cell(row=97, column=new_column+i+5).value = fr'={get_column_letter(new_column+i+4)}{97}/${get_column_letter(new_column+i+4)}$97'\n",
        "\n",
        "def rt_sheet(ws: Worksheet, info: dict):\n",
        "    new_column = [c.value for c in ws[2]][3:].index(None) + 4\n",
        "    for i in range(info['new_days_amount']):\n",
        "        ws.insert_cols(new_column+i)\n",
        "        continue_date_right(ws, [2])\n",
        "        continue_formula_right(ws, list(range(3, 89)), new_column + i)\n",
        "\n",
        "    ws.cell(row=1, column=(new_column+i+5)).value = info['last_date']\n",
        "    c = get_column_letter(new_column+i+5)\n",
        "    r = '1'\n",
        "    cell1 = c+r\n",
        "    ws.cell(row=1, column=(new_column+i+6)).value = fr'=MATCH({cell1},$A$2:{get_column_letter(new_column+i)}2)-3'\n",
        "\n",
        "    for row in range(3, 88):\n",
        "        col = get_column_letter(new_column+i)\n",
        "        ws.cell(row=row, column=(new_column+i+2)).value = fr'=RANK({col}{row},${col}$3:${col}$87,0)'\n",
        "\n",
        "        ws.cell(row=row, column=(new_column+i+4)).value = fr'=IF(INDEX($D$3:${col}$87,${get_column_letter(new_column+i+8)}{row},${get_column_letter(new_column+i+6)}$1)<1,1,0)'\n",
        "        ws.cell(row=row, column=(new_column+i+5)).value = fr'=IF(INDEX($D$3:${col}$87,${get_column_letter(new_column+i+8)}{row},${get_column_letter(new_column+i+6)}$1)>1,1,0)'\n",
        "        ws.cell(row=row, column=(new_column+i+6)).value = fr'=IF(INDEX($D$3:${col}$87,${get_column_letter(new_column+i+8)}{row},${get_column_letter(new_column+i+6)}$1)=1,1,0)'\n",
        "\n",
        "    ws.cell(row=88, column=(new_column+i+4)).value = fr'=SUM({get_column_letter(new_column+i+4)}3:{get_column_letter(new_column+i+4)}87)'\n",
        "    ws.cell(row=88, column=(new_column+i+5)).value = fr'=SUM({get_column_letter(new_column+i+5)}3:{get_column_letter(new_column+i+5)}87)'\n",
        "    ws.cell(row=88, column=(new_column+i+6)).value = fr'=SUM({get_column_letter(new_column+i+6)}3:{get_column_letter(new_column+i+6)}87)'\n",
        "    ws.cell(row=89, column=(new_column+i+6)).value = fr'=85-SUM({get_column_letter(new_column+i+4)}88:{get_column_letter(new_column+i+6)}88)'\n",
        "    info['rt_bigger1_cell'] = f'{get_column_letter(new_column+i+5)}88'\n",
        "\n",
        "\n",
        "def delta_day_sheet(ws: Worksheet, info: dict):\n",
        "    new_column = ws.max_column + 1\n",
        "    bigger_zero_fill = PatternFill(start_color='F1CCB1', end_color='F1CCB1', fill_type='solid')\n",
        "    lower_zero_fill = PatternFill(start_color='E4EFDC', end_color='E4EFDC', fill_type='solid')\n",
        "\n",
        "    for i in range(info['new_days_amount']):\n",
        "        continue_date_right(ws, [1])\n",
        "        ws.cell(row=2, column=new_column + i).value = DAYS_OF_THE_WEEK_MAP.get(\n",
        "            ws.cell(row=1, column=new_column + i).value.weekday() + 1\n",
        "        )\n",
        "        last_cell_id = get_column_letter(new_column + i - 1) + str(2)\n",
        "        next_cell_id = get_column_letter(new_column + i) + str(2)\n",
        "        ws[next_cell_id]._style = copy(ws[last_cell_id]._style)\n",
        "\n",
        "        continue_formula_right(ws, list(range(3, 98)), new_column + i)\n",
        "        cell_ids_formatting = '{}3:{}87'.format(get_column_letter(new_column + i), get_column_letter(new_column + i))\n",
        "        ws.conditional_formatting.add(cell_ids_formatting, FormulaRule(formula=[f'{next_cell_id}>0'], fill=bigger_zero_fill))\n",
        "        ws.conditional_formatting.add(cell_ids_formatting, FormulaRule(formula=[f'{next_cell_id}<0'], fill=lower_zero_fill))\n",
        "\n",
        "\n",
        "def msc_sp_sheet(ws: Worksheet, info: dict):\n",
        "    new_column = ws.max_column + 1\n",
        "    # bigger_zero_fill = PatternFill(start_color='F1CCB1', end_color='F1CCB1', fill_type='solid')\n",
        "    # lower_zero_fill = PatternFill(start_color='E4EFDC', end_color='E4EFDC', fill_type='solid')\n",
        "\n",
        "    for i in range(info['new_days_amount']):\n",
        "        continue_date_right(ws, [1])\n",
        "        ws.cell(row=2, column=new_column + i).value = DAYS_OF_THE_WEEK_MAP.get(\n",
        "            ws.cell(row=1, column=new_column + i).value.weekday() + 1\n",
        "        )\n",
        "        last_cell_id = get_column_letter(new_column + i - 1) + str(2)\n",
        "        next_cell_id = get_column_letter(new_column + i) + str(2)\n",
        "        ws[next_cell_id]._style = copy(ws[last_cell_id]._style)\n",
        "        continue_formula_right(ws, list(range(3, 98)), new_column + i)\n"
      ],
      "execution_count": 10,
      "outputs": []
    },
    {
      "cell_type": "code",
      "metadata": {
        "id": "i--qNqBr3ojB"
      },
      "source": [
        "def covid_russia_xlsx(filename):\n",
        "    wb = openpyxl.load_workbook(filename)\n",
        "    \n",
        "    info = parse_info()\n",
        "    info['covid_russia_wb'] = wb\n",
        "    fill_сases_sheet(wb['Случаев'], info)\n",
        "    gain_sheet(wb['Прирост'], info)\n",
        "    msc_sp_sheet(wb['МСК и СП'], info)\n",
        "    rt_sheet(wb['Rt'], info)\n",
        "    gain_7day_sheet(wb['прирост 7дн'], info)\n",
        "    delta_day_sheet(wb['дельта за сутки'], info)\n",
        "    daily_region_gain_sheet(wb['По рег прис (сут)'], info)\n",
        "\n",
        "    if info['last_date'].weekday()+1 == WEEKLY_REPORT_DAY:\n",
        "        weekly_gain_sheet(wb['Прирост нед'], info)\n",
        "        tpr_weekly_gain_sheet(wb['Тпр нед прироста'], info)\n",
        "        weekly_region_gain_sheet(wb['По рег прис (нед)'], info)\n",
        "        date_week_sheet(wb['Дата-неделя'], info)\n",
        "\n",
        "    base_rf_sheet(wb['База РФ'], info)\n",
        "\n",
        "\n",
        "    out_filename = filename.split('.')[0] + '_out.' + filename.split('.')[1]\n",
        "    wb.save(out_filename)\n",
        "    info['files_to_download'] = [out_filename]\n",
        "    return info"
      ],
      "execution_count": 11,
      "outputs": []
    },
    {
      "cell_type": "markdown",
      "metadata": {
        "id": "FWbTNLvU4-hf"
      },
      "source": [
        "##Презентация"
      ]
    },
    {
      "cell_type": "code",
      "metadata": {
        "id": "QjkT3zqTUEfn"
      },
      "source": [
        "\n",
        "def fill_pptx(filename:str, info: dict):\n",
        "    \n",
        "    prs = Presentation(filename)\n",
        "    interface = OpenpyxlInterface(wb=info['covid_russia_wb'], use_cache=True)\n",
        "    day_infections = interface.calc_cell(info['day_infections_cell'], 'База РФ')\n",
        "    rt_bigger_1_num = interface.calc_cell(info['rt_bigger1_cell'], 'Rt')\n",
        "    s1 = \"субъекте\" if (rt_bigger_1_num%10 == 1) and rt_bigger_1_num != 11 else \"субъектах\"\n",
        "\n",
        "    gain = []\n",
        "    regions = []\n",
        "    for i in range(2, 87):\n",
        "        region = interface.calc_cell(f'B{i}', 'Прирост')\n",
        "        if region not in ['Санкт-Петербург', 'Московская область', 'Москва']:\n",
        "            gain.append(interface.calc_cell(f'{get_column_letter(info[\"last_col_in_gain_sheet\"])}{i}', 'Прирост'))\n",
        "            regions.append(region)\n",
        "    top5_idx = np.array(gain).argsort()[-5:][::-1]\n",
        "    top5_region = np.array(regions)[top5_idx]\n",
        "    top5_gain = np.array(gain)[top5_idx]\n",
        "    s2 = ', '.join([f'{region} ({gain})' for region, gain in zip(top5_region, top5_gain)])\n",
        "    template = f\"{day_infections} новых случаев в России. Ухудшение – в {rt_bigger_1_num} {s1} РФ. Наибольший прирост новых случаев: {s2}.\"\n",
        "    # print(template)\n",
        "    info['covid_yandex_info'] = template\n",
        "    prs.slides[1].shapes[11].text_frame.paragraphs[1].runs[0].text = template\n",
        "\n",
        "    out_filename = filename.split('.')[0] + '_out.' + filename.split('.')[1]\n",
        "    prs.save(out_filename)\n",
        "\n",
        "    info['files_to_download'].append(out_filename)"
      ],
      "execution_count": 12,
      "outputs": []
    },
    {
      "cell_type": "markdown",
      "metadata": {
        "id": "SyeGzIIK-EVT"
      },
      "source": [
        "##Meteoinfo погодные явления"
      ]
    },
    {
      "cell_type": "code",
      "metadata": {
        "colab": {
          "base_uri": "https://localhost:8080/",
          "height": 0
        },
        "id": "Yr-sR4AaHBlb",
        "outputId": "d150be9b-92ce-4479-a2af-045d50fc5b88"
      },
      "source": [
        "!pip install requests-html"
      ],
      "execution_count": 13,
      "outputs": [
        {
          "output_type": "stream",
          "text": [
            "Collecting requests-html\n",
            "  Downloading requests_html-0.10.0-py3-none-any.whl (13 kB)\n",
            "Collecting pyppeteer>=0.0.14\n",
            "  Downloading pyppeteer-0.2.5-py3-none-any.whl (87 kB)\n",
            "\u001b[?25l\r\u001b[K     |███▊                            | 10 kB 29.9 MB/s eta 0:00:01\r\u001b[K     |███████▌                        | 20 kB 30.9 MB/s eta 0:00:01\r\u001b[K     |███████████▎                    | 30 kB 36.2 MB/s eta 0:00:01\r\u001b[K     |███████████████                 | 40 kB 38.9 MB/s eta 0:00:01\r\u001b[K     |██████████████████▉             | 51 kB 16.4 MB/s eta 0:00:01\r\u001b[K     |██████████████████████▌         | 61 kB 18.5 MB/s eta 0:00:01\r\u001b[K     |██████████████████████████▎     | 71 kB 16.4 MB/s eta 0:00:01\r\u001b[K     |██████████████████████████████  | 81 kB 12.0 MB/s eta 0:00:01\r\u001b[K     |████████████████████████████████| 87 kB 4.0 MB/s \n",
            "\u001b[?25hRequirement already satisfied: requests in /usr/local/lib/python3.7/dist-packages (from requests-html) (2.23.0)\n",
            "Collecting fake-useragent\n",
            "  Downloading fake-useragent-0.1.11.tar.gz (13 kB)\n",
            "Collecting pyquery\n",
            "  Downloading pyquery-1.4.3-py3-none-any.whl (22 kB)\n",
            "Collecting w3lib\n",
            "  Downloading w3lib-1.22.0-py2.py3-none-any.whl (20 kB)\n",
            "Collecting parse\n",
            "  Downloading parse-1.19.0.tar.gz (30 kB)\n",
            "Requirement already satisfied: bs4 in /usr/local/lib/python3.7/dist-packages (from requests-html) (0.0.1)\n",
            "Collecting websockets<9.0,>=8.1\n",
            "  Downloading websockets-8.1-cp37-cp37m-manylinux2010_x86_64.whl (79 kB)\n",
            "\u001b[K     |████████████████████████████████| 79 kB 7.5 MB/s \n",
            "\u001b[?25hCollecting tqdm<5.0.0,>=4.42.1\n",
            "  Downloading tqdm-4.61.2-py2.py3-none-any.whl (76 kB)\n",
            "\u001b[K     |████████████████████████████████| 76 kB 4.2 MB/s \n",
            "\u001b[?25hCollecting pyee<9.0.0,>=8.1.0\n",
            "  Downloading pyee-8.1.0-py2.py3-none-any.whl (12 kB)\n",
            "Collecting urllib3<2.0.0,>=1.25.8\n",
            "  Downloading urllib3-1.26.6-py2.py3-none-any.whl (138 kB)\n",
            "\u001b[K     |████████████████████████████████| 138 kB 37.1 MB/s \n",
            "\u001b[?25hCollecting importlib-metadata<3.0.0,>=2.1.1\n",
            "  Downloading importlib_metadata-2.1.1-py2.py3-none-any.whl (10 kB)\n",
            "Requirement already satisfied: appdirs<2.0.0,>=1.4.3 in /usr/local/lib/python3.7/dist-packages (from pyppeteer>=0.0.14->requests-html) (1.4.4)\n",
            "Requirement already satisfied: zipp>=0.5 in /usr/local/lib/python3.7/dist-packages (from importlib-metadata<3.0.0,>=2.1.1->pyppeteer>=0.0.14->requests-html) (3.5.0)\n",
            "Requirement already satisfied: beautifulsoup4 in /usr/local/lib/python3.7/dist-packages (from bs4->requests-html) (4.6.3)\n",
            "Collecting cssselect>0.7.9\n",
            "  Downloading cssselect-1.1.0-py2.py3-none-any.whl (16 kB)\n",
            "Requirement already satisfied: lxml>=2.1 in /usr/local/lib/python3.7/dist-packages (from pyquery->requests-html) (4.2.6)\n",
            "Requirement already satisfied: chardet<4,>=3.0.2 in /usr/local/lib/python3.7/dist-packages (from requests->requests-html) (3.0.4)\n",
            "Collecting urllib3<2.0.0,>=1.25.8\n",
            "  Downloading urllib3-1.25.11-py2.py3-none-any.whl (127 kB)\n",
            "\u001b[K     |████████████████████████████████| 127 kB 37.0 MB/s \n",
            "\u001b[?25hRequirement already satisfied: idna<3,>=2.5 in /usr/local/lib/python3.7/dist-packages (from requests->requests-html) (2.10)\n",
            "Requirement already satisfied: certifi>=2017.4.17 in /usr/local/lib/python3.7/dist-packages (from requests->requests-html) (2021.5.30)\n",
            "Requirement already satisfied: six>=1.4.1 in /usr/local/lib/python3.7/dist-packages (from w3lib->requests-html) (1.15.0)\n",
            "Building wheels for collected packages: fake-useragent, parse\n",
            "  Building wheel for fake-useragent (setup.py) ... \u001b[?25l\u001b[?25hdone\n",
            "  Created wheel for fake-useragent: filename=fake_useragent-0.1.11-py3-none-any.whl size=13503 sha256=93d0acd9274aec181e6bdd9cb19b6b91931a8ae59144d5fd6ce1f4d4ce7f0692\n",
            "  Stored in directory: /root/.cache/pip/wheels/ed/f7/62/50ab6c9a0b5567267ab76a9daa9d06315704209b2c5d032031\n",
            "  Building wheel for parse (setup.py) ... \u001b[?25l\u001b[?25hdone\n",
            "  Created wheel for parse: filename=parse-1.19.0-py3-none-any.whl size=24591 sha256=8a093e59d3ed4b092bbb5336ef584d9925a9381ebe62d87355465b9cc52ac182\n",
            "  Stored in directory: /root/.cache/pip/wheels/9c/aa/cc/f2228050ccb40f22144b073f15a2c84f11204f29fc0dce028e\n",
            "Successfully built fake-useragent parse\n",
            "Installing collected packages: websockets, urllib3, tqdm, pyee, importlib-metadata, cssselect, w3lib, pyquery, pyppeteer, parse, fake-useragent, requests-html\n",
            "  Attempting uninstall: urllib3\n",
            "    Found existing installation: urllib3 1.24.3\n",
            "    Uninstalling urllib3-1.24.3:\n",
            "      Successfully uninstalled urllib3-1.24.3\n",
            "  Attempting uninstall: tqdm\n",
            "    Found existing installation: tqdm 4.41.1\n",
            "    Uninstalling tqdm-4.41.1:\n",
            "      Successfully uninstalled tqdm-4.41.1\n",
            "  Attempting uninstall: importlib-metadata\n",
            "    Found existing installation: importlib-metadata 4.6.1\n",
            "    Uninstalling importlib-metadata-4.6.1:\n",
            "      Successfully uninstalled importlib-metadata-4.6.1\n",
            "\u001b[31mERROR: pip's dependency resolver does not currently take into account all the packages that are installed. This behaviour is the source of the following dependency conflicts.\n",
            "datascience 0.10.6 requires folium==0.2.1, but you have folium 0.8.3 which is incompatible.\u001b[0m\n",
            "Successfully installed cssselect-1.1.0 fake-useragent-0.1.11 importlib-metadata-2.1.1 parse-1.19.0 pyee-8.1.0 pyppeteer-0.2.5 pyquery-1.4.3 requests-html-0.10.0 tqdm-4.61.2 urllib3-1.25.11 w3lib-1.22.0 websockets-8.1\n"
          ],
          "name": "stdout"
        },
        {
          "output_type": "display_data",
          "data": {
            "application/vnd.colab-display-data+json": {
              "pip_warning": {
                "packages": [
                  "urllib3"
                ]
              }
            }
          },
          "metadata": {
            "tags": []
          }
        }
      ]
    },
    {
      "cell_type": "code",
      "metadata": {
        "id": "Y_Sdtc52-J8B"
      },
      "source": [
        "#!/usr/bin/env python3\n",
        "import collections\n",
        "from typing import Dict, List\n",
        "from collections import defaultdict\n",
        "from openpyxl.worksheet.worksheet import Worksheet\n",
        "import sys\n",
        "from requests_html import HTMLSession\n",
        "from bs4 import BeautifulSoup\n",
        "import urllib3\n",
        "import requests\n",
        "import openpyxl\n",
        "\n",
        "import re\n",
        "import warnings\n",
        "import requests\n",
        "from openpyxl import load_workbook\n",
        "from datetime import datetime\n",
        "\n",
        "warnings.filterwarnings('ignore')\n",
        "urllib3.disable_warnings()\n",
        "\n",
        "\n",
        "URLS = [\n",
        "    'https://meteoinfo.ru/hdmapsmeteoalarmszfo',\n",
        "    'https://meteoinfo.ru/hdmapsmeteoalarmcfo',\n",
        "    'https://meteoinfo.ru/hdmapsmeteoalarmprfo',\n",
        "    'https://meteoinfo.ru/hdmapsmeteoalarmyugfo',\n",
        "    'https://meteoinfo.ru/hdmapsmeteoalarmyskfo',\n",
        "    'https://meteoinfo.ru/hdmapsmeteoalarmural',\n",
        "    'https://meteoinfo.ru/hdmapsmeteoalarmsyb',\n",
        "    'https://meteoinfo.ru/hdmapsmeteoalarmdv',\n",
        "]\n",
        "\n",
        "HAZARDS_URL = 'https://meteoinfo.ru/hazardsbull'\n",
        "\n",
        "SIZE = 4\n",
        "\n",
        "SHEET_NAME = 'Билет по регионам'\n",
        "\n",
        "REGION_COLUMN = 2\n",
        "\n",
        "FORECAST_COLUMNS = (6, 7, 8, 9)\n",
        "FACTOR_COLUMNS = (10, 11, 12, 13)\n",
        "\n",
        "FORCASTS = (\n",
        "    'Угроза повреждения ЛЭП и линий связи, обрушения слабо укрепленных, широкоформатных, ветхих и рекламных конструкций',\n",
        "    'Угроза выхода из строя систем ЖКХ, городских коммуникаций',\n",
        "    'Угроза затопления населенных пунктов, дорог, мостов',\n",
        "    'Угроза сбоев в работе всех видов транспорта, увеличение количества ДТП',\n",
        "    'Угроза жизни и здоровью населения',\n",
        "    'Увеличение количества травм пешеходов',\n",
        "    'Угроза повреждения населенных пунктов, дорог, мостов'\n",
        ")\n",
        "\n",
        "# INTERCHANGEABLE_FACTORS = [\n",
        "#     {'Ветер', 'Дождь', 'Снег/Обледенение', 'Гроза'},\n",
        "#     {'Заморозки', 'Очень низкая температура'},\n",
        "#     {'Туман', 'Голеледно - изморозевые отложения'},\n",
        "#     {'Пожарная опасность'},\n",
        "#     {'Паводок'},\n",
        "#     {'Очень высокая температура'}\n",
        "# ]\n",
        "\n",
        "FORCAST_MAP = {\n",
        "    'очень высокая температура': set((FORCASTS[4],)),\n",
        "    'очень низкая температура': set((FORCASTS[1], FORCASTS[4])),\n",
        "    'заморозки': set((FORCASTS[1], FORCASTS[4])),\n",
        "    'ветер': set((FORCASTS[0], FORCASTS[1], FORCASTS[4])),\n",
        "    'дождь': set((FORCASTS[0], FORCASTS[1])),\n",
        "    'гроза': set((FORCASTS[0], FORCASTS[1])),\n",
        "    'град': set((FORCASTS[0], FORCASTS[1])),\n",
        "    'паводок': set((FORCASTS[2], FORCASTS[4])),\n",
        "    'наводнение': set((FORCASTS[2], FORCASTS[4])),\n",
        "    'снег/Обледенение': set((FORCASTS[0], FORCASTS[1], FORCASTS[3])),\n",
        "    'голеледно - изморозевые отложения': set((FORCASTS[3], FORCASTS[5])),\n",
        "    'лавины': set((FORCASTS[4], FORCASTS[6])),\n",
        "    'сель': set((FORCASTS[4], FORCASTS[6])),\n",
        "    'прибрежные события': set((FORCASTS[1], FORCASTS[6], FORCASTS[4])),\n",
        "    'пыльная (песчаная) буря': set((FORCASTS[0], FORCASTS[1], FORCASTS[3], FORCASTS[4])),\n",
        "    'туман': set((FORCASTS[3],)),\n",
        "    'пожарная опасность': set((FORCASTS[6], FORCASTS[4])),\n",
        "    'прочие опасности': set(),\n",
        "}\n",
        "\n",
        "DASHBOARD_LABEL_MAP = {\n",
        "    'очень высокая температура': 'Критическое повышение температуры воздуха',\n",
        "    'очень низкая температура': 'Критическое понижение температуры воздуха',\n",
        "    'заморозки': 'Заморозки',\n",
        "    'ветер': 'Сильный ветер',\n",
        "    'дождь': 'Дождь',\n",
        "    'гроза': 'Гроза',\n",
        "    'паводок': 'Паводок, подтопление',\n",
        "    'наводнение': 'Наводнение',\n",
        "    'снег/Обледенение': 'Снегопад, метель',\n",
        "    'голеледно - изморозевые отложения': 'Гололедица',\n",
        "    'лавины': 'Оползни, обвалы, снежные лавины',\n",
        "    'сель': 'Сель',\n",
        "    'прибрежные события': 'Прибрежные события',\n",
        "    'пыльная (песчаная) буря': 'Пыльная (песчаная) буря',\n",
        "    'туман': 'Туман',\n",
        "    'пожарная опасность': 'Пожароопасная обстановка, пожары',\n",
        "    'прочие опасности': 'Прочие опасности',\n",
        "    'град': 'Град или снежный дождь'\n",
        "}\n",
        "\n",
        "FACTORS = FORCAST_MAP.keys()\n",
        "\n",
        "regions_need_to_join = {'саха',\n",
        "                        'магаданская',\n",
        "                        'ямало ненецкий ао',\n",
        "                        'камчатский край',\n",
        "                        'амурская',\n",
        "                        'хабаровский край',\n",
        "                        'чеч',\n",
        "                        'северная осетия',\n",
        "                        'красноярский',\n",
        "                        'моск'}\n",
        "\n",
        "\n",
        "def join_region(region: str) -> str:\n",
        "    if region.startswith('сахалин'):\n",
        "        return 'сахалин'\n",
        "    for reg in regions_need_to_join:\n",
        "        if region.startswith(reg):\n",
        "            return reg\n",
        "    return region\n",
        "\n",
        "\n",
        "def normolize_string(string: str):\n",
        "    string = string.strip().lower().translate({ord('.'): None})\n",
        "    string = ' '.join(string.split('-'))\n",
        "\n",
        "    # remove stop words\n",
        "    stop_words = ['г', 'обл', 'область', 'республика', 'югра', 'ао']\n",
        "    try:\n",
        "        splitted_string = string.split()\n",
        "    except IndexError:\n",
        "        return ''\n",
        "    string = ' '.join(w for w in splitted_string if w not in stop_words)\n",
        "    return join_region(string)\n",
        "\n",
        "\n",
        "def remove_interchangeable_factors(factor_desc_list: list):\n",
        "    factors_set = set()\n",
        "    prev_len_factors_set = 0\n",
        "\n",
        "    for factor_desc in factor_desc_list:\n",
        "        factor = factor_desc[0]\n",
        "        forecast = FORCAST_MAP.get(factor.lower())\n",
        "        if not forecast:\n",
        "            continue\n",
        "        factors_set.update(forecast)\n",
        "        if len(factors_set) == prev_len_factors_set:\n",
        "            factor_desc_list.remove(factor_desc)\n",
        "            return factor_desc_list\n",
        "        prev_len_factors_set = len(factors_set)\n",
        "    return factor_desc_list\n",
        "\n",
        "\n",
        "def analyze_factors(factors_desc: list):\n",
        "    final_forecasts = set()\n",
        "\n",
        "    prev_len = len(factors_desc)\n",
        "    while len(factors_desc) > SIZE:\n",
        "        factors_desc = remove_interchangeable_factors(factors_desc)\n",
        "        if len(factors_desc) == prev_len:  # If nothing has been deleted, means there is no interchangeable factors\n",
        "            factors_desc = factors_desc[:SIZE]\n",
        "        prev_len = len(factors_desc)\n",
        "\n",
        "    for factor, desc in factors_desc:\n",
        "        forecast: set = FORCAST_MAP.get(factor.lower())\n",
        "        if forecast is None:\n",
        "            print(f\"\\x1b[31mНЕИЗВЕСТНЫЙ ФАКТОР \\\"{factor}\\\"\\x1b[0m\")\n",
        "            continue\n",
        "        final_forecasts.update(forecast)\n",
        "\n",
        "    while len(final_forecasts) > SIZE:\n",
        "        final_forecasts.pop()\n",
        "\n",
        "    return final_forecasts, set(factors_desc)\n",
        "\n",
        "\n",
        "def factor_mapping(factor: str, description: str):\n",
        "    dashboard_factor = DASHBOARD_LABEL_MAP.get(factor.lower())\n",
        "    if dashboard_factor == 'Дождь':\n",
        "        for word in description.split():\n",
        "            if word.startswith('сильн') or word.startswith('лив'):\n",
        "                dashboard_factor = 'Сильный дождь, ливневой дождь'\n",
        "                break\n",
        "    return dashboard_factor\n",
        "\n",
        "def fill_excel_regions_weather(ws: Worksheet, regions: dict):\n",
        "    for row in range(2, ws.max_row + 1):\n",
        "        name = ws.cell(row=row, column=REGION_COLUMN).value\n",
        "        if not name:\n",
        "            continue\n",
        "\n",
        "        name = normolize_string(name)\n",
        "        factors_desc = regions.get(name)\n",
        "\n",
        "        if not factors_desc: # if there is no forecast for the region\n",
        "            # print(name)\n",
        "            continue\n",
        "\n",
        "        forecasts, factors_desc = analyze_factors(factors_desc)\n",
        "        for column, forecast in zip(FORECAST_COLUMNS, forecasts):\n",
        "            ws.cell(row=row, column=column).value = forecast\n",
        "\n",
        "        for column, factor_desc in zip(FACTOR_COLUMNS, factors_desc):\n",
        "            factor = factor_desc[0]\n",
        "            desc = factor_desc[1]\n",
        "            ws.cell(row=row, column=column).value = factor_mapping(factor, desc)\n",
        "\n",
        "\n",
        "def get_hazards(ws:Worksheet, url: str):\n",
        "    session = HTMLSession()\n",
        "    response = session.get(url, verify=False)\n",
        "    rows = response.html.find('#div_1', first=True).xpath('*/table/tbody/tr')\n",
        "    row_data = rows[1].xpath('//p', first=True)\n",
        "    ws['B5'].value = row_data.text\n",
        "    # print(row_data.text)\n",
        "\n",
        "\n",
        "def parse_description(factor_list: list, region_factor_desc: str):\n",
        "    for word in re.split(';|,|\\.| ', region_factor_desc):\n",
        "        # try:\n",
        "        #     factors = list(zip(*factor_list))[0]\n",
        "        # except IndexError:\n",
        "        #     factors = []\n",
        "        if (word.lower().startswith('дожд') or word.lower().startswith('лив')):\n",
        "            factor_list.append(('Дождь', region_factor_desc))\n",
        "        elif word.lower().startswith('гроз'):\n",
        "            factor_list.append(('Гроза', region_factor_desc))\n",
        "        elif word.lower().startswith('град'):\n",
        "            factor_list.append(('Град', region_factor_desc))\n",
        "        elif (word.lower().startswith('шквал') or word.lower().startswith('вет')):\n",
        "            factor_list.append(('Ветер', region_factor_desc))\n",
        "\n",
        "\n",
        "def get_regions(urls: List[str]) -> Dict:\n",
        "    # factors = defaultdict(list)\n",
        "    # descriptions = defaultdict(list)\n",
        "    regions = defaultdict(list)\n",
        "    for url in urls:\n",
        "        wd.get(url)\n",
        "        hours24_button = wd.find_element_by_id(hours_button_id)\n",
        "        hours24_button.click()\n",
        "        for row in wd.find_elements_by_xpath('//div[@class=\"test\"]'):\n",
        "            try:\n",
        "                row_data_bs = BeautifulSoup(row.get_attribute('data-original-title'),\n",
        "                                            features='lxml')\n",
        "            except:\n",
        "                print('error')\n",
        "                continue  # if raw_data is None\n",
        "            region_name = normolize_string(row_data_bs.find(class_='cl_tbl_obl_name_tooltip').text)\n",
        "            region_factor = row_data_bs.find(class_='cl_tbl_tooltip_text').find('b').text.strip('. ')\n",
        "            region_factor_desc = '.'.join(row_data_bs.find(class_='cl_tbl_tooltip_text').text.split('.')[1:]).strip()\n",
        "\n",
        "            if (region_factor == 'КМЯ' or region_factor == 'Прочие опасности'):\n",
        "                parse_description(regions[region_name], region_factor_desc)\n",
        "                # print(regions[region_name], region_factor)\n",
        "                continue\n",
        "\n",
        "            \n",
        "\n",
        "            try:\n",
        "                factors = list(zip(*regions[region_name]))[0]\n",
        "            except IndexError:\n",
        "                factors = []\n",
        "\n",
        "            if region_factor != '':\n",
        "                regions[region_name].append((region_factor, region_factor_desc))\n",
        "\n",
        "    return regions\n",
        "\n",
        "\n",
        "def fill_excel_covid_rt(ws: Worksheet):\n",
        "    obl_pattern = re.compile(r'\\bобл\\.', re.IGNORECASE)\n",
        "    ao_pattern = re.compile(r'(?<!Еврейская)\\bао\\b', re.IGNORECASE)\n",
        "    gorod_pattern = re.compile(r'\\bг\\.', re.IGNORECASE)\n",
        "    strange_pattern = re.compile(r'[—]')\n",
        "\n",
        "    url = 'https://yastat.net/s3/milab/2020/covid19-stat/data/v10/deep_data.json?v=1618916098074'\n",
        "    sheet = 'Билет по регионам'\n",
        "\n",
        "    json_dict = requests.get(url, verify=False).json()\n",
        "\n",
        "    region_rt_dict = {strange_pattern.sub('-', x['info']['name'].lower()): x['info'].get('rt') for x in json_dict['russia_stat_struct']['data'].values()}\n",
        "    region_rt_dict_short_name = {strange_pattern.sub('-', x['info']['short_name'].lower()): x['info'].get('rt') for x in json_dict['russia_stat_struct']['data'].values()}\n",
        "\n",
        "    for row in range(2, ws.max_row + 1):\n",
        "        # print(ws.cell(row=row, column=2).value)\n",
        "        key = ws.cell(row=row, column=2).value.lower()\n",
        "\n",
        "        key = obl_pattern.sub('область', key).strip()\n",
        "        key = gorod_pattern.sub('', key).strip()\n",
        "\n",
        "        value = region_rt_dict_short_name.get(key, region_rt_dict.get(ao_pattern.sub('автономный округ', key).strip()))\n",
        "\n",
        "        ws.cell(row=row, column=3).value = round(value, 2) if value else value\n",
        "\n",
        "def clear_table(ws: Worksheet):\n",
        "    for row in range(2, ws.max_row + 1):\n",
        "        for column in (FORECAST_COLUMNS + FACTOR_COLUMNS + (3,)):\n",
        "            ws.cell(row=row, column=column).value = None"
      ],
      "execution_count": 14,
      "outputs": []
    },
    {
      "cell_type": "code",
      "metadata": {
        "id": "1JvHSIm6_fME"
      },
      "source": [
        "def meteoinfo(filename: str, info: dict):\n",
        "    wb = openpyxl.load_workbook(filename)\n",
        "    ws = wb[SHEET_NAME]\n",
        "\n",
        "    clear_table(ws)\n",
        "    fill_excel_covid_rt(ws=ws)\n",
        "    regions = get_regions(urls=URLS)\n",
        "    print(regions)\n",
        "    # remove duplicate factors\n",
        "    for region in regions:\n",
        "        factors = regions[region]\n",
        "        final_list = []\n",
        "        for factor in factors:\n",
        "            try:\n",
        "                unique_factors = list(zip(*final_list))[0]\n",
        "            except:\n",
        "                unique_factors = []\n",
        "            if factor[0] not in unique_factors:\n",
        "                final_list.append(factor)\n",
        "        regions[region] = final_list\n",
        "\n",
        "\n",
        "    fill_excel_regions_weather(ws=ws, regions=regions)\n",
        "    get_hazards(wb['Обстановка в банке'], HAZARDS_URL)\n",
        "    wb['Обстановка в банке']['B7'].value = info['covid_yandex_info']\n",
        "\n",
        "    today = datetime.today().strftime(\"%d-%m-%Y\")\n",
        "    splitted_filename = filename.split('.')\n",
        "    splitted_filename[0] = f'{splitted_filename[0]}_{today}_{hours}'\n",
        "    output_file_name = '.'.join(splitted_filename)\n",
        "    wb.save(output_file_name)\n",
        "    info['files_to_download'].append(output_file_name)\n",
        "    # return output_file_name"
      ],
      "execution_count": 15,
      "outputs": []
    },
    {
      "cell_type": "markdown",
      "metadata": {
        "id": "ihavSUiW5ZSi"
      },
      "source": [
        "##main"
      ]
    },
    {
      "cell_type": "code",
      "metadata": {
        "id": "E0BGgeQZVUG0"
      },
      "source": [
        "def main(covid_russia_filename: str, pptx_filename: str, meteoinfo_filename: str):\n",
        "    # Заполнение сводки ковида по россии в xlsx файл\n",
        "    info = covid_russia_xlsx(covid_russia_filename)\n",
        "    # Заполнение правого блока второго слайда, связанного с ковидом\n",
        "    fill_pptx(pptx_filename, info)\n",
        "    # Заполнение погодных данных с meteoinfo в xlsx файл\n",
        "    meteoinfo(meteoinfo_filename, info)\n",
        "    \n",
        "    # out_file = filename.split('.')\n",
        "    # out_file[0] = f'{out_file[0]}_saved'\n",
        "    # out_file = '.'.join(out_file)\n",
        "    return info"
      ],
      "execution_count": 18,
      "outputs": []
    },
    {
      "cell_type": "markdown",
      "metadata": {
        "id": "mywhIDYNDEjr"
      },
      "source": [
        "\n",
        "# Результат"
      ]
    },
    {
      "cell_type": "code",
      "metadata": {
        "id": "PPE_spTG922b"
      },
      "source": [
        ""
      ],
      "execution_count": 18,
      "outputs": []
    },
    {
      "cell_type": "code",
      "metadata": {
        "id": "z9d0cqvGTd42",
        "colab": {
          "base_uri": "https://localhost:8080/"
        },
        "outputId": "3fb3daae-465b-460f-9a88-e731c5dee721"
      },
      "source": [
        "out_file = main(covid_russia_filename, pptx_filename, meteoinfo_filename)"
      ],
      "execution_count": 19,
      "outputs": [
        {
          "output_type": "stream",
          "text": [
            "defaultdict(<class 'list'>, {'архангельская': [('Пожарная опасность', 'Период предупреждения до 21 ч. 22 июля местами 5 класс пожароопасности (более 3000 градусов по формуле Нестерова)')], 'вологодская': [('Пожарная опасность', 'Период предупреждения до 21 ч. 22 июля местами пожароопасность 4 кл.')], 'калининградская': [], 'ленинградская': [('Ветер', 'Период предупреждения с 12 ч. 22 июля до 21 ч. 22 июля 22.07 во второй половине дня местами усиление ветра до 15-17 м/с.'), ('Пожарная опасность', 'Период предупреждения до 18 ч. 22 июля местами пожароопасность 4 класса'), ('Гроза', 'Период предупреждения с 13 ч. 22 июля до 20 ч. 22 июля 22.07 во второй половине дня местами ожидается гроза.')], 'мурманская': [], 'ненецкий': [('Пожарная опасность', 'Период предупреждения до 21 ч. 22 июля местами высокая пожароопасность 4 класса'), ('Ветер', 'Период предупреждения до 21 ч. 22 июля местами порывы 15-17 м/с, ночью и утром 22 июля на восточном побережье 17-22 м/с')], 'новая земля': [('Ветер', 'Период предупреждения до 21 ч. 22 июля местами порывы 15-20 м/с')], 'новгородская': [], 'псковская': [('Пожарная опасность', 'Период предупреждения до 00 ч. 23 июля местами чревычайная пожарная опасность')], 'карелия': [], 'коми': [('Пожарная опасность', 'Период предупреждения до 21 ч. 22 июля местами 5 класс пожароопасности (более 3000 градусов по формуле Нестерова)'), ('Гроза', 'Период предупреждения до 21 ч. 22 июля местами гроза')], 'санкт петербург': [('Ветер', 'Период предупреждения с 13 ч. 22 июля до 21 ч. 22 июля 22.07 во второй половине дня местами усиление ветра 15-17 м/с.')], 'белгородская': [('Град', 'Период предупреждения до 21 ч. 22 июля МЕСТАМИ ГРАД'), ('Ветер', 'Период предупреждения до 21 ч. 22 июля МЕСТАМИ ПОРЫВЫ ВЕТРА 15-20 М/С'), ('Гроза', 'Период предупреждения до 21 ч. 22 июля местами гроза')], 'брянская': [('Пожарная опасность', 'Период предупреждения до 03 ч. 23 июля местами высокая пожарная опасность (4 класс)')], 'владимирская': [('Пожарная опасность', 'Период предупреждения до 18 ч. 23 июля Местами чрезвычайная пожароопасность 5 класс')], 'воронежская': [('Ветер', 'Период предупреждения до 18 ч. 22 июля Местами очень сильный ветер порывами 22-27 м/с'), ('Дождь', 'Период предупреждения до 18 ч. 22 июля Местами очень сильный дождь, ливни'), ('Град', 'Период предупреждения до 18 ч. 22 июля местами град'), ('Гроза', 'Период предупреждения до 18 ч. 22 июля Местами гроза')], 'ивановская': [('Пожарная опасность', 'Период предупреждения до 03 ч. 23 июля местами чрезвычайная пожароопасность 5 класса')], 'калужская': [], 'костромская': [('Пожарная опасность', 'Период предупреждения до 00 ч. 23 июля Местами 4 и 5 класс пожароопасности')], 'курская': [('Гроза', 'Период предупреждения до 21 ч. 22 июля местами гроза')], 'липецкая': [('Град', 'Период предупреждения до 18 ч. 22 июля Местами град'), ('Ветер', 'Период предупреждения до 18 ч. 22 июля местами порывы 15-20 м/с'), ('Гроза', 'Период предупреждения до 18 ч. 22 июля местами гроза')], 'моск': [('Пожарная опасность', 'Период предупреждения до 22 ч. 23 июля местами высокая пожароопасность 4 класса')], 'орловская': [('Ветер', 'Период предупреждения до 21 ч. 22 июля Местами порывы до 16 м/с')], 'рязанская': [('Пожарная опасность', 'Период предупреждения до 21 ч. 23 июля местами чрезвычайная пожароопасность5 класса')], 'смоленская': [('Пожарная опасность', 'Период предупреждения до 12 ч. 23 июля Местами высокая')], 'тамбовская': [('Ветер', 'Период предупреждения до 18 ч. 22 июля Местами порывы до 17 м/с'), ('Гроза', 'Период предупреждения до 18 ч. 22 июля местами гроза')], 'тверская': [('Пожарная опасность', 'Период предупреждения до 12 ч. 22 июля местами высокая пожароопасность 4 класса')], 'тульская': [('Пожарная опасность', 'Период предупреждения до 23 ч. 23 июля по Алексинскому, Воловскому, Плавскому району и Туле 4 класс пожароопасности')], 'ярославская': [('Пожарная опасность', 'Период предупреждения до 10 ч. 23 июля местами чрезвычайная пожароопасность 5 класс')], 'кировская': [('Гроза', 'Период предупреждения до 00 ч. 23 июля МЕСТАМИ ГРОЗА'), ('Пожарная опасность', 'Период предупреждения до 00 ч. 23 июля местами высокая пожароопасность')], 'марий эл': [('Гроза', 'Период предупреждения до 00 ч. 23 июля местами гроза'), ('Пожарная опасность', 'Период предупреждения до 00 ч. 23 июля местами высокая пожароопасность')], 'нижегородская': [('Пожарная опасность', 'Период предупреждения до 00 ч. 23 июля местами высокая и чрезвычайная пожароопасность лесов'), ('Гроза', 'Период предупреждения до 00 ч. 23 июля местами гроза')], 'оренбургская': [('Пожарная опасность', 'Период предупреждения до 06 ч. 24 июля В период с 16.07.21г. по 22.07.21г.местами по области сохранится чрезвычайная пожарная опасность - 5 класс.'), ('Очень высокая температура', 'Период предупреждения до 20 ч. 22 июля в большинстве районов максимальная температура +30,+39°'), ('Гроза', 'Период предупреждения до 20 ч. 22 июля местами гроза'), ('Ветер', 'Период предупреждения до 20 ч. 22 июля местами порывы 15-20 м/с'), ('Дождь', 'Период предупреждения до 20 ч. 22 июля в западных районах ливни')], 'пензенская': [('Дождь', 'Период предупреждения до 18 ч. 22 июля Местами ожидается КМЯ:гроза, ливни, крупный град, шквал 20-25 м/сек, очень сильный дождь'), ('Град', 'Период предупреждения до 18 ч. 22 июля Местами ожидается КМЯ:гроза, ливни, крупный град, шквал 20-25 м/сек, очень сильный дождь'), ('Ветер', 'Период предупреждения до 18 ч. 22 июля Местами ожидается КМЯ:гроза, ливни, крупный град, шквал 20-25 м/сек, очень сильный дождь'), ('Дождь', 'Период предупреждения до 18 ч. 22 июля Местами ожидается КМЯ:гроза, ливни, крупный град, шквал 20-25 м/сек, очень сильный дождь'), ('Дождь', 'Период предупреждения до 18 ч. 22 июля Местами сильный дождь'), ('Гроза', 'Период предупреждения до 18 ч. 22 июля Местами гроза'), ('Ветер', 'Период предупреждения до 18 ч. 22 июля Местами при грозе сильный порывистый северный ветер')], 'пермский край': [('Пожарная опасность', 'Период предупреждения до 20 ч. 22 июля Местами высокая пожарная опасность (4 класс горимости леса по шкале Нестерова).'), ('Гроза', 'Период предупреждения до 20 ч. 22 июля Местами грозы.'), ('Ветер', 'Период предупреждения до 20 ч. 22 июля При грозах порывы 15-20 м/с.'), ('Дождь', 'Период предупреждения до 20 ч. 22 июля Местами ливни.')], 'башкортостан': [('Пожарная опасность', 'Период предупреждения до 20 ч. 22 июля в южных районах республики ожидается чрезвычайный класс пожароопасности'), ('Дождь', 'Период предупреждения до 20 ч. 22 июля днем локально ливни, град'), ('Ветер', 'Период предупреждения до 20 ч. 22 июля местами по республике усиление ветра 15-20 м/с'), ('Гроза', 'Период предупреждения до 20 ч. 22 июля местами грозы')], 'мордовия': [('Пожарная опасность', 'Период предупреждения до 00 ч. 23 июля местами чрезвычайная и высокая пожароопасность'), ('Дождь', 'Период предупреждения до 00 ч. 23 июля местами сильный дождь'), ('Гроза', 'Период предупреждения до 00 ч. 23 июля Местами гроза')], 'татарстан': [('Град', 'Период предупреждения до 22 ч. 22 июля Местами град.'), ('Дождь', 'Период предупреждения до 22 ч. 22 июля местами сильный дождь и ливень.'), ('Ветер', 'Период предупреждения до 22 ч. 22 июля Ветер до 15-20 м/с, ночью и в первой половине дня 22 июля локально до 24 м/с.'), ('Гроза', 'Период предупреждения до 22 ч. 22 июля Местами гроза.')], 'самарская': [('Ветер', 'Период предупреждения до 19 ч. 22 июля Местами КМЯ: шквал 25-28 м/с, ливень, гроза, град'), ('Пожарная опасность', 'Период предупреждения до 12 ч. 23 июля Местами высокая и чрезвычайная пожарная опасность'), ('Очень высокая температура', 'Период предупреждения до 22 ч. 22 июля 21-22 июля в Самарской области сохранится жара 30-35 градусов')], 'саратовская': [('Гроза', 'Период предупреждения до 19 ч. 22 июля Вечером 21.06.2021 в течении суток 22.07.2021 местами по области грозы, ливни, крупный град, шквалистое усиление ветра 23-28 м/с, местами очень сильный дождь'), ('Дождь', 'Период предупреждения до 19 ч. 22 июля Вечером 21.06.2021 в течении суток 22.07.2021 местами по области грозы, ливни, крупный град, шквалистое усиление ветра 23-28 м/с, местами очень сильный дождь'), ('Град', 'Период предупреждения до 19 ч. 22 июля Вечером 21.06.2021 в течении суток 22.07.2021 местами по области грозы, ливни, крупный град, шквалистое усиление ветра 23-28 м/с, местами очень сильный дождь'), ('Ветер', 'Период предупреждения до 19 ч. 22 июля Вечером 21.06.2021 в течении суток 22.07.2021 местами по области грозы, ливни, крупный град, шквалистое усиление ветра 23-28 м/с, местами очень сильный дождь'), ('Ветер', 'Период предупреждения до 19 ч. 22 июля Вечером 21.06.2021 в течении суток 22.07.2021 местами по области грозы, ливни, крупный град, шквалистое усиление ветра 23-28 м/с, местами очень сильный дождь'), ('Дождь', 'Период предупреждения до 19 ч. 22 июля Вечером 21.06.2021 в течении суток 22.07.2021 местами по области грозы, ливни, крупный град, шквалистое усиление ветра 23-28 м/с, местами очень сильный дождь'), ('Пожарная опасность', 'Период предупреждения до 14 ч. 23 июля В период с 20.07.2021 г. по 23.07.2021 г. ожидается чрезвычайная пожарная опасность - 5 класс.')], 'удмуртская': [('Гроза', 'Период предупреждения до 01 ч. 23 июля местами гроза')], 'ульяновская': [('Ветер', 'Период предупреждения до 19 ч. 22 июля местами при грозе шквал'), ('Дождь', 'Период предупреждения до 19 ч. 22 июля местами очень сильный дождь, сильный ливень'), ('Град', 'Период предупреждения до 19 ч. 22 июля местами град'), ('Гроза', 'Период предупреждения до 19 ч. 22 июля локально гроза')], 'чувашская': [('Гроза', 'Период предупреждения до 00 ч. 23 июля местами гроза')], 'астраханская': [('Пожарная опасность', 'Период предупреждения до 19 ч. 22 июля 20-22.07 в г. Астрахани и большинстве районов области (кроме Енотаевского и Ахтубинского) сохранится чрезвычайная пожароопасность. В Ахтубинском сохранится, в Енотаевском ожидается высокая пожароопасность.'), ('Очень высокая температура', 'Период предупреждения с 12 ч. 22 июля до 18 ч. 22 июля сильная жара 40-42 градуса'), ('Гроза', 'Период предупреждения с 13 ч. 22 июля до 19 ч. 22 июля Местами гроза, шквал 15-18 м/с')], 'волгоградская': [('Гроза', 'Период предупреждения до 18 ч. 23 июля местами гроза'), ('Ветер', 'Период предупреждения до 18 ч. 23 июля местами при грозах порывы 22-27 м/с'), ('Дождь', 'Период предупреждения до 16 ч. 23 июля местами сильные дожди, град')], 'краснодарский край': [('Атмосферная засуха, КМЯ - продолжительная засушливая погода', 'Период предупреждения до 13 ч. 23 июля Атмосферная засуха - в отдельных северных районах. КМЯ - продолжительная засушливая погода в большинстве районов.'), ('Пожарная опасность', 'Период предупреждения до 11 ч. 23 июля во второй половине дня ожидается чрезвычайная пожароопасность местами в юго-западных районах и в МО г. Краснодар, сохранится в восточной, северной половинах края и центральных районах'), ('Гроза', 'Период предупреждения до 18 ч. 23 июля Местами в крае гроза'), ('Дождь', 'Период предупреждения до 00 ч. 24 июля Местами в крае сильный дождь, град'), ('Ветер', 'Период предупреждения до 05 ч. 24 июля Местами в крае ветер с порывами 15-20 м/с')], 'крым, горные районы': [('Дождь', 'Период предупреждения до 21 ч. 22 июля местами очень сильный дождь'), ('Ветер', 'Период предупреждения до 21 ч. 22 июля северо-западный ветер 20-25 м/с'), ('Пожарная опасность', 'Период предупреждения до 21 ч. 22 июля высокая пожарная опасность'), ('Гроза', 'Период предупреждения до 21 ч. 22 июля гроза')], 'крым, предгорные районы': [('Ветер', 'Период предупреждения до 21 ч. 22 июля местами северо-западный 20-25 м/с'), ('Град', 'Период предупреждения до 21 ч. 22 июля местами крупный град'), ('Пожарная опасность', 'Период предупреждения до 21 ч. 22 июля чрезвычайная пожарная опасность (5 класс'), ('Гроза', 'Период предупреждения до 21 ч. 22 июля местами гроза')], 'крым, степные районы': [('Пожарная опасность', 'Период предупреждения до 21 ч. 22 июля чрезвычайная пожарная опасность (5 класс)'), ('Град', 'Период предупреждения до 21 ч. 22 июля крупный град'), ('Ветер', 'Период предупреждения до 21 ч. 22 июля северо-западный ветер 20-25 м/с'), ('Гроза', 'Период предупреждения до 21 ч. 22 июля местами гроза')], 'крым, южное побережье': [('Пожарная опасность', 'Период предупреждения до 21 ч. 22 июля чрезвычайная пожарная опасность'), ('Ветер', 'Период предупреждения до 21 ч. 22 июля северо-западный ветер 20-25 м/с'), ('Гроза', 'Период предупреждения до 21 ч. 22 июля местами гроза')], 'адыгея': [('Пожарная опасность', 'Период предупреждения до 18 ч. 24 июля по северным районам Адыгеи сохраняется чрезвычайная пожароопасность 5 класса (ОЯ), по центральному району ожидается чрезвычайная пожароопасность 5 класса (ОЯ), по южному району сохраняется высокая пожароопасность 4 класса (НЯ)'), ('Дождь', 'Период предупреждения с 18 ч. 22 июля до 18 ч. 23 июля местами сильный дождь'), ('Гроза', 'Период предупреждения до 18 ч. 23 июля местами гроза'), ('Град', 'Период предупреждения до 18 ч. 23 июля местами град'), ('Ветер', 'Период предупреждения до 18 ч. 23 июля местами при грозе порывы 15-20м/с')], 'калмыкия': [('Пожарная опасность', 'Период предупреждения до 18 ч. 22 июля Чрезвычайная пожарная опасность 5 класса на всей территории республики и в Элисте.'), ('Очень высокая температура', 'Период предупреждения с 12 ч. 22 июля до 18 ч. 22 июля В ПЕРИОД 12-18 ЧАСОВ 18-21 ИЮЛЯ 2021 ГОДА В КАЛМЫКИИ ОЖИДАЕТСЯ СИЛЬНАЯ ЖАРА 42-44 ГРАДУСА.'), ('Ветер', 'Период предупреждения до 18 ч. 22 июля Днем местами порывы до 18 м/с')], 'ростовская': [('Пожарная опасность', 'Период предупреждения до 17 ч. 22 июля В южных, юго-восточных, местами в северо-восточных,северо-западных, центральных районах и Приазовье чрезвычайная пожароопасность (5 класс). Местами высокая пожароопасность (4 класс).'), ('Комплекс неблагоприятных метеорологических явлений', 'Период предупреждения до 13 ч. 23 июля местами по области ожидается комплекс неблагоприятных метеорологических явлений: сильные дожди, ливни в сочетании с грозой, градом и шквалистым усилением ветра 20-24 м/с.')], 'сочи': [('Дождь', 'Период предупреждения с 11 ч. 22 июля до 23 ч. 23 июля комплекс гидрометеорологических явлений: местами сильные дожди, ливни с грозами, градом. На реках подъемы уровней воды, местами с достижением неблагоприятных отметок. Возрастает риск схода селевых потоков малого объема. Имеется опасность формирования смерчей над морем.'), ('Дождь', 'Период предупреждения с 11 ч. 22 июля до 23 ч. 23 июля комплекс гидрометеорологических явлений: местами сильные дожди, ливни с грозами, градом. На реках подъемы уровней воды, местами с достижением неблагоприятных отметок. Возрастает риск схода селевых потоков малого объема. Имеется опасность формирования смерчей над морем.'), ('Гроза', 'Период предупреждения с 11 ч. 22 июля до 23 ч. 23 июля комплекс гидрометеорологических явлений: местами сильные дожди, ливни с грозами, градом. На реках подъемы уровней воды, местами с достижением неблагоприятных отметок. Возрастает риск схода селевых потоков малого объема. Имеется опасность формирования смерчей над морем.'), ('Град', 'Период предупреждения с 11 ч. 22 июля до 23 ч. 23 июля комплекс гидрометеорологических явлений: местами сильные дожди, ливни с грозами, градом. На реках подъемы уровней воды, местами с достижением неблагоприятных отметок. Возрастает риск схода селевых потоков малого объема. Имеется опасность формирования смерчей над морем.'), ('Прибрежные события', 'Период предупреждения до 06 ч. 24 июля Высота волны 1,3-2,0 метра')], 'кабардино балкарская': [('Пожарная опасность', 'Период предупреждения до 14 ч. 23 июля в северо-восточных районах чрезвычайная пожароопасность леса'), ('Ветер', 'Период предупреждения до 06 ч. 23 июля при грозе местами усиление ветра до 15-20м/с'), ('Гроза', 'Период предупреждения до 14 ч. 23 июля местами гроза'), ('Дождь', 'Период предупреждения до 06 ч. 24 июля местами сильный дождь'), ('град', 'Период предупреждения с 11 ч. 22 июля до 19 ч. 23 июля местами град')], 'карачаево черкесская': [('Пожарная опасность', 'Период предупреждения до 18 ч. 23 июля В северных районах - чрезвычайная пожароопасность, местами-высокая пожароопасность.'), ('Дождь', 'Период предупреждения до 18 ч. 23 июля Местами сильный дождь в сочетании с грозой, градом и шквалом 20-25 м/с.'), ('Гроза', 'Период предупреждения до 18 ч. 23 июля Местами сильный дождь в сочетании с грозой, градом и шквалом 20-25 м/с.'), ('Град', 'Период предупреждения до 18 ч. 23 июля Местами сильный дождь в сочетании с грозой, градом и шквалом 20-25 м/с.'), ('Ветер', 'Период предупреждения до 18 ч. 23 июля Местами сильный дождь в сочетании с грозой, градом и шквалом 20-25 м/с.'), ('Гроза', 'Период предупреждения до 08 ч. 24 июля Местами гроза.')], 'дагестан': [('Ветер', 'Период предупреждения с 12 ч. 22 июля до 18 ч. 22 июля при грозе шквалистое усиление ветра до 18 м/с.'), ('Пожарная опасность', 'Период предупреждения до 18 ч. 22 июля По низменным, предгорным, местами по приморским районом сохранится, местами по горным районам ожидается высокая пожароопасность (4 кл.). По низменным районам сохранится чрезвычайная пожароопасность (5 кл.).'), ('Гроза', 'Период предупреждения с 12 ч. 22 июля до 18 ч. 22 июля местами грозы.')], 'ингушетия': [('Очень высокая температура', 'Период предупреждения с 13 ч. 22 июля до 18 ч. 22 июля В период 13-18 ч в Республике (исключая горные районы) ожидается сильная жара 40...42°.'), ('Пожарная опасность', 'Период предупреждения до 12 ч. 23 июля Чрезвычайная пожароопасность (5 класс) сохранится в северных районах Республики; высокая пожароопасность (4 класс) - в центральных и южных районах Республики.'), ('Град', 'Период предупреждения с 12 ч. 22 июля до 18 ч. 22 июля Местами град'), ('Ветер', 'Период предупреждения с 12 ч. 22 июля до 18 ч. 22 июля При грозе порывы 15-20 м/с'), ('Гроза', 'Период предупреждения с 12 ч. 22 июля до 18 ч. 22 июля Местами гроза'), ('Дождь', 'Период предупреждения с 12 ч. 22 июля до 18 ч. 22 июля Местами сильный дождь')], 'северная осетия': [('Пожарная опасность', 'Период предупреждения до 23 ч. 22 июля 21-22 июля в степных районай чрезвычайная пожароопсаность')], 'ставропольский край': [('Засуха почвенная под пропашными культурами, КМЯ-продолжительная засушливая погода', 'Период предупреждения до 08 ч. 24 июля В отдельных северо-западных районах отмечается засуха почвенная под пропашными. В большинстве районов края, за исключением крайних юго-западных районов, отмечается комплекс неблагоприятных метеорологических явлений - продолжительная засушливая погода: сочетание засухи атмосферной и суховейного характера погоды.'), ('Дождь', 'Период предупреждения с 11 ч. 22 июля до 00 ч. 24 июля Местами сильный дождь в сочетании с грозой, градом и шквалом 20-25 м/с.'), ('Пожарная опасность', 'Период предупреждения до 11 ч. 23 июля В большинстве районов края чрезвычайная пожароопасность (5 класс), в Предгорном районе-высокая пожароопасность (4 класс).'), ('Ветер', 'Период предупреждения до 18 ч. 23 июля При грозе порывы 15-18 м/с.'), ('Гроза', 'Период предупреждения до 18 ч. 23 июля Местами гроза.')], 'чеч': [('Очень высокая температура', 'Период предупреждения с 13 ч. 22 июля до 18 ч. 22 июля В период 13-18 ч в Республике (исключая горные районы) ожидается сильная жара 40...42°.'), ('Пожарная опасность', 'Период предупреждения до 12 ч. 23 июля Местами в северо-западных районах Республики сохранится, местами в восточных районах ожидается чрезвычайная пожароопасность (5 класс). Высокая пожароопасность (4 класс) сохранится в большинстве районов Республики.'), ('Дождь', 'Период предупреждения с 12 ч. 22 июля до 18 ч. 22 июля Местами сильный дождь'), ('Гроза', 'Период предупреждения с 12 ч. 22 июля до 18 ч. 22 июля Местами гроза'), ('Ветер', 'Период предупреждения с 12 ч. 22 июля до 18 ч. 22 июля При грозе порывы 15-20 м/с'), ('засуха почвенная под пропашными культурами, КМЯ-продолжительная засушливая погода', 'Период предупреждения до 12 ч. 23 июля В отдельных северо-западных районах отмечается засуха почвенная под подсолнечником. В отдельных центральных, отдельных приазовских, южных, отдельных юго-восточных районах Ростовской области отмечается комплекс неблагоприятных метеорологических явлений - продолжительная засушливая погода: сочетание засухи атмосферной и суховейного характера погоды.')], 'курганская': [('Пожарная опасность', 'Период предупреждения до 20 ч. 22 июля Местами ожидается высокая пожарная опасность (4 класс горимости леса по шкале Нестерова).'), ('Гроза', 'Период предупреждения до 20 ч. 22 июля Местами грозы.')], 'свердловская': [('Пожарная опасность', 'Период предупреждения до 20 ч. 22 июля В отдельных районах области сохраняется высокая пожарная опасность, местами на севере области сохраняется чрезвычайная пожарная опасность (4 и 5 класс горимости леса по региональной шкале)'), ('Дождь', 'Период предупреждения до 20 ч. 22 июля В горах местами сильный дождь.'), ('Гроза', 'Период предупреждения до 20 ч. 22 июля Местами грозы, град'), ('Ветер', 'Период предупреждения до 20 ч. 22 июля При грозах порывы 15-17 м/с.')], 'тюменская': [('Гроза', 'Период предупреждения до 20 ч. 23 июля местами грозы'), ('Ветер', 'Период предупреждения до 20 ч. 22 июля при грозе порывы до 17 м/с')], 'ханты мансийский': [('Гроза', 'Период предупреждения до 12 ч. 23 июля местами')], 'челябинская': [('Очень высокая температура', 'Период предупреждения до 18 ч. 22 июля Во второй половине дня местами ожидается сильная жара с максимальными температурами воздуха 36-37°.'), ('Пожарная опасность', 'Период предупреждения до 20 ч. 22 июля Местами на юго-западе области сохраняется высокая пожарная опасность (4 класс горимости леса по региональной шкале)'), ('Гроза', 'Период предупреждения до 20 ч. 22 июля Местами грозы.')], 'ямало ненецкий ао': [('Ветер', 'Период предупреждения до 23 ч. 22 июля местами порывы 15-20 м/с'), ('Гроза', 'Период предупреждения до 23 ч. 22 июля местами гроза'), ('Гроза', 'Период предупреждения до 20 ч. 22 июля Местами гроза.'), ('Ветер', 'Период предупреждения до 20 ч. 22 июля В отдельных районах порывы 15-20 м/с.')], 'алтайский край': [('Пожарная опасность', 'Период предупреждения до 12 ч. 24 июля В Тогульском районе чрезвычайная пожароопасность (5 класс горимости)'), ('Очень высокая температура', 'Период предупреждения до 12 ч. 24 июля местами +30 гр. и выше'), ('Гроза', 'Период предупреждения до 12 ч. 24 июля Местами грозы')], 'иркутская': [('Пожарная опасность', 'Период предупреждения с 20 ч. 22 июля до 20 ч. 24 июля 23-25 июля местами по области ожидается высокая 4 класса и чрезвычайная 5 класса пожароопасность лесов.'), ('Дождь', 'Период предупреждения с 20 ч. 22 июля до 08 ч. 23 июля 23 июля ночью в Катангском, Киренском районах местами ожидаются сильные дожди, грозы.'), ('Гроза', 'Период предупреждения до 20 ч. 23 июля 22-23 июля местами по области грозы')], 'кемеровская': [('Очень высокая температура', 'Период предупреждения до 22 ч. 24 июля местами ожидается аномально-жаркая погода с температурами +30 С и выше')], 'красноярский': [('Туман', 'Период предупреждения до 01 ч. 23 июля местами туман'), ('Ветер', 'Период предупреждения до 19 ч. 23 июля порывы южного ветра 17-22 м/с'), ('Гроза', 'Период предупреждения до 19 ч. 22 июля на севере местами грозы'), ('Ветер', 'Период предупреждения до 19 ч. 22 июля на севере местами порывы юго-западного ветра 15-18 м/с'), ('Туман', 'Период предупреждения с 19 ч. 22 июля до 07 ч. 23 июля местами туман'), ('Гроза', 'Период предупреждения с 19 ч. 22 июля до 19 ч. 23 июля на севере местами грозы'), ('Туман', 'Период предупреждения с 19 ч. 22 июля до 07 ч. 23 июля местами туман'), ('Гроза', 'Период предупреждения до 19 ч. 23 июля местами грозы'), ('Гроза', 'Период предупреждения до 19 ч. 23 июля местами грозы'), ('Очень высокая температура', 'Период предупреждения до 19 ч. 22 июля температура воздуха до +30гр.'), ('Туман', 'Период предупреждения с 19 ч. 22 июля до 07 ч. 23 июля местами туман')], 'новосибирская': [('Туман', 'Период предупреждения с 19 ч. 22 июля до 10 ч. 23 июля местами туманы'), ('Пожарная опасность', 'Период предупреждения с 00 ч. 23 июля до 00 ч. 25 июля местами высокая пожароопасность (4 класса)'), ('Очень высокая температура', 'Период предупреждения до 12 ч. 24 июля местами ожидается аномально-жаркая погода с температурами +30 С и выше')], 'омская': [], 'алтай': [('Гроза', 'Период предупреждения до 12 ч. 23 июля местами грозы')], 'тыва': [('Ветер', 'Период предупреждения с 19 ч. 22 июля до 19 ч. 23 июля при грозах шквалистые усиления ветра 15-20 м/с, местами до 25 м/с'), ('Очень высокая температура', 'Период предупреждения до 19 ч. 22 июля температура воздуха +30,+35°'), ('Дождь', 'Период предупреждения с 19 ч. 22 июля до 19 ч. 23 июля местами сильные и очень сильные дожди, сильные ливни'), ('Град', 'Период предупреждения с 19 ч. 22 июля до 19 ч. 23 июля град, местами крупный град'), ('Град', 'Период предупреждения с 19 ч. 22 июля до 19 ч. 23 июля град, местами крупный град'), ('Пожарная опасность', 'Период предупреждения до 12 ч. 24 июля местами высокая пожарная опасность 4 класса'), ('Гроза', 'Период предупреждения до 19 ч. 23 июля местами грозы')], 'хакасия': [('Туман', 'Период предупреждения с 19 ч. 22 июля до 07 ч. 23 июля местами туман'), ('Очень высокая температура', 'Период предупреждения до 19 ч. 22 июля температура воздуха до +30гр.'), ('Гроза', 'Период предупреждения до 19 ч. 23 июля грозы'), ('Ветер', 'Период предупреждения до 19 ч. 23 июля при грозах шквалистые усиления ветра 15-18 м/с')], 'томская': [], 'амурская': [('Дождь', 'Период предупреждения с 21 ч. 22 июля до 21 ч. 23 июля местами сильные дожди, очень сильные дожди и сильные ливни'), ('Туман', 'Период предупреждения с 21 ч. 22 июля до 09 ч. 23 июля местами туман'), ('Ветер', 'Период предупреждения с 21 ч. 22 июля до 21 ч. 23 июля местами порывы ветра до 15-18 м/с'), ('Дождь', 'Период предупреждения до 21 ч. 22 июля На северо-западе (Тындинский, Сковородинский районы) местами ливни.'), ('Гроза', 'Период предупреждения до 21 ч. 23 июля местами грозы'), ('Туман', 'Период предупреждения с 21 ч. 22 июля до 09 ч. 23 июля местами туман'), ('Ветер', 'Период предупреждения с 21 ч. 22 июля до 21 ч. 23 июля местами порывы ветра до 15-18 м/с'), ('Гроза', 'Период предупреждения с 21 ч. 22 июля до 21 ч. 23 июля местами грозы'), ('Дождь', 'Период предупреждения с 21 ч. 22 июля до 21 ч. 23 июля местами сильные дожди')], 'еврейская': [], 'забайкальский край': [('Дождь', 'Период предупреждения до 21 ч. 23 июля по восточной половине края местами очень сильные дожди, сильные ливни.'), ('Град', 'Период предупреждения до 21 ч. 22 июля Местами град'), ('Ветер', 'Период предупреждения до 21 ч. 23 июля местами по краю порывы 15-18 м/с.'), ('Гроза', 'Период предупреждения до 21 ч. 23 июля Местами грозы.'), ('Пожарная опасность', 'Период предупреждения до 21 ч. 22 июля в сретенском районе 4 класс пожароопасности')], 'камчатский край': [], 'курильские острова, север': [], 'курильские острова, юг': [('Туман', 'Период предупреждения до 20 ч. 23 июля местами')], 'магаданская': [('Пожарная опасность', 'Период предупреждения до 20 ч. 22 июля Местами в континентальных районах области сохраняется высокая пожарная опасность.'), ('Дождь', 'Период предупреждения с 20 ч. 22 июля до 20 ч. 23 июля Местами в континентальных районах области ожидается сильный дождь.'), ('Дождь', 'Период предупреждения до 08 ч. 23 июля Местами на Охотском побережье ожидается сильный дождь.')], 'приморский край': [('Гроза', 'Период предупреждения до 01 ч. 24 июля местами гроза'), ('Пожарная опасность', 'Период предупреждения до 22 ч. 23 июля Местами 4 класс')], 'бурятия': [('Пожарная опасность', 'Период предупреждения до 20 ч. 23 июля 22-23 июля высокая пожарная опасность – 4 класс в Окинском районе'), ('Гроза', 'Период предупреждения до 20 ч. 22 июля днем местами грозы')], 'саха': [('Пожарная опасность', 'Период предупреждения до 13 ч. 24 июля чрезвычайно высокий 5 класс в Томпонском, Оймяконском районах'), ('Гроза', 'Период предупреждения до 14 ч. 23 июля местами грозы'), ('Дождь', 'Период предупреждения до 14 ч. 23 июля днем местами ливни'), ('Пожарная опасность', 'Период предупреждения до 13 ч. 24 июля чрезвычайно высокмй 5 класс в Мирнинском районе'), ('Гроза', 'Период предупреждения до 14 ч. 23 июля в Мирнинском, Сунтарском, Нюрбинском, Ленском местами грозы'), ('Пожарная опасность', 'Период предупреждения до 15 ч. 23 июля чрезвычайно высокий 5 класс в Намском, Горном, Усть-Алданском районах'), ('Дождь', 'Период предупреждения до 13 ч. 24 июля днем местами сильные дожди'), ('Гроза', 'Период предупреждения до 14 ч. 23 июля днем местами гроза')], 'сахалин': [('Пожарная опасность', 'Период предупреждения до 20 ч. 23 июля в Смирныховском районе высокая пожарная опасность'), ('Пожарная опасность', 'Период предупреждения до 20 ч. 23 июля В Долинском, Анивском районах и в г. Южно-Сахалинск ожидается высокая пожарная опасность.')], 'хабаровский край': [], 'чукотский': [('Туман', 'Период предупреждения с 21 ч. 22 июля до 21 ч. 23 июля на побережье местами ночью, утром туман'), ('Ветер', 'Период предупреждения до 21 ч. 23 июля на побережье Чукотского моря порывы 15-20 м/с')]})\n",
            "\u001b[31mНЕИЗВЕСТНЫЙ ФАКТОР \"Комплекс неблагоприятных метеорологических явлений\"\u001b[0m\n",
            "\u001b[31mНЕИЗВЕСТНЫЙ ФАКТОР \"Атмосферная засуха, КМЯ - продолжительная засушливая погода\"\u001b[0m\n",
            "\u001b[31mНЕИЗВЕСТНЫЙ ФАКТОР \"Засуха почвенная под пропашными культурами, КМЯ-продолжительная засушливая погода\"\u001b[0m\n",
            "\u001b[31mНЕИЗВЕСТНЫЙ ФАКТОР \"засуха почвенная под пропашными культурами, КМЯ-продолжительная засушливая погода\"\u001b[0m\n"
          ],
          "name": "stdout"
        }
      ]
    },
    {
      "cell_type": "code",
      "metadata": {
        "colab": {
          "base_uri": "https://localhost:8080/",
          "height": 17
        },
        "id": "ZDblKmjiOrR7",
        "outputId": "238e1605-e981-4c58-c546-c90a81562f49"
      },
      "source": [
        "for filename in out_file['files_to_download']:\n",
        "    files.download(filename)"
      ],
      "execution_count": 21,
      "outputs": [
        {
          "output_type": "display_data",
          "data": {
            "application/javascript": [
              "\n",
              "    async function download(id, filename, size) {\n",
              "      if (!google.colab.kernel.accessAllowed) {\n",
              "        return;\n",
              "      }\n",
              "      const div = document.createElement('div');\n",
              "      const label = document.createElement('label');\n",
              "      label.textContent = `Downloading \"${filename}\": `;\n",
              "      div.appendChild(label);\n",
              "      const progress = document.createElement('progress');\n",
              "      progress.max = size;\n",
              "      div.appendChild(progress);\n",
              "      document.body.appendChild(div);\n",
              "\n",
              "      const buffers = [];\n",
              "      let downloaded = 0;\n",
              "\n",
              "      const channel = await google.colab.kernel.comms.open(id);\n",
              "      // Send a message to notify the kernel that we're ready.\n",
              "      channel.send({})\n",
              "\n",
              "      for await (const message of channel.messages) {\n",
              "        // Send a message to notify the kernel that we're ready.\n",
              "        channel.send({})\n",
              "        if (message.buffers) {\n",
              "          for (const buffer of message.buffers) {\n",
              "            buffers.push(buffer);\n",
              "            downloaded += buffer.byteLength;\n",
              "            progress.value = downloaded;\n",
              "          }\n",
              "        }\n",
              "      }\n",
              "      const blob = new Blob(buffers, {type: 'application/binary'});\n",
              "      const a = document.createElement('a');\n",
              "      a.href = window.URL.createObjectURL(blob);\n",
              "      a.download = filename;\n",
              "      div.appendChild(a);\n",
              "      a.click();\n",
              "      div.remove();\n",
              "    }\n",
              "  "
            ],
            "text/plain": [
              "<IPython.core.display.Javascript object>"
            ]
          },
          "metadata": {
            "tags": []
          }
        },
        {
          "output_type": "display_data",
          "data": {
            "application/javascript": [
              "download(\"download_fa9492cf-3a24-49bb-bec8-5bbe917f9173\", \"russia_regions_outxlsx\", 2319558)"
            ],
            "text/plain": [
              "<IPython.core.display.Javascript object>"
            ]
          },
          "metadata": {
            "tags": []
          }
        },
        {
          "output_type": "display_data",
          "data": {
            "application/javascript": [
              "\n",
              "    async function download(id, filename, size) {\n",
              "      if (!google.colab.kernel.accessAllowed) {\n",
              "        return;\n",
              "      }\n",
              "      const div = document.createElement('div');\n",
              "      const label = document.createElement('label');\n",
              "      label.textContent = `Downloading \"${filename}\": `;\n",
              "      div.appendChild(label);\n",
              "      const progress = document.createElement('progress');\n",
              "      progress.max = size;\n",
              "      div.appendChild(progress);\n",
              "      document.body.appendChild(div);\n",
              "\n",
              "      const buffers = [];\n",
              "      let downloaded = 0;\n",
              "\n",
              "      const channel = await google.colab.kernel.comms.open(id);\n",
              "      // Send a message to notify the kernel that we're ready.\n",
              "      channel.send({})\n",
              "\n",
              "      for await (const message of channel.messages) {\n",
              "        // Send a message to notify the kernel that we're ready.\n",
              "        channel.send({})\n",
              "        if (message.buffers) {\n",
              "          for (const buffer of message.buffers) {\n",
              "            buffers.push(buffer);\n",
              "            downloaded += buffer.byteLength;\n",
              "            progress.value = downloaded;\n",
              "          }\n",
              "        }\n",
              "      }\n",
              "      const blob = new Blob(buffers, {type: 'application/binary'});\n",
              "      const a = document.createElement('a');\n",
              "      a.href = window.URL.createObjectURL(blob);\n",
              "      a.download = filename;\n",
              "      div.appendChild(a);\n",
              "      a.click();\n",
              "      div.remove();\n",
              "    }\n",
              "  "
            ],
            "text/plain": [
              "<IPython.core.display.Javascript object>"
            ]
          },
          "metadata": {
            "tags": []
          }
        },
        {
          "output_type": "display_data",
          "data": {
            "application/javascript": [
              "download(\"download_75d9c05e-6647-4d4c-bd68-326ca61ee332\", \"13_outpptx\", 6312031)"
            ],
            "text/plain": [
              "<IPython.core.display.Javascript object>"
            ]
          },
          "metadata": {
            "tags": []
          }
        },
        {
          "output_type": "display_data",
          "data": {
            "application/javascript": [
              "\n",
              "    async function download(id, filename, size) {\n",
              "      if (!google.colab.kernel.accessAllowed) {\n",
              "        return;\n",
              "      }\n",
              "      const div = document.createElement('div');\n",
              "      const label = document.createElement('label');\n",
              "      label.textContent = `Downloading \"${filename}\": `;\n",
              "      div.appendChild(label);\n",
              "      const progress = document.createElement('progress');\n",
              "      progress.max = size;\n",
              "      div.appendChild(progress);\n",
              "      document.body.appendChild(div);\n",
              "\n",
              "      const buffers = [];\n",
              "      let downloaded = 0;\n",
              "\n",
              "      const channel = await google.colab.kernel.comms.open(id);\n",
              "      // Send a message to notify the kernel that we're ready.\n",
              "      channel.send({})\n",
              "\n",
              "      for await (const message of channel.messages) {\n",
              "        // Send a message to notify the kernel that we're ready.\n",
              "        channel.send({})\n",
              "        if (message.buffers) {\n",
              "          for (const buffer of message.buffers) {\n",
              "            buffers.push(buffer);\n",
              "            downloaded += buffer.byteLength;\n",
              "            progress.value = downloaded;\n",
              "          }\n",
              "        }\n",
              "      }\n",
              "      const blob = new Blob(buffers, {type: 'application/binary'});\n",
              "      const a = document.createElement('a');\n",
              "      a.href = window.URL.createObjectURL(blob);\n",
              "      a.download = filename;\n",
              "      div.appendChild(a);\n",
              "      a.click();\n",
              "      div.remove();\n",
              "    }\n",
              "  "
            ],
            "text/plain": [
              "<IPython.core.display.Javascript object>"
            ]
          },
          "metadata": {
            "tags": []
          }
        },
        {
          "output_type": "display_data",
          "data": {
            "application/javascript": [
              "download(\"download_83918cfd-5431-4783-9307-71a550650dae\", \"rt_template_22-07-2021_12.xlsx\", 23680)"
            ],
            "text/plain": [
              "<IPython.core.display.Javascript object>"
            ]
          },
          "metadata": {
            "tags": []
          }
        }
      ]
    },
    {
      "cell_type": "code",
      "metadata": {
        "id": "NP77xzFs-wO8"
      },
      "source": [
        ""
      ],
      "execution_count": null,
      "outputs": []
    }
  ]
}