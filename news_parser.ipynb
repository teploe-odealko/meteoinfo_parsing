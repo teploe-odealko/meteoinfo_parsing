{
  "nbformat": 4,
  "nbformat_minor": 0,
  "metadata": {
    "colab": {
      "name": "news_parser",
      "provenance": [],
      "collapsed_sections": [
        "_VZtAxabZt7L",
        "9tFFSwo6cz5T",
        "vEh_QrVcAEy2"
      ],
      "authorship_tag": "ABX9TyPezTdo03fu+U/8FoyXXR1h",
      "include_colab_link": true
    },
    "kernelspec": {
      "name": "python3",
      "display_name": "Python 3"
    },
    "language_info": {
      "name": "python"
    }
  },
  "cells": [
    {
      "cell_type": "markdown",
      "metadata": {
        "id": "view-in-github",
        "colab_type": "text"
      },
      "source": [
        "<a href=\"https://colab.research.google.com/github/teploe-odealko/meteoinfo_parsing/blob/main/news_parser.ipynb\" target=\"_parent\"><img src=\"https://colab.research.google.com/assets/colab-badge.svg\" alt=\"Open In Colab\"/></a>"
      ]
    },
    {
      "cell_type": "markdown",
      "metadata": {
        "id": "vEh_QrVcAEy2"
      },
      "source": [
        "# Сводка word"
      ]
    },
    {
      "cell_type": "code",
      "metadata": {
        "colab": {
          "base_uri": "https://localhost:8080/"
        },
        "id": "uKM4c7uuCLHR",
        "outputId": "06d35403-39fd-4f32-8fc9-3a38f65a27b9"
      },
      "source": [
        "!pip install python-docx\n",
        "!pip install html2text"
      ],
      "execution_count": 1,
      "outputs": [
        {
          "output_type": "stream",
          "text": [
            "Collecting python-docx\n",
            "  Downloading python-docx-0.8.11.tar.gz (5.6 MB)\n",
            "\u001b[K     |████████████████████████████████| 5.6 MB 6.4 MB/s \n",
            "\u001b[?25hRequirement already satisfied: lxml>=2.3.2 in /usr/local/lib/python3.7/dist-packages (from python-docx) (4.2.6)\n",
            "Building wheels for collected packages: python-docx\n",
            "  Building wheel for python-docx (setup.py) ... \u001b[?25l\u001b[?25hdone\n",
            "  Created wheel for python-docx: filename=python_docx-0.8.11-py3-none-any.whl size=184507 sha256=cfb689c31c5bd85ca81fe2608af8a8b1324ee0aef88243346a88be69b70a0a55\n",
            "  Stored in directory: /root/.cache/pip/wheels/f6/6f/b9/d798122a8b55b74ad30b5f52b01482169b445fbb84a11797a6\n",
            "Successfully built python-docx\n",
            "Installing collected packages: python-docx\n",
            "Successfully installed python-docx-0.8.11\n"
          ],
          "name": "stdout"
        }
      ]
    },
    {
      "cell_type": "code",
      "metadata": {
        "colab": {
          "base_uri": "https://localhost:8080/"
        },
        "id": "-rc0vFbtT1Yp",
        "outputId": "a426b3a6-bf6a-487f-e693-51f47403203d"
      },
      "source": [
        "!pip install selenium\n",
        "!apt-get update # to update ubuntu to correctly run apt install\n",
        "!apt install chromium-chromedriver\n",
        "!cp /usr/lib/chromium-browser/chromedriver /usr/bin\n",
        "import sys\n",
        "sys.path.insert(0,'/usr/lib/chromium-browser/chromedriver')\n",
        "from selenium import webdriver"
      ],
      "execution_count": 5,
      "outputs": [
        {
          "output_type": "stream",
          "text": [
            "Selecting previously unselected package chromium-codecs-ffmpeg-extra.\n",
            "(Reading database ... 160837 files and directories currently installed.)\n",
            "Preparing to unpack .../chromium-codecs-ffmpeg-extra_91.0.4472.101-0ubuntu0.18.04.1_amd64.deb ...\n",
            "Unpacking chromium-codecs-ffmpeg-extra (91.0.4472.101-0ubuntu0.18.04.1) ...\n",
            "Selecting previously unselected package chromium-browser.\n",
            "Preparing to unpack .../chromium-browser_91.0.4472.101-0ubuntu0.18.04.1_amd64.deb ...\n",
            "Unpacking chromium-browser (91.0.4472.101-0ubuntu0.18.04.1) ...\n",
            "Selecting previously unselected package chromium-browser-l10n.\n",
            "Preparing to unpack .../chromium-browser-l10n_91.0.4472.101-0ubuntu0.18.04.1_all.deb ...\n",
            "Unpacking chromium-browser-l10n (91.0.4472.101-0ubuntu0.18.04.1) ...\n",
            "Selecting previously unselected package chromium-chromedriver.\n",
            "Preparing to unpack .../chromium-chromedriver_91.0.4472.101-0ubuntu0.18.04.1_amd64.deb ...\n",
            "Unpacking chromium-chromedriver (91.0.4472.101-0ubuntu0.18.04.1) ...\n",
            "Setting up chromium-codecs-ffmpeg-extra (91.0.4472.101-0ubuntu0.18.04.1) ...\n",
            "Setting up chromium-browser (91.0.4472.101-0ubuntu0.18.04.1) ...\n",
            "update-alternatives: using /usr/bin/chromium-browser to provide /usr/bin/x-www-browser (x-www-browser) in auto mode\n",
            "update-alternatives: using /usr/bin/chromium-browser to provide /usr/bin/gnome-www-browser (gnome-www-browser) in auto mode\n",
            "Setting up chromium-chromedriver (91.0.4472.101-0ubuntu0.18.04.1) ...\n",
            "Setting up chromium-browser-l10n (91.0.4472.101-0ubuntu0.18.04.1) ...\n",
            "Processing triggers for man-db (2.8.3-2ubuntu0.1) ...\n",
            "Processing triggers for hicolor-icon-theme (0.17-2) ...\n",
            "Processing triggers for mime-support (3.60ubuntu1) ...\n",
            "Processing triggers for libc-bin (2.27-3ubuntu1.2) ...\n",
            "/sbin/ldconfig.real: /usr/local/lib/python3.7/dist-packages/ideep4py/lib/libmkldnn.so.0 is not a symbolic link\n",
            "\n",
            "cp: '/usr/lib/chromium-browser/chromedriver' and '/usr/bin/chromedriver' are the same file\n"
          ],
          "name": "stdout"
        }
      ]
    },
    {
      "cell_type": "code",
      "metadata": {
        "colab": {
          "base_uri": "https://localhost:8080/"
        },
        "id": "fTFK_hlOEutO",
        "outputId": "50480bfa-34b2-455c-f7e5-310248565de8"
      },
      "source": [
        "chrome_options = webdriver.ChromeOptions()\n",
        "chrome_options.add_argument('--headless')\n",
        "chrome_options.add_argument('--no-sandbox')\n",
        "chrome_options.add_argument('--disable-dev-shm-usage')\n",
        "wd = webdriver.Chrome('chromedriver',chrome_options=chrome_options)"
      ],
      "execution_count": 6,
      "outputs": [
        {
          "output_type": "stream",
          "text": [
            "/usr/local/lib/python3.7/dist-packages/ipykernel_launcher.py:5: DeprecationWarning: use options instead of chrome_options\n",
            "  \"\"\"\n"
          ],
          "name": "stderr"
        }
      ]
    },
    {
      "cell_type": "code",
      "metadata": {
        "id": "kOvBFvPVZ-Aj"
      },
      "source": [
        "import html2text"
      ],
      "execution_count": 7,
      "outputs": []
    },
    {
      "cell_type": "code",
      "metadata": {
        "id": "TuPGnAfdT8kI"
      },
      "source": [
        "RBC_URL = 'https://www.rbc.ru/story/5e2881539a794724ab627caa'\n",
        "wd.get(RBC_URL)\n",
        "news_links = wd.find_elements_by_xpath(\"//a[@class='item__link']\")\n",
        "headers = wd.find_elements_by_xpath(\"//span[@class='item__title rm-cm-item-text']\")\n",
        "\n",
        "for i, header in enumerate(headers):\n",
        "    try:\n",
        "        if ' о пандемии на' in header.text.split('.')[1]:\n",
        "            break\n",
        "    except IndexError:\n",
        "        continue\n",
        "\n",
        "news_links[i].click()\n",
        "elem = wd.find_element_by_xpath(\"//*\")\n",
        "source_code = elem.get_attribute(\"outerHTML\")\n",
        "\n",
        "h = html2text.HTML2Text()\n",
        "h.ignore_links = True\n",
        "source_text = h.handle(source_code)\n",
        "rbc_news = [s[4:] for s in source_text.split('\\n') if s.startswith('  * ')]"
      ],
      "execution_count": 20,
      "outputs": []
    },
    {
      "cell_type": "code",
      "metadata": {
        "id": "k8M9x5HOUeZ4"
      },
      "source": [
        "STOPCORONA_URL = 'https://стопкоронавирус.рф/news/'\n",
        "wd.get(STOPCORONA_URL)\n",
        "\n",
        "stopcorona_headers_elements = wd.find_elements_by_xpath(\"//div[@class='cv-news-page__news-list-item']//h2\")\n",
        "stopcorona_headers = [header.text for header in stopcorona_headers_elements]\n"
      ],
      "execution_count": 9,
      "outputs": []
    },
    {
      "cell_type": "code",
      "metadata": {
        "id": "T8BJ3ymcUegU"
      },
      "source": [
        "STOPCORONA_URL_BUISNESS = 'https://стопкоронавирус.рф/news/?tags=1'\n",
        "wd.get(STOPCORONA_URL_BUISNESS)\n",
        "\n",
        "stopcorona_headers_elements = wd.find_elements_by_xpath(\"//div[@class='cv-news-page__news-list-item']//h2\")\n",
        "stopcorona_headers_buisness = [header.text for header in stopcorona_headers_elements]\n"
      ],
      "execution_count": 10,
      "outputs": []
    },
    {
      "cell_type": "code",
      "metadata": {
        "id": "VMS-FJJ9UevR"
      },
      "source": [
        "YANDEX_URL = 'https://yandex.ru/news/rubric/koronavirus'\n",
        "wd.get(YANDEX_URL)\n",
        "\n",
        "stopcorona_headers_elements = wd.find_elements_by_xpath(\"//div[@class='mg-card__annotation']\")\n",
        "yandex_annotation = [header.text for header in stopcorona_headers_elements if header.text != '']\n"
      ],
      "execution_count": 11,
      "outputs": []
    },
    {
      "cell_type": "code",
      "metadata": {
        "id": "aLl5YCcMVYNf"
      },
      "source": [
        "def paragraph_news(doc):\n",
        "    doc.add_paragraph('Справочно')\n",
        "    p = doc.add_paragraph()\n",
        "    runner = p.add_run('РБК')\n",
        "    runner.bold = True\n",
        "    for news in rbc_news:\n",
        "        doc.add_paragraph(news, style='List Bullet')\n",
        "\n",
        "    p = doc.add_paragraph()\n",
        "    runner = p.add_run('Стопкоронавирус')\n",
        "    runner.bold = True\n",
        "    for news in stopcorona_headers[:10]:\n",
        "        doc.add_paragraph(news, style='List Bullet')\n",
        "\n",
        "    p = doc.add_paragraph()\n",
        "    runner = p.add_run('Стопкоронавирус по тегу \"бизнесу\"')\n",
        "    runner.bold = True\n",
        "    for news in stopcorona_headers_buisness[:10]:\n",
        "        doc.add_paragraph(news, style='List Bullet')\n",
        "\n",
        "    p = doc.add_paragraph()\n",
        "    runner = p.add_run('Яндекс')\n",
        "    runner.bold = True\n",
        "    for news in yandex_annotation[:10]:\n",
        "        doc.add_paragraph(news, style='List Bullet')"
      ],
      "execution_count": 12,
      "outputs": []
    },
    {
      "cell_type": "code",
      "metadata": {
        "id": "5fohDbMYpvtO"
      },
      "source": [
        "import docx\n",
        "from docx.shared import RGBColor\n",
        "doc = docx.Document()\n",
        "\n",
        "paragraph_news(doc)\n",
        "doc.save('новости.docx')\n"
      ],
      "execution_count": 22,
      "outputs": []
    },
    {
      "cell_type": "code",
      "metadata": {
        "id": "Qzw5kl0Fj0oY"
      },
      "source": [
        ""
      ],
      "execution_count": 13,
      "outputs": []
    },
    {
      "cell_type": "markdown",
      "metadata": {
        "id": "4eoM7yIEj076"
      },
      "source": [
        "# Результат"
      ]
    },
    {
      "cell_type": "code",
      "metadata": {
        "id": "knUSd1HvE-ar"
      },
      "source": [
        "from google.colab import files\n"
      ],
      "execution_count": 23,
      "outputs": []
    },
    {
      "cell_type": "code",
      "metadata": {
        "id": "c9hREf9Mqkzn",
        "colab": {
          "base_uri": "https://localhost:8080/",
          "height": 17
        },
        "outputId": "1ccff4b3-0704-44a0-f99b-a243cc7c4384"
      },
      "source": [
        "files.download('новости.docx')"
      ],
      "execution_count": 24,
      "outputs": [
        {
          "output_type": "display_data",
          "data": {
            "application/javascript": [
              "\n",
              "    async function download(id, filename, size) {\n",
              "      if (!google.colab.kernel.accessAllowed) {\n",
              "        return;\n",
              "      }\n",
              "      const div = document.createElement('div');\n",
              "      const label = document.createElement('label');\n",
              "      label.textContent = `Downloading \"${filename}\": `;\n",
              "      div.appendChild(label);\n",
              "      const progress = document.createElement('progress');\n",
              "      progress.max = size;\n",
              "      div.appendChild(progress);\n",
              "      document.body.appendChild(div);\n",
              "\n",
              "      const buffers = [];\n",
              "      let downloaded = 0;\n",
              "\n",
              "      const channel = await google.colab.kernel.comms.open(id);\n",
              "      // Send a message to notify the kernel that we're ready.\n",
              "      channel.send({})\n",
              "\n",
              "      for await (const message of channel.messages) {\n",
              "        // Send a message to notify the kernel that we're ready.\n",
              "        channel.send({})\n",
              "        if (message.buffers) {\n",
              "          for (const buffer of message.buffers) {\n",
              "            buffers.push(buffer);\n",
              "            downloaded += buffer.byteLength;\n",
              "            progress.value = downloaded;\n",
              "          }\n",
              "        }\n",
              "      }\n",
              "      const blob = new Blob(buffers, {type: 'application/binary'});\n",
              "      const a = document.createElement('a');\n",
              "      a.href = window.URL.createObjectURL(blob);\n",
              "      a.download = filename;\n",
              "      div.appendChild(a);\n",
              "      a.click();\n",
              "      div.remove();\n",
              "    }\n",
              "  "
            ],
            "text/plain": [
              "<IPython.core.display.Javascript object>"
            ]
          },
          "metadata": {
            "tags": []
          }
        },
        {
          "output_type": "display_data",
          "data": {
            "application/javascript": [
              "download(\"download_a0f588e4-56b3-4cf6-a6ab-74e45a3f5de4\", \"\\u043d\\u043e\\u0432\\u043e\\u0441\\u0442\\u0438.docx\", 40422)"
            ],
            "text/plain": [
              "<IPython.core.display.Javascript object>"
            ]
          },
          "metadata": {
            "tags": []
          }
        }
      ]
    }
  ]
}