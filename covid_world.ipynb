{
  "nbformat": 4,
  "nbformat_minor": 0,
  "metadata": {
    "colab": {
      "name": "covid_world.ipynb",
      "provenance": [],
      "collapsed_sections": [
        "_VZtAxabZt7L",
        "9tFFSwo6cz5T"
      ],
      "authorship_tag": "ABX9TyNqjWxQA+g8NTkGG7jqXpSu",
      "include_colab_link": true
    },
    "kernelspec": {
      "name": "python3",
      "display_name": "Python 3"
    },
    "language_info": {
      "name": "python"
    }
  },
  "cells": [
    {
      "cell_type": "markdown",
      "metadata": {
        "id": "view-in-github",
        "colab_type": "text"
      },
      "source": [
        "<a href=\"https://colab.research.google.com/github/teploe-odealko/meteoinfo_parsing/blob/main/covid_world.ipynb\" target=\"_parent\"><img src=\"https://colab.research.google.com/assets/colab-badge.svg\" alt=\"Open In Colab\"/></a>"
      ]
    },
    {
      "cell_type": "code",
      "metadata": {
        "colab": {
          "resources": {
            "http://localhost:8080/nbextensions/google.colab/files.js": {
              "data": "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",
              "ok": true,
              "headers": [
                [
                  "content-type",
                  "application/javascript"
                ]
              ],
              "status": 200,
              "status_text": ""
            }
          },
          "base_uri": "https://localhost:8080/",
          "height": 73
        },
        "id": "-YB2llD_YClp",
        "outputId": "f5a7bb88-02e8-4db0-9565-c044692e9b94"
      },
      "source": [
        "from google.colab import files\n",
        "filename = files.upload()\n",
        "filename = next(iter(filename))"
      ],
      "execution_count": 1,
      "outputs": [
        {
          "output_type": "display_data",
          "data": {
            "text/html": [
              "\n",
              "     <input type=\"file\" id=\"files-6db6f51b-6d8e-474b-a622-5b67f4bc3a9a\" name=\"files[]\" multiple disabled\n",
              "        style=\"border:none\" />\n",
              "     <output id=\"result-6db6f51b-6d8e-474b-a622-5b67f4bc3a9a\">\n",
              "      Upload widget is only available when the cell has been executed in the\n",
              "      current browser session. Please rerun this cell to enable.\n",
              "      </output>\n",
              "      <script src=\"/nbextensions/google.colab/files.js\"></script> "
            ],
            "text/plain": [
              "<IPython.core.display.HTML object>"
            ]
          },
          "metadata": {
            "tags": []
          }
        },
        {
          "output_type": "stream",
          "text": [
            "Saving МИР.xlsx to МИР (1).xlsx\n"
          ],
          "name": "stdout"
        }
      ]
    },
    {
      "cell_type": "markdown",
      "metadata": {
        "id": "_VZtAxabZt7L"
      },
      "source": [
        "#Подготовка данных с репозитория университета Хопкинса"
      ]
    },
    {
      "cell_type": "code",
      "metadata": {
        "id": "pZ_13BzyMaS1"
      },
      "source": [
        "!git clone https://github.com/CSSEGISandData/COVID-19.git"
      ],
      "execution_count": 2,
      "outputs": []
    },
    {
      "cell_type": "code",
      "metadata": {
        "id": "43ksqXatnE0_"
      },
      "source": [
        "from openpyxl.worksheet.worksheet import Worksheet\n",
        "import pandas as pd\n",
        "import glob\n",
        "from datetime import datetime, timedelta\n",
        "from copy import copy\n",
        "import openpyxl\n",
        "from openpyxl.formula.translate import Translator\n",
        "from openpyxl.utils.cell import get_column_letter\n",
        "from datetime import datetime\n",
        "from openpyxl.utils.dataframe import dataframe_to_rows\n",
        "\n",
        "WEEKLY_REPORT_DAY = 5\n",
        "countries_map = {\"Taiwan*\":\"Тайвань\", \"Timor-Leste\":\"Восточный Тимор\", \"US\":\"США\", \"West Bank and Gaza\":\"Западный берег\", \"Syria\": \"Сирия\", \"Slovakia\": \"Словакия\", \"Sao Tome and Principe\": \"Сан-Томе и Принсипи\", \"Russia\": \"Россия\", \"Micronesia\": \"Федеративные Штаты Микронезии\", \"Korea, South\": \"Южная Корея\", \"Iran\": \"Иран\", \"Eswatini\": \"Эсватини\", \"Cote d'Ivoire\": \"Кот-д'Ивуар\", \"Congo (Kinshasa)\": \"ДР Конго\", \"Congo (Brazzaville)\":\"Браззавиль\", \"Cabo Verde\":\"Кабо-Верде\", \"Burma\": \"Мьянма\", \"Afghanistan\":  \"Афганистан\", \"Albania\":  \"Албания\", \"Algeria\":  \"Алжир\", \"American Samoa\":  \"Американское Самоа\", \"Andorra\":  \"Андорра\", \"Angola\":  \"Ангола\", \"Anguilla\":  \"Ангилья\", \"Antarctica\":  \"Антарктика\", \"Antigua and Barbuda\":  \"Антигуа и Барбуда\", \"Argentina\":  \"Аргентина\", \"Armenia\":  \"Армения\", \"Aruba\":  \"Аруба\", \"Australia\":  \"Австралия\", \"Austria\":  \"Австрия\", \"Azerbaijan\":  \"Азербайджан\", \"Bahamas\":  \"Багамские Острова\", \"Bahrain\":  \"Бахрейн\", \"Bangladesh\":  \"Бангладеш\", \"Barbados\":  \"Барбадос\", \"Belarus\":  \"Белоруссия\", \"Belgium\":  \"Бельгия\", \"Belize\":  \"Белиз\", \"Benin\":  \"Бенин\", \"Bermuda\":  \"Бермудские Острова\", \"Bhutan\":  \"Бутан\", \"Bolivia\":  \"Боливия\", \"Bosnia and Herzegovina\":  \"Босния и Герцеговина\", \"Botswana\":  \"Ботсвана\", \"Brazil\":  \"Бразилия\", \"Brunei\":  \"Бруней\", \"Bulgaria\":  \"Болгария\", \"Burkina Faso\":  \"Буркина-Фасо\", \"Burundi\":  \"Бурунди\", \"Cambodia\":  \"Камбоджа\", \"Cameroon\":  \"Камерун\", \"Canada\":  \"Канада\", \"Cape Verde\":  \"Кабо-Верде\", \"Cayman Islands\":  \"Острова Кайман\", \"Central African Republic\":  \"Центральноафриканская Республика\", \"Chad\":  \"Чад\", \"Chile\":  \"Чили\", \"China\":  \"Китай\", \"Colombia\":  \"Колумбия\", \"Comoros\":  \"Коморские острова\", \"Democratic Republic of the Congo (Kinshasa)\":  \"Демократическая Республика Конго\", \"Congo, Republic of (Brazzaville)\":  \"Республика Конго\", \"Cook Islands\":  \"Острова Кука\", \"Costa Rica\":  \"Коста-Рика\", \"Ivory Coast (Cote d'Ivoire)\":  \"Кот-д'Ивуар\", \"Croatia\":  \"Хорватия\", \"Cuba\":  \"Куба\", \"Cyprus\":  \"Кипр (остров)\", \"Czechia\":  \"Чехия\", \"Denmark\":  \"Дания\", \"Djibouti\":  \"Джибути\", \"Dominica\":  \"Доминика\", \"Dominican Republic\":  \"Доминиканская Республика\", \"East Timor (Timor-Leste)\":  \"Восточный Тимор\", \"Ecuador\":  \"Эквадор\", \"Egypt\":  \"Египет\", \"El Salvador\":  \"Сальвадор\", \"Equatorial Guinea\":  \"Экваториальная Гвинея\", \"Eritrea\":  \"Эритрея\", \"Estonia\":  \"Эстония\", \"Ethiopia\":  \"Эфиопия\", \"Falkland Islands\":  \"Фолклендские острова\", \"Faroe Islands\":  \"Фарерские острова\", \"Fiji\":  \"Фиджи\", \"Finland\":  \"Финляндия\", \"France\":  \"Франция\", \"French Guiana\":  \"Гвиана\", \"French Polynesia\":  \"Французская Полинезия\", \"Gabon\":  \"Габон\", \"Gambia\":  \"Гамбия\", \"Georgia\":  \"Грузия\", \"Germany\":  \"Германия\", \"Ghana\":  \"Гана\", \"Gibraltar\":  \"Гибралтар\", \"Greece\":  \"Греция\", \"Greenland\":  \"Гренландия\", \"Grenada\":  \"Гренада\", \"Guadeloupe\":  \"Гваделупа\", \"Guam\":  \"Гуам\", \"Guatemala\":  \"Гватемала\", \"Guinea\":  \"Гвинея\", \"Guinea-Bissau\":  \"Гвинея-Бисау\", \"Guyana\":  \"Гайана\", \"Haiti\":  \"Гаити\", \"Honduras\":  \"Гондурас\", \"Hong Kong\":  \"Гонконг\", \"Hungary\":  \"Венгрия\", \"Iceland\":  \"Исландия\", \"India\":  \"Индия\", \"Indonesia\":  \"Индонезия\", \"Iran (Islamic Republic of)\":  \"Иран (Персия)\", \"Iraq\":  \"Ирак\", \"Ireland\":  \"Ирландия\", \"Israel\":  \"Израиль\", \"Italy\":  \"Италия\", \"Jamaica\":  \"Ямайка\", \"Japan\":  \"Япония\", \"Jordan\":  \"Иордания\", \"Kazakhstan\":  \"Казахстан\", \"Kenya\":  \"Кения\", \"Kiribati\":  \"Кирибати\", \"Korea, Democratic People's Rep. (North Korea)\":  \"Северная Корея (КНДР)\", \"Korea, Republic of (South Korea)\":  \"Ю́жная Коре́я (Республика Корея)\", \"Kosovo\":  \"Косово (Республика Косово)\", \"Kuwait\":  \"Кувейт\", \"Kyrgyzstan\":  \"Киргизия\", \"Laos\":  \"Лаос\", \"Latvia\":  \"Латвия\", \"Lebanon\":  \"Ливан\", \"Lesotho\":  \"Лесото\", \"Liberia\":  \"Либерия\", \"Libya\":  \"Ливия\", \"Liechtenstein\":  \"Лихтенштейн\", \"Lithuania\":  \"Литва\", \"Luxembourg\":  \"Люксембург\", \"Macau\":  \"Макао (Аомынь)\", \"North Macedonia\":  \"Северная Македония\", \"Madagascar\":  \"Мадагаскар\", \"Malawi\":  \"Малави\", \"Malaysia\":  \"Малайзия\", \"Maldives\":  \"Мальдивы\", \"Mali\":  \"Мали\", \"Malta\":  \"Мальта\", \"Marshall Islands\":  \"Маршалловы Острова\", \"Martinique\":  \"Мартиника\", \"Mauritania\":  \"Мавритания\", \"Mauritius\":  \"Маврикий\", \"Mayotte\":  \"Майотта\", \"Mexico\":  \"Мексика\", \"Микронезия, Federated States of\":  \"Федеративные Штаты Микронезии\", \"Moldova\":  \"Молдавия\", \"Monaco\":  \"Монако, Княжество Монако\", \"Mongolia\":  \"Монголия\", \"Montenegro\":  \"Черногория\", \"Montserrat\":  \"Монтсеррат\", \"Morocco\":  \"Марокко\", \"Mozambique\":  \"Мозамбик\", \"Myanmar, Burma\":  \"Мьянма, (Би́рма)\", \"Namibia\":  \"Намибия\", \"Nauru\":  \"Науру\", \"Nepal\":  \"Непал\", \"Netherlands\":  \"Нидерланды, Голландия\", \"New Caledonia\":  \"Новая Каледония\", \"New Zealand\":  \"Новая Зеландия\", \"Nicaragua\":  \"Никарагуа\", \"Niger\":  \"Нигер\", \"Nigeria\":  \"Нигерия\", \"Northern Mariana Islands\":  \"Северные Марианские\", \"\":  \"острова\", \"Norway\":  \"Норвегия\", \"Oman\":  \"Оман\", \"Pakistan\":  \"Пакистан\", \"Palau\":  \"Палау\", \"State of Palestine\":  \"Государство Палестина\", \"Panama\":  \"Панама\", \"Papua New Guinea\":  \"Папуа — Новая Гвинея\", \"Paraguay\":  \"Парагвай\", \"Peru\":  \"Перу\", \"Philippines\":  \"Филиппины\", \"Poland\":  \"Польша\", \"Portugal\":  \"Португалия\", \"Puerto Rico\":  \"Пуэрто-Рико\", \"Qatar\":  \"Катар\", \"Réunion\":  \"Реюньон\", \"Romania\":  \"Румыния\", \"Russian Federation\":  \"Россия, Росси́йская Федера́ция\", \"Rwanda\":  \"Руанда\", \"Saint Kitts and Nevis\":  \"Сент-Китс и Невис\", \"Saint Lucia\":  \"Сент-Люсия\", \"Saint Vincent and the Grenadines\":  \"Сент-Винсент и Гренадины\", \"Samoa\":  \"Самоа\", \"San Marino\":  \"Сан-Марино\", \"Sao Tome and Príncipe\":  \"Сан-Томе и Принсипи\", \"Saudi Arabia\":  \"Саудовская Аравия\", \"Senegal\":  \"Сенегал\", \"Serbia\":  \"Сербия\", \"Seychelles\":  \"Сейшельские Острова\", \"Sierra Leone\":  \"Сьерра-Леоне\", \"Singapore\":  \"Сингапур\", \"Slovakia (Slovak Republic)\":  \"Словакия\", \"Slovenia\":  \"Словения\", \"Solomon Islands\":  \"Соломоновы Острова\", \"Somalia\":  \"Сомали\", \"South Africa\":  \"Южная Африка\", \"South Sudan\":  \"Южный Судан\", \"Spain\":  \"Испания\", \"Sri Lanka\":  \"Шри-Ланка (ранее Цейлон)\", \"Sudan\":  \"Судан\", \"Suriname\":  \"Суринам\", \"Swaziland (Eswatini)\":  \"Сва́зиле́нд (Эсватини)\", \"Sweden\":  \"Швеция\", \"Switzerland\":  \"Швейцария\", \"Syria, Syrian Arab Republic\":  \"Сирия\", \"Taiwan (Republic of China)\":  \"Китайская Республика (Тайвань)\", \"Tajikistan\":  \"Таджикистан\", \"Tanzania\":  \"Танзания\", \"Thailand\":  \"Таиланд (ранее Сиам)\", \"Tibet\":  \"Тибет\", \"Timor-Leste (East Timor)\":  \"Восточный Тимор\", \"Togo\":  \"Того\", \"Tokelau\":  \"Токелау\", \"Tonga\":  \"Тонга\", \"Trinidad and Tobago\":  \"Тринидад и Тобаго\", \"Tunisia\":  \"Тунис\", \"Turkey\":  \"Турция\", \"Turkmenistan\":  \"Туркмения\", \"Tuvalu\":  \"Тувалу\", \"Uganda\":  \"Уганда\", \"Ukraine\":  \"Украина\", \"United Arab Emirates\":  \"Объединённые Арабские Эмираты (ОАЭ)\", \"United Kingdom\":  \"Великобритания (Соединённое Короле́вство)\", \"United States\":  \"Соединённые Штаты Америки (Аме́рика, США)\", \"Uruguay\":  \"Уругвай\", \"Uzbekistan\":  \"Узбекистан\", \"Vanuatu\":  \"Вануату\", \"Vatican City State (Holy See)\":  \"Ватикан (Святой Престол)\", \"Venezuela\":  \"Венесуэла\", \"Vietnam\":  \"Вьетнам\", \"Virgin Islands (British)\":  \"Виргинские Острова (Великобритания)\", \"Virgin Islands (U.S.)\":  \"Виргинские Острова (США)\", \"Wallis and Futuna Islands\":  \"Уоллис и Футуна\", \"Western Sahara\":  \"Западная Сахара\", \"Yemen\":  \"Йемен\", \"Zambia\":  \"Замбия\", \"Zimbabwe\":  \"Зимбабве\"}"
      ],
      "execution_count": 3,
      "outputs": []
    },
    {
      "cell_type": "code",
      "metadata": {
        "id": "s0BYfc2iMcjA"
      },
      "source": [
        "path = r'/content/COVID-19/csse_covid_19_data/csse_covid_19_daily_reports' # use your path\n",
        "all_files = glob.glob(path + \"/*.csv\")\n",
        "\n",
        "li = []\n",
        "\n",
        "for filename_csv in all_files:\n",
        "    df = pd.read_csv(filename_csv, index_col=None, header=0)\n",
        "    df['Last_Update'] = filename_csv.split('.')[0].split('/')[-1]\n",
        "    li.append(df)\n",
        "\n",
        "frame = pd.concat(li, axis=0, ignore_index=True)\n",
        "frame['Last_Update'] = pd.to_datetime(frame['Last_Update'], format='%m-%d-%Y')"
      ],
      "execution_count": 4,
      "outputs": []
    },
    {
      "cell_type": "code",
      "metadata": {
        "id": "dIRQeWjQr8TL"
      },
      "source": [
        "def translate_country(eng):\n",
        "    try:\n",
        "        return countries_map[eng]\n",
        "    except KeyError:\n",
        "        return eng\n",
        "\n",
        "\n",
        "frame['Country_Region'] = frame['Country_Region'].apply(translate_country)"
      ],
      "execution_count": 5,
      "outputs": []
    },
    {
      "cell_type": "code",
      "metadata": {
        "id": "0kiipHuPXD9O"
      },
      "source": [
        "df = frame[['Confirmed', 'Recovered', 'Deaths', 'Country_Region', 'Last_Update', 'Combined_Key']]\n",
        "sorted_df = df.groupby(['Last_Update', 'Country_Region']).sum().reset_index().sort_values(by=['Country_Region', 'Last_Update'])\n"
      ],
      "execution_count": 6,
      "outputs": []
    },
    {
      "cell_type": "code",
      "metadata": {
        "id": "Lcvu59zUHt-F"
      },
      "source": [
        "li = []\n",
        "for country in sorted_df['Country_Region'].unique():\n",
        "    country_df = sorted_df[sorted_df['Country_Region'] == country].copy()\n",
        "    country_df_diff = country_df[['Confirmed', 'Recovered', 'Deaths']].diff()\n",
        "    country_df['Confirmed_diff'] = country_df_diff['Confirmed']\n",
        "    country_df['Recovered_diff'] = country_df_diff['Recovered']\n",
        "    country_df['Deaths_diff'] = country_df_diff['Deaths']\n",
        "    li.append(country_df)\n",
        "\n",
        "\n",
        "df_diff = pd.concat(li, axis=0, ignore_index=True)\n",
        "df_diff = df_diff.fillna(0)\n",
        "df_diff = df_diff[['Country_Region', 'Last_Update', 'Confirmed', 'Recovered', 'Deaths', 'Confirmed_diff', 'Recovered_diff', 'Deaths_diff']]\n",
        "# df_diff.to_csv('counties.csv', index=False, header=False)"
      ],
      "execution_count": 7,
      "outputs": []
    },
    {
      "cell_type": "markdown",
      "metadata": {
        "id": "9tFFSwo6cz5T"
      },
      "source": [
        "#Заполнение таблиц"
      ]
    },
    {
      "cell_type": "code",
      "metadata": {
        "id": "nREIavzuLarD"
      },
      "source": [
        "def base_countries_sheet(ws: Worksheet):\n",
        "    for i, row in enumerate(dataframe_to_rows(df_diff, index=False, header=False)):\n",
        "        ws.append(row)\n",
        "        r = i + 2\n",
        "        ws.cell(row=r, column=9).value = fr'=IF(YEAR(B{r})=2020,(IF(J{r}=1,WEEKNUM(B{r},2),IF(J{r}=2,WEEKNUM(B{r},2),IF(J{r}=3,WEEKNUM(B{r},2),IF(J{r}=4,WEEKNUM(B{r},2),IF(J{r}=5,WEEKNUM(B{r},2),IF(J{r}=6,WEEKNUM(B{r},2),IF(J{r}=7,WEEKNUM(B{r},2)+1)))))))),IF(YEAR(B{r})=2021,(IF(J{r}=1,WEEKNUM(B{r},2),IF(J{r}=2,WEEKNUM(B{r},2),IF(J{r}=3,WEEKNUM(B{r},2),IF(J{r}=4,WEEKNUM(B{r},2),IF(J{r}=5,WEEKNUM(B{r},2),IF(J{r}=6,WEEKNUM(B{r},2),IF(J{r}=7,WEEKNUM(B{r},2)+1))))))))+52))'\n",
        "        ws.cell(row=r, column=10).value = fr'=WEEKDAY(B{r},2)'\n",
        "        ws.cell(row=r, column=2).number_format = 'DD.MM.YYYY'"
      ],
      "execution_count": 8,
      "outputs": []
    },
    {
      "cell_type": "code",
      "metadata": {
        "id": "GJxhPkIFAV84"
      },
      "source": [
        "def continue_formula_n_down(ws: Worksheet, columns: list, row: int, n: int):\n",
        "    for column in columns:\n",
        "\n",
        "        formula = ws.cell(row=(row - n), column=column).value\n",
        "        # print(row-n, column, formula)\n",
        "        last_cell_id = get_column_letter(column) + str(row - n)\n",
        "        next_cell_id = get_column_letter(column) + str(row)\n",
        "        ws[next_cell_id] = Translator(formula, origin=last_cell_id).translate_formula(next_cell_id)\n",
        "        ws[next_cell_id]._style = copy(ws[last_cell_id]._style)\n",
        "\n",
        "\n",
        "def continue_formula_down(ws: Worksheet, columns: list, row: int):\n",
        "    continue_formula_n_down(ws, columns, row, 1)"
      ],
      "execution_count": 9,
      "outputs": []
    },
    {
      "cell_type": "code",
      "metadata": {
        "id": "82_GYEza_QFT"
      },
      "source": [
        "def  continue_date_down(ws: Worksheet, rows: list):\n",
        "    for row in rows:\n",
        "        try:\n",
        "            column = [c.value for c in ws[row]][3:].index(None) + 4\n",
        "        except ValueError:\n",
        "            column = ws.max_column + 1\n",
        "        last_table_date = ws.cell(row=row, column=column - 1).value\n",
        "        ws.cell(row=row, column=column).value = (last_table_date) + timedelta(days=1)\n",
        "        ws.cell(row=row, column=column).number_format = 'DD.MM.YY'\n",
        "\n",
        "        last_cell_id = get_column_letter(column - 1) + str(row)\n",
        "        next_cell_id = get_column_letter(column) + str(row)\n",
        "        ws[next_cell_id]._style = copy(ws[last_cell_id]._style)"
      ],
      "execution_count": 10,
      "outputs": []
    },
    {
      "cell_type": "code",
      "metadata": {
        "id": "NUOSekgaAP27"
      },
      "source": [
        "def continue_number_down(ws: Worksheet, columns: list):\n",
        "    for column in columns:\n",
        "\n",
        "        row = ws.max_row + 1\n",
        "        last_num = ws.cell(row=row - 1, column=column).value\n",
        "        ws.cell(row=row, column=column).value = last_num + 1\n",
        "\n",
        "        last_cell_id = get_column_letter(column) + str(row-1)\n",
        "        next_cell_id = get_column_letter(column) + str(row)\n",
        "        ws[next_cell_id]._style = copy(ws[last_cell_id]._style)"
      ],
      "execution_count": 11,
      "outputs": []
    },
    {
      "cell_type": "code",
      "metadata": {
        "id": "0wqx4QC_-hnT"
      },
      "source": [
        "def base_world_sheet(ws: Worksheet):\n",
        "    new_row = ws.max_row + 1\n",
        "    ws.cell(row=new_row, column=1).value = datetime.now()\n",
        "    ws.cell(row=new_row, column=1).number_format = 'DD.MM.YY'\n",
        "    continue_formula_down(ws, list(range(2, 6)) + [7, 8, 10, 11] + list(range(13, 21)), new_row)\n",
        "\n",
        "    today = (datetime.today() - timedelta(days=1))\n",
        "    daily_df = df_diff.groupby('Last_Update').sum().loc[today.strftime('%d.%m.%y')]\n",
        "    ws.cell(row=new_row, column=6).value = daily_df['Confirmed']\n",
        "    ws.cell(row=new_row, column=9).value = daily_df['Recovered']\n",
        "    ws.cell(row=new_row, column=12).value = daily_df['Deaths']"
      ],
      "execution_count": 12,
      "outputs": []
    },
    {
      "cell_type": "code",
      "metadata": {
        "id": "JZQpo-h6Jwrk"
      },
      "source": [
        "def weeks_sheet(ws: Worksheet):\n",
        "    new_row = ws.max_row + 1\n",
        "    # print(new_row)\n",
        "    continue_number_down(ws, [1])\n",
        "    continue_formula_down(ws, list(range(2, 15)), new_row)\n"
      ],
      "execution_count": 13,
      "outputs": []
    },
    {
      "cell_type": "code",
      "metadata": {
        "id": "NwDdWNCl09bR"
      },
      "source": [
        "def countrie_sheet(ws: Worksheet):\n",
        "    new_row = ws.max_row + 1\n",
        "    # print(new_row)\n",
        "    continue_number_down(ws, [1])\n",
        "    continue_formula_down(ws, list(range(2, 32)), new_row)"
      ],
      "execution_count": 14,
      "outputs": []
    },
    {
      "cell_type": "code",
      "metadata": {
        "id": "E28DfZxFaglx"
      },
      "source": [
        ""
      ],
      "execution_count": 14,
      "outputs": []
    },
    {
      "cell_type": "code",
      "metadata": {
        "id": "5XG4eRRx_hKj"
      },
      "source": [
        "def main(filename: str):\n",
        "    wb = openpyxl.load_workbook(filename)\n",
        "\n",
        "    base_countries_sheet(wb['База страны'])\n",
        "    base_world_sheet(wb['База мир'])\n",
        "\n",
        "    if (datetime.today().weekday() + 1 == WEEKLY_REPORT_DAY):\n",
        "        weeks_sheet(wb['Недели'])\n",
        "        for country in wb.sheetnames[8:-1]:\n",
        "            countrie_sheet(wb[country])\n",
        "\n",
        "    wb.save('out.xlsx')"
      ],
      "execution_count": 15,
      "outputs": []
    },
    {
      "cell_type": "code",
      "metadata": {
        "colab": {
          "base_uri": "https://localhost:8080/"
        },
        "id": "MLWCv5wSG0fq",
        "outputId": "8d5a8a9e-f2dc-41ba-bece-07f98d2f9ae1"
      },
      "source": [
        "main(filename)"
      ],
      "execution_count": 17,
      "outputs": [
        {
          "output_type": "stream",
          "text": [
            "70\n",
            "80\n",
            "80\n",
            "80\n",
            "80\n",
            "80\n",
            "80\n",
            "80\n",
            "80\n",
            "80\n",
            "80\n",
            "80\n",
            "80\n",
            "80\n",
            "80\n"
          ],
          "name": "stdout"
        }
      ]
    },
    {
      "cell_type": "markdown",
      "metadata": {
        "id": "Fj2RS7Duc8KS"
      },
      "source": [
        "#Результат"
      ]
    },
    {
      "cell_type": "code",
      "metadata": {
        "id": "QSN61uKbak4X",
        "colab": {
          "base_uri": "https://localhost:8080/",
          "height": 17
        },
        "outputId": "6445c888-afab-4651-b6b4-35b617fe1780"
      },
      "source": [
        "files.download('out.xlsx')"
      ],
      "execution_count": 18,
      "outputs": [
        {
          "output_type": "display_data",
          "data": {
            "application/javascript": [
              "\n",
              "    async function download(id, filename, size) {\n",
              "      if (!google.colab.kernel.accessAllowed) {\n",
              "        return;\n",
              "      }\n",
              "      const div = document.createElement('div');\n",
              "      const label = document.createElement('label');\n",
              "      label.textContent = `Downloading \"${filename}\": `;\n",
              "      div.appendChild(label);\n",
              "      const progress = document.createElement('progress');\n",
              "      progress.max = size;\n",
              "      div.appendChild(progress);\n",
              "      document.body.appendChild(div);\n",
              "\n",
              "      const buffers = [];\n",
              "      let downloaded = 0;\n",
              "\n",
              "      const channel = await google.colab.kernel.comms.open(id);\n",
              "      // Send a message to notify the kernel that we're ready.\n",
              "      channel.send({})\n",
              "\n",
              "      for await (const message of channel.messages) {\n",
              "        // Send a message to notify the kernel that we're ready.\n",
              "        channel.send({})\n",
              "        if (message.buffers) {\n",
              "          for (const buffer of message.buffers) {\n",
              "            buffers.push(buffer);\n",
              "            downloaded += buffer.byteLength;\n",
              "            progress.value = downloaded;\n",
              "          }\n",
              "        }\n",
              "      }\n",
              "      const blob = new Blob(buffers, {type: 'application/binary'});\n",
              "      const a = document.createElement('a');\n",
              "      a.href = window.URL.createObjectURL(blob);\n",
              "      a.download = filename;\n",
              "      div.appendChild(a);\n",
              "      a.click();\n",
              "      div.remove();\n",
              "    }\n",
              "  "
            ],
            "text/plain": [
              "<IPython.core.display.Javascript object>"
            ]
          },
          "metadata": {
            "tags": []
          }
        },
        {
          "output_type": "display_data",
          "data": {
            "application/javascript": [
              "download(\"download_c1aee171-beeb-4075-8022-94c18f022bbf\", \"out.xlsx\", 8686537)"
            ],
            "text/plain": [
              "<IPython.core.display.Javascript object>"
            ]
          },
          "metadata": {
            "tags": []
          }
        }
      ]
    }
  ]
}