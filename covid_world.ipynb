{
  "nbformat": 4,
  "nbformat_minor": 0,
  "metadata": {
    "colab": {
      "name": "covid_world.ipynb",
      "provenance": [],
      "collapsed_sections": [
        "_VZtAxabZt7L",
        "9tFFSwo6cz5T",
        "vEh_QrVcAEy2"
      ],
      "authorship_tag": "ABX9TyN43xydTYr1IqdxRLIUYHrh",
      "include_colab_link": true
    },
    "kernelspec": {
      "name": "python3",
      "display_name": "Python 3"
    },
    "language_info": {
      "name": "python"
    }
  },
  "cells": [
    {
      "cell_type": "markdown",
      "metadata": {
        "id": "view-in-github",
        "colab_type": "text"
      },
      "source": [
        "<a href=\"https://colab.research.google.com/github/teploe-odealko/meteoinfo_parsing/blob/main/covid_world.ipynb\" target=\"_parent\"><img src=\"https://colab.research.google.com/assets/colab-badge.svg\" alt=\"Open In Colab\"/></a>"
      ]
    },
    {
      "cell_type": "markdown",
      "metadata": {
        "id": "NRjia9CSWwTS"
      },
      "source": [
        "#Загрузка шаблонов"
      ]
    },
    {
      "cell_type": "markdown",
      "metadata": {
        "id": "E5BtijRRXx8D"
      },
      "source": [
        "Шаблон табличной сводки по миру - файл xlsx"
      ]
    },
    {
      "cell_type": "code",
      "metadata": {
        "id": "-YB2llD_YClp"
      },
      "source": [
        "from google.colab import files\n",
        "world_input_file = files.upload()\n",
        "world_input_file = next(iter(world_input_file))"
      ],
      "execution_count": 6,
      "outputs": []
    },
    {
      "cell_type": "markdown",
      "metadata": {
        "id": "RtezPrK9WbED"
      },
      "source": [
        "Табличня сводка по россии - файл xlsx"
      ]
    },
    {
      "cell_type": "code",
      "metadata": {
        "colab": {
          "resources": {
            "http://localhost:8080/nbextensions/google.colab/files.js": {
              "data": "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",
              "ok": true,
              "headers": [
                [
                  "content-type",
                  "application/javascript"
                ]
              ],
              "status": 200,
              "status_text": ""
            }
          },
          "base_uri": "https://localhost:8080/",
          "height": 73
        },
        "id": "PIO4aPsnXxcX",
        "outputId": "e2fbb227-1f85-4eef-93c3-50ac29e751a7"
      },
      "source": [
        "from google.colab import files\n",
        "russia = files.upload()\n",
        "russia = next(iter(russia))"
      ],
      "execution_count": 7,
      "outputs": [
        {
          "output_type": "display_data",
          "data": {
            "text/html": [
              "\n",
              "     <input type=\"file\" id=\"files-6e2d5d0f-f8c8-426b-9caf-59998d52a200\" name=\"files[]\" multiple disabled\n",
              "        style=\"border:none\" />\n",
              "     <output id=\"result-6e2d5d0f-f8c8-426b-9caf-59998d52a200\">\n",
              "      Upload widget is only available when the cell has been executed in the\n",
              "      current browser session. Please rerun this cell to enable.\n",
              "      </output>\n",
              "      <script src=\"/nbextensions/google.colab/files.js\"></script> "
            ],
            "text/plain": [
              "<IPython.core.display.HTML object>"
            ]
          },
          "metadata": {
            "tags": []
          }
        },
        {
          "output_type": "stream",
          "text": [
            "Saving russia_regions.xlsx to russia_regions (1).xlsx\n"
          ],
          "name": "stdout"
        }
      ]
    },
    {
      "cell_type": "markdown",
      "metadata": {
        "id": "_VZtAxabZt7L"
      },
      "source": [
        "#Подготовка данных с репозитория университета Хопкинса"
      ]
    },
    {
      "cell_type": "code",
      "metadata": {
        "id": "T_lav30VYsvp",
        "colab": {
          "base_uri": "https://localhost:8080/"
        },
        "outputId": "a5446751-94e6-4d0f-d49e-7f035500721a"
      },
      "source": [
        "![ ! -d \"/content/COVID-19/\" ] && git clone https://github.com/CSSEGISandData/COVID-19.git"
      ],
      "execution_count": 8,
      "outputs": [
        {
          "output_type": "stream",
          "text": [
            "Cloning into 'COVID-19'...\n",
            "remote: Enumerating objects: 167498, done.\u001b[K\n",
            "remote: Counting objects: 100% (1142/1142), done.\u001b[K\n",
            "remote: Compressing objects: 100% (626/626), done.\u001b[K\n",
            "remote: Total 167498 (delta 536), reused 1106 (delta 513), pack-reused 166356\u001b[K\n",
            "Receiving objects: 100% (167498/167498), 1.57 GiB | 28.16 MiB/s, done.\n",
            "Resolving deltas: 100% (126633/126633), done.\n",
            "Checking out files: 100% (1238/1238), done.\n"
          ],
          "name": "stdout"
        }
      ]
    },
    {
      "cell_type": "code",
      "metadata": {
        "id": "3siaQraiXI3y"
      },
      "source": [
        ""
      ],
      "execution_count": 8,
      "outputs": []
    },
    {
      "cell_type": "code",
      "metadata": {
        "id": "43ksqXatnE0_"
      },
      "source": [
        "from openpyxl.worksheet.worksheet import Worksheet\n",
        "import pandas as pd\n",
        "import glob\n",
        "from datetime import datetime, timedelta\n",
        "from copy import copy\n",
        "import openpyxl\n",
        "from openpyxl.formula.translate import Translator\n",
        "from openpyxl.utils.cell import get_column_letter\n",
        "from datetime import datetime\n",
        "from openpyxl.utils.dataframe import dataframe_to_rows\n",
        "\n",
        "WEEKLY_REPORT_DAY = 1\n",
        "countries_map = {\"Taiwan*\":\"Тайвань\", \"Timor-Leste\":\"Восточный Тимор\", \"US\":\"США\", \"West Bank and Gaza\":\"Западный берег\", \"Syria\": \"Сирия\", \"Slovakia\": \"Словакия\", \"Sao Tome and Principe\": \"Сан-Томе и Принсипи\", \"Russia\": \"Россия\", \"Micronesia\": \"Федеративные Штаты Микронезии\", \"Korea, South\": \"Южная Корея\", \"Iran\": \"Иран\", \"Eswatini\": \"Эсватини\", \"Cote d'Ivoire\": \"Кот-д'Ивуар\", \"Congo (Kinshasa)\": \"ДР Конго\", \"Congo (Brazzaville)\":\"Браззавиль\", \"Cabo Verde\":\"Кабо-Верде\", \"Burma\": \"Мьянма\", \"Afghanistan\":  \"Афганистан\", \"Albania\":  \"Албания\", \"Algeria\":  \"Алжир\", \"American Samoa\":  \"Американское Самоа\", \"Andorra\":  \"Андорра\", \"Angola\":  \"Ангола\", \"Anguilla\":  \"Ангилья\", \"Antarctica\":  \"Антарктика\", \"Antigua and Barbuda\":  \"Антигуа и Барбуда\", \"Argentina\":  \"Аргентина\", \"Armenia\":  \"Армения\", \"Aruba\":  \"Аруба\", \"Australia\":  \"Австралия\", \"Austria\":  \"Австрия\", \"Azerbaijan\":  \"Азербайджан\", \"Bahamas\":  \"Багамские Острова\", \"Bahrain\":  \"Бахрейн\", \"Bangladesh\":  \"Бангладеш\", \"Barbados\":  \"Барбадос\", \"Belarus\":  \"Белоруссия\", \"Belgium\":  \"Бельгия\", \"Belize\":  \"Белиз\", \"Benin\":  \"Бенин\", \"Bermuda\":  \"Бермудские Острова\", \"Bhutan\":  \"Бутан\", \"Bolivia\":  \"Боливия\", \"Bosnia and Herzegovina\":  \"Босния и Герцеговина\", \"Botswana\":  \"Ботсвана\", \"Brazil\":  \"Бразилия\", \"Brunei\":  \"Бруней\", \"Bulgaria\":  \"Болгария\", \"Burkina Faso\":  \"Буркина-Фасо\", \"Burundi\":  \"Бурунди\", \"Cambodia\":  \"Камбоджа\", \"Cameroon\":  \"Камерун\", \"Canada\":  \"Канада\", \"Cape Verde\":  \"Кабо-Верде\", \"Cayman Islands\":  \"Острова Кайман\", \"Central African Republic\":  \"Центральноафриканская Республика\", \"Chad\":  \"Чад\", \"Chile\":  \"Чили\", \"China\":  \"Китай\", \"Colombia\":  \"Колумбия\", \"Comoros\":  \"Коморские острова\", \"Democratic Republic of the Congo (Kinshasa)\":  \"Демократическая Республика Конго\", \"Congo, Republic of (Brazzaville)\":  \"Республика Конго\", \"Cook Islands\":  \"Острова Кука\", \"Costa Rica\":  \"Коста-Рика\", \"Ivory Coast (Cote d'Ivoire)\":  \"Кот-д'Ивуар\", \"Croatia\":  \"Хорватия\", \"Cuba\":  \"Куба\", \"Cyprus\":  \"Кипр (остров)\", \"Czechia\":  \"Чехия\", \"Denmark\":  \"Дания\", \"Djibouti\":  \"Джибути\", \"Dominica\":  \"Доминика\", \"Dominican Republic\":  \"Доминиканская Республика\", \"East Timor (Timor-Leste)\":  \"Восточный Тимор\", \"Ecuador\":  \"Эквадор\", \"Egypt\":  \"Египет\", \"El Salvador\":  \"Сальвадор\", \"Equatorial Guinea\":  \"Экваториальная Гвинея\", \"Eritrea\":  \"Эритрея\", \"Estonia\":  \"Эстония\", \"Ethiopia\":  \"Эфиопия\", \"Falkland Islands\":  \"Фолклендские острова\", \"Faroe Islands\":  \"Фарерские острова\", \"Fiji\":  \"Фиджи\", \"Finland\":  \"Финляндия\", \"France\":  \"Франция\", \"French Guiana\":  \"Гвиана\", \"French Polynesia\":  \"Французская Полинезия\", \"Gabon\":  \"Габон\", \"Gambia\":  \"Гамбия\", \"Georgia\":  \"Грузия\", \"Germany\":  \"Германия\", \"Ghana\":  \"Гана\", \"Gibraltar\":  \"Гибралтар\", \"Greece\":  \"Греция\", \"Greenland\":  \"Гренландия\", \"Grenada\":  \"Гренада\", \"Guadeloupe\":  \"Гваделупа\", \"Guam\":  \"Гуам\", \"Guatemala\":  \"Гватемала\", \"Guinea\":  \"Гвинея\", \"Guinea-Bissau\":  \"Гвинея-Бисау\", \"Guyana\":  \"Гайана\", \"Haiti\":  \"Гаити\", \"Honduras\":  \"Гондурас\", \"Hong Kong\":  \"Гонконг\", \"Hungary\":  \"Венгрия\", \"Iceland\":  \"Исландия\", \"India\":  \"Индия\", \"Indonesia\":  \"Индонезия\", \"Iran (Islamic Republic of)\":  \"Иран (Персия)\", \"Iraq\":  \"Ирак\", \"Ireland\":  \"Ирландия\", \"Israel\":  \"Израиль\", \"Italy\":  \"Италия\", \"Jamaica\":  \"Ямайка\", \"Japan\":  \"Япония\", \"Jordan\":  \"Иордания\", \"Kazakhstan\":  \"Казахстан\", \"Kenya\":  \"Кения\", \"Kiribati\":  \"Кирибати\", \"Korea, Democratic People's Rep. (North Korea)\":  \"Северная Корея (КНДР)\", \"Korea, Republic of (South Korea)\":  \"Ю́жная Коре́я (Республика Корея)\", \"Kosovo\":  \"Косово (Республика Косово)\", \"Kuwait\":  \"Кувейт\", \"Kyrgyzstan\":  \"Киргизия\", \"Laos\":  \"Лаос\", \"Latvia\":  \"Латвия\", \"Lebanon\":  \"Ливан\", \"Lesotho\":  \"Лесото\", \"Liberia\":  \"Либерия\", \"Libya\":  \"Ливия\", \"Liechtenstein\":  \"Лихтенштейн\", \"Lithuania\":  \"Литва\", \"Luxembourg\":  \"Люксембург\", \"Macau\":  \"Макао (Аомынь)\", \"North Macedonia\":  \"Северная Македония\", \"Madagascar\":  \"Мадагаскар\", \"Malawi\":  \"Малави\", \"Malaysia\":  \"Малайзия\", \"Maldives\":  \"Мальдивы\", \"Mali\":  \"Мали\", \"Malta\":  \"Мальта\", \"Marshall Islands\":  \"Маршалловы Острова\", \"Martinique\":  \"Мартиника\", \"Mauritania\":  \"Мавритания\", \"Mauritius\":  \"Маврикий\", \"Mayotte\":  \"Майотта\", \"Mexico\":  \"Мексика\", \"Микронезия, Federated States of\":  \"Федеративные Штаты Микронезии\", \"Moldova\":  \"Молдавия\", \"Monaco\":  \"Монако, Княжество Монако\", \"Mongolia\":  \"Монголия\", \"Montenegro\":  \"Черногория\", \"Montserrat\":  \"Монтсеррат\", \"Morocco\":  \"Марокко\", \"Mozambique\":  \"Мозамбик\", \"Myanmar, Burma\":  \"Мьянма, (Би́рма)\", \"Namibia\":  \"Намибия\", \"Nauru\":  \"Науру\", \"Nepal\":  \"Непал\", \"Netherlands\":  \"Нидерланды, Голландия\", \"New Caledonia\":  \"Новая Каледония\", \"New Zealand\":  \"Новая Зеландия\", \"Nicaragua\":  \"Никарагуа\", \"Niger\":  \"Нигер\", \"Nigeria\":  \"Нигерия\", \"Northern Mariana Islands\":  \"Северные Марианские\", \"\":  \"острова\", \"Norway\":  \"Норвегия\", \"Oman\":  \"Оман\", \"Pakistan\":  \"Пакистан\", \"Palau\":  \"Палау\", \"State of Palestine\":  \"Государство Палестина\", \"Panama\":  \"Панама\", \"Papua New Guinea\":  \"Папуа — Новая Гвинея\", \"Paraguay\":  \"Парагвай\", \"Peru\":  \"Перу\", \"Philippines\":  \"Филиппины\", \"Poland\":  \"Польша\", \"Portugal\":  \"Португалия\", \"Puerto Rico\":  \"Пуэрто-Рико\", \"Qatar\":  \"Катар\", \"Réunion\":  \"Реюньон\", \"Romania\":  \"Румыния\", \"Russian Federation\":  \"Россия, Росси́йская Федера́ция\", \"Rwanda\":  \"Руанда\", \"Saint Kitts and Nevis\":  \"Сент-Китс и Невис\", \"Saint Lucia\":  \"Сент-Люсия\", \"Saint Vincent and the Grenadines\":  \"Сент-Винсент и Гренадины\", \"Samoa\":  \"Самоа\", \"San Marino\":  \"Сан-Марино\", \"Sao Tome and Príncipe\":  \"Сан-Томе и Принсипи\", \"Saudi Arabia\":  \"Саудовская Аравия\", \"Senegal\":  \"Сенегал\", \"Serbia\":  \"Сербия\", \"Seychelles\":  \"Сейшельские Острова\", \"Sierra Leone\":  \"Сьерра-Леоне\", \"Singapore\":  \"Сингапур\", \"Slovakia (Slovak Republic)\":  \"Словакия\", \"Slovenia\":  \"Словения\", \"Solomon Islands\":  \"Соломоновы Острова\", \"Somalia\":  \"Сомали\", \"South Africa\":  \"Южная Африка\", \"South Sudan\":  \"Южный Судан\", \"Spain\":  \"Испания\", \"Sri Lanka\":  \"Шри-Ланка (ранее Цейлон)\", \"Sudan\":  \"Судан\", \"Suriname\":  \"Суринам\", \"Swaziland (Eswatini)\":  \"Сва́зиле́нд (Эсватини)\", \"Sweden\":  \"Швеция\", \"Switzerland\":  \"Швейцария\", \"Syria, Syrian Arab Republic\":  \"Сирия\", \"Taiwan (Republic of China)\":  \"Китайская Республика (Тайвань)\", \"Tajikistan\":  \"Таджикистан\", \"Tanzania\":  \"Танзания\", \"Thailand\":  \"Таиланд (ранее Сиам)\", \"Tibet\":  \"Тибет\", \"Timor-Leste (East Timor)\":  \"Восточный Тимор\", \"Togo\":  \"Того\", \"Tokelau\":  \"Токелау\", \"Tonga\":  \"Тонга\", \"Trinidad and Tobago\":  \"Тринидад и Тобаго\", \"Tunisia\":  \"Тунис\", \"Turkey\":  \"Турция\", \"Turkmenistan\":  \"Туркмения\", \"Tuvalu\":  \"Тувалу\", \"Uganda\":  \"Уганда\", \"Ukraine\":  \"Украина\", \"United Arab Emirates\":  \"Объединённые Арабские Эмираты (ОАЭ)\", \"United Kingdom\":  \"Великобритания (Соединённое Короле́вство)\", \"United States\":  \"Соединённые Штаты Америки (Аме́рика, США)\", \"Uruguay\":  \"Уругвай\", \"Uzbekistan\":  \"Узбекистан\", \"Vanuatu\":  \"Вануату\", \"Vatican City State (Holy See)\":  \"Ватикан (Святой Престол)\", \"Venezuela\":  \"Венесуэла\", \"Vietnam\":  \"Вьетнам\", \"Virgin Islands (British)\":  \"Виргинские Острова (Великобритания)\", \"Virgin Islands (U.S.)\":  \"Виргинские Острова (США)\", \"Wallis and Futuna Islands\":  \"Уоллис и Футуна\", \"Western Sahara\":  \"Западная Сахара\", \"Yemen\":  \"Йемен\", \"Zambia\":  \"Замбия\", \"Zimbabwe\":  \"Зимбабве\"}"
      ],
      "execution_count": 9,
      "outputs": []
    },
    {
      "cell_type": "code",
      "metadata": {
        "id": "s0BYfc2iMcjA"
      },
      "source": [
        "path = r'/content/COVID-19/csse_covid_19_data/csse_covid_19_daily_reports' # use your path\n",
        "all_files = glob.glob(path + \"/*.csv\")\n",
        "\n",
        "li = []\n",
        "\n",
        "for filename_csv in all_files:\n",
        "    df = pd.read_csv(filename_csv, index_col=None, header=0)\n",
        "    df['Last_Update'] = filename_csv.split('.')[0].split('/')[-1]\n",
        "    li.append(df)\n",
        "\n",
        "frame = pd.concat(li, axis=0, ignore_index=True)\n",
        "frame['Last_Update'] = pd.to_datetime(frame['Last_Update'], format='%m-%d-%Y')"
      ],
      "execution_count": 10,
      "outputs": []
    },
    {
      "cell_type": "code",
      "metadata": {
        "id": "dIRQeWjQr8TL"
      },
      "source": [
        "def translate_country(eng):\n",
        "    try:\n",
        "        return countries_map[eng]\n",
        "    except KeyError:\n",
        "        return eng\n",
        "\n",
        "\n",
        "frame['Country_Region'] = frame['Country_Region'].apply(translate_country)"
      ],
      "execution_count": 11,
      "outputs": []
    },
    {
      "cell_type": "code",
      "metadata": {
        "id": "0kiipHuPXD9O"
      },
      "source": [
        "df = frame[['Confirmed', 'Recovered', 'Deaths', 'Country_Region', 'Last_Update', 'Combined_Key']]\n",
        "sorted_df = df.groupby(['Last_Update', 'Country_Region']).sum().reset_index().sort_values(by=['Country_Region', 'Last_Update'])\n"
      ],
      "execution_count": 12,
      "outputs": []
    },
    {
      "cell_type": "code",
      "metadata": {
        "id": "Lcvu59zUHt-F"
      },
      "source": [
        "li = []\n",
        "for country in sorted_df['Country_Region'].unique():\n",
        "    country_df = sorted_df[sorted_df['Country_Region'] == country].copy()\n",
        "    country_df_diff = country_df[['Confirmed', 'Recovered', 'Deaths']].diff()\n",
        "    country_df['Confirmed_diff'] = country_df_diff['Confirmed']\n",
        "    country_df['Recovered_diff'] = country_df_diff['Recovered']\n",
        "    country_df['Deaths_diff'] = country_df_diff['Deaths']\n",
        "    li.append(country_df)\n",
        "\n",
        "\n",
        "df_diff = pd.concat(li, axis=0, ignore_index=True)\n",
        "df_diff = df_diff.fillna(0)\n",
        "df_diff = df_diff[['Country_Region', 'Last_Update', 'Confirmed', 'Recovered', 'Deaths', 'Confirmed_diff', 'Recovered_diff', 'Deaths_diff']]\n",
        "# df_diff.to_csv('counties.csv', index=False, header=False)"
      ],
      "execution_count": 13,
      "outputs": []
    },
    {
      "cell_type": "markdown",
      "metadata": {
        "id": "9tFFSwo6cz5T"
      },
      "source": [
        "#Заполнение таблиц"
      ]
    },
    {
      "cell_type": "code",
      "metadata": {
        "id": "nREIavzuLarD"
      },
      "source": [
        "def base_countries_sheet(ws: Worksheet):\n",
        "    for i, row in enumerate(dataframe_to_rows(df_diff, index=False, header=False)):\n",
        "        ws.append(row)\n",
        "        r = i + 2\n",
        "        ws.cell(row=r, column=9).value = fr'=IF(YEAR(B{r})=2020,(IF(J{r}=1,WEEKNUM(B{r},2),IF(J{r}=2,WEEKNUM(B{r},2),IF(J{r}=3,WEEKNUM(B{r},2),IF(J{r}=4,WEEKNUM(B{r},2),IF(J{r}=5,WEEKNUM(B{r},2),IF(J{r}=6,WEEKNUM(B{r},2),IF(J{r}=7,WEEKNUM(B{r},2)+1)))))))),IF(YEAR(B{r})=2021,(IF(J{r}=1,WEEKNUM(B{r},2),IF(J{r}=2,WEEKNUM(B{r},2),IF(J{r}=3,WEEKNUM(B{r},2),IF(J{r}=4,WEEKNUM(B{r},2),IF(J{r}=5,WEEKNUM(B{r},2),IF(J{r}=6,WEEKNUM(B{r},2),IF(J{r}=7,WEEKNUM(B{r},2)+1))))))))+52))'\n",
        "        ws.cell(row=r, column=10).value = fr'=WEEKDAY(B{r},2)'\n",
        "        ws.cell(row=r, column=2).number_format = 'DD.MM.YYYY'"
      ],
      "execution_count": 14,
      "outputs": []
    },
    {
      "cell_type": "code",
      "metadata": {
        "id": "GJxhPkIFAV84"
      },
      "source": [
        "def continue_formula_n_down(ws: Worksheet, columns: list, row: int, n: int):\n",
        "    for column in columns:\n",
        "\n",
        "        formula = ws.cell(row=(row - n), column=column).value\n",
        "        # print(row-n, column, formula)\n",
        "        last_cell_id = get_column_letter(column) + str(row - n)\n",
        "        next_cell_id = get_column_letter(column) + str(row)\n",
        "        ws[next_cell_id] = Translator(formula, origin=last_cell_id).translate_formula(next_cell_id)\n",
        "        ws[next_cell_id]._style = copy(ws[last_cell_id]._style)\n",
        "\n",
        "\n",
        "def continue_formula_down(ws: Worksheet, columns: list, row: int):\n",
        "    continue_formula_n_down(ws, columns, row, 1)"
      ],
      "execution_count": 15,
      "outputs": []
    },
    {
      "cell_type": "code",
      "metadata": {
        "id": "82_GYEza_QFT"
      },
      "source": [
        "def  continue_date_down(ws: Worksheet, rows: list):\n",
        "    for row in rows:\n",
        "        try:\n",
        "            column = [c.value for c in ws[row]][3:].index(None) + 4\n",
        "        except ValueError:\n",
        "            column = ws.max_column + 1\n",
        "        last_table_date = ws.cell(row=row, column=column - 1).value\n",
        "        ws.cell(row=row, column=column).value = (last_table_date) + timedelta(days=1)\n",
        "        ws.cell(row=row, column=column).number_format = 'DD.MM.YY'\n",
        "\n",
        "        last_cell_id = get_column_letter(column - 1) + str(row)\n",
        "        next_cell_id = get_column_letter(column) + str(row)\n",
        "        ws[next_cell_id]._style = copy(ws[last_cell_id]._style)"
      ],
      "execution_count": 16,
      "outputs": []
    },
    {
      "cell_type": "code",
      "metadata": {
        "id": "NUOSekgaAP27"
      },
      "source": [
        "def continue_number_down(ws: Worksheet, columns: list):\n",
        "    for column in columns:\n",
        "\n",
        "        row = ws.max_row + 1\n",
        "        last_num = ws.cell(row=row - 1, column=column).value\n",
        "        ws.cell(row=row, column=column).value = last_num + 1\n",
        "\n",
        "        last_cell_id = get_column_letter(column) + str(row-1)\n",
        "        next_cell_id = get_column_letter(column) + str(row)\n",
        "        ws[next_cell_id]._style = copy(ws[last_cell_id]._style)"
      ],
      "execution_count": 17,
      "outputs": []
    },
    {
      "cell_type": "code",
      "metadata": {
        "id": "0wqx4QC_-hnT"
      },
      "source": [
        "def base_world_sheet(ws: Worksheet):\n",
        "    new_row = ws.max_row + 1\n",
        "    ws.cell(row=new_row, column=1).value = datetime.now()\n",
        "    ws.cell(row=new_row, column=1).number_format = 'DD.MM.YY'\n",
        "    continue_formula_down(ws, list(range(2, 6)) + [7, 8, 10, 11] + list(range(13, 21)), new_row)\n",
        "\n",
        "    today = (datetime.today() - timedelta(days=1))\n",
        "    daily_df = df_diff.groupby('Last_Update').sum().loc[today.strftime('%d.%m.%y')]\n",
        "    ws.cell(row=new_row, column=6).value = daily_df['Confirmed']\n",
        "    ws.cell(row=new_row, column=9).value = daily_df['Recovered']\n",
        "    ws.cell(row=new_row, column=12).value = daily_df['Deaths']"
      ],
      "execution_count": 18,
      "outputs": []
    },
    {
      "cell_type": "code",
      "metadata": {
        "id": "JZQpo-h6Jwrk"
      },
      "source": [
        "def weeks_sheet(ws: Worksheet):\n",
        "    new_row = ws.max_row + 1\n",
        "    # print(new_row)\n",
        "    continue_number_down(ws, [1])\n",
        "    continue_formula_down(ws, list(range(2, 15)), new_row)\n"
      ],
      "execution_count": 19,
      "outputs": []
    },
    {
      "cell_type": "code",
      "metadata": {
        "id": "NwDdWNCl09bR"
      },
      "source": [
        "def countrie_sheet(ws: Worksheet):\n",
        "    new_row = ws.max_row + 1\n",
        "    # print(new_row)\n",
        "    continue_number_down(ws, [1])\n",
        "    continue_formula_down(ws, list(range(2, 32)), new_row)"
      ],
      "execution_count": 20,
      "outputs": []
    },
    {
      "cell_type": "code",
      "metadata": {
        "id": "E28DfZxFaglx"
      },
      "source": [
        ""
      ],
      "execution_count": 20,
      "outputs": []
    },
    {
      "cell_type": "code",
      "metadata": {
        "id": "5XG4eRRx_hKj"
      },
      "source": [
        "world_out_file = 'world_out.xlsx'\n",
        "def main(filename: str):\n",
        "    wb = openpyxl.load_workbook(filename)\n",
        "\n",
        "    base_countries_sheet(wb['База страны'])\n",
        "    base_world_sheet(wb['База мир'])\n",
        "\n",
        "    if (datetime.today().weekday() + 1 == WEEKLY_REPORT_DAY):\n",
        "        weeks_sheet(wb['Недели'])\n",
        "        for country in wb.sheetnames[8:-1]:\n",
        "            countrie_sheet(wb[country])\n",
        "\n",
        "    wb.save(world_out_file)"
      ],
      "execution_count": 21,
      "outputs": []
    },
    {
      "cell_type": "code",
      "metadata": {
        "id": "MLWCv5wSG0fq"
      },
      "source": [
        "main(world_input_file)"
      ],
      "execution_count": 22,
      "outputs": []
    },
    {
      "cell_type": "markdown",
      "metadata": {
        "id": "Fj2RS7Duc8KS"
      },
      "source": [
        "#Результат"
      ]
    },
    {
      "cell_type": "code",
      "metadata": {
        "id": "QSN61uKbak4X",
        "colab": {
          "base_uri": "https://localhost:8080/",
          "height": 34
        },
        "outputId": "f8f99fdb-54de-40b7-bd22-fda31fc04591"
      },
      "source": [
        "files.download(world_out_file)"
      ],
      "execution_count": 23,
      "outputs": [
        {
          "output_type": "display_data",
          "data": {
            "application/javascript": [
              "\n",
              "    async function download(id, filename, size) {\n",
              "      if (!google.colab.kernel.accessAllowed) {\n",
              "        return;\n",
              "      }\n",
              "      const div = document.createElement('div');\n",
              "      const label = document.createElement('label');\n",
              "      label.textContent = `Downloading \"${filename}\": `;\n",
              "      div.appendChild(label);\n",
              "      const progress = document.createElement('progress');\n",
              "      progress.max = size;\n",
              "      div.appendChild(progress);\n",
              "      document.body.appendChild(div);\n",
              "\n",
              "      const buffers = [];\n",
              "      let downloaded = 0;\n",
              "\n",
              "      const channel = await google.colab.kernel.comms.open(id);\n",
              "      // Send a message to notify the kernel that we're ready.\n",
              "      channel.send({})\n",
              "\n",
              "      for await (const message of channel.messages) {\n",
              "        // Send a message to notify the kernel that we're ready.\n",
              "        channel.send({})\n",
              "        if (message.buffers) {\n",
              "          for (const buffer of message.buffers) {\n",
              "            buffers.push(buffer);\n",
              "            downloaded += buffer.byteLength;\n",
              "            progress.value = downloaded;\n",
              "          }\n",
              "        }\n",
              "      }\n",
              "      const blob = new Blob(buffers, {type: 'application/binary'});\n",
              "      const a = document.createElement('a');\n",
              "      a.href = window.URL.createObjectURL(blob);\n",
              "      a.download = filename;\n",
              "      div.appendChild(a);\n",
              "      a.click();\n",
              "      div.remove();\n",
              "    }\n",
              "  "
            ],
            "text/plain": [
              "<IPython.core.display.Javascript object>"
            ]
          },
          "metadata": {
            "tags": []
          }
        },
        {
          "output_type": "display_data",
          "data": {
            "application/javascript": [
              "download(\"download_df1cf339-56f5-4b5b-b28b-ad84dfeca28b\", \"world_out.xlsx\", 8746107)"
            ],
            "text/plain": [
              "<IPython.core.display.Javascript object>"
            ]
          },
          "metadata": {
            "tags": []
          }
        }
      ]
    },
    {
      "cell_type": "markdown",
      "metadata": {
        "id": "vEh_QrVcAEy2"
      },
      "source": [
        "# Сводка word"
      ]
    },
    {
      "cell_type": "code",
      "metadata": {
        "colab": {
          "base_uri": "https://localhost:8080/"
        },
        "id": "uKM4c7uuCLHR",
        "outputId": "564c3c19-3c6c-41c3-e25e-22eb53d80427"
      },
      "source": [
        "!pip install python-docx\n",
        "!pip install pip install excel-formulas-calculator"
      ],
      "execution_count": 24,
      "outputs": [
        {
          "output_type": "stream",
          "text": [
            "Collecting python-docx\n",
            "  Downloading python-docx-0.8.11.tar.gz (5.6 MB)\n",
            "\u001b[K     |████████████████████████████████| 5.6 MB 7.6 MB/s \n",
            "\u001b[?25hRequirement already satisfied: lxml>=2.3.2 in /usr/local/lib/python3.7/dist-packages (from python-docx) (4.2.6)\n",
            "Building wheels for collected packages: python-docx\n",
            "  Building wheel for python-docx (setup.py) ... \u001b[?25l\u001b[?25hdone\n",
            "  Created wheel for python-docx: filename=python_docx-0.8.11-py3-none-any.whl size=184507 sha256=1e291682a25deb9e063cb0476cf201c06882026ab9c8c8f6a5d661c71130f6f5\n",
            "  Stored in directory: /root/.cache/pip/wheels/f6/6f/b9/d798122a8b55b74ad30b5f52b01482169b445fbb84a11797a6\n",
            "Successfully built python-docx\n",
            "Installing collected packages: python-docx\n",
            "Successfully installed python-docx-0.8.11\n",
            "Requirement already satisfied: pip in /usr/local/lib/python3.7/dist-packages (21.1.3)\n",
            "Requirement already satisfied: install in /usr/local/lib/python3.7/dist-packages (1.3.4)\n",
            "Collecting excel-formulas-calculator\n",
            "  Downloading excel_formulas_calculator-0.2.3-py2.py3-none-any.whl (36 kB)\n",
            "Requirement already satisfied: six in /usr/local/lib/python3.7/dist-packages (from excel-formulas-calculator) (1.15.0)\n",
            "Installing collected packages: excel-formulas-calculator\n",
            "Successfully installed excel-formulas-calculator-0.2.3\n"
          ],
          "name": "stdout"
        }
      ]
    },
    {
      "cell_type": "code",
      "metadata": {
        "colab": {
          "base_uri": "https://localhost:8080/",
          "height": 0
        },
        "id": "LAy6PAfQVq3z",
        "outputId": "d48ceb03-761d-4ade-ad9d-c4ec3cd6a522"
      },
      "source": [
        "!pip install selenium\n",
        "!apt-get update # to update ubuntu to correctly run apt install\n",
        "!apt install chromium-chromedriver\n",
        "!cp /usr/lib/chromium-browser/chromedriver /usr/bin\n",
        "import sys\n",
        "sys.path.insert(0,'/usr/lib/chromium-browser/chromedriver')\n",
        "from selenium import webdriver\n",
        "!pip install requests-html\n",
        "!pip install xlutils"
      ],
      "execution_count": 25,
      "outputs": [
        {
          "output_type": "stream",
          "text": [
            "Collecting selenium\n",
            "  Downloading selenium-3.141.0-py2.py3-none-any.whl (904 kB)\n",
            "\u001b[?25l\r\u001b[K     |▍                               | 10 kB 23.4 MB/s eta 0:00:01\r\u001b[K     |▊                               | 20 kB 28.4 MB/s eta 0:00:01\r\u001b[K     |█                               | 30 kB 20.8 MB/s eta 0:00:01\r\u001b[K     |█▌                              | 40 kB 17.1 MB/s eta 0:00:01\r\u001b[K     |█▉                              | 51 kB 7.4 MB/s eta 0:00:01\r\u001b[K     |██▏                             | 61 kB 8.7 MB/s eta 0:00:01\r\u001b[K     |██▌                             | 71 kB 8.1 MB/s eta 0:00:01\r\u001b[K     |███                             | 81 kB 9.0 MB/s eta 0:00:01\r\u001b[K     |███▎                            | 92 kB 9.7 MB/s eta 0:00:01\r\u001b[K     |███▋                            | 102 kB 7.8 MB/s eta 0:00:01\r\u001b[K     |████                            | 112 kB 7.8 MB/s eta 0:00:01\r\u001b[K     |████▍                           | 122 kB 7.8 MB/s eta 0:00:01\r\u001b[K     |████▊                           | 133 kB 7.8 MB/s eta 0:00:01\r\u001b[K     |█████                           | 143 kB 7.8 MB/s eta 0:00:01\r\u001b[K     |█████▍                          | 153 kB 7.8 MB/s eta 0:00:01\r\u001b[K     |█████▉                          | 163 kB 7.8 MB/s eta 0:00:01\r\u001b[K     |██████▏                         | 174 kB 7.8 MB/s eta 0:00:01\r\u001b[K     |██████▌                         | 184 kB 7.8 MB/s eta 0:00:01\r\u001b[K     |██████▉                         | 194 kB 7.8 MB/s eta 0:00:01\r\u001b[K     |███████▎                        | 204 kB 7.8 MB/s eta 0:00:01\r\u001b[K     |███████▋                        | 215 kB 7.8 MB/s eta 0:00:01\r\u001b[K     |████████                        | 225 kB 7.8 MB/s eta 0:00:01\r\u001b[K     |████████▎                       | 235 kB 7.8 MB/s eta 0:00:01\r\u001b[K     |████████▊                       | 245 kB 7.8 MB/s eta 0:00:01\r\u001b[K     |█████████                       | 256 kB 7.8 MB/s eta 0:00:01\r\u001b[K     |█████████▍                      | 266 kB 7.8 MB/s eta 0:00:01\r\u001b[K     |█████████▉                      | 276 kB 7.8 MB/s eta 0:00:01\r\u001b[K     |██████████▏                     | 286 kB 7.8 MB/s eta 0:00:01\r\u001b[K     |██████████▌                     | 296 kB 7.8 MB/s eta 0:00:01\r\u001b[K     |██████████▉                     | 307 kB 7.8 MB/s eta 0:00:01\r\u001b[K     |███████████▎                    | 317 kB 7.8 MB/s eta 0:00:01\r\u001b[K     |███████████▋                    | 327 kB 7.8 MB/s eta 0:00:01\r\u001b[K     |████████████                    | 337 kB 7.8 MB/s eta 0:00:01\r\u001b[K     |████████████▎                   | 348 kB 7.8 MB/s eta 0:00:01\r\u001b[K     |████████████▊                   | 358 kB 7.8 MB/s eta 0:00:01\r\u001b[K     |█████████████                   | 368 kB 7.8 MB/s eta 0:00:01\r\u001b[K     |█████████████▍                  | 378 kB 7.8 MB/s eta 0:00:01\r\u001b[K     |█████████████▊                  | 389 kB 7.8 MB/s eta 0:00:01\r\u001b[K     |██████████████▏                 | 399 kB 7.8 MB/s eta 0:00:01\r\u001b[K     |██████████████▌                 | 409 kB 7.8 MB/s eta 0:00:01\r\u001b[K     |██████████████▉                 | 419 kB 7.8 MB/s eta 0:00:01\r\u001b[K     |███████████████▏                | 430 kB 7.8 MB/s eta 0:00:01\r\u001b[K     |███████████████▋                | 440 kB 7.8 MB/s eta 0:00:01\r\u001b[K     |████████████████                | 450 kB 7.8 MB/s eta 0:00:01\r\u001b[K     |████████████████▎               | 460 kB 7.8 MB/s eta 0:00:01\r\u001b[K     |████████████████▋               | 471 kB 7.8 MB/s eta 0:00:01\r\u001b[K     |█████████████████               | 481 kB 7.8 MB/s eta 0:00:01\r\u001b[K     |█████████████████▍              | 491 kB 7.8 MB/s eta 0:00:01\r\u001b[K     |█████████████████▊              | 501 kB 7.8 MB/s eta 0:00:01\r\u001b[K     |██████████████████▏             | 512 kB 7.8 MB/s eta 0:00:01\r\u001b[K     |██████████████████▌             | 522 kB 7.8 MB/s eta 0:00:01\r\u001b[K     |██████████████████▉             | 532 kB 7.8 MB/s eta 0:00:01\r\u001b[K     |███████████████████▏            | 542 kB 7.8 MB/s eta 0:00:01\r\u001b[K     |███████████████████▋            | 552 kB 7.8 MB/s eta 0:00:01\r\u001b[K     |████████████████████            | 563 kB 7.8 MB/s eta 0:00:01\r\u001b[K     |████████████████████▎           | 573 kB 7.8 MB/s eta 0:00:01\r\u001b[K     |████████████████████▋           | 583 kB 7.8 MB/s eta 0:00:01\r\u001b[K     |█████████████████████           | 593 kB 7.8 MB/s eta 0:00:01\r\u001b[K     |█████████████████████▍          | 604 kB 7.8 MB/s eta 0:00:01\r\u001b[K     |█████████████████████▊          | 614 kB 7.8 MB/s eta 0:00:01\r\u001b[K     |██████████████████████          | 624 kB 7.8 MB/s eta 0:00:01\r\u001b[K     |██████████████████████▌         | 634 kB 7.8 MB/s eta 0:00:01\r\u001b[K     |██████████████████████▉         | 645 kB 7.8 MB/s eta 0:00:01\r\u001b[K     |███████████████████████▏        | 655 kB 7.8 MB/s eta 0:00:01\r\u001b[K     |███████████████████████▌        | 665 kB 7.8 MB/s eta 0:00:01\r\u001b[K     |████████████████████████        | 675 kB 7.8 MB/s eta 0:00:01\r\u001b[K     |████████████████████████▎       | 686 kB 7.8 MB/s eta 0:00:01\r\u001b[K     |████████████████████████▋       | 696 kB 7.8 MB/s eta 0:00:01\r\u001b[K     |█████████████████████████       | 706 kB 7.8 MB/s eta 0:00:01\r\u001b[K     |█████████████████████████▍      | 716 kB 7.8 MB/s eta 0:00:01\r\u001b[K     |█████████████████████████▊      | 727 kB 7.8 MB/s eta 0:00:01\r\u001b[K     |██████████████████████████      | 737 kB 7.8 MB/s eta 0:00:01\r\u001b[K     |██████████████████████████▍     | 747 kB 7.8 MB/s eta 0:00:01\r\u001b[K     |██████████████████████████▉     | 757 kB 7.8 MB/s eta 0:00:01\r\u001b[K     |███████████████████████████▏    | 768 kB 7.8 MB/s eta 0:00:01\r\u001b[K     |███████████████████████████▌    | 778 kB 7.8 MB/s eta 0:00:01\r\u001b[K     |████████████████████████████    | 788 kB 7.8 MB/s eta 0:00:01\r\u001b[K     |████████████████████████████▎   | 798 kB 7.8 MB/s eta 0:00:01\r\u001b[K     |████████████████████████████▋   | 808 kB 7.8 MB/s eta 0:00:01\r\u001b[K     |█████████████████████████████   | 819 kB 7.8 MB/s eta 0:00:01\r\u001b[K     |█████████████████████████████▍  | 829 kB 7.8 MB/s eta 0:00:01\r\u001b[K     |█████████████████████████████▊  | 839 kB 7.8 MB/s eta 0:00:01\r\u001b[K     |██████████████████████████████  | 849 kB 7.8 MB/s eta 0:00:01\r\u001b[K     |██████████████████████████████▍ | 860 kB 7.8 MB/s eta 0:00:01\r\u001b[K     |██████████████████████████████▉ | 870 kB 7.8 MB/s eta 0:00:01\r\u001b[K     |███████████████████████████████▏| 880 kB 7.8 MB/s eta 0:00:01\r\u001b[K     |███████████████████████████████▌| 890 kB 7.8 MB/s eta 0:00:01\r\u001b[K     |███████████████████████████████▉| 901 kB 7.8 MB/s eta 0:00:01\r\u001b[K     |████████████████████████████████| 904 kB 7.8 MB/s \n",
            "\u001b[?25hRequirement already satisfied: urllib3 in /usr/local/lib/python3.7/dist-packages (from selenium) (1.24.3)\n",
            "Installing collected packages: selenium\n",
            "Successfully installed selenium-3.141.0\n",
            "Ign:1 https://developer.download.nvidia.com/compute/cuda/repos/ubuntu1804/x86_64  InRelease\n",
            "Ign:2 https://developer.download.nvidia.com/compute/machine-learning/repos/ubuntu1804/x86_64  InRelease\n",
            "Hit:3 https://developer.download.nvidia.com/compute/cuda/repos/ubuntu1804/x86_64  Release\n",
            "Hit:4 https://developer.download.nvidia.com/compute/machine-learning/repos/ubuntu1804/x86_64  Release\n",
            "Get:5 https://cloud.r-project.org/bin/linux/ubuntu bionic-cran40/ InRelease [3,626 B]\n",
            "Get:6 http://security.ubuntu.com/ubuntu bionic-security InRelease [88.7 kB]\n",
            "Get:7 http://ppa.launchpad.net/c2d4u.team/c2d4u4.0+/ubuntu bionic InRelease [15.9 kB]\n",
            "Hit:9 http://archive.ubuntu.com/ubuntu bionic InRelease\n",
            "Get:10 http://archive.ubuntu.com/ubuntu bionic-updates InRelease [88.7 kB]\n",
            "Hit:12 http://ppa.launchpad.net/cran/libgit2/ubuntu bionic InRelease\n",
            "Hit:13 http://ppa.launchpad.net/deadsnakes/ppa/ubuntu bionic InRelease\n",
            "Get:14 http://archive.ubuntu.com/ubuntu bionic-backports InRelease [74.6 kB]\n",
            "Get:15 http://security.ubuntu.com/ubuntu bionic-security/universe amd64 Packages [1,418 kB]\n",
            "Hit:16 http://ppa.launchpad.net/graphics-drivers/ppa/ubuntu bionic InRelease\n",
            "Get:17 http://ppa.launchpad.net/c2d4u.team/c2d4u4.0+/ubuntu bionic/main Sources [1,783 kB]\n",
            "Get:18 http://archive.ubuntu.com/ubuntu bionic-updates/universe amd64 Packages [2,188 kB]\n",
            "Get:19 http://archive.ubuntu.com/ubuntu bionic-updates/main amd64 Packages [2,658 kB]\n",
            "Get:20 http://ppa.launchpad.net/c2d4u.team/c2d4u4.0+/ubuntu bionic/main amd64 Packages [912 kB]\n",
            "Fetched 9,231 kB in 4s (2,464 kB/s)\n",
            "Reading package lists... Done\n",
            "Reading package lists... Done\n",
            "Building dependency tree       \n",
            "Reading state information... Done\n",
            "The following additional packages will be installed:\n",
            "  chromium-browser chromium-browser-l10n chromium-codecs-ffmpeg-extra\n",
            "Suggested packages:\n",
            "  webaccounts-chromium-extension unity-chromium-extension\n",
            "The following NEW packages will be installed:\n",
            "  chromium-browser chromium-browser-l10n chromium-chromedriver\n",
            "  chromium-codecs-ffmpeg-extra\n",
            "0 upgraded, 4 newly installed, 0 to remove and 42 not upgraded.\n",
            "Need to get 86.0 MB of archives.\n",
            "After this operation, 298 MB of additional disk space will be used.\n",
            "Get:1 http://archive.ubuntu.com/ubuntu bionic-updates/universe amd64 chromium-codecs-ffmpeg-extra amd64 91.0.4472.101-0ubuntu0.18.04.1 [1,124 kB]\n",
            "Get:2 http://archive.ubuntu.com/ubuntu bionic-updates/universe amd64 chromium-browser amd64 91.0.4472.101-0ubuntu0.18.04.1 [76.1 MB]\n",
            "Get:3 http://archive.ubuntu.com/ubuntu bionic-updates/universe amd64 chromium-browser-l10n all 91.0.4472.101-0ubuntu0.18.04.1 [3,937 kB]\n",
            "Get:4 http://archive.ubuntu.com/ubuntu bionic-updates/universe amd64 chromium-chromedriver amd64 91.0.4472.101-0ubuntu0.18.04.1 [4,837 kB]\n",
            "Fetched 86.0 MB in 6s (15.6 MB/s)\n",
            "Selecting previously unselected package chromium-codecs-ffmpeg-extra.\n",
            "(Reading database ... 160837 files and directories currently installed.)\n",
            "Preparing to unpack .../chromium-codecs-ffmpeg-extra_91.0.4472.101-0ubuntu0.18.04.1_amd64.deb ...\n",
            "Unpacking chromium-codecs-ffmpeg-extra (91.0.4472.101-0ubuntu0.18.04.1) ...\n",
            "Selecting previously unselected package chromium-browser.\n",
            "Preparing to unpack .../chromium-browser_91.0.4472.101-0ubuntu0.18.04.1_amd64.deb ...\n",
            "Unpacking chromium-browser (91.0.4472.101-0ubuntu0.18.04.1) ...\n",
            "Selecting previously unselected package chromium-browser-l10n.\n",
            "Preparing to unpack .../chromium-browser-l10n_91.0.4472.101-0ubuntu0.18.04.1_all.deb ...\n",
            "Unpacking chromium-browser-l10n (91.0.4472.101-0ubuntu0.18.04.1) ...\n",
            "Selecting previously unselected package chromium-chromedriver.\n",
            "Preparing to unpack .../chromium-chromedriver_91.0.4472.101-0ubuntu0.18.04.1_amd64.deb ...\n",
            "Unpacking chromium-chromedriver (91.0.4472.101-0ubuntu0.18.04.1) ...\n",
            "Setting up chromium-codecs-ffmpeg-extra (91.0.4472.101-0ubuntu0.18.04.1) ...\n",
            "Setting up chromium-browser (91.0.4472.101-0ubuntu0.18.04.1) ...\n",
            "update-alternatives: using /usr/bin/chromium-browser to provide /usr/bin/x-www-browser (x-www-browser) in auto mode\n",
            "update-alternatives: using /usr/bin/chromium-browser to provide /usr/bin/gnome-www-browser (gnome-www-browser) in auto mode\n",
            "Setting up chromium-chromedriver (91.0.4472.101-0ubuntu0.18.04.1) ...\n",
            "Setting up chromium-browser-l10n (91.0.4472.101-0ubuntu0.18.04.1) ...\n",
            "Processing triggers for man-db (2.8.3-2ubuntu0.1) ...\n",
            "Processing triggers for hicolor-icon-theme (0.17-2) ...\n",
            "Processing triggers for mime-support (3.60ubuntu1) ...\n",
            "Processing triggers for libc-bin (2.27-3ubuntu1.2) ...\n",
            "/sbin/ldconfig.real: /usr/local/lib/python3.7/dist-packages/ideep4py/lib/libmkldnn.so.0 is not a symbolic link\n",
            "\n",
            "cp: '/usr/lib/chromium-browser/chromedriver' and '/usr/bin/chromedriver' are the same file\n",
            "Collecting requests-html\n",
            "  Downloading requests_html-0.10.0-py3-none-any.whl (13 kB)\n",
            "Requirement already satisfied: bs4 in /usr/local/lib/python3.7/dist-packages (from requests-html) (0.0.1)\n",
            "Collecting parse\n",
            "  Downloading parse-1.19.0.tar.gz (30 kB)\n",
            "Requirement already satisfied: requests in /usr/local/lib/python3.7/dist-packages (from requests-html) (2.23.0)\n",
            "Collecting pyppeteer>=0.0.14\n",
            "  Downloading pyppeteer-0.2.5-py3-none-any.whl (87 kB)\n",
            "\u001b[K     |████████████████████████████████| 87 kB 4.5 MB/s \n",
            "\u001b[?25hCollecting fake-useragent\n",
            "  Downloading fake-useragent-0.1.11.tar.gz (13 kB)\n",
            "Collecting pyquery\n",
            "  Downloading pyquery-1.4.3-py3-none-any.whl (22 kB)\n",
            "Collecting w3lib\n",
            "  Downloading w3lib-1.22.0-py2.py3-none-any.whl (20 kB)\n",
            "Collecting importlib-metadata<3.0.0,>=2.1.1\n",
            "  Downloading importlib_metadata-2.1.1-py2.py3-none-any.whl (10 kB)\n",
            "Collecting tqdm<5.0.0,>=4.42.1\n",
            "  Downloading tqdm-4.61.2-py2.py3-none-any.whl (76 kB)\n",
            "\u001b[K     |████████████████████████████████| 76 kB 5.5 MB/s \n",
            "\u001b[?25hCollecting websockets<9.0,>=8.1\n",
            "  Downloading websockets-8.1-cp37-cp37m-manylinux2010_x86_64.whl (79 kB)\n",
            "\u001b[K     |████████████████████████████████| 79 kB 9.4 MB/s \n",
            "\u001b[?25hCollecting urllib3<2.0.0,>=1.25.8\n",
            "  Downloading urllib3-1.26.6-py2.py3-none-any.whl (138 kB)\n",
            "\u001b[K     |████████████████████████████████| 138 kB 59.4 MB/s \n",
            "\u001b[?25hCollecting pyee<9.0.0,>=8.1.0\n",
            "  Downloading pyee-8.1.0-py2.py3-none-any.whl (12 kB)\n",
            "Requirement already satisfied: appdirs<2.0.0,>=1.4.3 in /usr/local/lib/python3.7/dist-packages (from pyppeteer>=0.0.14->requests-html) (1.4.4)\n",
            "Requirement already satisfied: zipp>=0.5 in /usr/local/lib/python3.7/dist-packages (from importlib-metadata<3.0.0,>=2.1.1->pyppeteer>=0.0.14->requests-html) (3.5.0)\n",
            "Requirement already satisfied: beautifulsoup4 in /usr/local/lib/python3.7/dist-packages (from bs4->requests-html) (4.6.3)\n",
            "Collecting cssselect>0.7.9\n",
            "  Downloading cssselect-1.1.0-py2.py3-none-any.whl (16 kB)\n",
            "Requirement already satisfied: lxml>=2.1 in /usr/local/lib/python3.7/dist-packages (from pyquery->requests-html) (4.2.6)\n",
            "Collecting urllib3<2.0.0,>=1.25.8\n",
            "  Downloading urllib3-1.25.11-py2.py3-none-any.whl (127 kB)\n",
            "\u001b[K     |████████████████████████████████| 127 kB 68.4 MB/s \n",
            "\u001b[?25hRequirement already satisfied: certifi>=2017.4.17 in /usr/local/lib/python3.7/dist-packages (from requests->requests-html) (2021.5.30)\n",
            "Requirement already satisfied: chardet<4,>=3.0.2 in /usr/local/lib/python3.7/dist-packages (from requests->requests-html) (3.0.4)\n",
            "Requirement already satisfied: idna<3,>=2.5 in /usr/local/lib/python3.7/dist-packages (from requests->requests-html) (2.10)\n",
            "Requirement already satisfied: six>=1.4.1 in /usr/local/lib/python3.7/dist-packages (from w3lib->requests-html) (1.15.0)\n",
            "Building wheels for collected packages: fake-useragent, parse\n",
            "  Building wheel for fake-useragent (setup.py) ... \u001b[?25l\u001b[?25hdone\n",
            "  Created wheel for fake-useragent: filename=fake_useragent-0.1.11-py3-none-any.whl size=13503 sha256=7a51dc1b7ca343367b398e624b95dc7794de6084dd41522d3d7cb8d307bc0127\n",
            "  Stored in directory: /root/.cache/pip/wheels/ed/f7/62/50ab6c9a0b5567267ab76a9daa9d06315704209b2c5d032031\n",
            "  Building wheel for parse (setup.py) ... \u001b[?25l\u001b[?25hdone\n",
            "  Created wheel for parse: filename=parse-1.19.0-py3-none-any.whl size=24591 sha256=82476f3444cabe377fff70b6827a07728c4af9263b558f34f30999fa98248997\n",
            "  Stored in directory: /root/.cache/pip/wheels/9c/aa/cc/f2228050ccb40f22144b073f15a2c84f11204f29fc0dce028e\n",
            "Successfully built fake-useragent parse\n",
            "Installing collected packages: websockets, urllib3, tqdm, pyee, importlib-metadata, cssselect, w3lib, pyquery, pyppeteer, parse, fake-useragent, requests-html\n",
            "  Attempting uninstall: urllib3\n",
            "    Found existing installation: urllib3 1.24.3\n",
            "    Uninstalling urllib3-1.24.3:\n",
            "      Successfully uninstalled urllib3-1.24.3\n",
            "  Attempting uninstall: tqdm\n",
            "    Found existing installation: tqdm 4.41.1\n",
            "    Uninstalling tqdm-4.41.1:\n",
            "      Successfully uninstalled tqdm-4.41.1\n",
            "  Attempting uninstall: importlib-metadata\n",
            "    Found existing installation: importlib-metadata 4.6.1\n",
            "    Uninstalling importlib-metadata-4.6.1:\n",
            "      Successfully uninstalled importlib-metadata-4.6.1\n",
            "\u001b[31mERROR: pip's dependency resolver does not currently take into account all the packages that are installed. This behaviour is the source of the following dependency conflicts.\n",
            "datascience 0.10.6 requires folium==0.2.1, but you have folium 0.8.3 which is incompatible.\u001b[0m\n",
            "Successfully installed cssselect-1.1.0 fake-useragent-0.1.11 importlib-metadata-2.1.1 parse-1.19.0 pyee-8.1.0 pyppeteer-0.2.5 pyquery-1.4.3 requests-html-0.10.0 tqdm-4.61.2 urllib3-1.25.11 w3lib-1.22.0 websockets-8.1\n"
          ],
          "name": "stdout"
        },
        {
          "output_type": "display_data",
          "data": {
            "application/vnd.colab-display-data+json": {
              "pip_warning": {
                "packages": [
                  "urllib3"
                ]
              }
            }
          },
          "metadata": {
            "tags": []
          }
        },
        {
          "output_type": "stream",
          "text": [
            "Collecting xlutils\n",
            "  Downloading xlutils-2.0.0-py2.py3-none-any.whl (55 kB)\n",
            "\u001b[?25l\r\u001b[K     |██████                          | 10 kB 23.8 MB/s eta 0:00:01\r\u001b[K     |████████████                    | 20 kB 29.9 MB/s eta 0:00:01\r\u001b[K     |█████████████████▉              | 30 kB 22.1 MB/s eta 0:00:01\r\u001b[K     |███████████████████████▉        | 40 kB 18.3 MB/s eta 0:00:01\r\u001b[K     |█████████████████████████████▊  | 51 kB 9.2 MB/s eta 0:00:01\r\u001b[K     |████████████████████████████████| 55 kB 2.7 MB/s \n",
            "\u001b[?25hRequirement already satisfied: xlwt>=0.7.4 in /usr/local/lib/python3.7/dist-packages (from xlutils) (1.3.0)\n",
            "Requirement already satisfied: xlrd>=0.7.2 in /usr/local/lib/python3.7/dist-packages (from xlutils) (1.1.0)\n",
            "Installing collected packages: xlutils\n",
            "Successfully installed xlutils-2.0.0\n"
          ],
          "name": "stdout"
        }
      ]
    },
    {
      "cell_type": "code",
      "metadata": {
        "id": "Fa-8SBmLl2gN"
      },
      "source": [
        "from efc.interfaces.iopenpyxl import OpenpyxlInterface\n",
        "from collections import defaultdict\n",
        "import numpy as np"
      ],
      "execution_count": 26,
      "outputs": []
    },
    {
      "cell_type": "code",
      "metadata": {
        "id": "-tirpqeDVqcO"
      },
      "source": [
        ""
      ],
      "execution_count": 26,
      "outputs": []
    },
    {
      "cell_type": "code",
      "metadata": {
        "id": "s34QhbupcE0a"
      },
      "source": [
        "wb_world = openpyxl.load_workbook(world_out_file)\n",
        "wb_russia = openpyxl.load_workbook(russia)"
      ],
      "execution_count": 28,
      "outputs": []
    },
    {
      "cell_type": "code",
      "metadata": {
        "id": "-FF57Hxpgnaa"
      },
      "source": [
        "interface_world = OpenpyxlInterface(wb=wb_world, use_cache=True)\n",
        "interface_russia = OpenpyxlInterface(wb=wb_russia, use_cache=True)"
      ],
      "execution_count": 29,
      "outputs": []
    },
    {
      "cell_type": "code",
      "metadata": {
        "id": "RwGKCCChEPfD"
      },
      "source": [
        "def choise(var: int, s1, s2, s3):\n",
        "    if var > 0:\n",
        "        return s1\n",
        "    elif var < 0:\n",
        "        return s2\n",
        "    else:\n",
        "        return s3"
      ],
      "execution_count": 30,
      "outputs": []
    },
    {
      "cell_type": "code",
      "metadata": {
        "id": "3ku-QY7eo_cw"
      },
      "source": [
        "def paragraph1(ws: Worksheet, doc, interface):\n",
        "    row = ws.max_row\n",
        "    week_to_week = int(interface.calc_cell(f'P{row}', 'База мир')*100)\n",
        "\n",
        "    w1 = choise(week_to_week,\n",
        "                    'ускоряется',\n",
        "                    'замедляется',\n",
        "                    'остается прежним')\n",
        "\n",
        "    par = f'Темп роста количества новых случаев заражения {w1} (прирост за последние 7 дней находится на уровне {week_to_week}%).'\n",
        "    doc.add_paragraph(par, style='List Bullet')"
      ],
      "execution_count": 31,
      "outputs": []
    },
    {
      "cell_type": "code",
      "metadata": {
        "id": "Dbyyxufzq6UZ"
      },
      "source": [
        "def paragraph2(ws: Worksheet, doc, interface):\n",
        "    row = [c.value for c in ws['AC'][7:]].index(None) + 7\n",
        "    week = interface.calc_cell(f'AC{row}', 'База РФ')\n",
        "    week_to_week = int(interface.calc_cell(f'AD{row}', 'База РФ')*100)\n",
        "    week_to_week_prev = int(interface.calc_cell(f'AD{row-1}', 'База РФ')*100)\n",
        "\n",
        "    w1 = choise(week_to_week,\n",
        "                    'наблюдается динамика увеличения заболеваемости',\n",
        "                    'наблюдается динамика уменьшения заболеваемости',\n",
        "                    'динамика заболеваемости остается на прежнем уровне')\n",
        "\n",
        "    if week_to_week < week_to_week_prev:\n",
        "        w2 = 'замедлились'\n",
        "    elif week_to_week > week_to_week_prev:\n",
        "        w2 = 'ускорились'\n",
        "    else:\n",
        "        w2 = 'остались неизменными'\n",
        "\n",
        "    dynamic = interface.calc_cell(f'E{row}', 'База РФ')\n",
        "    dynamic_speed = int(interface.calc_cell(f'R{row}', 'База РФ')*100)\n",
        "    dynamic_speed_prev = int(interface.calc_cell(f'R{row-1}', 'База РФ')*100)\n",
        "\n",
        "    w3 = choise(dynamic_speed,\n",
        "                f'повысился на {abs(dynamic_speed)}%',\n",
        "                f'снизился на {abs(dynamic_speed)}%',\n",
        "                'остался неизменным')\n",
        "    w4 = choise(dynamic_speed_prev,\n",
        "                f'повысился на {abs(dynamic_speed_prev)}%',\n",
        "                f'снизился на {abs(dynamic_speed_prev)}%',\n",
        "                'остался неизменным')\n",
        "\n",
        "    recover = interface.calc_cell(f'AE{row}', 'База РФ')\n",
        "    recover_week_to_week = int(interface.calc_cell(f'AF{row}', 'База РФ')*100)\n",
        "\n",
        "    mortality = interface.calc_cell(f'AG{row}', 'База РФ')\n",
        "    mortality_week_to_week = int(interface.calc_cell(f'AH{row}', 'База РФ')*100)\n",
        "\n",
        "    w5 = choise(recover_week_to_week,\n",
        "                f'вырасло на {abs(dynamic_speed)}%',\n",
        "                f'снизилось на {abs(dynamic_speed)}%',\n",
        "                'осталось неизменным')\n",
        "    \n",
        "    w6 = choise(mortality_week_to_week,\n",
        "                f'вырос на {abs(dynamic_speed)}%',\n",
        "                f'снизился на {abs(dynamic_speed)}%',\n",
        "                'остался неизменным')\n",
        "\n",
        "    day_deaths = interface.calc_cell(f'H{row}', 'База РФ')\n",
        "    max_day_deaths = interface.calc_cell(f'L{row}', 'База РФ')\n",
        "    is_daily_record = ', что является новым суточным максимумом за весь период пандемии.' if day_deaths == max_day_deaths else '.' \n",
        "\n",
        "    par = f'В России {w1}, темпы недельного роста {w2}: количество заболевших за последние 7 дней увеличилось на {week_to_week}% (аналогичный показатель днем ранее - {week_to_week_prev}%) и составило {week} случаев. '\\\n",
        "        f'Темп суточной динамики {w3} (днем ранее {w4}), за истекшие сутки зарегистрировано {dynamic} случаев(ая). '\\\n",
        "        f'Количество выздоровлений за семидневный период {w5} по сравнению с показателем предшествующей недели и составило {recover} случаев(ая). '\\\n",
        "        f'Недельный прирост количества летальных исходов {w6} и составил {mortality} случаев(ая). '\\\n",
        "        f'Суточный показатель составил {day_deaths} случаев(ая){is_daily_record}'\n",
        "    doc.add_paragraph(par, style='List Bullet')"
      ],
      "execution_count": 32,
      "outputs": []
    },
    {
      "cell_type": "code",
      "metadata": {
        "id": "zCKm7t8LA4j7"
      },
      "source": [
        "def paragraph3(ws: Worksheet, doc, interface):\n",
        "    col = ws.max_column \n",
        "    gain = interface.calc_cell(f'{get_column_letter(col)}3', 'МСК и СП')\n",
        "    gain_speed = int(interface.calc_cell(f'{get_column_letter(col)}6', 'МСК и СП')*100)\n",
        "    gain_speed_prev = int(interface.calc_cell(f'{get_column_letter(col-1)}6', 'МСК и СП')*100)\n",
        "\n",
        "    gain_week = int(interface.calc_cell(f'{get_column_letter(col)}13', 'МСК и СП')*100)\n",
        "    gain_week_prev = int(interface.calc_cell(f'{get_column_letter(col-1)}13', 'МСК и СП')*100)\n",
        "\n",
        "    w1 = choise(gain_speed,\n",
        "                'зафиксировано повышение суточной динамики',\n",
        "                'зафиксировано снижение суточной динамики',\n",
        "                'суточный прирост не изменился')\n",
        "    \n",
        "    w2 = choise(gain_speed,\n",
        "                f'повысился на {abs(gain_speed)}%',\n",
        "                f'снизился на {abs(gain_speed)}%',\n",
        "                f'остался неизменным')\n",
        "    \n",
        "    w3 = choise(gain_speed_prev,\n",
        "                f'повышение составило {gain_speed_prev}%',\n",
        "                f'снижение составило {gain_speed_prev}%',\n",
        "                f'темп остался неизменным')\n",
        "    \n",
        "    w4 = choise(gain_week,\n",
        "                f'повышения недельного прироста составляет {abs(gain_week)}%',\n",
        "                f'снижения недельного прироста составляет {abs(gain_week)}%',\n",
        "                f'недельного прироста остался неизменным')\n",
        "    \n",
        "    w5 = choise(gain_week_prev,\n",
        "                f'повышениe {abs(gain_week_prev)}%',\n",
        "                f'снижениe {abs(gain_week_prev)}%',\n",
        "                f'темп был неизменным')\n",
        "\n",
        "    par = f'В Москве {w1}: за истекший день темп прироста {w2} (днем ранее {w3}), число выявленных случаев составило {gain}. '\\\n",
        "        f'Темп {w4} (днем ранее {w5}).'\n",
        "\n",
        "    doc.add_paragraph(par, style='List Bullet')\n",
        "\n"
      ],
      "execution_count": 33,
      "outputs": []
    },
    {
      "cell_type": "code",
      "metadata": {
        "id": "KWZPu5fGybPC"
      },
      "source": [
        "def paragraph4(ws: Worksheet, doc, interface):\n",
        "    col = ws.max_column \n",
        "    gain = interface.calc_cell(f'{get_column_letter(col)}4', 'МСК и СП')\n",
        "    gain_speed = int(interface.calc_cell(f'{get_column_letter(col)}7', 'МСК и СП')*100)\n",
        "    gain_speed_prev = int(interface.calc_cell(f'{get_column_letter(col-1)}7', 'МСК и СП')*100)\n",
        "\n",
        "    gain_week = int(interface.calc_cell(f'{get_column_letter(col)}15', 'МСК и СП')*100)\n",
        "    gain_week_prev = int(interface.calc_cell(f'{get_column_letter(col-1)}15', 'МСК и СП')*100)\n",
        "\n",
        "    w1 = choise(gain_speed,\n",
        "                'зафиксировано повышение суточной динамики',\n",
        "                'зафиксировано снижение суточной динамики',\n",
        "                'суточный прирост не изменился')\n",
        "    \n",
        "    w2 = choise(gain_speed,\n",
        "                f'повысился на {abs(gain_speed)}%',\n",
        "                f'снизился на {abs(gain_speed)}%',\n",
        "                f'остался неизменным')\n",
        "    \n",
        "    w3 = choise(gain_speed_prev,\n",
        "                f'повышение составило {gain_speed_prev}%',\n",
        "                f'снижение составило {gain_speed_prev}%',\n",
        "                f'темп остался неизменным')\n",
        "    \n",
        "    w4 = choise(gain_week,\n",
        "                f'повышения недельного прироста составляет {abs(gain_week)}%',\n",
        "                f'снижения недельного прироста составляет {abs(gain_week)}%',\n",
        "                f'недельного прироста остался неизменным')\n",
        "    \n",
        "    w5 = choise(gain_week_prev,\n",
        "                f'повышениe {abs(gain_week_prev)}%',\n",
        "                f'снижениe {abs(gain_week_prev)}%',\n",
        "                f'темп был неизменным')\n",
        "\n",
        "    par = f'В Санкт-Петербурге {w1}: за истекший день темп прироста {w2} (днем ранее {w3}), число выявленных случаев составило {gain}. '\\\n",
        "        f'Темп {w4} (днем ранее {w5}).'\n",
        "\n",
        "    doc.add_paragraph(par, style='List Bullet')\n"
      ],
      "execution_count": 34,
      "outputs": []
    },
    {
      "cell_type": "code",
      "metadata": {
        "id": "OS4u4o9y1CEE"
      },
      "source": [
        "def paragraph5(ws: Worksheet, doc, interface):\n",
        "    info = defaultdict(list)\n",
        "    col = ws.max_column\n",
        "    # cities = []\n",
        "    # percents = []\n",
        "    for i in range(2, 87):\n",
        "        info['ratio'].append(interface.calc_cell(f'{get_column_letter(col)}{i}', 'прирост 7дн'))\n",
        "        info['regions'].append(interface.calc_cell(f'{get_column_letter(col-1)}{i}', 'прирост 7дн'))\n",
        "        info['cases'].append(interface.calc_cell(f'{get_column_letter(col-3)}{i}', 'прирост 7дн'))\n",
        "    top5_idx = np.array(info['cases']).argsort()[-5:][::-1]\n",
        "    top5_regions = np.array(info['regions'])[top5_idx]\n",
        "    top5_cases = np.array(info['cases'])[top5_idx]\n",
        "\n",
        "    total = interface.calc_cell(f'{get_column_letter(col-3)}{87}', 'прирост 7дн')\n",
        "    top5_percents = [case/total for case in top5_cases]\n",
        "\n",
        "    top5_list = [f'{region} ({round(ratio*100)}%)' for region, ratio in zip(top5_regions, top5_percents)]\n",
        "    # print(top5_list)\n",
        "    par = f'Регионы, которые обеспечили основной прирост по России за последние 7 дней:\\n{\", \".join(top5_list)}.'\n",
        "\n",
        "\n",
        "    doc.add_paragraph(par, style='List Bullet')"
      ],
      "execution_count": 35,
      "outputs": []
    },
    {
      "cell_type": "code",
      "metadata": {
        "id": "1_AxAek_Nl8W"
      },
      "source": [
        "def paragraph6(ws: Worksheet, doc, interface):\n",
        "    info = defaultdict(list)\n",
        "    col = ws.max_column\n",
        "    # cities = []\n",
        "    # percents = []\n",
        "    for i in range(2, 87):\n",
        "        info['ratio'].append(interface.calc_cell(f'{get_column_letter(col)}{i}', 'прирост 7дн'))\n",
        "        info['regions'].append(interface.calc_cell(f'{get_column_letter(col-1)}{i}', 'прирост 7дн'))\n",
        "        info['last_date'].append(interface.calc_cell(f'{get_column_letter(col-3)}{i}', 'прирост 7дн'))\n",
        "    top20 = np.array(info['last_date']).argsort()[-20:][::-1]\n",
        "    top20_regions = np.array(info['regions'])[top20]\n",
        "    top20_ratio = np.array(info['ratio'])[top20]\n",
        "    top5_ratio_index = top20_ratio.argsort()[-5:][::-1]\n",
        "    top5_regions = top20_regions[top5_ratio_index]\n",
        "    top5_ratio = top20_ratio[top5_ratio_index]\n",
        "    top5_list = [f'{region} (рост на {round(ratio*100)}%)' for region, ratio in zip(top5_regions, top5_ratio)]\n",
        "    # print(top5_list)\n",
        "\n",
        "    bigger50_idx = [i for i, value in enumerate(info['ratio']) if round(value*100) >= 50]\n",
        "    bigger50_regions = np.array(info['regions'])[bigger50_idx]\n",
        "\n",
        "    \n",
        "\n",
        "    if len(bigger50_regions) > 0:\n",
        "        par2 = f'\\nСтоит также отметить, что дополнительно к 5 названным еще в {len(bigger50_regions)} регионе(ах) с меньшей статистикой* скорость недельного прироста превышает 50%.\\n'\\\n",
        "                f'* {\", \".join(bigger50_regions)}'\n",
        "    else:\n",
        "        par2 = ''\n",
        "    \n",
        "    par1 = f'Скорость прироста от недели к неделе (из числа ТОП-20 по абсолютному приросту за последние 7 дней): {\", \".join(top5_list)}.'\n",
        "    doc.add_paragraph(par1+par2, style='List Bullet')"
      ],
      "execution_count": 36,
      "outputs": []
    },
    {
      "cell_type": "code",
      "metadata": {
        "id": "hYqhur3HZnsS"
      },
      "source": [
        "def fill_header(doc):\n",
        "    header = '[В Мире и России]'\n",
        "    description = 'Файл «МИР».\\n'\\\n",
        "                    'Лист «Источник» - ссылка на исходные данные. Скачиваем данные в формате xls. Загружаем в лист «База страны».\\n'\\\n",
        "                    'Лист «База мир». В столбце А проставить текущую дату, протянуть формулы по всей строке.\\n'\\\n",
        "                    'Лист «Сутки_забол». Задаем формулы для формирования данных за сутки и за последние 7 дней. Дата для формирования данных за сутки задается как Т-1 (дата предыдущего дня).\\n'\\\n",
        "                    'Данные по вакцинации берем с сайта GOGOV.ru вакцинация. Других источников таких данных пока не обнаружили.\\n'\\\n",
        "                    'Иногда случаются «выбросы» по отдельным странам, когда пересматривается подсчет показателей и за один день показывается статистика за целый период. В этом случае ищем «выброс» в листе «База страны», по какой стране произошло нестандартное отклонение.'\n",
        "    p1 = doc.add_paragraph()\n",
        "    p1.alignment = 1\n",
        "    font = p1.add_run(header).font\n",
        "    font.color.rgb = RGBColor.from_string('EB4034')\n",
        "    \n",
        "    p2 = doc.add_paragraph()\n",
        "    font = p2.add_run(description).font\n",
        "    font.color.rgb = RGBColor.from_string('A32E26')\n",
        "\n"
      ],
      "execution_count": 37,
      "outputs": []
    },
    {
      "cell_type": "code",
      "metadata": {
        "colab": {
          "base_uri": "https://localhost:8080/"
        },
        "id": "-rc0vFbtT1Yp",
        "outputId": "5a284df5-e932-4983-c7b5-3ce8516fd3b3"
      },
      "source": [
        "!pip install html2text"
      ],
      "execution_count": 38,
      "outputs": [
        {
          "output_type": "stream",
          "text": [
            "Requirement already satisfied: html2text in /usr/local/lib/python3.7/dist-packages (2020.1.16)\n"
          ],
          "name": "stdout"
        }
      ]
    },
    {
      "cell_type": "code",
      "metadata": {
        "colab": {
          "base_uri": "https://localhost:8080/"
        },
        "id": "1cmV6A4cVx29",
        "outputId": "8ebb252a-b7a7-48e1-cc85-276abe2a849e"
      },
      "source": [
        "chrome_options = webdriver.ChromeOptions()\n",
        "chrome_options.add_argument('--headless')\n",
        "chrome_options.add_argument('--no-sandbox')\n",
        "chrome_options.add_argument('--disable-dev-shm-usage')\n",
        "wd = webdriver.Chrome('chromedriver',chrome_options=chrome_options)"
      ],
      "execution_count": 39,
      "outputs": [
        {
          "output_type": "stream",
          "text": [
            "/usr/local/lib/python3.7/dist-packages/ipykernel_launcher.py:5: DeprecationWarning: use options instead of chrome_options\n",
            "  \"\"\"\n"
          ],
          "name": "stderr"
        }
      ]
    },
    {
      "cell_type": "code",
      "metadata": {
        "id": "kOvBFvPVZ-Aj"
      },
      "source": [
        "import html2text"
      ],
      "execution_count": 41,
      "outputs": []
    },
    {
      "cell_type": "code",
      "metadata": {
        "id": "TuPGnAfdT8kI"
      },
      "source": [
        "RBC_URL = 'https://www.rbc.ru/story/5e2881539a794724ab627caa'\n",
        "wd.get(RBC_URL)\n",
        "news_links = wd.find_elements_by_xpath(\"//a[@class='item__link']\")\n",
        "headers = wd.find_elements_by_xpath(\"//span[@class='item__title rm-cm-item-text']\")\n",
        "\n",
        "for i, header in enumerate(headers):\n",
        "    try:\n",
        "        if header.text.split('.')[1].startswith(' Актуальное о пандемии на'):\n",
        "            break\n",
        "    except IndexError:\n",
        "        continue\n",
        "\n",
        "news_links[i].click()\n",
        "elem = wd.find_element_by_xpath(\"//*\")\n",
        "source_code = elem.get_attribute(\"outerHTML\")\n",
        "\n",
        "h = html2text.HTML2Text()\n",
        "h.ignore_links = True\n",
        "source_text = h.handle(source_code)\n",
        "rbc_news = [s[4:] for s in source_text.split('\\n') if s.startswith('  * ')]"
      ],
      "execution_count": 42,
      "outputs": []
    },
    {
      "cell_type": "code",
      "metadata": {
        "id": "k8M9x5HOUeZ4"
      },
      "source": [
        "STOPCORONA_URL = 'https://стопкоронавирус.рф/news/'\n",
        "wd.get(STOPCORONA_URL)\n",
        "\n",
        "stopcorona_headers_elements = wd.find_elements_by_xpath(\"//div[@class='cv-news-page__news-list-item']//h2\")\n",
        "stopcorona_headers = [header.text for header in stopcorona_headers_elements]\n"
      ],
      "execution_count": 43,
      "outputs": []
    },
    {
      "cell_type": "code",
      "metadata": {
        "id": "T8BJ3ymcUegU"
      },
      "source": [
        "STOPCORONA_URL_BUISNESS = 'https://стопкоронавирус.рф/news/?tags=1'\n",
        "wd.get(STOPCORONA_URL_BUISNESS)\n",
        "\n",
        "stopcorona_headers_elements = wd.find_elements_by_xpath(\"//div[@class='cv-news-page__news-list-item']//h2\")\n",
        "stopcorona_headers_buisness = [header.text for header in stopcorona_headers_elements]\n"
      ],
      "execution_count": 44,
      "outputs": []
    },
    {
      "cell_type": "code",
      "metadata": {
        "id": "VMS-FJJ9UevR"
      },
      "source": [
        "YANDEX_URL = 'https://yandex.ru/news/rubric/koronavirus'\n",
        "wd.get(YANDEX_URL)\n",
        "\n",
        "stopcorona_headers_elements = wd.find_elements_by_xpath(\"//div[@class='mg-card__annotation']\")\n",
        "yandex_annotation = [header.text for header in stopcorona_headers_elements if header.text != '']\n"
      ],
      "execution_count": 45,
      "outputs": []
    },
    {
      "cell_type": "code",
      "metadata": {
        "id": "aLl5YCcMVYNf"
      },
      "source": [
        "def paragraph_news(doc):\n",
        "    doc.add_paragraph('Справочно')\n",
        "    p = doc.add_paragraph()\n",
        "    runner = p.add_run('РБК')\n",
        "    runner.bold = True\n",
        "    for news in rbc_news:\n",
        "        doc.add_paragraph(news, style='List Bullet')\n",
        "\n",
        "    p = doc.add_paragraph()\n",
        "    runner = p.add_run('Стопкоронавирус')\n",
        "    runner.bold = True\n",
        "    for news in stopcorona_headers[:10]:\n",
        "        doc.add_paragraph(news, style='List Bullet')\n",
        "\n",
        "    p = doc.add_paragraph()\n",
        "    runner = p.add_run('Стопкоронавирус по тегу \"бизнесу\"')\n",
        "    runner.bold = True\n",
        "    for news in stopcorona_headers_buisness[:10]:\n",
        "        doc.add_paragraph(news, style='List Bullet')\n",
        "\n",
        "    p = doc.add_paragraph()\n",
        "    runner = p.add_run('Яндекс')\n",
        "    runner.bold = True\n",
        "    for news in yandex_annotation[:10]:\n",
        "        doc.add_paragraph(news, style='List Bullet')"
      ],
      "execution_count": 49,
      "outputs": []
    },
    {
      "cell_type": "code",
      "metadata": {
        "id": "5fohDbMYpvtO"
      },
      "source": [
        "import docx\n",
        "from docx.shared import RGBColor\n",
        "doc = docx.Document()\n",
        "fill_header(doc)\n",
        "paragraph1(wb_world['База мир'], doc, interface_world)\n",
        "paragraph2(wb_russia['База РФ'], doc, interface_russia)\n",
        "paragraph3(wb_russia['МСК и СП'], doc, interface_russia)\n",
        "paragraph4(wb_russia['МСК и СП'], doc, interface_russia)\n",
        "paragraph5(wb_russia['прирост 7дн'], doc, interface_russia)\n",
        "paragraph6(wb_russia['прирост 7дн'], doc, interface_russia)\n",
        "paragraph_news(doc)\n",
        "doc.save('сводка.docx')\n"
      ],
      "execution_count": 50,
      "outputs": []
    },
    {
      "cell_type": "code",
      "metadata": {
        "id": "Qzw5kl0Fj0oY"
      },
      "source": [
        ""
      ],
      "execution_count": 50,
      "outputs": []
    },
    {
      "cell_type": "markdown",
      "metadata": {
        "id": "4eoM7yIEj076"
      },
      "source": [
        "# Результат"
      ]
    },
    {
      "cell_type": "code",
      "metadata": {
        "id": "c9hREf9Mqkzn",
        "colab": {
          "base_uri": "https://localhost:8080/",
          "height": 17
        },
        "outputId": "211b345a-ad03-4065-c1fc-c12d9f8ba60e"
      },
      "source": [
        "files.download('сводка.docx')"
      ],
      "execution_count": 51,
      "outputs": [
        {
          "output_type": "display_data",
          "data": {
            "application/javascript": [
              "\n",
              "    async function download(id, filename, size) {\n",
              "      if (!google.colab.kernel.accessAllowed) {\n",
              "        return;\n",
              "      }\n",
              "      const div = document.createElement('div');\n",
              "      const label = document.createElement('label');\n",
              "      label.textContent = `Downloading \"${filename}\": `;\n",
              "      div.appendChild(label);\n",
              "      const progress = document.createElement('progress');\n",
              "      progress.max = size;\n",
              "      div.appendChild(progress);\n",
              "      document.body.appendChild(div);\n",
              "\n",
              "      const buffers = [];\n",
              "      let downloaded = 0;\n",
              "\n",
              "      const channel = await google.colab.kernel.comms.open(id);\n",
              "      // Send a message to notify the kernel that we're ready.\n",
              "      channel.send({})\n",
              "\n",
              "      for await (const message of channel.messages) {\n",
              "        // Send a message to notify the kernel that we're ready.\n",
              "        channel.send({})\n",
              "        if (message.buffers) {\n",
              "          for (const buffer of message.buffers) {\n",
              "            buffers.push(buffer);\n",
              "            downloaded += buffer.byteLength;\n",
              "            progress.value = downloaded;\n",
              "          }\n",
              "        }\n",
              "      }\n",
              "      const blob = new Blob(buffers, {type: 'application/binary'});\n",
              "      const a = document.createElement('a');\n",
              "      a.href = window.URL.createObjectURL(blob);\n",
              "      a.download = filename;\n",
              "      div.appendChild(a);\n",
              "      a.click();\n",
              "      div.remove();\n",
              "    }\n",
              "  "
            ],
            "text/plain": [
              "<IPython.core.display.Javascript object>"
            ]
          },
          "metadata": {
            "tags": []
          }
        },
        {
          "output_type": "display_data",
          "data": {
            "application/javascript": [
              "download(\"download_8d299084-66d0-42a6-9d80-eece39140de7\", \"\\u0441\\u0432\\u043e\\u0434\\u043a\\u0430.docx\", 41994)"
            ],
            "text/plain": [
              "<IPython.core.display.Javascript object>"
            ]
          },
          "metadata": {
            "tags": []
          }
        }
      ]
    }
  ]
}