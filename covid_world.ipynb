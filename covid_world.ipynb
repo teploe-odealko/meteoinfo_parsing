{
  "nbformat": 4,
  "nbformat_minor": 0,
  "metadata": {
    "colab": {
      "name": "covid_world",
      "provenance": [],
      "collapsed_sections": [
        "hK78LzIp6BPO",
        "f8JdQPif6MYJ",
        "mhmg4VXD6lts",
        "eBylHB-o6ptj",
        "_VZtAxabZt7L",
        "bOgM-EiEFPyq",
        "vEh_QrVcAEy2",
        "gtJwGbwx1oZg"
      ],
      "include_colab_link": true
    },
    "kernelspec": {
      "display_name": "Python 3",
      "name": "python3"
    },
    "language_info": {
      "name": "python"
    }
  },
  "cells": [
    {
      "cell_type": "markdown",
      "metadata": {
        "id": "view-in-github",
        "colab_type": "text"
      },
      "source": [
        "<a href=\"https://colab.research.google.com/github/teploe-odealko/meteoinfo_parsing/blob/main/covid_world.ipynb\" target=\"_parent\"><img src=\"https://colab.research.google.com/assets/colab-badge.svg\" alt=\"Open In Colab\"/></a>"
      ]
    },
    {
      "cell_type": "markdown",
      "metadata": {
        "id": "NRjia9CSWwTS"
      },
      "source": [
        "#Загрузка шаблонов"
      ]
    },
    {
      "cell_type": "markdown",
      "metadata": {
        "id": "E5BtijRRXx8D"
      },
      "source": [
        "Шаблон табличной сводки по миру - файл xlsx"
      ]
    },
    {
      "cell_type": "code",
      "metadata": {
        "id": "-YB2llD_YClp",
        "colab": {
          "resources": {
            "http://localhost:8080/nbextensions/google.colab/files.js": {
              "data": "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",
              "ok": true,
              "headers": [
                [
                  "content-type",
                  "application/javascript"
                ]
              ],
              "status": 200,
              "status_text": ""
            }
          },
          "base_uri": "https://localhost:8080/",
          "height": 73
        },
        "outputId": "5714e481-11bc-4bd7-9c7a-424a07b1b639"
      },
      "source": [
        "from google.colab import files\n",
        "world_input_filename = files.upload()\n",
        "world_input_filename = next(iter(world_input_filename))"
      ],
      "execution_count": 1,
      "outputs": [
        {
          "output_type": "display_data",
          "data": {
            "text/html": [
              "\n",
              "     <input type=\"file\" id=\"files-5b46a8fc-e089-4224-b9aa-24bf0519da56\" name=\"files[]\" multiple disabled\n",
              "        style=\"border:none\" />\n",
              "     <output id=\"result-5b46a8fc-e089-4224-b9aa-24bf0519da56\">\n",
              "      Upload widget is only available when the cell has been executed in the\n",
              "      current browser session. Please rerun this cell to enable.\n",
              "      </output>\n",
              "      <script src=\"/nbextensions/google.colab/files.js\"></script> "
            ],
            "text/plain": [
              "<IPython.core.display.HTML object>"
            ]
          },
          "metadata": {
            "tags": []
          }
        },
        {
          "output_type": "stream",
          "text": [
            "Saving МИР21_29-07-2021.xlsx to МИР21_29-07-2021.xlsx\n"
          ],
          "name": "stdout"
        }
      ]
    },
    {
      "cell_type": "markdown",
      "metadata": {
        "id": "hK78LzIp6BPO"
      },
      "source": [
        "# Install & import"
      ]
    },
    {
      "cell_type": "code",
      "metadata": {
        "id": "5KPdbVBrLove"
      },
      "source": [
        "import time\n",
        "start_time = time.time()"
      ],
      "execution_count": 2,
      "outputs": []
    },
    {
      "cell_type": "code",
      "metadata": {
        "id": "_TVsyj3R6p6v"
      },
      "source": [
        "import os\n",
        "from datetime import datetime\n",
        "today = datetime.today().strftime(\"%d-%m-%Y\")\n",
        "if not os.path.exists(today):\n",
        "    os.mkdir(today)\n",
        "os.environ['FOLDER_NAME'] = today"
      ],
      "execution_count": 3,
      "outputs": []
    },
    {
      "cell_type": "markdown",
      "metadata": {
        "id": "f8JdQPif6MYJ"
      },
      "source": [
        "##install"
      ]
    },
    {
      "cell_type": "markdown",
      "metadata": {
        "id": "mhmg4VXD6lts"
      },
      "source": [
        "###Selenium web driver"
      ]
    },
    {
      "cell_type": "code",
      "metadata": {
        "colab": {
          "base_uri": "https://localhost:8080/"
        },
        "id": "_FGaXvBz6OIp",
        "outputId": "e21926d5-0063-42c2-97db-ea9d71d90658"
      },
      "source": [
        "!pip install selenium\n",
        "!apt-get update # to update ubuntu to correctly run apt install\n",
        "!apt install chromium-chromedriver\n",
        "!cp /usr/lib/chromium-browser/chromedriver /usr/bin\n",
        "import sys\n",
        "sys.path.insert(0,'/usr/lib/chromium-browser/chromedriver')\n",
        "from selenium import webdriver\n",
        "\n",
        "\n",
        "chrome_options = webdriver.ChromeOptions()\n",
        "chrome_options.add_argument('--headless')\n",
        "chrome_options.add_argument('--no-sandbox')\n",
        "chrome_options.add_argument('--disable-dev-shm-usage')\n",
        "wd = webdriver.Chrome('chromedriver',chrome_options=chrome_options)"
      ],
      "execution_count": 4,
      "outputs": [
        {
          "output_type": "stream",
          "text": [
            "Collecting selenium\n",
            "  Downloading selenium-3.141.0-py2.py3-none-any.whl (904 kB)\n",
            "\u001b[K     |████████████████████████████████| 904 kB 5.0 MB/s \n",
            "\u001b[?25hRequirement already satisfied: urllib3 in /usr/local/lib/python3.7/dist-packages (from selenium) (1.24.3)\n",
            "Installing collected packages: selenium\n",
            "Successfully installed selenium-3.141.0\n",
            "Get:1 http://security.ubuntu.com/ubuntu bionic-security InRelease [88.7 kB]\n",
            "Get:2 https://cloud.r-project.org/bin/linux/ubuntu bionic-cran40/ InRelease [3,626 B]\n",
            "Ign:3 https://developer.download.nvidia.com/compute/cuda/repos/ubuntu1804/x86_64  InRelease\n",
            "Get:4 http://ppa.launchpad.net/c2d4u.team/c2d4u4.0+/ubuntu bionic InRelease [15.9 kB]\n",
            "Hit:5 http://archive.ubuntu.com/ubuntu bionic InRelease\n",
            "Ign:6 https://developer.download.nvidia.com/compute/machine-learning/repos/ubuntu1804/x86_64  InRelease\n",
            "Get:7 https://developer.download.nvidia.com/compute/cuda/repos/ubuntu1804/x86_64  Release [697 B]\n",
            "Hit:8 https://developer.download.nvidia.com/compute/machine-learning/repos/ubuntu1804/x86_64  Release\n",
            "Get:9 https://developer.download.nvidia.com/compute/cuda/repos/ubuntu1804/x86_64  Release.gpg [836 B]\n",
            "Get:10 http://archive.ubuntu.com/ubuntu bionic-updates InRelease [88.7 kB]\n",
            "Get:11 http://security.ubuntu.com/ubuntu bionic-security/universe amd64 Packages [1,420 kB]\n",
            "Hit:12 http://ppa.launchpad.net/cran/libgit2/ubuntu bionic InRelease\n",
            "Get:13 http://security.ubuntu.com/ubuntu bionic-security/main amd64 Packages [2,258 kB]\n",
            "Get:14 http://archive.ubuntu.com/ubuntu bionic-backports InRelease [74.6 kB]\n",
            "Hit:15 http://ppa.launchpad.net/deadsnakes/ppa/ubuntu bionic InRelease\n",
            "Get:16 http://security.ubuntu.com/ubuntu bionic-security/multiverse amd64 Packages [26.7 kB]\n",
            "Get:17 http://security.ubuntu.com/ubuntu bionic-security/restricted amd64 Packages [505 kB]\n",
            "Get:18 http://ppa.launchpad.net/graphics-drivers/ppa/ubuntu bionic InRelease [21.3 kB]\n",
            "Ign:20 https://developer.download.nvidia.com/compute/cuda/repos/ubuntu1804/x86_64  Packages\n",
            "Get:20 https://developer.download.nvidia.com/compute/cuda/repos/ubuntu1804/x86_64  Packages [680 kB]\n",
            "Get:21 http://ppa.launchpad.net/c2d4u.team/c2d4u4.0+/ubuntu bionic/main Sources [1,785 kB]\n",
            "Get:22 http://archive.ubuntu.com/ubuntu bionic-updates/universe amd64 Packages [2,194 kB]\n",
            "Get:23 http://archive.ubuntu.com/ubuntu bionic-updates/restricted amd64 Packages [537 kB]\n",
            "Get:24 http://ppa.launchpad.net/c2d4u.team/c2d4u4.0+/ubuntu bionic/main amd64 Packages [913 kB]\n",
            "Get:25 http://archive.ubuntu.com/ubuntu bionic-updates/main amd64 Packages [2,694 kB]\n",
            "Get:26 http://archive.ubuntu.com/ubuntu bionic-updates/multiverse amd64 Packages [33.6 kB]\n",
            "Get:27 http://ppa.launchpad.net/graphics-drivers/ppa/ubuntu bionic/main amd64 Packages [44.1 kB]\n",
            "Fetched 13.4 MB in 4s (3,563 kB/s)\n",
            "Reading package lists... Done\n",
            "Reading package lists... Done\n",
            "Building dependency tree       \n",
            "Reading state information... Done\n",
            "The following additional packages will be installed:\n",
            "  chromium-browser chromium-browser-l10n chromium-codecs-ffmpeg-extra\n",
            "Suggested packages:\n",
            "  webaccounts-chromium-extension unity-chromium-extension\n",
            "The following NEW packages will be installed:\n",
            "  chromium-browser chromium-browser-l10n chromium-chromedriver\n",
            "  chromium-codecs-ffmpeg-extra\n",
            "0 upgraded, 4 newly installed, 0 to remove and 92 not upgraded.\n",
            "Need to get 86.0 MB of archives.\n",
            "After this operation, 298 MB of additional disk space will be used.\n",
            "Get:1 http://archive.ubuntu.com/ubuntu bionic-updates/universe amd64 chromium-codecs-ffmpeg-extra amd64 91.0.4472.101-0ubuntu0.18.04.1 [1,124 kB]\n",
            "Get:2 http://archive.ubuntu.com/ubuntu bionic-updates/universe amd64 chromium-browser amd64 91.0.4472.101-0ubuntu0.18.04.1 [76.1 MB]\n",
            "Get:3 http://archive.ubuntu.com/ubuntu bionic-updates/universe amd64 chromium-browser-l10n all 91.0.4472.101-0ubuntu0.18.04.1 [3,937 kB]\n",
            "Get:4 http://archive.ubuntu.com/ubuntu bionic-updates/universe amd64 chromium-chromedriver amd64 91.0.4472.101-0ubuntu0.18.04.1 [4,837 kB]\n",
            "Fetched 86.0 MB in 4s (22.9 MB/s)\n",
            "Selecting previously unselected package chromium-codecs-ffmpeg-extra.\n",
            "(Reading database ... 160837 files and directories currently installed.)\n",
            "Preparing to unpack .../chromium-codecs-ffmpeg-extra_91.0.4472.101-0ubuntu0.18.04.1_amd64.deb ...\n",
            "Unpacking chromium-codecs-ffmpeg-extra (91.0.4472.101-0ubuntu0.18.04.1) ...\n",
            "Selecting previously unselected package chromium-browser.\n",
            "Preparing to unpack .../chromium-browser_91.0.4472.101-0ubuntu0.18.04.1_amd64.deb ...\n",
            "Unpacking chromium-browser (91.0.4472.101-0ubuntu0.18.04.1) ...\n",
            "Selecting previously unselected package chromium-browser-l10n.\n",
            "Preparing to unpack .../chromium-browser-l10n_91.0.4472.101-0ubuntu0.18.04.1_all.deb ...\n",
            "Unpacking chromium-browser-l10n (91.0.4472.101-0ubuntu0.18.04.1) ...\n",
            "Selecting previously unselected package chromium-chromedriver.\n",
            "Preparing to unpack .../chromium-chromedriver_91.0.4472.101-0ubuntu0.18.04.1_amd64.deb ...\n",
            "Unpacking chromium-chromedriver (91.0.4472.101-0ubuntu0.18.04.1) ...\n",
            "Setting up chromium-codecs-ffmpeg-extra (91.0.4472.101-0ubuntu0.18.04.1) ...\n",
            "Setting up chromium-browser (91.0.4472.101-0ubuntu0.18.04.1) ...\n",
            "update-alternatives: using /usr/bin/chromium-browser to provide /usr/bin/x-www-browser (x-www-browser) in auto mode\n",
            "update-alternatives: using /usr/bin/chromium-browser to provide /usr/bin/gnome-www-browser (gnome-www-browser) in auto mode\n",
            "Setting up chromium-chromedriver (91.0.4472.101-0ubuntu0.18.04.1) ...\n",
            "Setting up chromium-browser-l10n (91.0.4472.101-0ubuntu0.18.04.1) ...\n",
            "Processing triggers for man-db (2.8.3-2ubuntu0.1) ...\n",
            "Processing triggers for hicolor-icon-theme (0.17-2) ...\n",
            "Processing triggers for mime-support (3.60ubuntu1) ...\n",
            "Processing triggers for libc-bin (2.27-3ubuntu1.2) ...\n",
            "/sbin/ldconfig.real: /usr/local/lib/python3.7/dist-packages/ideep4py/lib/libmkldnn.so.0 is not a symbolic link\n",
            "\n",
            "cp: '/usr/lib/chromium-browser/chromedriver' and '/usr/bin/chromedriver' are the same file\n"
          ],
          "name": "stdout"
        },
        {
          "output_type": "stream",
          "text": [
            "/usr/local/lib/python3.7/dist-packages/ipykernel_launcher.py:14: DeprecationWarning: use options instead of chrome_options\n",
            "  \n"
          ],
          "name": "stderr"
        }
      ]
    },
    {
      "cell_type": "markdown",
      "metadata": {
        "id": "eBylHB-o6ptj"
      },
      "source": [
        "###other"
      ]
    },
    {
      "cell_type": "code",
      "metadata": {
        "colab": {
          "base_uri": "https://localhost:8080/",
          "height": 0
        },
        "id": "7hwF_M436rPd",
        "outputId": "e756b707-195e-4b64-bca5-7a906ed6a82b"
      },
      "source": [
        "!pip install requests-html\n",
        "!pip install python-docx\n",
        "# !pip install pip install excel-formulas-calculator\n",
        "!git clone https://github.com/teploe-odealko/excel-formulas-calculator.git\n",
        "!pip install html2text"
      ],
      "execution_count": 5,
      "outputs": [
        {
          "output_type": "stream",
          "text": [
            "Collecting requests-html\n",
            "  Downloading requests_html-0.10.0-py3-none-any.whl (13 kB)\n",
            "Collecting parse\n",
            "  Downloading parse-1.19.0.tar.gz (30 kB)\n",
            "Collecting pyppeteer>=0.0.14\n",
            "  Downloading pyppeteer-0.2.5-py3-none-any.whl (87 kB)\n",
            "\u001b[K     |████████████████████████████████| 87 kB 3.4 MB/s \n",
            "\u001b[?25hRequirement already satisfied: bs4 in /usr/local/lib/python3.7/dist-packages (from requests-html) (0.0.1)\n",
            "Collecting pyquery\n",
            "  Downloading pyquery-1.4.3-py3-none-any.whl (22 kB)\n",
            "Requirement already satisfied: requests in /usr/local/lib/python3.7/dist-packages (from requests-html) (2.23.0)\n",
            "Collecting fake-useragent\n",
            "  Downloading fake-useragent-0.1.11.tar.gz (13 kB)\n",
            "Collecting w3lib\n",
            "  Downloading w3lib-1.22.0-py2.py3-none-any.whl (20 kB)\n",
            "Requirement already satisfied: appdirs<2.0.0,>=1.4.3 in /usr/local/lib/python3.7/dist-packages (from pyppeteer>=0.0.14->requests-html) (1.4.4)\n",
            "Collecting pyee<9.0.0,>=8.1.0\n",
            "  Downloading pyee-8.1.0-py2.py3-none-any.whl (12 kB)\n",
            "Collecting importlib-metadata<3.0.0,>=2.1.1\n",
            "  Downloading importlib_metadata-2.1.1-py2.py3-none-any.whl (10 kB)\n",
            "Collecting urllib3<2.0.0,>=1.25.8\n",
            "  Downloading urllib3-1.26.6-py2.py3-none-any.whl (138 kB)\n",
            "\u001b[K     |████████████████████████████████| 138 kB 46.3 MB/s \n",
            "\u001b[?25hCollecting tqdm<5.0.0,>=4.42.1\n",
            "  Downloading tqdm-4.61.2-py2.py3-none-any.whl (76 kB)\n",
            "\u001b[K     |████████████████████████████████| 76 kB 4.3 MB/s \n",
            "\u001b[?25hCollecting websockets<9.0,>=8.1\n",
            "  Downloading websockets-8.1-cp37-cp37m-manylinux2010_x86_64.whl (79 kB)\n",
            "\u001b[K     |████████████████████████████████| 79 kB 7.5 MB/s \n",
            "\u001b[?25hRequirement already satisfied: zipp>=0.5 in /usr/local/lib/python3.7/dist-packages (from importlib-metadata<3.0.0,>=2.1.1->pyppeteer>=0.0.14->requests-html) (3.5.0)\n",
            "Requirement already satisfied: beautifulsoup4 in /usr/local/lib/python3.7/dist-packages (from bs4->requests-html) (4.6.3)\n",
            "Requirement already satisfied: lxml>=2.1 in /usr/local/lib/python3.7/dist-packages (from pyquery->requests-html) (4.2.6)\n",
            "Collecting cssselect>0.7.9\n",
            "  Downloading cssselect-1.1.0-py2.py3-none-any.whl (16 kB)\n",
            "Requirement already satisfied: idna<3,>=2.5 in /usr/local/lib/python3.7/dist-packages (from requests->requests-html) (2.10)\n",
            "Collecting urllib3<2.0.0,>=1.25.8\n",
            "  Downloading urllib3-1.25.11-py2.py3-none-any.whl (127 kB)\n",
            "\u001b[K     |████████████████████████████████| 127 kB 62.5 MB/s \n",
            "\u001b[?25hRequirement already satisfied: chardet<4,>=3.0.2 in /usr/local/lib/python3.7/dist-packages (from requests->requests-html) (3.0.4)\n",
            "Requirement already satisfied: certifi>=2017.4.17 in /usr/local/lib/python3.7/dist-packages (from requests->requests-html) (2021.5.30)\n",
            "Requirement already satisfied: six>=1.4.1 in /usr/local/lib/python3.7/dist-packages (from w3lib->requests-html) (1.15.0)\n",
            "Building wheels for collected packages: fake-useragent, parse\n",
            "  Building wheel for fake-useragent (setup.py) ... \u001b[?25l\u001b[?25hdone\n",
            "  Created wheel for fake-useragent: filename=fake_useragent-0.1.11-py3-none-any.whl size=13503 sha256=e96a5fff971db498c4a1db8b877decfebc8cc54d2714735a3d1f6b57b42d79d8\n",
            "  Stored in directory: /root/.cache/pip/wheels/ed/f7/62/50ab6c9a0b5567267ab76a9daa9d06315704209b2c5d032031\n",
            "  Building wheel for parse (setup.py) ... \u001b[?25l\u001b[?25hdone\n",
            "  Created wheel for parse: filename=parse-1.19.0-py3-none-any.whl size=24591 sha256=b5839e94b4ea597b3a63c75a9066b7bf5fb5aeb01fd4f2d808eb926a6a2b11d5\n",
            "  Stored in directory: /root/.cache/pip/wheels/9c/aa/cc/f2228050ccb40f22144b073f15a2c84f11204f29fc0dce028e\n",
            "Successfully built fake-useragent parse\n",
            "Installing collected packages: websockets, urllib3, tqdm, pyee, importlib-metadata, cssselect, w3lib, pyquery, pyppeteer, parse, fake-useragent, requests-html\n",
            "  Attempting uninstall: urllib3\n",
            "    Found existing installation: urllib3 1.24.3\n",
            "    Uninstalling urllib3-1.24.3:\n",
            "      Successfully uninstalled urllib3-1.24.3\n",
            "  Attempting uninstall: tqdm\n",
            "    Found existing installation: tqdm 4.41.1\n",
            "    Uninstalling tqdm-4.41.1:\n",
            "      Successfully uninstalled tqdm-4.41.1\n",
            "  Attempting uninstall: importlib-metadata\n",
            "    Found existing installation: importlib-metadata 4.6.1\n",
            "    Uninstalling importlib-metadata-4.6.1:\n",
            "      Successfully uninstalled importlib-metadata-4.6.1\n",
            "\u001b[31mERROR: pip's dependency resolver does not currently take into account all the packages that are installed. This behaviour is the source of the following dependency conflicts.\n",
            "datascience 0.10.6 requires folium==0.2.1, but you have folium 0.8.3 which is incompatible.\u001b[0m\n",
            "Successfully installed cssselect-1.1.0 fake-useragent-0.1.11 importlib-metadata-2.1.1 parse-1.19.0 pyee-8.1.0 pyppeteer-0.2.5 pyquery-1.4.3 requests-html-0.10.0 tqdm-4.61.2 urllib3-1.25.11 w3lib-1.22.0 websockets-8.1\n"
          ],
          "name": "stdout"
        },
        {
          "output_type": "display_data",
          "data": {
            "application/vnd.colab-display-data+json": {
              "pip_warning": {
                "packages": [
                  "urllib3"
                ]
              }
            }
          },
          "metadata": {
            "tags": []
          }
        },
        {
          "output_type": "stream",
          "text": [
            "Collecting python-docx\n",
            "  Downloading python-docx-0.8.11.tar.gz (5.6 MB)\n",
            "\u001b[K     |████████████████████████████████| 5.6 MB 4.2 MB/s \n",
            "\u001b[?25hRequirement already satisfied: lxml>=2.3.2 in /usr/local/lib/python3.7/dist-packages (from python-docx) (4.2.6)\n",
            "Building wheels for collected packages: python-docx\n",
            "  Building wheel for python-docx (setup.py) ... \u001b[?25l\u001b[?25hdone\n",
            "  Created wheel for python-docx: filename=python_docx-0.8.11-py3-none-any.whl size=184507 sha256=1ae8b9631aaf88f78ed8db86f6fdfa8215ed7c9c06cb0ae99254ca596ed19ef9\n",
            "  Stored in directory: /root/.cache/pip/wheels/f6/6f/b9/d798122a8b55b74ad30b5f52b01482169b445fbb84a11797a6\n",
            "Successfully built python-docx\n",
            "Installing collected packages: python-docx\n",
            "Successfully installed python-docx-0.8.11\n",
            "Cloning into 'excel-formulas-calculator'...\n",
            "remote: Enumerating objects: 1364, done.\u001b[K\n",
            "remote: Counting objects: 100% (174/174), done.\u001b[K\n",
            "remote: Compressing objects: 100% (85/85), done.\u001b[K\n",
            "remote: Total 1364 (delta 116), reused 135 (delta 87), pack-reused 1190\u001b[K\n",
            "Receiving objects: 100% (1364/1364), 197.98 KiB | 6.19 MiB/s, done.\n",
            "Resolving deltas: 100% (934/934), done.\n",
            "Collecting html2text\n",
            "  Downloading html2text-2020.1.16-py3-none-any.whl (32 kB)\n",
            "Installing collected packages: html2text\n",
            "Successfully installed html2text-2020.1.16\n"
          ],
          "name": "stdout"
        }
      ]
    },
    {
      "cell_type": "code",
      "metadata": {
        "colab": {
          "base_uri": "https://localhost:8080/"
        },
        "id": "tix4GsVp7Ab0",
        "outputId": "d4f1d507-f09d-4cf2-83e9-ea63bf574cdb"
      },
      "source": [
        "cd excel-formulas-calculator/"
      ],
      "execution_count": 6,
      "outputs": [
        {
          "output_type": "stream",
          "text": [
            "/content/excel-formulas-calculator\n"
          ],
          "name": "stdout"
        }
      ]
    },
    {
      "cell_type": "code",
      "metadata": {
        "colab": {
          "base_uri": "https://localhost:8080/"
        },
        "id": "dh1LKNjv7Cqw",
        "outputId": "61726e19-e5a4-45bc-f3fc-b15e2d36770e"
      },
      "source": [
        "!sudo python setup.py install"
      ],
      "execution_count": 7,
      "outputs": [
        {
          "output_type": "stream",
          "text": [
            "running install\n",
            "running bdist_egg\n",
            "running egg_info\n",
            "creating excel_formulas_calculator.egg-info\n",
            "writing excel_formulas_calculator.egg-info/PKG-INFO\n",
            "writing dependency_links to excel_formulas_calculator.egg-info/dependency_links.txt\n",
            "writing requirements to excel_formulas_calculator.egg-info/requires.txt\n",
            "writing top-level names to excel_formulas_calculator.egg-info/top_level.txt\n",
            "writing manifest file 'excel_formulas_calculator.egg-info/SOURCES.txt'\n",
            "reading manifest template 'MANIFEST.in'\n",
            "warning: no files found matching 'tests'\n",
            "adding license file 'LICENSE'\n",
            "writing manifest file 'excel_formulas_calculator.egg-info/SOURCES.txt'\n",
            "installing library code to build/bdist.linux-x86_64/egg\n",
            "running install_lib\n",
            "running build_py\n",
            "creating build\n",
            "creating build/lib\n",
            "creating build/lib/tests\n",
            "copying tests/__init__.py -> build/lib/tests\n",
            "copying tests/test_utils.py -> build/lib/tests\n",
            "creating build/lib/efc\n",
            "copying efc/settings.py -> build/lib/efc\n",
            "copying efc/__init__.py -> build/lib/efc\n",
            "copying efc/utils.py -> build/lib/efc\n",
            "creating build/lib/tests/test_rpn\n",
            "copying tests/test_rpn/test_functions.py -> build/lib/tests/test_rpn\n",
            "copying tests/test_rpn/mock.py -> build/lib/tests/test_rpn\n",
            "copying tests/test_rpn/test_arith.py -> build/lib/tests/test_rpn\n",
            "copying tests/test_rpn/test_cells.py -> build/lib/tests/test_rpn\n",
            "copying tests/test_rpn/__init__.py -> build/lib/tests/test_rpn\n",
            "creating build/lib/tests/test_parser\n",
            "copying tests/test_parser/__init__.py -> build/lib/tests/test_parser\n",
            "copying tests/test_parser/test_parser.py -> build/lib/tests/test_parser\n",
            "creating build/lib/tests/test_interfaces\n",
            "copying tests/test_interfaces/test_iopenpyxl.py -> build/lib/tests/test_interfaces\n",
            "copying tests/test_interfaces/__init__.py -> build/lib/tests/test_interfaces\n",
            "creating build/lib/tests/test_lexer\n",
            "copying tests/test_lexer/test_tokens.py -> build/lib/tests/test_lexer\n",
            "copying tests/test_lexer/test_errors.py -> build/lib/tests/test_lexer\n",
            "copying tests/test_lexer/__init__.py -> build/lib/tests/test_lexer\n",
            "copying tests/test_lexer/test_lexer.py -> build/lib/tests/test_lexer\n",
            "creating build/lib/efc/base\n",
            "copying efc/base/errors.py -> build/lib/efc/base\n",
            "copying efc/base/__init__.py -> build/lib/efc/base\n",
            "creating build/lib/efc/rpn_builder\n",
            "copying efc/rpn_builder/rpn.py -> build/lib/efc/rpn_builder\n",
            "copying efc/rpn_builder/errors.py -> build/lib/efc/rpn_builder\n",
            "copying efc/rpn_builder/__init__.py -> build/lib/efc/rpn_builder\n",
            "creating build/lib/efc/interfaces\n",
            "copying efc/interfaces/base.py -> build/lib/efc/interfaces\n",
            "copying efc/interfaces/cache.py -> build/lib/efc/interfaces\n",
            "copying efc/interfaces/errors.py -> build/lib/efc/interfaces\n",
            "copying efc/interfaces/iopenpyxl.py -> build/lib/efc/interfaces\n",
            "copying efc/interfaces/__init__.py -> build/lib/efc/interfaces\n",
            "creating build/lib/efc/rpn_builder/lexer\n",
            "copying efc/rpn_builder/lexer/tokens.py -> build/lib/efc/rpn_builder/lexer\n",
            "copying efc/rpn_builder/lexer/errors.py -> build/lib/efc/rpn_builder/lexer\n",
            "copying efc/rpn_builder/lexer/__init__.py -> build/lib/efc/rpn_builder/lexer\n",
            "copying efc/rpn_builder/lexer/lexer.py -> build/lib/efc/rpn_builder/lexer\n",
            "creating build/lib/efc/rpn_builder/parser\n",
            "copying efc/rpn_builder/parser/functions.py -> build/lib/efc/rpn_builder/parser\n",
            "copying efc/rpn_builder/parser/parser.py -> build/lib/efc/rpn_builder/parser\n",
            "copying efc/rpn_builder/parser/errors.py -> build/lib/efc/rpn_builder/parser\n",
            "copying efc/rpn_builder/parser/metaclasses.py -> build/lib/efc/rpn_builder/parser\n",
            "copying efc/rpn_builder/parser/operands.py -> build/lib/efc/rpn_builder/parser\n",
            "copying efc/rpn_builder/parser/__init__.py -> build/lib/efc/rpn_builder/parser\n",
            "copying efc/rpn_builder/parser/operations.py -> build/lib/efc/rpn_builder/parser\n",
            "creating build/lib/tests/test_interfaces/fixtures\n",
            "copying tests/test_interfaces/fixtures/openpyxl.xlsx -> build/lib/tests/test_interfaces/fixtures\n",
            "creating build/bdist.linux-x86_64\n",
            "creating build/bdist.linux-x86_64/egg\n",
            "creating build/bdist.linux-x86_64/egg/tests\n",
            "creating build/bdist.linux-x86_64/egg/tests/test_rpn\n",
            "copying build/lib/tests/test_rpn/test_functions.py -> build/bdist.linux-x86_64/egg/tests/test_rpn\n",
            "copying build/lib/tests/test_rpn/mock.py -> build/bdist.linux-x86_64/egg/tests/test_rpn\n",
            "copying build/lib/tests/test_rpn/test_arith.py -> build/bdist.linux-x86_64/egg/tests/test_rpn\n",
            "copying build/lib/tests/test_rpn/test_cells.py -> build/bdist.linux-x86_64/egg/tests/test_rpn\n",
            "copying build/lib/tests/test_rpn/__init__.py -> build/bdist.linux-x86_64/egg/tests/test_rpn\n",
            "creating build/bdist.linux-x86_64/egg/tests/test_parser\n",
            "copying build/lib/tests/test_parser/__init__.py -> build/bdist.linux-x86_64/egg/tests/test_parser\n",
            "copying build/lib/tests/test_parser/test_parser.py -> build/bdist.linux-x86_64/egg/tests/test_parser\n",
            "creating build/bdist.linux-x86_64/egg/tests/test_interfaces\n",
            "creating build/bdist.linux-x86_64/egg/tests/test_interfaces/fixtures\n",
            "copying build/lib/tests/test_interfaces/fixtures/openpyxl.xlsx -> build/bdist.linux-x86_64/egg/tests/test_interfaces/fixtures\n",
            "copying build/lib/tests/test_interfaces/test_iopenpyxl.py -> build/bdist.linux-x86_64/egg/tests/test_interfaces\n",
            "copying build/lib/tests/test_interfaces/__init__.py -> build/bdist.linux-x86_64/egg/tests/test_interfaces\n",
            "creating build/bdist.linux-x86_64/egg/tests/test_lexer\n",
            "copying build/lib/tests/test_lexer/test_tokens.py -> build/bdist.linux-x86_64/egg/tests/test_lexer\n",
            "copying build/lib/tests/test_lexer/test_errors.py -> build/bdist.linux-x86_64/egg/tests/test_lexer\n",
            "copying build/lib/tests/test_lexer/__init__.py -> build/bdist.linux-x86_64/egg/tests/test_lexer\n",
            "copying build/lib/tests/test_lexer/test_lexer.py -> build/bdist.linux-x86_64/egg/tests/test_lexer\n",
            "copying build/lib/tests/__init__.py -> build/bdist.linux-x86_64/egg/tests\n",
            "copying build/lib/tests/test_utils.py -> build/bdist.linux-x86_64/egg/tests\n",
            "creating build/bdist.linux-x86_64/egg/efc\n",
            "creating build/bdist.linux-x86_64/egg/efc/base\n",
            "copying build/lib/efc/base/errors.py -> build/bdist.linux-x86_64/egg/efc/base\n",
            "copying build/lib/efc/base/__init__.py -> build/bdist.linux-x86_64/egg/efc/base\n",
            "copying build/lib/efc/settings.py -> build/bdist.linux-x86_64/egg/efc\n",
            "creating build/bdist.linux-x86_64/egg/efc/rpn_builder\n",
            "copying build/lib/efc/rpn_builder/rpn.py -> build/bdist.linux-x86_64/egg/efc/rpn_builder\n",
            "copying build/lib/efc/rpn_builder/errors.py -> build/bdist.linux-x86_64/egg/efc/rpn_builder\n",
            "creating build/bdist.linux-x86_64/egg/efc/rpn_builder/lexer\n",
            "copying build/lib/efc/rpn_builder/lexer/tokens.py -> build/bdist.linux-x86_64/egg/efc/rpn_builder/lexer\n",
            "copying build/lib/efc/rpn_builder/lexer/errors.py -> build/bdist.linux-x86_64/egg/efc/rpn_builder/lexer\n",
            "copying build/lib/efc/rpn_builder/lexer/__init__.py -> build/bdist.linux-x86_64/egg/efc/rpn_builder/lexer\n",
            "copying build/lib/efc/rpn_builder/lexer/lexer.py -> build/bdist.linux-x86_64/egg/efc/rpn_builder/lexer\n",
            "creating build/bdist.linux-x86_64/egg/efc/rpn_builder/parser\n",
            "copying build/lib/efc/rpn_builder/parser/functions.py -> build/bdist.linux-x86_64/egg/efc/rpn_builder/parser\n",
            "copying build/lib/efc/rpn_builder/parser/parser.py -> build/bdist.linux-x86_64/egg/efc/rpn_builder/parser\n",
            "copying build/lib/efc/rpn_builder/parser/errors.py -> build/bdist.linux-x86_64/egg/efc/rpn_builder/parser\n",
            "copying build/lib/efc/rpn_builder/parser/metaclasses.py -> build/bdist.linux-x86_64/egg/efc/rpn_builder/parser\n",
            "copying build/lib/efc/rpn_builder/parser/operands.py -> build/bdist.linux-x86_64/egg/efc/rpn_builder/parser\n",
            "copying build/lib/efc/rpn_builder/parser/__init__.py -> build/bdist.linux-x86_64/egg/efc/rpn_builder/parser\n",
            "copying build/lib/efc/rpn_builder/parser/operations.py -> build/bdist.linux-x86_64/egg/efc/rpn_builder/parser\n",
            "copying build/lib/efc/rpn_builder/__init__.py -> build/bdist.linux-x86_64/egg/efc/rpn_builder\n",
            "creating build/bdist.linux-x86_64/egg/efc/interfaces\n",
            "copying build/lib/efc/interfaces/base.py -> build/bdist.linux-x86_64/egg/efc/interfaces\n",
            "copying build/lib/efc/interfaces/cache.py -> build/bdist.linux-x86_64/egg/efc/interfaces\n",
            "copying build/lib/efc/interfaces/errors.py -> build/bdist.linux-x86_64/egg/efc/interfaces\n",
            "copying build/lib/efc/interfaces/iopenpyxl.py -> build/bdist.linux-x86_64/egg/efc/interfaces\n",
            "copying build/lib/efc/interfaces/__init__.py -> build/bdist.linux-x86_64/egg/efc/interfaces\n",
            "copying build/lib/efc/__init__.py -> build/bdist.linux-x86_64/egg/efc\n",
            "copying build/lib/efc/utils.py -> build/bdist.linux-x86_64/egg/efc\n",
            "byte-compiling build/bdist.linux-x86_64/egg/tests/test_rpn/test_functions.py to test_functions.cpython-37.pyc\n",
            "byte-compiling build/bdist.linux-x86_64/egg/tests/test_rpn/mock.py to mock.cpython-37.pyc\n",
            "byte-compiling build/bdist.linux-x86_64/egg/tests/test_rpn/test_arith.py to test_arith.cpython-37.pyc\n",
            "byte-compiling build/bdist.linux-x86_64/egg/tests/test_rpn/test_cells.py to test_cells.cpython-37.pyc\n",
            "byte-compiling build/bdist.linux-x86_64/egg/tests/test_rpn/__init__.py to __init__.cpython-37.pyc\n",
            "byte-compiling build/bdist.linux-x86_64/egg/tests/test_parser/__init__.py to __init__.cpython-37.pyc\n",
            "byte-compiling build/bdist.linux-x86_64/egg/tests/test_parser/test_parser.py to test_parser.cpython-37.pyc\n",
            "byte-compiling build/bdist.linux-x86_64/egg/tests/test_interfaces/test_iopenpyxl.py to test_iopenpyxl.cpython-37.pyc\n",
            "byte-compiling build/bdist.linux-x86_64/egg/tests/test_interfaces/__init__.py to __init__.cpython-37.pyc\n",
            "byte-compiling build/bdist.linux-x86_64/egg/tests/test_lexer/test_tokens.py to test_tokens.cpython-37.pyc\n",
            "byte-compiling build/bdist.linux-x86_64/egg/tests/test_lexer/test_errors.py to test_errors.cpython-37.pyc\n",
            "byte-compiling build/bdist.linux-x86_64/egg/tests/test_lexer/__init__.py to __init__.cpython-37.pyc\n",
            "byte-compiling build/bdist.linux-x86_64/egg/tests/test_lexer/test_lexer.py to test_lexer.cpython-37.pyc\n",
            "byte-compiling build/bdist.linux-x86_64/egg/tests/__init__.py to __init__.cpython-37.pyc\n",
            "byte-compiling build/bdist.linux-x86_64/egg/tests/test_utils.py to test_utils.cpython-37.pyc\n",
            "byte-compiling build/bdist.linux-x86_64/egg/efc/base/errors.py to errors.cpython-37.pyc\n",
            "byte-compiling build/bdist.linux-x86_64/egg/efc/base/__init__.py to __init__.cpython-37.pyc\n",
            "byte-compiling build/bdist.linux-x86_64/egg/efc/settings.py to settings.cpython-37.pyc\n",
            "byte-compiling build/bdist.linux-x86_64/egg/efc/rpn_builder/rpn.py to rpn.cpython-37.pyc\n",
            "byte-compiling build/bdist.linux-x86_64/egg/efc/rpn_builder/errors.py to errors.cpython-37.pyc\n",
            "byte-compiling build/bdist.linux-x86_64/egg/efc/rpn_builder/lexer/tokens.py to tokens.cpython-37.pyc\n",
            "byte-compiling build/bdist.linux-x86_64/egg/efc/rpn_builder/lexer/errors.py to errors.cpython-37.pyc\n",
            "byte-compiling build/bdist.linux-x86_64/egg/efc/rpn_builder/lexer/__init__.py to __init__.cpython-37.pyc\n",
            "byte-compiling build/bdist.linux-x86_64/egg/efc/rpn_builder/lexer/lexer.py to lexer.cpython-37.pyc\n",
            "byte-compiling build/bdist.linux-x86_64/egg/efc/rpn_builder/parser/functions.py to functions.cpython-37.pyc\n",
            "byte-compiling build/bdist.linux-x86_64/egg/efc/rpn_builder/parser/parser.py to parser.cpython-37.pyc\n",
            "byte-compiling build/bdist.linux-x86_64/egg/efc/rpn_builder/parser/errors.py to errors.cpython-37.pyc\n",
            "byte-compiling build/bdist.linux-x86_64/egg/efc/rpn_builder/parser/metaclasses.py to metaclasses.cpython-37.pyc\n",
            "byte-compiling build/bdist.linux-x86_64/egg/efc/rpn_builder/parser/operands.py to operands.cpython-37.pyc\n",
            "byte-compiling build/bdist.linux-x86_64/egg/efc/rpn_builder/parser/__init__.py to __init__.cpython-37.pyc\n",
            "byte-compiling build/bdist.linux-x86_64/egg/efc/rpn_builder/parser/operations.py to operations.cpython-37.pyc\n",
            "byte-compiling build/bdist.linux-x86_64/egg/efc/rpn_builder/__init__.py to __init__.cpython-37.pyc\n",
            "byte-compiling build/bdist.linux-x86_64/egg/efc/interfaces/base.py to base.cpython-37.pyc\n",
            "byte-compiling build/bdist.linux-x86_64/egg/efc/interfaces/cache.py to cache.cpython-37.pyc\n",
            "byte-compiling build/bdist.linux-x86_64/egg/efc/interfaces/errors.py to errors.cpython-37.pyc\n",
            "byte-compiling build/bdist.linux-x86_64/egg/efc/interfaces/iopenpyxl.py to iopenpyxl.cpython-37.pyc\n",
            "byte-compiling build/bdist.linux-x86_64/egg/efc/interfaces/__init__.py to __init__.cpython-37.pyc\n",
            "byte-compiling build/bdist.linux-x86_64/egg/efc/__init__.py to __init__.cpython-37.pyc\n",
            "byte-compiling build/bdist.linux-x86_64/egg/efc/utils.py to utils.cpython-37.pyc\n",
            "creating build/bdist.linux-x86_64/egg/EGG-INFO\n",
            "copying excel_formulas_calculator.egg-info/PKG-INFO -> build/bdist.linux-x86_64/egg/EGG-INFO\n",
            "copying excel_formulas_calculator.egg-info/SOURCES.txt -> build/bdist.linux-x86_64/egg/EGG-INFO\n",
            "copying excel_formulas_calculator.egg-info/dependency_links.txt -> build/bdist.linux-x86_64/egg/EGG-INFO\n",
            "copying excel_formulas_calculator.egg-info/requires.txt -> build/bdist.linux-x86_64/egg/EGG-INFO\n",
            "copying excel_formulas_calculator.egg-info/top_level.txt -> build/bdist.linux-x86_64/egg/EGG-INFO\n",
            "zip_safe flag not set; analyzing archive contents...\n",
            "tests.test_interfaces.__pycache__.test_iopenpyxl.cpython-37: module references __file__\n",
            "creating dist\n",
            "creating 'dist/excel_formulas_calculator-0.2.3-py3.7.egg' and adding 'build/bdist.linux-x86_64/egg' to it\n",
            "removing 'build/bdist.linux-x86_64/egg' (and everything under it)\n",
            "Processing excel_formulas_calculator-0.2.3-py3.7.egg\n",
            "creating /usr/local/lib/python3.7/dist-packages/excel_formulas_calculator-0.2.3-py3.7.egg\n",
            "Extracting excel_formulas_calculator-0.2.3-py3.7.egg to /usr/local/lib/python3.7/dist-packages\n",
            "Adding excel-formulas-calculator 0.2.3 to easy-install.pth file\n",
            "\n",
            "Installed /usr/local/lib/python3.7/dist-packages/excel_formulas_calculator-0.2.3-py3.7.egg\n",
            "Processing dependencies for excel-formulas-calculator==0.2.3\n",
            "Searching for six==1.15.0\n",
            "Best match: six 1.15.0\n",
            "Adding six 1.15.0 to easy-install.pth file\n",
            "\n",
            "Using /usr/local/lib/python3.7/dist-packages\n",
            "Finished processing dependencies for excel-formulas-calculator==0.2.3\n"
          ],
          "name": "stdout"
        }
      ]
    },
    {
      "cell_type": "markdown",
      "metadata": {
        "id": "NeQy59AT6Kxe"
      },
      "source": [
        "##import"
      ]
    },
    {
      "cell_type": "code",
      "metadata": {
        "id": "ri4Lu3ab6F9i"
      },
      "source": [
        "import openpyxl\n",
        "from openpyxl.worksheet.worksheet import Worksheet\n",
        "from openpyxl.formula import Tokenizer\n",
        "from openpyxl.formula.translate import Translator\n",
        "from openpyxl.utils.cell import get_column_letter\n",
        "from openpyxl.utils.dataframe import dataframe_to_rows\n",
        "from openpyxl.formatting.rule import FormulaRule\n",
        "from openpyxl.styles import Color, PatternFill, Font, Border\n",
        "\n",
        "from typing import Dict, List, Tuple\n",
        "from collections import defaultdict\n",
        "from copy import copy\n",
        "import glob\n",
        "import re\n",
        "import requests_html\n",
        "\n",
        "import pandas as pd\n",
        "import numpy as np\n",
        "\n",
        "import html2text\n",
        "import docx\n",
        "from docx.shared import RGBColor\n",
        "from bs4 import BeautifulSoup\n",
        "import urllib3\n",
        "from nltk.stem.snowball import SnowballStemmer\n",
        "from datetime import datetime, date, timedelta\n",
        "from efc.interfaces.iopenpyxl import OpenpyxlInterface\n"
      ],
      "execution_count": 8,
      "outputs": []
    },
    {
      "cell_type": "code",
      "metadata": {
        "colab": {
          "base_uri": "https://localhost:8080/"
        },
        "id": "sw6QSsTT7DM4",
        "outputId": "512c3324-e42d-41d2-e7c3-c3fdddc4a615"
      },
      "source": [
        "cd ../"
      ],
      "execution_count": 9,
      "outputs": [
        {
          "output_type": "stream",
          "text": [
            "/content\n"
          ],
          "name": "stdout"
        }
      ]
    },
    {
      "cell_type": "markdown",
      "metadata": {
        "id": "tso9WDhP6IPc"
      },
      "source": [
        "##constants"
      ]
    },
    {
      "cell_type": "code",
      "metadata": {
        "id": "7WnJfehO6HuX"
      },
      "source": [
        "WEEKLY_REPORT_DAY = 1\n",
        "countries_map = {\"United States\": \"США\", \"Diamond Princess\": \"Судно \\\"Diamond Princess\\\"\",  \"MS Zaandam\":  \"Судно \\\"MS Zaandam\\\"\",\n",
        "                \"Taiwan*\":\"Тайвань\", \"Timor-Leste\":\"Восточный Тимор\", \"US\":\"США\", \"West Bank and Gaza\":\"Западный берег реки Иордан\", \"Syria\": \"Сирия\", \"Slovakia\": \"Словакия\", \"Sao Tome and Principe\": \"Сан-Томе и Принсипи\", \"Russia\": \"Россия\",\n",
        "                 \"Korea, South\": \"Южная Корея\", \"Iran\": \"Иран\", \"Eswatini\": \"Эсватини\", \"Cote d'Ivoire\": \"Кот-д’Ивуар\", \"Congo (Kinshasa)\": \"ДР Конго\", \"Congo (Brazzaville)\":\"Республика Конго\",\n",
        "                 \"Cabo Verde\":\"Кабо-Верде\", \"Burma\": \"Мьянма\", \"Afghanistan\":  \"Афганистан\", \"Albania\":  \"Албания\", \"Algeria\":  \"Алжир\", \"American Samoa\":  \"Американское Самоа\", \"Andorra\":  \"Андорра\", \"Angola\":  \"Ангола\", \"Anguilla\": \"Ангилья\",\n",
        "                 \"Antarctica\":  \"Антарктика\", \"Antigua and Barbuda\":  \"Антигуа и Барбуда\", \"Argentina\":  \"Аргентина\", \"Armenia\":  \"Армения\", \"Aruba\":  \"Аруба\", \"Australia\":  \"Австралия\", \"Austria\":  \"Австрия\", \"Azerbaijan\":  \"Азербайджан\", \n",
        "                 \"Bahamas\":  \"Багамские острова\", \"Bahrain\":  \"Бахрейн\", \"Bangladesh\":  \"Бангладеш\", \"Barbados\":  \"Барбадос\", \"Belarus\":  \"Беларусь\", \"Belgium\":  \"Бельгия\", \"Belize\":  \"Белиз\", \"Benin\":  \"Бенин\", \n",
        "                 \"Bermuda\": \"Бермудские Острова\", \"Bhutan\":  \"Бутан\", \"Bolivia\":  \"Боливия\", \"Bosnia and Herzegovina\":  \"Босния и Герцеговина\", \"Botswana\":  \"Ботсвана\", \"Brazil\":  \"Бразилия\", \"Brunei\":  \"Бруней\", \"Bulgaria\":  \"Болгария\",\n",
        "                 \"Burkina Faso\":  \"Буркина-Фасо\", \"Burundi\":  \"Бурунди\", \"Cambodia\":  \"Камбоджа\", \"Cameroon\":  \"Камерун\", \"Canada\":  \"Канада\", \"Cape Verde\":  \"Кабо-Верде\", \"Cayman Islands\":  \"Острова Кайман\",\n",
        "                 \"Central African Republic\":  \"ЦАР\", \"Chad\":  \"Чад\", \"Chile\":  \"Чили\", \"China\":  \"Китай\", \"Colombia\":  \"Колумбия\", \"Comoros\":  \"Коморские острова\",\n",
        "                 \"Cook Islands\":  \"Острова Кука\", \"Costa Rica\":  \"Коста-Рика\",\n",
        "                 \"Ivory Coast (Cote d'Ivoire)\":  \"Кот-д’Ивуар\", \"Croatia\":  \"Хорватия\", \"Cuba\":  \"Куба\", \"Cyprus\":  \"Кипр\", \"Czechia\":  \"Чехия\", \"Denmark\":  \"Дания\", \"Djibouti\":  \"Джибути\", \"Dominica\":  \"Доминика\",\n",
        "                 \"Dominican Republic\":  \"Доминиканская Республика\", \"East Timor (Timor-Leste)\":  \"Восточный Тимор\", \"Ecuador\":  \"Эквадор\", \"Egypt\":  \"Египет\", \"El Salvador\":  \"Сальвадор\", \"Equatorial Guinea\":  \"Экваториальная Гвинея\",\n",
        "                 \"Eritrea\":  \"Эритрея\", \"Estonia\":  \"Эстония\", \"Ethiopia\":  \"Эфиопия\", \"Falkland Islands\":  \"Фолклендские острова\", \"Faroe Islands\":  \"Фарерские острова\", \"Fiji\":  \"Фиджи\", \"Finland\":  \"Финляндия\", \"France\":  \"Франция\",\n",
        "                 \"French Guiana\":  \"Гвиана\", \"French Polynesia\":  \"Французская Полинезия\", \"Gabon\":  \"Габон\", \"Gambia\":  \"Гамбия\", \"Georgia\":  \"Грузия\", \"Germany\":  \"Германия\", \"Ghana\":  \"Гана\", \"Gibraltar\":  \"Гибралтар\",\n",
        "                 \"Greece\":  \"Греция\", \"Greenland\":  \"Гренландия\", \"Grenada\":  \"Гренада\", \"Guadeloupe\":  \"Гваделупа\", \"Guam\":  \"Гуам\", \"Guatemala\":  \"Гватемала\", \"Guinea\":  \"Гвинея\", \"Guinea-Bissau\":  \"Гвинея-Бисау\",\n",
        "                 \"Guyana\":  \"Гайана\", \"Haiti\":  \"Гаити\", \"Honduras\":  \"Гондурас\", \"Hong Kong\":  \"Гонконг\", \"Hungary\":  \"Венгрия\", \"Iceland\":  \"Исландия\", \"India\":  \"Индия\", \"Indonesia\":  \"Индонезия\",\n",
        "                 \"Iran (Islamic Republic of)\":  \"Иран (Персия)\", \"Iraq\":  \"Ирак\", \"Ireland\":  \"Ирландия\", \"Israel\":  \"Израиль\", \"Italy\":  \"Италия\", \"Jamaica\":  \"Ямайка\", \"Japan\":  \"Япония\", \"Jordan\":  \"Иордания\",\n",
        "                 \"Kazakhstan\":  \"Казахстан\", \"Kenya\":  \"Кения\", \"Kiribati\":  \"Кирибати\", \"Korea, Democratic People's Rep. (North Korea)\":  \"Северная Корея (КНДР)\", \"Korea, Republic of (South Korea)\":  \"Ю́жная Коре́я (Республика Корея)\",\n",
        "                 \"Kosovo\":  \"Косово и Метохия\", \"Kuwait\":  \"Кувейт\", \"Kyrgyzstan\":  \"Киргизия\", \"Laos\":  \"Лаос\", \"Latvia\":  \"Латвия\", \"Lebanon\":  \"Ливан\", \"Lesotho\":  \"Лесото\", \"Liberia\":  \"Либерия\",\n",
        "                 \"Libya\":  \"Ливия\", \"Liechtenstein\":  \"Лихтенштейн\", \"Lithuania\":  \"Литва\", \"Luxembourg\":  \"Люксембург\", \"Macau\":  \"Макао (Аомынь)\", \"North Macedonia\":  \"Северная Македония\", \"Madagascar\":  \"Мадагаскар\", \"Malawi\":  \"Малави\",\n",
        "                 \"Malaysia\":  \"Малайзия\", \"Maldives\":  \"Мальдивы\", \"Mali\":  \"Мали\", \"Malta\":  \"Мальта\", \"Martinique\":  \"Мартиника\", \"Mauritania\":  \"Мавритания\", \"Mauritius\":  \"Маврикий\", \"Mayotte\":  \"Майотта\", \"Mexico\":  \"Мексика\",\n",
        "                 \"Микронезия, Federated States of\":  \"Федеративные Штаты Микронезии\", \"Moldova\":  \"Молдавия\", \"Monaco\":  \"Монако\", \"Mongolia\":  \"Монголия\", \"Montenegro\":  \"Черногория\", \"Montserrat\":  \"Монтсеррат\", \n",
        "                 \"Morocco\":  \"Марокко\", \"Mozambique\":  \"Мозамбик\", \"Myanmar, Burma\":  \"Мьянма, (Би́рма)\", \"Namibia\":  \"Намибия\", \"Nauru\":  \"Науру\", \"Nepal\":  \"Непал\", \"Netherlands\":  \"Нидерланды\", \"New Caledonia\":  \"Новая Каледония\", \n",
        "                 \"New Zealand\":  \"Новая Зеландия\", \"Nicaragua\":  \"Никарагуа\", \"Niger\":  \"Нигер\", \"Nigeria\":  \"Нигерия\", \"Northern Mariana Islands\":  \"Северные Марианские\", \"\":  \"острова\", \"Norway\":  \"Норвегия\", \"Oman\":  \"Оман\", \n",
        "                 \"Pakistan\":  \"Пакистан\", \"Palau\":  \"Палау\", \"State of Palestine\":  \"Государство Палестина\", \"Panama\":  \"Панама\", \"Papua New Guinea\":  \"Папуа — Новая Гвинея\", \"Paraguay\":  \"Парагвай\", \"Peru\":  \"Перу\", \"Philippines\":  \"Филиппины\", \n",
        "                 \"Poland\":  \"Польша\", \"Portugal\":  \"Португалия\", \"Puerto Rico\":  \"Пуэрто-Рико\", \"Qatar\":  \"Катар\", \"Réunion\":  \"Реюньон\", \"Romania\":  \"Румыния\", \"Russian Federation\":  \"Россия, Росси́йская Федера́ция\", \"Rwanda\":  \"Руанда\",\n",
        "                 \"Saint Kitts and Nevis\":  \"Сент-Китс и Невис\", \"Saint Lucia\":  \"Сент-Люсия\", \"Saint Vincent and the Grenadines\":  \"Сент-Винсент и Гренадины\", \"Samoa\":  \"Самоа\", \"San Marino\":  \"Сан-Марино\", \n",
        "                 \"Sao Tome and Príncipe\":  \"Сан-Томе и Принсипи\", \"Saudi Arabia\":  \"Саудовская Аравия\", \"Senegal\":  \"Сенегал\", \"Serbia\":  \"Сербия\", \"Seychelles\":  \"Сейшельские острова\", \"Sierra Leone\":  \"Сьерра-Леоне\", \n",
        "                 \"Singapore\":  \"Сингапур\", \"Slovakia (Slovak Republic)\":  \"Словакия\", \"Slovenia\":  \"Словения\", \"Solomon Islands\":  \"Соломоновы острова\", \"Somalia\":  \"Сомали\", \"South Africa\":  \"ЮАР\", \"South Sudan\":  \"Южный Судан\", \n",
        "                 \"Spain\":  \"Испания\", \"Sri Lanka\":  \"Шри-Ланка\", \"Sudan\":  \"Судан\", \"Suriname\":  \"Суринам\", \"Swaziland (Eswatini)\":  \"Сва́зиле́нд (Эсватини)\", \"Sweden\":  \"Швеция\", \"Switzerland\":  \"Швейцария\", \n",
        "                 \"Syria, Syrian Arab Republic\":  \"Сирия\", \"Taiwan\":  \"Китайская Республика (Тайвань)\", \"Tajikistan\":  \"Таджикистан\", \"Tanzania\":  \"Танзания\", \"Thailand\":  \"Таиланд\", \"Tibet\":  \"Тибет\", \n",
        "                 \"Timor-Leste (East Timor)\":  \"Восточный Тимор\", \"Togo\":  \"Того\", \"Tokelau\":  \"Токелау\", \"Tonga\":  \"Тонга\", \"Trinidad and Tobago\":  \"Тринидад и Тобаго\", \"Tunisia\":  \"Тунис\", \"Turkey\":  \"Турция\", \"Turkmenistan\":  \"Туркмения\", \n",
        "                 \"Tuvalu\":  \"Тувалу\", \"Uganda\":  \"Уганда\", \"Ukraine\":  \"Украина\", \"United Arab Emirates\":  \"ОАЭ\", \"United Kingdom\":  \"Великобритания\", \n",
        "                 \"Uruguay\":  \"Уругвай\", \"Uzbekistan\":  \"Узбекистан\", \"Vanuatu\":  \"Вануату\", \"Holy See\":  \"Папский Престол\", \"Venezuela\":  \"Венесуэла\", \"Vietnam\":  \"Вьетнам\", \n",
        "                 \"Virgin Islands (British)\":  \"Виргинские Острова (Великобритания)\", \"Virgin Islands (U.S.)\":  \"Виргинские Острова (США)\", \"Wallis and Futuna Islands\":  \"Уоллис и Футуна\", \"Western Sahara\":  \"Западная Сахара\",\n",
        "                 \"Yemen\":  \"Йемен\", \"Zambia\":  \"Замбия\", \"Zimbabwe\":  \"Зимбабве\"}"
      ],
      "execution_count": 10,
      "outputs": []
    },
    {
      "cell_type": "markdown",
      "metadata": {
        "id": "_VZtAxabZt7L"
      },
      "source": [
        "#Подготовка данных с репозитория университета Хопкинса"
      ]
    },
    {
      "cell_type": "code",
      "metadata": {
        "id": "r-PoSqyKKcP1",
        "colab": {
          "base_uri": "https://localhost:8080/"
        },
        "outputId": "66d67c78-466b-4a93-f6f6-e2dff24ce0f9"
      },
      "source": [
        "!add-apt-repository ppa:git-core/ppa -y\n",
        "!apt update; apt install git\n",
        "!git clone --depth 1 --filter=blob:none --spars https://github.com/CSSEGISandData/COVID-19"
      ],
      "execution_count": 11,
      "outputs": [
        {
          "output_type": "stream",
          "text": [
            "\r0% [Working]\r            \rHit:1 http://security.ubuntu.com/ubuntu bionic-security InRelease\n",
            "\r0% [Connecting to archive.ubuntu.com] [Connecting to cloud.r-project.org (65.8.\r0% [1 InRelease gpgv 88.7 kB] [Connecting to archive.ubuntu.com] [Connecting to\r                                                                               \rIgn:2 https://developer.download.nvidia.com/compute/cuda/repos/ubuntu1804/x86_64  InRelease\n",
            "Hit:3 https://cloud.r-project.org/bin/linux/ubuntu bionic-cran40/ InRelease\n",
            "Hit:4 http://ppa.launchpad.net/c2d4u.team/c2d4u4.0+/ubuntu bionic InRelease\n",
            "Ign:5 https://developer.download.nvidia.com/compute/machine-learning/repos/ubuntu1804/x86_64  InRelease\n",
            "Hit:6 https://developer.download.nvidia.com/compute/cuda/repos/ubuntu1804/x86_64  Release\n",
            "Hit:7 https://developer.download.nvidia.com/compute/machine-learning/repos/ubuntu1804/x86_64  Release\n",
            "Hit:8 http://archive.ubuntu.com/ubuntu bionic InRelease\n",
            "Hit:9 http://archive.ubuntu.com/ubuntu bionic-updates InRelease\n",
            "Hit:10 http://ppa.launchpad.net/cran/libgit2/ubuntu bionic InRelease\n",
            "Hit:11 http://archive.ubuntu.com/ubuntu bionic-backports InRelease\n",
            "Hit:12 http://ppa.launchpad.net/deadsnakes/ppa/ubuntu bionic InRelease\n",
            "Get:13 http://ppa.launchpad.net/git-core/ppa/ubuntu bionic InRelease [20.8 kB]\n",
            "Hit:15 http://ppa.launchpad.net/graphics-drivers/ppa/ubuntu bionic InRelease\n",
            "Get:17 http://ppa.launchpad.net/git-core/ppa/ubuntu bionic/main amd64 Packages [3,163 B]\n",
            "Fetched 23.9 kB in 3s (8,893 B/s)\n",
            "Reading package lists... Done\n",
            "Hit:1 http://security.ubuntu.com/ubuntu bionic-security InRelease\n",
            "Ign:2 https://developer.download.nvidia.com/compute/cuda/repos/ubuntu1804/x86_64  InRelease\n",
            "Hit:3 https://cloud.r-project.org/bin/linux/ubuntu bionic-cran40/ InRelease\n",
            "Ign:4 https://developer.download.nvidia.com/compute/machine-learning/repos/ubuntu1804/x86_64  InRelease\n",
            "Hit:5 https://developer.download.nvidia.com/compute/cuda/repos/ubuntu1804/x86_64  Release\n",
            "Hit:6 http://archive.ubuntu.com/ubuntu bionic InRelease\n",
            "Hit:7 http://ppa.launchpad.net/c2d4u.team/c2d4u4.0+/ubuntu bionic InRelease\n",
            "Hit:8 https://developer.download.nvidia.com/compute/machine-learning/repos/ubuntu1804/x86_64  Release\n",
            "Hit:9 http://archive.ubuntu.com/ubuntu bionic-updates InRelease\n",
            "Hit:10 http://archive.ubuntu.com/ubuntu bionic-backports InRelease\n",
            "Hit:11 http://ppa.launchpad.net/cran/libgit2/ubuntu bionic InRelease\n",
            "Hit:12 http://ppa.launchpad.net/deadsnakes/ppa/ubuntu bionic InRelease\n",
            "Hit:13 http://ppa.launchpad.net/git-core/ppa/ubuntu bionic InRelease\n",
            "Hit:15 http://ppa.launchpad.net/graphics-drivers/ppa/ubuntu bionic InRelease\n",
            "Reading package lists... Done\n",
            "Building dependency tree       \n",
            "Reading state information... Done\n",
            "94 packages can be upgraded. Run 'apt list --upgradable' to see them.\n",
            "Reading package lists... Done\n",
            "Building dependency tree       \n",
            "Reading state information... Done\n",
            "The following additional packages will be installed:\n",
            "  git-man\n",
            "Suggested packages:\n",
            "  gettext-base git-daemon-run | git-daemon-sysvinit git-doc git-email git-gui\n",
            "  gitk gitweb git-cvs git-mediawiki git-svn\n",
            "The following packages will be upgraded:\n",
            "  git git-man\n",
            "2 upgraded, 0 newly installed, 0 to remove and 92 not upgraded.\n",
            "Need to get 7,455 kB of archives.\n",
            "After this operation, 4,983 kB of additional disk space will be used.\n",
            "Get:1 http://ppa.launchpad.net/git-core/ppa/ubuntu bionic/main amd64 git amd64 1:2.32.0-1~ppa0~ubuntu18.04.1 [5,589 kB]\n",
            "Get:2 http://ppa.launchpad.net/git-core/ppa/ubuntu bionic/main amd64 git-man all 1:2.32.0-1~ppa0~ubuntu18.04.1 [1,866 kB]\n",
            "Fetched 7,455 kB in 2s (4,068 kB/s)\n",
            "(Reading database ... 161202 files and directories currently installed.)\n",
            "Preparing to unpack .../git_1%3a2.32.0-1~ppa0~ubuntu18.04.1_amd64.deb ...\n",
            "Unpacking git (1:2.32.0-1~ppa0~ubuntu18.04.1) over (1:2.17.1-1ubuntu0.8) ...\n",
            "Preparing to unpack .../git-man_1%3a2.32.0-1~ppa0~ubuntu18.04.1_all.deb ...\n",
            "Unpacking git-man (1:2.32.0-1~ppa0~ubuntu18.04.1) over (1:2.17.1-1ubuntu0.8) ...\n",
            "Setting up git-man (1:2.32.0-1~ppa0~ubuntu18.04.1) ...\n",
            "Setting up git (1:2.32.0-1~ppa0~ubuntu18.04.1) ...\n",
            "Processing triggers for man-db (2.8.3-2ubuntu0.1) ...\n",
            "Cloning into 'COVID-19'...\n",
            "remote: Enumerating objects: 12, done.\u001b[K\n",
            "remote: Counting objects: 100% (12/12), done.\u001b[K\n",
            "remote: Compressing objects: 100% (12/12), done.\u001b[K\n",
            "remote: Total 12 (delta 0), reused 6 (delta 0), pack-reused 0\u001b[K\n",
            "Receiving objects: 100% (12/12), 31.91 KiB | 31.91 MiB/s, done.\n",
            "remote: Enumerating objects: 2, done.\u001b[K\n",
            "remote: Counting objects: 100% (2/2), done.\u001b[K\n",
            "remote: Total 2 (delta 0), reused 1 (delta 0), pack-reused 0\u001b[K\n",
            "Receiving objects: 100% (2/2), 9.46 KiB | 9.46 MiB/s, done.\n"
          ],
          "name": "stdout"
        }
      ]
    },
    {
      "cell_type": "code",
      "metadata": {
        "colab": {
          "base_uri": "https://localhost:8080/"
        },
        "id": "Q5IpgnJzL5gr",
        "outputId": "a7731eec-6332-4d60-ec4d-95fff398cd62"
      },
      "source": [
        "cd COVID-19/"
      ],
      "execution_count": 12,
      "outputs": [
        {
          "output_type": "stream",
          "text": [
            "/content/COVID-19\n"
          ],
          "name": "stdout"
        }
      ]
    },
    {
      "cell_type": "code",
      "metadata": {
        "id": "5X4p337ZL6Wf"
      },
      "source": [
        "# !git sparse-checkout set csse_covid_19_data/csse_covid_19_daily_reports"
      ],
      "execution_count": 13,
      "outputs": []
    },
    {
      "cell_type": "code",
      "metadata": {
        "id": "gN6rPVb4OJw1",
        "colab": {
          "base_uri": "https://localhost:8080/"
        },
        "outputId": "5dbdcfc2-6394-4e02-f846-53eb647abd8f"
      },
      "source": [
        "!git sparse-checkout set csse_covid_19_data/csse_covid_19_time_series"
      ],
      "execution_count": 14,
      "outputs": [
        {
          "output_type": "stream",
          "text": [
            "remote: Enumerating objects: 7, done.\u001b[K\n",
            "remote: Counting objects: 100% (7/7), done.\u001b[K\n",
            "remote: Compressing objects: 100% (7/7), done.\u001b[K\n",
            "remote: Total 7 (delta 1), reused 0 (delta 0), pack-reused 0\u001b[K\n",
            "Receiving objects: 100% (7/7), 3.66 MiB | 3.99 MiB/s, done.\n",
            "Resolving deltas: 100% (1/1), done.\n",
            "Updating files: 100% (10/10), done.\n"
          ],
          "name": "stdout"
        }
      ]
    },
    {
      "cell_type": "code",
      "metadata": {
        "id": "u6SncAu_OPU5"
      },
      "source": [
        ""
      ],
      "execution_count": 14,
      "outputs": []
    },
    {
      "cell_type": "code",
      "metadata": {
        "colab": {
          "base_uri": "https://localhost:8080/"
        },
        "id": "iJICf52dLGdG",
        "outputId": "0ea3d251-5563-4be9-8319-0310edd7fa76"
      },
      "source": [
        "cd .."
      ],
      "execution_count": 15,
      "outputs": [
        {
          "output_type": "stream",
          "text": [
            "/content\n"
          ],
          "name": "stdout"
        }
      ]
    },
    {
      "cell_type": "code",
      "metadata": {
        "id": "AzCGEAMiOeOb"
      },
      "source": [
        "confirmed_ts = pd.read_csv('/content/COVID-19/csse_covid_19_data/csse_covid_19_time_series/time_series_covid19_confirmed_global.csv')\n",
        "deaths_ts = pd.read_csv('/content/COVID-19/csse_covid_19_data/csse_covid_19_time_series/time_series_covid19_deaths_global.csv')\n",
        "recovered_ts = pd.read_csv('/content/COVID-19/csse_covid_19_data/csse_covid_19_time_series/time_series_covid19_recovered_global.csv')"
      ],
      "execution_count": 16,
      "outputs": []
    },
    {
      "cell_type": "code",
      "metadata": {
        "id": "wm9J4d6YP_ck"
      },
      "source": [
        ""
      ],
      "execution_count": 16,
      "outputs": []
    },
    {
      "cell_type": "code",
      "metadata": {
        "id": "p9nCvdnmOjSt"
      },
      "source": [
        "confirmed_ts = confirmed_ts.groupby('Country/Region').sum().iloc[:,2:]\n",
        "deaths_ts = deaths_ts.groupby('Country/Region').sum().iloc[:,2:]\n",
        "recovered_ts = recovered_ts.groupby('Country/Region').sum().iloc[:,2:]"
      ],
      "execution_count": 17,
      "outputs": []
    },
    {
      "cell_type": "code",
      "metadata": {
        "id": "YvCoxFz5QEZa"
      },
      "source": [
        "li = []\n",
        "for i in range(len(confirmed_ts)):\n",
        "    tmp = pd.DataFrame()\n",
        "    tmp['Дата'] = confirmed_ts.iloc[i,:].index\n",
        "    tmp['Страна'] = confirmed_ts.iloc[i,:].name\n",
        "    tmp['Заражений'] = confirmed_ts.iloc[i,:].values\n",
        "    tmp['Заражений за день'] = tmp['Заражений'].diff(1)\n",
        "    tmp['Заражений(МА)'] = tmp['Заражений за день'].rolling(7).sum()\n",
        "    tmp['Смертей'] = deaths_ts.iloc[i,:].values\n",
        "    tmp['Смертей за день'] = tmp['Смертей'].diff(1)\n",
        "    tmp['Выздоровлений'] = recovered_ts.iloc[i,:].values\n",
        "    tmp['Выздоровлений за день'] = tmp['Выздоровлений'].diff(1)\n",
        "    li.append(tmp)"
      ],
      "execution_count": 18,
      "outputs": []
    },
    {
      "cell_type": "code",
      "metadata": {
        "id": "IZ0OqPEDSqM1"
      },
      "source": [
        "df = pd.concat(li, axis=0, ignore_index=True)"
      ],
      "execution_count": 19,
      "outputs": []
    },
    {
      "cell_type": "code",
      "metadata": {
        "id": "dfL9YDjojTqT"
      },
      "source": [
        "df = df[['Страна', 'Дата', 'Заражений', 'Заражений за день', 'Заражений(МА)',\n",
        "       'Смертей', 'Смертей за день', 'Выздоровлений', 'Выздоровлений за день']]"
      ],
      "execution_count": 20,
      "outputs": []
    },
    {
      "cell_type": "code",
      "metadata": {
        "id": "s0BYfc2iMcjA"
      },
      "source": [
        "# path = r'/content/COVID-19/csse_covid_19_data/csse_covid_19_daily_reports' # use your path\n",
        "# all_files = glob.glob(path + \"/*.csv\")\n",
        "\n",
        "# li = []\n",
        "\n",
        "# for filename_csv in all_files:\n",
        "#     df = pd.read_csv(filename_csv, index_col=None, header=0)\n",
        "#     df['Last_Update'] = filename_csv.split('.')[0].split('/')[-1]\n",
        "#     li.append(df)\n",
        "\n",
        "# frame = pd.concat(li, axis=0, ignore_index=True)\n",
        "# frame['Last_Update'] = pd.to_datetime(frame['Last_Update'], format='%m-%d-%Y')"
      ],
      "execution_count": 21,
      "outputs": []
    },
    {
      "cell_type": "code",
      "metadata": {
        "id": "dIRQeWjQr8TL"
      },
      "source": [
        "li = []\n",
        "def translate_country(eng):\n",
        "    try:\n",
        "        return countries_map[eng]\n",
        "    except KeyError:\n",
        "        li.append(eng)\n",
        "        return eng\n",
        "\n",
        "\n",
        "df['Страна'] = df['Страна'].apply(translate_country)"
      ],
      "execution_count": 22,
      "outputs": []
    },
    {
      "cell_type": "code",
      "metadata": {
        "colab": {
          "base_uri": "https://localhost:8080/"
        },
        "id": "CBnBly302wTj",
        "outputId": "8c3da74b-6f82-4cdb-ee4c-11299b240c25"
      },
      "source": [
        "np.unique(np.array(li))"
      ],
      "execution_count": 23,
      "outputs": [
        {
          "output_type": "execute_result",
          "data": {
            "text/plain": [
              "array(['Marshall Islands', 'Micronesia', 'Summer Olympics 2020'],\n",
              "      dtype='<U20')"
            ]
          },
          "metadata": {
            "tags": []
          },
          "execution_count": 23
        }
      ]
    },
    {
      "cell_type": "code",
      "metadata": {
        "colab": {
          "base_uri": "https://localhost:8080/"
        },
        "id": "VpdTDiWShBXL",
        "outputId": "82891c30-be09-49d4-e568-fb1b47b7ec70"
      },
      "source": [
        "np.unique(np.array(li))"
      ],
      "execution_count": 24,
      "outputs": [
        {
          "output_type": "execute_result",
          "data": {
            "text/plain": [
              "array(['Marshall Islands', 'Micronesia', 'Summer Olympics 2020'],\n",
              "      dtype='<U20')"
            ]
          },
          "metadata": {
            "tags": []
          },
          "execution_count": 24
        }
      ]
    },
    {
      "cell_type": "code",
      "metadata": {
        "id": "sycb0ODkcCbA"
      },
      "source": [
        "df['Дата'] = pd.to_datetime(df['Дата'], format='%m/%d/%y')"
      ],
      "execution_count": 25,
      "outputs": []
    },
    {
      "cell_type": "code",
      "metadata": {
        "id": "ObNA84ZCZbfT"
      },
      "source": [
        "df_diff = df"
      ],
      "execution_count": 26,
      "outputs": []
    },
    {
      "cell_type": "code",
      "metadata": {
        "colab": {
          "base_uri": "https://localhost:8080/",
          "height": 0
        },
        "id": "zHvDAlvWc3bh",
        "outputId": "62f8f1d1-af26-445f-9cea-072ae5b5798a"
      },
      "source": [
        "df_diff"
      ],
      "execution_count": 27,
      "outputs": [
        {
          "output_type": "execute_result",
          "data": {
            "text/html": [
              "<div>\n",
              "<style scoped>\n",
              "    .dataframe tbody tr th:only-of-type {\n",
              "        vertical-align: middle;\n",
              "    }\n",
              "\n",
              "    .dataframe tbody tr th {\n",
              "        vertical-align: top;\n",
              "    }\n",
              "\n",
              "    .dataframe thead th {\n",
              "        text-align: right;\n",
              "    }\n",
              "</style>\n",
              "<table border=\"1\" class=\"dataframe\">\n",
              "  <thead>\n",
              "    <tr style=\"text-align: right;\">\n",
              "      <th></th>\n",
              "      <th>Страна</th>\n",
              "      <th>Дата</th>\n",
              "      <th>Заражений</th>\n",
              "      <th>Заражений за день</th>\n",
              "      <th>Заражений(МА)</th>\n",
              "      <th>Смертей</th>\n",
              "      <th>Смертей за день</th>\n",
              "      <th>Выздоровлений</th>\n",
              "      <th>Выздоровлений за день</th>\n",
              "    </tr>\n",
              "  </thead>\n",
              "  <tbody>\n",
              "    <tr>\n",
              "      <th>0</th>\n",
              "      <td>Афганистан</td>\n",
              "      <td>2020-01-22</td>\n",
              "      <td>0</td>\n",
              "      <td>NaN</td>\n",
              "      <td>NaN</td>\n",
              "      <td>0</td>\n",
              "      <td>NaN</td>\n",
              "      <td>0</td>\n",
              "      <td>NaN</td>\n",
              "    </tr>\n",
              "    <tr>\n",
              "      <th>1</th>\n",
              "      <td>Афганистан</td>\n",
              "      <td>2020-01-23</td>\n",
              "      <td>0</td>\n",
              "      <td>0.0</td>\n",
              "      <td>NaN</td>\n",
              "      <td>0</td>\n",
              "      <td>0.0</td>\n",
              "      <td>0</td>\n",
              "      <td>0.0</td>\n",
              "    </tr>\n",
              "    <tr>\n",
              "      <th>2</th>\n",
              "      <td>Афганистан</td>\n",
              "      <td>2020-01-24</td>\n",
              "      <td>0</td>\n",
              "      <td>0.0</td>\n",
              "      <td>NaN</td>\n",
              "      <td>0</td>\n",
              "      <td>0.0</td>\n",
              "      <td>0</td>\n",
              "      <td>0.0</td>\n",
              "    </tr>\n",
              "    <tr>\n",
              "      <th>3</th>\n",
              "      <td>Афганистан</td>\n",
              "      <td>2020-01-25</td>\n",
              "      <td>0</td>\n",
              "      <td>0.0</td>\n",
              "      <td>NaN</td>\n",
              "      <td>0</td>\n",
              "      <td>0.0</td>\n",
              "      <td>0</td>\n",
              "      <td>0.0</td>\n",
              "    </tr>\n",
              "    <tr>\n",
              "      <th>4</th>\n",
              "      <td>Афганистан</td>\n",
              "      <td>2020-01-26</td>\n",
              "      <td>0</td>\n",
              "      <td>0.0</td>\n",
              "      <td>NaN</td>\n",
              "      <td>0</td>\n",
              "      <td>0.0</td>\n",
              "      <td>0</td>\n",
              "      <td>0.0</td>\n",
              "    </tr>\n",
              "    <tr>\n",
              "      <th>...</th>\n",
              "      <td>...</td>\n",
              "      <td>...</td>\n",
              "      <td>...</td>\n",
              "      <td>...</td>\n",
              "      <td>...</td>\n",
              "      <td>...</td>\n",
              "      <td>...</td>\n",
              "      <td>...</td>\n",
              "      <td>...</td>\n",
              "    </tr>\n",
              "    <tr>\n",
              "      <th>108220</th>\n",
              "      <td>Зимбабве</td>\n",
              "      <td>2021-07-25</td>\n",
              "      <td>97894</td>\n",
              "      <td>617.0</td>\n",
              "      <td>14275.0</td>\n",
              "      <td>3094</td>\n",
              "      <td>44.0</td>\n",
              "      <td>65913</td>\n",
              "      <td>1285.0</td>\n",
              "    </tr>\n",
              "    <tr>\n",
              "      <th>108221</th>\n",
              "      <td>Зимбабве</td>\n",
              "      <td>2021-07-26</td>\n",
              "      <td>99944</td>\n",
              "      <td>2050.0</td>\n",
              "      <td>14212.0</td>\n",
              "      <td>3173</td>\n",
              "      <td>79.0</td>\n",
              "      <td>67827</td>\n",
              "      <td>1914.0</td>\n",
              "    </tr>\n",
              "    <tr>\n",
              "      <th>108222</th>\n",
              "      <td>Зимбабве</td>\n",
              "      <td>2021-07-27</td>\n",
              "      <td>101711</td>\n",
              "      <td>1767.0</td>\n",
              "      <td>13296.0</td>\n",
              "      <td>3280</td>\n",
              "      <td>107.0</td>\n",
              "      <td>70496</td>\n",
              "      <td>2669.0</td>\n",
              "    </tr>\n",
              "    <tr>\n",
              "      <th>108223</th>\n",
              "      <td>Зимбабве</td>\n",
              "      <td>2021-07-28</td>\n",
              "      <td>103567</td>\n",
              "      <td>1856.0</td>\n",
              "      <td>12447.0</td>\n",
              "      <td>3340</td>\n",
              "      <td>60.0</td>\n",
              "      <td>71383</td>\n",
              "      <td>887.0</td>\n",
              "    </tr>\n",
              "    <tr>\n",
              "      <th>108224</th>\n",
              "      <td>Зимбабве</td>\n",
              "      <td>2021-07-29</td>\n",
              "      <td>105656</td>\n",
              "      <td>2089.0</td>\n",
              "      <td>12235.0</td>\n",
              "      <td>3421</td>\n",
              "      <td>81.0</td>\n",
              "      <td>73394</td>\n",
              "      <td>2011.0</td>\n",
              "    </tr>\n",
              "  </tbody>\n",
              "</table>\n",
              "<p>108225 rows × 9 columns</p>\n",
              "</div>"
            ],
            "text/plain": [
              "            Страна       Дата  ...  Выздоровлений  Выздоровлений за день\n",
              "0       Афганистан 2020-01-22  ...              0                    NaN\n",
              "1       Афганистан 2020-01-23  ...              0                    0.0\n",
              "2       Афганистан 2020-01-24  ...              0                    0.0\n",
              "3       Афганистан 2020-01-25  ...              0                    0.0\n",
              "4       Афганистан 2020-01-26  ...              0                    0.0\n",
              "...            ...        ...  ...            ...                    ...\n",
              "108220    Зимбабве 2021-07-25  ...          65913                 1285.0\n",
              "108221    Зимбабве 2021-07-26  ...          67827                 1914.0\n",
              "108222    Зимбабве 2021-07-27  ...          70496                 2669.0\n",
              "108223    Зимбабве 2021-07-28  ...          71383                  887.0\n",
              "108224    Зимбабве 2021-07-29  ...          73394                 2011.0\n",
              "\n",
              "[108225 rows x 9 columns]"
            ]
          },
          "metadata": {
            "tags": []
          },
          "execution_count": 27
        }
      ]
    },
    {
      "cell_type": "code",
      "metadata": {
        "id": "0kiipHuPXD9O"
      },
      "source": [
        "# df = frame[['Confirmed', 'Recovered', 'Deaths', 'Country_Region', 'Last_Update', 'Combined_Key']]\n",
        "# sorted_df = df.groupby(['Last_Update', 'Country_Region']).sum().reset_index().sort_values(by=['Country_Region', 'Last_Update'])\n"
      ],
      "execution_count": 28,
      "outputs": []
    },
    {
      "cell_type": "code",
      "metadata": {
        "id": "740lIVEkXBuZ"
      },
      "source": [
        ""
      ],
      "execution_count": 28,
      "outputs": []
    },
    {
      "cell_type": "code",
      "metadata": {
        "id": "Lcvu59zUHt-F"
      },
      "source": [
        "# li = []\n",
        "# for country in df['Country_Region'].unique():\n",
        "#     country_df = df[df['Country_Region'] == country].copy()\n",
        "#     country_df_diff = country_df[['Confirmed', 'Recovered', 'Deaths']].diff()\n",
        "#     country_df['Confirmed_diff'] = country_df_diff['Confirmed']\n",
        "#     country_df['Recovered_diff'] = country_df_diff['Recovered']\n",
        "#     country_df['Deaths_diff'] = country_df_diff['Deaths']\n",
        "#     country_df['Confirmed_rolling_sum'] = country_df_diff['Confirmed'].rolling(7).sum()\n",
        "#     country_df['Confirmed_diff_rolling_sum'] = country_df['Confirmed_diff'].rolling(7).sum()\n",
        "#     country_df['Deaths_diff_rolling_sum'] = country_df['Deaths_diff'].rolling(7).sum()\n",
        "#     li.append(country_df)\n",
        "\n",
        "\n",
        "# df_diff = pd.concat(li, axis=0, ignore_index=True)\n",
        "# df_diff = df_diff.fillna(0)\n",
        "# df_diff = df_diff[['Country_Region', 'Last_Update', 'Confirmed', 'Recovered', 'Deaths', 'Confirmed_diff', 'Recovered_diff', 'Deaths_diff', 'Confirmed_rolling_sum', 'Confirmed_diff_rolling_sum', 'Deaths_diff_rolling_sum']]\n",
        "# df_diff.columns = ['Страна', 'Дата', 'Заражений', 'Выздоровлений', 'Смертей', 'Заражений за день', 'Выздоровлений за день', 'Смертей за день', 'Заражений(МА)', 'Заражений за день(МА)', 'Смертей за день(МА)']"
      ],
      "execution_count": 29,
      "outputs": []
    },
    {
      "cell_type": "markdown",
      "metadata": {
        "id": "yjgfSwQc5e6L"
      },
      "source": [
        "#Срипт"
      ]
    },
    {
      "cell_type": "markdown",
      "metadata": {
        "id": "UHPDvgOpJRR-"
      },
      "source": [
        "##Utils"
      ]
    },
    {
      "cell_type": "code",
      "metadata": {
        "id": "i0n6s935JTpU"
      },
      "source": [
        "def rename_input_filename(filename: str):\n",
        "    today = datetime.today().strftime(\"%d-%m-%Y\")\n",
        "    splitted_filename = filename.split('.')\n",
        "    splitted_filename[0] = '_'.join([part for part in splitted_filename[0].split('_') if not re.match(r'\\d{2}-\\d{2}-\\d{4}', part)])\n",
        "    splitted_filename[0] = f'{splitted_filename[0]}_{today}'\n",
        "    output_filename = '.'.join(splitted_filename)\n",
        "    return f'{today}/{output_filename}'"
      ],
      "execution_count": 30,
      "outputs": []
    },
    {
      "cell_type": "code",
      "metadata": {
        "id": "GJxhPkIFAV84"
      },
      "source": [
        "def continue_formula_n_down(ws: Worksheet, columns: list, row: int, n: int):\n",
        "    for column in columns:\n",
        "\n",
        "        formula = ws.cell(row=(row - n), column=column).value\n",
        "        last_cell_id = get_column_letter(column) + str(row - n)\n",
        "        next_cell_id = get_column_letter(column) + str(row)\n",
        "        ws[next_cell_id] = Translator(formula, origin=last_cell_id).translate_formula(next_cell_id)\n",
        "        ws[next_cell_id]._style = copy(ws[last_cell_id]._style)\n",
        "\n",
        "\n",
        "def continue_formula_down(ws: Worksheet, columns: list, row: int):\n",
        "    continue_formula_n_down(ws, columns, row, 1)"
      ],
      "execution_count": 31,
      "outputs": []
    },
    {
      "cell_type": "code",
      "metadata": {
        "id": "82_GYEza_QFT"
      },
      "source": [
        "def  continue_date_down(ws: Worksheet, columns: list, days: int):\n",
        "    # print('here')\n",
        "    for column in columns:\n",
        "        try:\n",
        "            row = [c.value for c in ws[get_column_letter(column)]].index(None) + 1\n",
        "        except ValueError:\n",
        "            row = ws.max_row + 1\n",
        "        last_table_date = ws.cell(row=row-1, column=column).value\n",
        "        # print(row, column)\n",
        "        # print(last_table_date)\n",
        "        ws.cell(row=row, column=column).value = (last_table_date) + timedelta(days=days)\n",
        "        ws.cell(row=row, column=column).number_format = 'DD.MM.YY'\n",
        "\n",
        "        last_cell_id = get_column_letter(column) + str(row-1)\n",
        "        next_cell_id = get_column_letter(column) + str(row)\n",
        "        ws[next_cell_id]._style = copy(ws[last_cell_id]._style)"
      ],
      "execution_count": 32,
      "outputs": []
    },
    {
      "cell_type": "code",
      "metadata": {
        "id": "qGTmqFH-Dg7p"
      },
      "source": [
        "def continue_formula_right(ws: Worksheet, rows: list, column: int):\n",
        "    for row in rows:\n",
        "        formula = ws.cell(row=row, column=column - 1).value\n",
        "        last_cell_id = get_column_letter(column - 1) + str(row)\n",
        "        next_cell_id = get_column_letter(column) + str(row)\n",
        "        ws[next_cell_id] = Translator(formula, origin=last_cell_id).translate_formula(next_cell_id)\n",
        "        ws[next_cell_id]._style = copy(ws[last_cell_id]._style)\n",
        "\n",
        "\n",
        "def  continue_date_right(ws: Worksheet, rows: list, column=None):\n",
        "    for row in rows:\n",
        "        if not column:\n",
        "            try:\n",
        "                column = [c.value for c in ws[row]][3:].index(None) + 4\n",
        "            except ValueError:\n",
        "                column = ws.max_column + 1\n",
        "        last_table_date = ws.cell(row=row, column=column - 1).value\n",
        "        try:\n",
        "            ws.cell(row=row, column=column).value = (last_table_date) + timedelta(days=1)\n",
        "        except TypeError:\n",
        "            last_table_date = datetime.strptime(last_table_date, '%d.%m.%Y')\n",
        "            ws.cell(row=row, column=column).value = (last_table_date) + timedelta(days=1)\n",
        "        ws.cell(row=row, column=column).number_format = 'DD.MM.YYYY'\n",
        "\n",
        "        last_cell_id = get_column_letter(column - 1) + str(row)\n",
        "        next_cell_id = get_column_letter(column) + str(row)\n",
        "        ws[next_cell_id]._style = copy(ws[last_cell_id]._style)"
      ],
      "execution_count": 33,
      "outputs": []
    },
    {
      "cell_type": "markdown",
      "metadata": {
        "id": "9tFFSwo6cz5T"
      },
      "source": [
        "##МИР xlsx"
      ]
    },
    {
      "cell_type": "code",
      "metadata": {
        "id": "nREIavzuLarD"
      },
      "source": [
        "def base_countries_sheet(ws: Worksheet):\n",
        "    for i, row in enumerate(dataframe_to_rows(df_diff, index=False)):\n",
        "        ws.append(row)\n",
        "        r = i + 2\n",
        "        ws.cell(row=r, column=9).value = fr'=IF(YEAR(B{r})=2020,(IF(J{r}=1,WEEKNUM(B{r},2),IF(J{r}=2,WEEKNUM(B{r},2),IF(J{r}=3,WEEKNUM(B{r},2),IF(J{r}=4,WEEKNUM(B{r},2),IF(J{r}=5,WEEKNUM(B{r},2),IF(J{r}=6,WEEKNUM(B{r},2),IF(J{r}=7,WEEKNUM(B{r},2)+1)))))))),IF(YEAR(B{r})=2021,(IF(J{r}=1,WEEKNUM(B{r},2),IF(J{r}=2,WEEKNUM(B{r},2),IF(J{r}=3,WEEKNUM(B{r},2),IF(J{r}=4,WEEKNUM(B{r},2),IF(J{r}=5,WEEKNUM(B{r},2),IF(J{r}=6,WEEKNUM(B{r},2),IF(J{r}=7,WEEKNUM(B{r},2)+1))))))))+52))'\n",
        "        ws.cell(row=r, column=10).value = fr'=WEEKDAY(B{r},2)'\n",
        "        ws.cell(row=r, column=2).number_format = 'DD.MM.YYYY'\n",
        "        \n",
        "    ws.cell(row=1, column=9).value = fr'Номер недели'\n",
        "    ws.cell(row=1, column=10).value = fr'Номер дня недели'"
      ],
      "execution_count": 34,
      "outputs": []
    },
    {
      "cell_type": "code",
      "metadata": {
        "id": "NUOSekgaAP27"
      },
      "source": [
        "def continue_number_down(ws: Worksheet, columns: list):\n",
        "    for column in columns:\n",
        "\n",
        "        row = ws.max_row + 1\n",
        "        last_num = ws.cell(row=row - 1, column=column).value\n",
        "        ws.cell(row=row, column=column).value = last_num + 1\n",
        "\n",
        "        last_cell_id = get_column_letter(column) + str(row-1)\n",
        "        next_cell_id = get_column_letter(column) + str(row)\n",
        "        ws[next_cell_id]._style = copy(ws[last_cell_id]._style)"
      ],
      "execution_count": 35,
      "outputs": []
    },
    {
      "cell_type": "code",
      "metadata": {
        "id": "0wqx4QC_-hnT"
      },
      "source": [
        "def base_world_sheet(ws: Worksheet):\n",
        "    new_row = ws.max_row + 1\n",
        "    ws.cell(row=new_row, column=1).value = datetime.now()\n",
        "    ws.cell(row=new_row, column=1).number_format = 'DD.MM.YY'\n",
        "    continue_formula_down(ws, list(range(2, 6)) + [7, 8, 10, 11] + list(range(13, 21)), new_row)\n",
        "\n",
        "    today = (datetime.today() - timedelta(days=1))\n",
        "    daily_df = df_diff.groupby('Дата').sum().loc[today.strftime('%d.%m.%y')]\n",
        "    ws.cell(row=new_row, column=6).value = daily_df['Заражений']\n",
        "    ws.cell(row=new_row, column=9).value = daily_df['Выздоровлений']\n",
        "    ws.cell(row=new_row, column=12).value = daily_df['Смертей']"
      ],
      "execution_count": 36,
      "outputs": []
    },
    {
      "cell_type": "code",
      "metadata": {
        "id": "JZQpo-h6Jwrk"
      },
      "source": [
        "def weeks_sheet(ws: Worksheet):\n",
        "    new_row = ws.max_row + 1\n",
        "    # print(new_row)\n",
        "    continue_number_down(ws, [1])\n",
        "    continue_formula_down(ws, list(range(2, 15)), new_row)"
      ],
      "execution_count": 37,
      "outputs": []
    },
    {
      "cell_type": "code",
      "metadata": {
        "id": "NwDdWNCl09bR"
      },
      "source": [
        "def countrie_sheet(ws: Worksheet):\n",
        "    new_row = ws.max_row + 1\n",
        "    # print(new_row)\n",
        "    continue_number_down(ws, [1])\n",
        "    continue_formula_down(ws, list(range(2, 32)), new_row)"
      ],
      "execution_count": 38,
      "outputs": []
    },
    {
      "cell_type": "code",
      "metadata": {
        "id": "IYqsP00HCABE"
      },
      "source": [
        "#  НЕ УДАЛЯТЬ - МОЖЕТ ПРИГОДИТЬСЯ (заполнение листа 'Сутки_забол')\n",
        "# def day_sick_sheet(ws: Worksheet):\n",
        "#     new_col = ws.max_column + 1\n",
        "#     ws.insert_cols(new_col-3)\n",
        "#     continue_date_right(ws, rows=[2, 3], column=(new_col-3))\n",
        "#     print(get_column_letter(new_col-3))\n",
        "#     continue_formula_right(ws, list(range(4, 209)), new_col-3)\n",
        "#     for row in list(range(4, 209)):\n",
        "#         old_formula = ws.cell(row=row, column=new_col-2).value[1:]\n",
        "#         new_formula = old_formula.split('+')[:-1]\n",
        "#         new_formula.insert(0, f'{get_column_letter(new_col-3)}{row}')\n",
        "#         new_formula = '+'.join(new_formula)\n",
        "#         ws.cell(row=row, column=new_col-2).value = f'={new_formula}'\n",
        "\n",
        "#         old_formula = ws.cell(row=row, column=new_col-1).value[1:]\n",
        "#         new_formula = old_formula.split('+')[:-1]\n",
        "#         new_formula.insert(0, f'{get_column_letter(new_col-3-7-8)}{row}')\n",
        "#         new_formula = '+'.join(new_formula)\n",
        "#         ws.cell(row=row, column=new_col-1).value = f'={new_formula}'\n",
        "\n",
        "#         ws.cell(row=row, column=new_col).value = f'={get_column_letter(new_col-2)}{row}-{get_column_letter(new_col-1)}{row}'\n",
        "\n",
        "#     if (datetime.today().weekday() + 1 == WEEKLY_REPORT_DAY):\n",
        "#         col_names = ['Прирост за неделю', 'Доля в общей сумме по группе,%', 'Прирост за неделю', 'Изменение прироста, ед.', 'Изменение прироста, %']\n"
      ],
      "execution_count": 39,
      "outputs": []
    },
    {
      "cell_type": "code",
      "metadata": {
        "id": "E28DfZxFaglx"
      },
      "source": [
        "def world(filename: str):\n",
        "    wb = openpyxl.load_workbook(filename)\n",
        "\n",
        "    # clear sheet\n",
        "    sheet_name = 'База страны'\n",
        "    idx = wb.sheetnames.index(sheet_name)\n",
        "    ws = wb[sheet_name]\n",
        "    wb.remove(ws)\n",
        "    wb.create_sheet(sheet_name, idx)\n",
        "\n",
        "    \n",
        "    base_countries_sheet(wb['База страны'])\n",
        "    base_world_sheet(wb['База мир'])\n",
        "    # day_sick_sheet(wb['Сутки_забол'])\n",
        "    if (datetime.today().weekday() + 1 == WEEKLY_REPORT_DAY):\n",
        "        weeks_sheet(wb['Недели'])\n",
        "        for country in wb.sheetnames[8:-1]:\n",
        "            countrie_sheet(wb[country])\n",
        "\n",
        "    wb.save(rename_input_filename(filename))"
      ],
      "execution_count": 40,
      "outputs": []
    },
    {
      "cell_type": "markdown",
      "metadata": {
        "id": "Fj2RS7Duc8KS"
      },
      "source": [
        "#Результат"
      ]
    },
    {
      "cell_type": "code",
      "metadata": {
        "id": "5XG4eRRx_hKj"
      },
      "source": [
        "def main(world_input_filename: str):\n",
        "    world(world_input_filename)\n"
      ],
      "execution_count": 43,
      "outputs": []
    },
    {
      "cell_type": "code",
      "metadata": {
        "id": "VeUuBTnfHqVe"
      },
      "source": [
        "main(world_input_filename)"
      ],
      "execution_count": 44,
      "outputs": []
    },
    {
      "cell_type": "code",
      "metadata": {
        "id": "O_swAQLlXLw2",
        "colab": {
          "base_uri": "https://localhost:8080/",
          "height": 17
        },
        "outputId": "6e4f5e66-a834-4fa0-c3af-50520d5321da"
      },
      "source": [
        "files.download(rename_input_filename(world_input_filename))"
      ],
      "execution_count": 45,
      "outputs": [
        {
          "output_type": "display_data",
          "data": {
            "application/javascript": [
              "\n",
              "    async function download(id, filename, size) {\n",
              "      if (!google.colab.kernel.accessAllowed) {\n",
              "        return;\n",
              "      }\n",
              "      const div = document.createElement('div');\n",
              "      const label = document.createElement('label');\n",
              "      label.textContent = `Downloading \"${filename}\": `;\n",
              "      div.appendChild(label);\n",
              "      const progress = document.createElement('progress');\n",
              "      progress.max = size;\n",
              "      div.appendChild(progress);\n",
              "      document.body.appendChild(div);\n",
              "\n",
              "      const buffers = [];\n",
              "      let downloaded = 0;\n",
              "\n",
              "      const channel = await google.colab.kernel.comms.open(id);\n",
              "      // Send a message to notify the kernel that we're ready.\n",
              "      channel.send({})\n",
              "\n",
              "      for await (const message of channel.messages) {\n",
              "        // Send a message to notify the kernel that we're ready.\n",
              "        channel.send({})\n",
              "        if (message.buffers) {\n",
              "          for (const buffer of message.buffers) {\n",
              "            buffers.push(buffer);\n",
              "            downloaded += buffer.byteLength;\n",
              "            progress.value = downloaded;\n",
              "          }\n",
              "        }\n",
              "      }\n",
              "      const blob = new Blob(buffers, {type: 'application/binary'});\n",
              "      const a = document.createElement('a');\n",
              "      a.href = window.URL.createObjectURL(blob);\n",
              "      a.download = filename;\n",
              "      div.appendChild(a);\n",
              "      a.click();\n",
              "      div.remove();\n",
              "    }\n",
              "  "
            ],
            "text/plain": [
              "<IPython.core.display.Javascript object>"
            ]
          },
          "metadata": {
            "tags": []
          }
        },
        {
          "output_type": "display_data",
          "data": {
            "application/javascript": [
              "download(\"download_10684c05-788a-458c-a77b-5a6913c1dafb\", \"\\u041c\\u0418\\u042021_30-07-2021.xlsx\", 10071127)"
            ],
            "text/plain": [
              "<IPython.core.display.Javascript object>"
            ]
          },
          "metadata": {
            "tags": []
          }
        }
      ]
    }
  ]
}